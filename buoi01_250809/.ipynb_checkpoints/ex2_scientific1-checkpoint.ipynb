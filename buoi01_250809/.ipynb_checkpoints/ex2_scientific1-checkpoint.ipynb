{
 "cells": [
  {
   "cell_type": "markdown",
   "id": "3229ba4b-64f5-4431-a7e4-e610bf475611",
   "metadata": {},
   "source": [
    "# ex2_scientific1"
   ]
  },
  {
   "cell_type": "markdown",
   "id": "06ed9260-e298-4c5f-b805-c1158de0c7c4",
   "metadata": {},
   "source": [
    "## Nội dung bài\n",
    "Hiển thị ngẫu nhiên $N=50$ hình tròn:\n",
    "+ Tâm $c_i = (x_i,y_i)$ ngẫu nhiên với $x_i, y_i \\in \\left[0, 1 \\right]$\n",
    "+ Màu sắc $color_i$ ngẫu nhiên với $color_i \\in \\left[0, 1 \\right]$\n",
    "+ Diện tích $area_i = \\pi * r_i^2$ với sinh ngẫu nhiên $r_i \\in \\left[0, 1 \\right]$"
   ]
  },
  {
   "cell_type": "markdown",
   "id": "4f067467-b122-454e-9076-61acbd36d893",
   "metadata": {},
   "source": [
    "## Bài làm"
   ]
  },
  {
   "cell_type": "markdown",
   "id": "cd993627-d5b1-4e89-81e4-8d93e0109f1f",
   "metadata": {},
   "source": [
    "### Import thư viện"
   ]
  },
  {
   "cell_type": "code",
   "execution_count": 2,
   "id": "2659b66e-9fd2-4a37-bbe7-c63537fe06e7",
   "metadata": {},
   "outputs": [],
   "source": [
    "import numpy as np\n",
    "import matplotlib.pyplot as plt\n",
    "from IPython import display # hiển thị rich output"
   ]
  },
  {
   "cell_type": "markdown",
   "id": "97031c04-dfe1-4856-a8ed-5140ad8948a8",
   "metadata": {},
   "source": [
    "### Sinh ngẫu nhiên hình tròn"
   ]
  },
  {
   "cell_type": "code",
   "execution_count": null,
   "id": "f55d4f03-5816-4a27-8bfd-540e208d197a",
   "metadata": {},
   "outputs": [],
   "source": []
  },
  {
   "cell_type": "markdown",
   "id": "2cc37734-a84f-4a13-bbd5-e73db8ffda22",
   "metadata": {},
   "source": [
    "## Kết thúc"
   ]
  },
  {
   "cell_type": "code",
   "execution_count": null,
   "id": "ec19fdc7-3d8e-41fb-aead-d42bcaf3892b",
   "metadata": {},
   "outputs": [],
   "source": []
  }
 ],
 "metadata": {
  "kernelspec": {
   "display_name": "Python 3 (ipykernel)",
   "language": "python",
   "name": "python3"
  },
  "language_info": {
   "codemirror_mode": {
    "name": "ipython",
    "version": 3
   },
   "file_extension": ".py",
   "mimetype": "text/x-python",
   "name": "python",
   "nbconvert_exporter": "python",
   "pygments_lexer": "ipython3",
   "version": "3.12.1"
  }
 },
 "nbformat": 4,
 "nbformat_minor": 5
}
