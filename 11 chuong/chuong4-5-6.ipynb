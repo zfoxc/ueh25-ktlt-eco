{
 "cells": [
  {
   "cell_type": "markdown",
   "id": "6ee514aa-f8b3-4595-a4dc-6b934850c0f4",
   "metadata": {},
   "source": [
    "# CHAPTER 4 OPERATORS"
   ]
  },
  {
   "cell_type": "markdown",
   "id": "6312090f-bf2a-47b9-b3c1-082560c7b991",
   "metadata": {},
   "source": [
    "## 4.1 Arithmetic Operators"
   ]
  },
  {
   "cell_type": "markdown",
   "id": "6dccae9d-682b-4918-8c08-721b8d45f0bc",
   "metadata": {},
   "source": [
    "### 4.1.1 Addition"
   ]
  },
  {
   "cell_type": "code",
   "execution_count": 2,
   "id": "f72303e7-1d28-466d-b5a9-6439e4dc18c0",
   "metadata": {},
   "outputs": [
    {
     "name": "stdout",
     "output_type": "stream",
     "text": [
      "2\n"
     ]
    }
   ],
   "source": [
    "print(1+1) "
   ]
  },
  {
   "cell_type": "markdown",
   "id": "b8d4f7da-fffe-40ba-ae66-859bbe2d0589",
   "metadata": {},
   "source": [
    "### 4.1.2 Subtraction"
   ]
  },
  {
   "cell_type": "code",
   "execution_count": 3,
   "id": "a948c8e2-0fc7-41c1-98f4-262ebc26732e",
   "metadata": {},
   "outputs": [
    {
     "name": "stdout",
     "output_type": "stream",
     "text": [
      "0\n"
     ]
    }
   ],
   "source": [
    "print(1-1)"
   ]
  },
  {
   "cell_type": "markdown",
   "id": "466250c3-8b9b-4cae-9ca8-9e7fc07da0c4",
   "metadata": {},
   "source": [
    "### 4.1.3 Multiplication"
   ]
  },
  {
   "cell_type": "code",
   "execution_count": 4,
   "id": "6126106b-1894-4e06-9ea0-6e1846a3272e",
   "metadata": {},
   "outputs": [
    {
     "name": "stdout",
     "output_type": "stream",
     "text": [
      "4\n"
     ]
    }
   ],
   "source": [
    "print(2*2)"
   ]
  },
  {
   "cell_type": "markdown",
   "id": "edc6c099-7a12-498e-a6a6-e1ddb6eb4061",
   "metadata": {},
   "source": [
    "### 4.1.4 Division"
   ]
  },
  {
   "cell_type": "code",
   "execution_count": 6,
   "id": "2ee85926-35fe-4a7a-af6c-487c33e975bb",
   "metadata": {},
   "outputs": [
    {
     "name": "stdout",
     "output_type": "stream",
     "text": [
      "1.5\n",
      "1\n"
     ]
    }
   ],
   "source": [
    "print(3/2)   # Phép chia thông thường → kết quả dạng float: 1.5\n",
    "print(3//2)  # Phép chia lấy phần nguyên (floor division) → kết quả: 1"
   ]
  },
  {
   "cell_type": "markdown",
   "id": "945c7088-7e1b-4930-8056-e434f9119134",
   "metadata": {},
   "source": [
    "### 4.1.5 Modulo"
   ]
  },
  {
   "cell_type": "code",
   "execution_count": 8,
   "id": "a3470b51-e009-4099-aeec-b952b3f90ea5",
   "metadata": {},
   "outputs": [
    {
     "name": "stdout",
     "output_type": "stream",
     "text": [
      "2\n"
     ]
    }
   ],
   "source": [
    "print(12 % 10)  # Phép chia lấy phần dư (modulo) → 12 chia 10 dư 2, nên kết quả là 2"
   ]
  },
  {
   "cell_type": "markdown",
   "id": "a1c9193f-43b8-4c58-95a3-c58684a19ce5",
   "metadata": {},
   "source": [
    "### 4.1.6 Power"
   ]
  },
  {
   "cell_type": "code",
   "execution_count": 1,
   "id": "b4d1b0a3-52ed-4546-80d1-191730278c49",
   "metadata": {},
   "outputs": [
    {
     "name": "stdout",
     "output_type": "stream",
     "text": [
      "8\n"
     ]
    }
   ],
   "source": [
    "print(2**3) # 2^3"
   ]
  },
  {
   "cell_type": "markdown",
   "id": "0ca32065-1c24-4429-946f-4dbea9b3b569",
   "metadata": {},
   "source": [
    "### 4.1.7 Order"
   ]
  },
  {
   "cell_type": "code",
   "execution_count": 3,
   "id": "1563143f-fafd-433a-ac7c-72ae8c401014",
   "metadata": {},
   "outputs": [
    {
     "name": "stdout",
     "output_type": "stream",
     "text": [
      "5\n",
      "6\n"
     ]
    }
   ],
   "source": [
    "print(2*2+1)\n",
    "print(2*(2+1))"
   ]
  },
  {
   "cell_type": "markdown",
   "id": "e66ab98e-826b-4e5e-874c-c76c998d43b3",
   "metadata": {},
   "source": [
    "### 4.1.8 Mathematical Operators on Strings"
   ]
  },
  {
   "cell_type": "code",
   "execution_count": 5,
   "id": "bdb738a0-900a-476f-9e99-de1de0f2dc6a",
   "metadata": {},
   "outputs": [
    {
     "name": "stdout",
     "output_type": "stream",
     "text": [
      "eurodollar\n"
     ]
    },
    {
     "data": {
      "text/plain": [
       "'euroeuro'"
      ]
     },
     "execution_count": 5,
     "metadata": {},
     "output_type": "execute_result"
    }
   ],
   "source": [
    "a = \"euro\"\n",
    "b = \"dollar\"\n",
    "print(a+b)\n",
    "2*a"
   ]
  },
  {
   "cell_type": "markdown",
   "id": "f63495a2-fceb-4ad8-b342-56929a6c4593",
   "metadata": {},
   "source": [
    "### 4.1.9 Mathematical Operators on Lists or tuples"
   ]
  },
  {
   "cell_type": "code",
   "execution_count": 6,
   "id": "b5d76417-85e5-4893-9ecb-051267007921",
   "metadata": {},
   "outputs": [
    {
     "name": "stdout",
     "output_type": "stream",
     "text": [
      "[1, 'apple', 5, 7, 9, 11]\n"
     ]
    }
   ],
   "source": [
    "l_1 = [1, \"apple\", 5, 7]\n",
    "l_2 = [9, 11]\n",
    "print(l_1 + l_2)"
   ]
  },
  {
   "cell_type": "code",
   "execution_count": 7,
   "id": "84e3ebef-1499-4a2e-8ba5-a8e543dcdd39",
   "metadata": {},
   "outputs": [
    {
     "name": "stdout",
     "output_type": "stream",
     "text": [
      "(1, 'apple', 5, 7, 9, 11)\n"
     ]
    }
   ],
   "source": [
    "t_1 = (1, \"apple\", 5, 7)\n",
    "t_2 = (9, 11)\n",
    "print(t_1 + t_2)"
   ]
  },
  {
   "cell_type": "code",
   "execution_count": 8,
   "id": "d3e24c09-b797-486f-9b0b-812286406f87",
   "metadata": {},
   "outputs": [
    {
     "name": "stdout",
     "output_type": "stream",
     "text": [
      "[1, 'apple', 5, 7, 1, 'apple', 5, 7, 1, 'apple', 5, 7]\n",
      "(1, 'apple', 5, 7, 1, 'apple', 5, 7, 1, 'apple', 5, 7)\n"
     ]
    }
   ],
   "source": [
    "print(3*l_1)\n",
    "print(3*t_1)"
   ]
  },
  {
   "cell_type": "markdown",
   "id": "f395529e-6aad-4fef-82e0-dbf5ff4644dc",
   "metadata": {},
   "source": [
    "## 4.2 Comparison Operators"
   ]
  },
  {
   "cell_type": "markdown",
   "id": "5bd264e0-a18d-4947-a04b-7d31b2246e6b",
   "metadata": {},
   "source": [
    "### 4.2.1 Equality, Inequality"
   ]
  },
  {
   "cell_type": "code",
   "execution_count": 9,
   "id": "c685b639-b034-4144-8ed5-0f9ead57f812",
   "metadata": {},
   "outputs": [
    {
     "name": "stdout",
     "output_type": "stream",
     "text": [
      "False\n",
      "True\n"
     ]
    }
   ],
   "source": [
    "a = \"Hello\"\n",
    "b = \"World\"\n",
    "c = \"World\"\n",
    "print(a == c)\n",
    "print(b == c)"
   ]
  },
  {
   "cell_type": "code",
   "execution_count": 10,
   "id": "c3b90a92-6b3c-486f-8f13-e3369d3008ea",
   "metadata": {},
   "outputs": [
    {
     "name": "stdout",
     "output_type": "stream",
     "text": [
      "False\n",
      "True\n"
     ]
    }
   ],
   "source": [
    "x = [1,2,3]\n",
    "y = [1,2,3]\n",
    "z = [1,3,4]\n",
    "print(x != y)\n",
    "print(x != z)"
   ]
  },
  {
   "cell_type": "markdown",
   "id": "a725e7c9-9f2c-4ef9-8877-1356676d5944",
   "metadata": {},
   "source": [
    "### 4.2.2 Inferiority and Superiority, Strict or Broad"
   ]
  },
  {
   "cell_type": "code",
   "execution_count": 11,
   "id": "5c053901-5c74-4cc0-ba2f-ff33a4e2e371",
   "metadata": {},
   "outputs": [
    {
     "name": "stdout",
     "output_type": "stream",
     "text": [
      "False\n",
      "True\n",
      "False\n",
      "False\n"
     ]
    }
   ],
   "source": [
    "x = 1\n",
    "y = 1\n",
    "z = 2\n",
    "print(x < y)\n",
    "print(x <= y)\n",
    "print(x > z)\n",
    "print(x >= z)"
   ]
  },
  {
   "cell_type": "code",
   "execution_count": 12,
   "id": "6be01856-c8ee-4759-bdfb-55d7a663cf08",
   "metadata": {},
   "outputs": [
    {
     "name": "stdout",
     "output_type": "stream",
     "text": [
      "True\n",
      "False\n"
     ]
    }
   ],
   "source": [
    "m_1 = \"eat\"\n",
    "m_2 = \"eating\"\n",
    "m_3 = \"drinking\"\n",
    "print(m_1 < m_2)\n",
    "print(m_3 > m_1)"
   ]
  },
  {
   "cell_type": "code",
   "execution_count": 14,
   "id": "8bec7220-397b-455b-b80c-2e50b9c7c6fd",
   "metadata": {},
   "outputs": [
    {
     "name": "stdout",
     "output_type": "stream",
     "text": [
      "False\n"
     ]
    }
   ],
   "source": [
    "x = [10, 3, 5, 7]  # Danh sách x\n",
    "y = [9, 11]        # Danh sách y\n",
    "print(x < y)       # So sánh từng phần tử theo thứ tự (lexicographical order)\n",
    "                   # So sánh phần tử đầu tiên: 10 < 9 → False"
   ]
  },
  {
   "cell_type": "code",
   "execution_count": 15,
   "id": "60d6de50-a7d3-4b78-8df2-3f9ef98b2405",
   "metadata": {},
   "outputs": [
    {
     "name": "stdout",
     "output_type": "stream",
     "text": [
      "True\n"
     ]
    }
   ],
   "source": [
    "x = [10, 3, 5, 7]\n",
    "y = [10, 11]\n",
    "print(x < y)"
   ]
  },
  {
   "cell_type": "code",
   "execution_count": 17,
   "id": "7d9ba5d1-f516-444c-a555-ad9f02fd0a08",
   "metadata": {},
   "outputs": [
    {
     "name": "stdout",
     "output_type": "stream",
     "text": [
      "False\n"
     ]
    }
   ],
   "source": [
    "x = [10, 12, 5, 7]\n",
    "y = [10, 11]\n",
    "print(x < y)"
   ]
  },
  {
   "cell_type": "markdown",
   "id": "8800ef91-8409-4d4f-bb14-8a64965e0d1a",
   "metadata": {},
   "source": [
    "### 4.2.3 Inclusion and exclusion"
   ]
  },
  {
   "cell_type": "code",
   "execution_count": 18,
   "id": "ff7582a4-4618-487c-8ac7-66c958fc48c9",
   "metadata": {},
   "outputs": [
    {
     "name": "stdout",
     "output_type": "stream",
     "text": [
      "True\n",
      "True\n",
      "False\n"
     ]
    },
    {
     "data": {
      "text/plain": [
       "True"
      ]
     },
     "execution_count": 18,
     "metadata": {},
     "output_type": "execute_result"
    }
   ],
   "source": [
    "print(3 in [1,2, 3])\n",
    "print(4 not in [1,2, 3])\n",
    "print(4 not in [1,2, 3, 4])\n",
    "dictionnaire = {\"nom\": \"Rockwell\", \"prenom\": \"Criquette\"}\n",
    "\"age\" not in dictionnaire.keys()"
   ]
  },
  {
   "cell_type": "markdown",
   "id": "47aad9e7-8397-46a4-b99d-0dd4a1ae57bf",
   "metadata": {},
   "source": [
    "## 4.3 Logical operators"
   ]
  },
  {
   "cell_type": "markdown",
   "id": "73695841-9ffe-4867-a455-eae27bc025ec",
   "metadata": {},
   "source": [
    "### 4.3.1 And logical"
   ]
  },
  {
   "cell_type": "code",
   "execution_count": 19,
   "id": "78e8b0f0-e00c-4114-99a5-fa8fa6535591",
   "metadata": {},
   "outputs": [
    {
     "name": "stdout",
     "output_type": "stream",
     "text": [
      "True\n"
     ]
    }
   ],
   "source": [
    "x = True\n",
    "y = True\n",
    "print(x and y)"
   ]
  },
  {
   "cell_type": "code",
   "execution_count": 22,
   "id": "6278e2ef-3116-4dad-b97d-381438975ba5",
   "metadata": {},
   "outputs": [
    {
     "name": "stdout",
     "output_type": "stream",
     "text": [
      "False\n",
      "False\n"
     ]
    }
   ],
   "source": [
    "x = True   # Giá trị Boolean True\n",
    "y = False  # Giá trị Boolean False\n",
    "\n",
    "print(x and y)  # Toán tử AND: True AND False → False\n",
    "print(y and y)  # False AND False → False\n"
   ]
  },
  {
   "cell_type": "code",
   "execution_count": 24,
   "id": "bd6ada06-a0e6-4e45-bf81-fca5f965b009",
   "metadata": {},
   "outputs": [
    {
     "name": "stdout",
     "output_type": "stream",
     "text": [
      "None\n",
      "False\n",
      "None\n"
     ]
    }
   ],
   "source": [
    "x = True    # Giá trị Boolean True\n",
    "y = False   # Giá trị Boolean False\n",
    "z = None    # Giá trị None (đại diện cho \"không có giá trị\")\n",
    "\n",
    "print(x and z)  # True AND None → trả về None (vì AND trả về giá trị đầu tiên là False/None hoặc giá trị cuối cùng)\n",
    "print(y and z)  # False AND None → trả về False (dừng ngay ở False, không xét tiếp)\n",
    "print(z and z)  # None AND None → trả về None (None được coi là False trong logic)"
   ]
  },
  {
   "cell_type": "markdown",
   "id": "28443f7b-a878-431a-9993-02725361309b",
   "metadata": {},
   "source": [
    "### 4.3.2 Logical OR"
   ]
  },
  {
   "cell_type": "code",
   "execution_count": 25,
   "id": "467dd93a-e0d7-491b-9c9a-ac45758cb136",
   "metadata": {},
   "outputs": [
    {
     "name": "stdout",
     "output_type": "stream",
     "text": [
      "True\n"
     ]
    }
   ],
   "source": [
    "x = True\n",
    "y = False\n",
    "print(x or y)"
   ]
  },
  {
   "cell_type": "code",
   "execution_count": 26,
   "id": "a8851be0-22ba-4ae4-b5ac-05cdef222f7b",
   "metadata": {},
   "outputs": [
    {
     "name": "stdout",
     "output_type": "stream",
     "text": [
      "False\n"
     ]
    }
   ],
   "source": [
    "x = False\n",
    "y = False\n",
    "print(x or y)"
   ]
  },
  {
   "cell_type": "code",
   "execution_count": 29,
   "id": "95f5c5a3-52fd-45f1-9d00-8353086d3365",
   "metadata": {},
   "outputs": [
    {
     "name": "stdout",
     "output_type": "stream",
     "text": [
      "True\n",
      "None\n",
      "None\n"
     ]
    }
   ],
   "source": [
    "x = True    # Boolean True\n",
    "y = False   # Boolean False\n",
    "z = None    # None (được coi là False trong logic)\n",
    "\n",
    "print(x or z)  # True OR None → trả về True (OR trả về giá trị True đầu tiên gặp được)\n",
    "print(y or z)  # False OR None → cả hai đều \"Falsey\" → trả về None (giá trị cuối cùng)\n",
    "print(z or z)  # None OR None → cả hai đều \"Falsey\" → trả về None"
   ]
  },
  {
   "cell_type": "markdown",
   "id": "f56e6ae0-f389-41fa-82a1-a8b30c72ca58",
   "metadata": {},
   "source": [
    "### 4.3.3 Logical Not"
   ]
  },
  {
   "cell_type": "code",
   "execution_count": 31,
   "id": "eefa6227-f373-4123-9bae-4e777f8027f7",
   "metadata": {},
   "outputs": [
    {
     "name": "stdout",
     "output_type": "stream",
     "text": [
      "False\n",
      "True\n"
     ]
    },
    {
     "data": {
      "text/plain": [
       "True"
      ]
     },
     "execution_count": 31,
     "metadata": {},
     "output_type": "execute_result"
    }
   ],
   "source": [
    "x = True\n",
    "y = False\n",
    "print(not x)\n",
    "print(not y)\n",
    "x = None\n",
    "not x"
   ]
  },
  {
   "cell_type": "markdown",
   "id": "9929bf75-62aa-472f-aa07-77cdd4bbb403",
   "metadata": {},
   "source": [
    "## 4.4 Some Functions"
   ]
  },
  {
   "cell_type": "code",
   "execution_count": 37,
   "id": "6774f440-4b53-4294-afd5-109707925994",
   "metadata": {},
   "outputs": [],
   "source": [
    "# math.ceil(x)      Smallest integer greater than or equal to x\n",
    "# math.copysign(x, y)  Absolute value of x but with the sign of y\n",
    "# math.floor(x)     Smallest integer less than or equal to x\n",
    "# round(x, ndigits) Rounded from x to ndigits decimal places\n",
    "# math.fabs(x)      Absolute value of x\n",
    "# math.exp(x)       Exponential of x\n",
    "# math.log(x)       Natural logarithm of x (based on e)\n",
    "# math.log(x, b)    Logarithm based on b of x\n",
    "# math.log10(x)     Logarithm in base 10 of x\n",
    "# math.pow(x, y)    x raised to the power y\n",
    "# math.sqrt(x)      Square root of x\n",
    "# math.fsum(x)      Sum of the values in iterable x\n",
    "# math.sin(x)        Sine (sin) của x\n",
    "# math.cos(x)        Cosine (cos) của x\n",
    "# math.tan(x)        Tangent (tan) của x\n",
    "# math.asin(x)       Arc-sine của x (kết quả trả về bằng radians)\n",
    "# math.acos(x)       Arc-cosine của x (trả về radians)\n",
    "# math.atan(x)       Arc-tangent của x (trả về radians)\n",
    "# math.sinh(x)       Hyperbolic sine của x\n",
    "# math.cosh(x)       Hyperbolic cosine của x\n",
    "# math.tanh(x)       Hyperbolic tangent của x\n",
    "# math.asinh(x)      Hyperbolic arc-sine của x\n",
    "# math.acosh(x)      Hyperbolic arc-cosine của x\n",
    "# math.atanh(x)      Hyperbolic arc-tangent của x\n",
    "# math.degrees(x)    Chuyển đổi từ radians sang degrees\n",
    "# math.radians(x)    Chuyển đổi từ degrees sang radians\n",
    "# math.factorial(x)  Giai thừa của x\n",
    "# math.gcd(x, y)     Ước số chung lớn nhất của x và y\n",
    "# math.isclose(x, y, rel_tol=1e-09, abs_tol=0.0)  Kiểm tra x và y có gần nhau trong mức sai số cho phép không\n",
    "# math.isfinite(x)   Trả về True nếu x là số hữu hạn (không phải ±∞ và không phải NaN)\n",
    "# math.isinf(x)      Trả về True nếu x là ±∞, ngược lại False\n",
    "# math.isnan(x)      Trả về True nếu x là NaN (Not a Number)\n",
    "# statistics.mean(x)     Giá trị trung bình cộng của x\n",
    "# statistics.median(x)   Trung vị của x\n",
    "# statistics.mode(x)     Giá trị xuất hiện nhiều nhất của x\n",
    "# statistics.stdev(x)    Độ lệch chuẩn của x\n",
    "# statistics.variance(x) Phương sai của x"
   ]
  },
  {
   "cell_type": "markdown",
   "id": "ad45345b-861c-412d-9c4f-b62f25746b7a",
   "metadata": {},
   "source": [
    "## 4.5 Some Constants"
   ]
  },
  {
   "cell_type": "code",
   "execution_count": 34,
   "id": "01dc5485-aaad-4386-b44f-a4f7aa978680",
   "metadata": {},
   "outputs": [],
   "source": [
    "# math.pi     The number Pi (π)\n",
    "# math.e      The constant e\n",
    "# math.tau    The constant τ, equal to 2π\n",
    "# math.inf    Positive infinity (∞)\n",
    "# -math.inf   Negative infinity (−∞)\n",
    "# math.nan    Floating point value \"Not a Number\" (NaN)"
   ]
  },
  {
   "cell_type": "markdown",
   "id": "9b43cd81-3f7f-4c55-bf37-3d62cf02d074",
   "metadata": {},
   "source": [
    "# CHAPTER 5 LOADING AND SAVING DATA"
   ]
  },
  {
   "cell_type": "markdown",
   "id": "1d019f32-f25f-4161-93bf-4d4d8e9448ad",
   "metadata": {},
   "source": [
    "## 5.1 Load Data"
   ]
  },
  {
   "cell_type": "code",
   "execution_count": 39,
   "id": "dcd00217-a3d7-4ea6-b1e4-067db66047e6",
   "metadata": {},
   "outputs": [
    {
     "name": "stdout",
     "output_type": "stream",
     "text": [
      "/workspaces/KTLT-ECO\n"
     ]
    }
   ],
   "source": [
    "import os                # Import module os để làm việc với hệ thống tệp và thư mục\n",
    "cwd = os.getcwd()        # Lấy đường dẫn thư mục hiện tại (current working directory)\n",
    "print(cwd)               # In ra đường dẫn thư mục hiện tại"
   ]
  },
  {
   "cell_type": "markdown",
   "id": "0f3e4e55-a47a-4d08-972c-33db60d0c7cf",
   "metadata": {},
   "source": [
    "### 5.1.1 Fichiers textes"
   ]
  },
  {
   "cell_type": "code",
   "execution_count": 35,
   "id": "586611a2-1ced-4a7f-a45a-bfc8200bd2cb",
   "metadata": {},
   "outputs": [],
   "source": [
    "# r  Mở để đọc (mặc định)\n",
    "# w  Mở để ghi (nếu file có sẵn sẽ bị ghi đè)\n",
    "# x  Mở để tạo file mới, báo lỗi nếu file đã tồn tại\n",
    "# a  Mở để ghi, thêm nội dung vào cuối file nếu file đã tồn tại\n",
    "# +  Mở để vừa đọc vừa ghi (update)\n",
    "# b  Thêm vào chế độ mở để làm việc với file nhị phân (vd: rb, wb)\n",
    "# t  Chế độ văn bản (tự động giải mã bytes sang Unicode). Mặc định nếu không chỉ định (tương tự b là chế độ nhị phân)"
   ]
  },
  {
   "cell_type": "code",
   "execution_count": null,
   "id": "3b8fab33-6110-4e89-8b6a-9c4b25e87fa7",
   "metadata": {},
   "outputs": [],
   "source": []
  }
 ],
 "metadata": {
  "kernelspec": {
   "display_name": "Python 3 (ipykernel)",
   "language": "python",
   "name": "python3"
  },
  "language_info": {
   "codemirror_mode": {
    "name": "ipython",
    "version": 3
   },
   "file_extension": ".py",
   "mimetype": "text/x-python",
   "name": "python",
   "nbconvert_exporter": "python",
   "pygments_lexer": "ipython3",
   "version": "3.12.1"
  }
 },
 "nbformat": 4,
 "nbformat_minor": 5
}
