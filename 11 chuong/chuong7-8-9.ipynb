{
 "cells": [
  {
   "cell_type": "markdown",
   "id": "cce631e7-5f40-447a-8086-de8f93ce8f23",
   "metadata": {},
   "source": [
    "# Chapter 7"
   ]
  },
  {
   "cell_type": "markdown",
   "id": "330c8dd2-5052-49de-8dfb-1b8722f0fa8d",
   "metadata": {},
   "source": [
    "# Loops "
   ]
  },
  {
   "cell_type": "markdown",
   "id": "7b84e45d-a4c1-48c1-9089-a18347ec8256",
   "metadata": {},
   "source": [
    "### 7.1 Loops with while()"
   ]
  },
  {
   "cell_type": "code",
   "execution_count": 1,
   "id": "0113f1df-27cd-4cb1-8438-63f523c53313",
   "metadata": {},
   "outputs": [
    {
     "name": "stdout",
     "output_type": "stream",
     "text": [
      "33.333333333333336\n",
      "11.111111111111112\n",
      "3.703703703703704\n",
      "1.234567901234568\n"
     ]
    }
   ],
   "source": [
    "x = 100\n",
    "while x/3 > 1:\n",
    "    print(x/3) \n",
    "    x = x/3"
   ]
  },
  {
   "cell_type": "markdown",
   "id": "2b3489f8-7f31-42c0-97ff-6fb4906f107f",
   "metadata": {},
   "source": [
    "Vòng lặp này lấy giá trị khởi tạo x, liên tục chia cho 3 và in ra kết quả, cho tới khi kết quả chia nhỏ hơn hoặc bằng 1. Nó minh họa quá trình lặp và giảm dần theo tỷ lệ (x giảm theo lũy thừa 1/3 mỗi lần)."
   ]
  },
  {
   "cell_type": "code",
   "execution_count": 2,
   "id": "6c759fc6-3d88-43dd-96f2-0cb6b17f2e38",
   "metadata": {},
   "outputs": [
    {
     "name": "stdout",
     "output_type": "stream",
     "text": [
      "False\n"
     ]
    }
   ],
   "source": [
    "print(x/3>1)"
   ]
  },
  {
   "cell_type": "markdown",
   "id": "713d0378-b3c2-45d5-b44a-72eca4f1aebe",
   "metadata": {},
   "source": [
    "Dòng này kiểm tra điều kiện x/3 > 1 và in ra kết quả đúng/sai."
   ]
  },
  {
   "cell_type": "code",
   "execution_count": 3,
   "id": "30f4695e-ac2a-4f33-89b0-bf998ce5b955",
   "metadata": {},
   "outputs": [
    {
     "name": "stdout",
     "output_type": "stream",
     "text": [
      "0.41152263374485604\n"
     ]
    }
   ],
   "source": [
    "print(x/3)"
   ]
  },
  {
   "cell_type": "markdown",
   "id": "47b9a829-1d49-4c8a-8777-4987c067fa04",
   "metadata": {},
   "source": [
    "Dòng này chỉ đơn giản tính x chia 3 và in ra kết quả."
   ]
  },
  {
   "cell_type": "markdown",
   "id": "4264066b-8c1b-478a-a867-6a6faa5e7be7",
   "metadata": {},
   "source": [
    "### 7.2 Loops with for()"
   ]
  },
  {
   "cell_type": "code",
   "execution_count": 5,
   "id": "d7d5fb9b-9b50-40de-a22e-b13d22e8c9e4",
   "metadata": {},
   "outputs": [
    {
     "name": "stdout",
     "output_type": "stream",
     "text": [
      "[0, 1, 2, 3]\n"
     ]
    }
   ],
   "source": [
    "print(list(range(0, 4)))"
   ]
  },
  {
   "cell_type": "markdown",
   "id": "b8a72da9-393b-4bf3-b5e5-0c75ec878779",
   "metadata": {},
   "source": [
    "Tạo một danh sách các số nguyên từ 0 đến 3 và in kết quả ra màn hình."
   ]
  },
  {
   "cell_type": "code",
   "execution_count": 6,
   "id": "1855a596-2662-4436-8101-33cbae7aff57",
   "metadata": {},
   "outputs": [
    {
     "name": "stdout",
     "output_type": "stream",
     "text": [
      "[0, 1, 2, 3]\n"
     ]
    }
   ],
   "source": [
    "print(list(range(4)))"
   ]
  },
  {
   "cell_type": "markdown",
   "id": "9892c841-573d-4821-98d0-c10c3b2a9194",
   "metadata": {},
   "source": [
    "Tạo một danh sách các số nguyên từ 0 đến 3 và in ra, giống như list(range(0, 4)), nhưng ngắn gọn hơn."
   ]
  },
  {
   "cell_type": "code",
   "execution_count": 7,
   "id": "29c8917b-fe19-4e33-82ac-a2e2e94d4ba8",
   "metadata": {},
   "outputs": [
    {
     "name": "stdout",
     "output_type": "stream",
     "text": [
      "[2, 3, 4, 5, 6, 7, 8, 9]\n"
     ]
    }
   ],
   "source": [
    "print(list(range(2, 10))) "
   ]
  },
  {
   "cell_type": "markdown",
   "id": "cdac03c0-fcdc-462d-a107-7d50af898291",
   "metadata": {},
   "source": [
    "Tạo và in danh sách các số nguyên từ 2 đến 9."
   ]
  },
  {
   "cell_type": "code",
   "execution_count": 8,
   "id": "eaa724ba-0a83-433c-90b5-7f86f1aefca3",
   "metadata": {},
   "outputs": [
    {
     "name": "stdout",
     "output_type": "stream",
     "text": [
      "[2, 5, 8]\n"
     ]
    }
   ],
   "source": [
    "print(list(range(2, 10, 3)))"
   ]
  },
  {
   "cell_type": "markdown",
   "id": "833958b5-60be-4c3c-b8bb-30d8ad49de26",
   "metadata": {},
   "source": [
    "Tạo và in danh sách các số nguyên từ 2 đến 9, mỗi số cách số trước 3 đơn vị."
   ]
  },
  {
   "cell_type": "code",
   "execution_count": 9,
   "id": "01064c8c-9da2-4b93-b8a3-5cda99069f00",
   "metadata": {},
   "outputs": [
    {
     "name": "stdout",
     "output_type": "stream",
     "text": [
      "The squared value of 0 is 0\n",
      "The squared value of 1 is 1\n",
      "The squared value of 2 is 4\n",
      "The squared value of 3 is 9\n",
      "The squared value of 4 is 16\n",
      "The squared value of 5 is 25\n",
      "The squared value of 6 is 36\n",
      "The squared value of 7 is 49\n",
      "The squared value of 8 is 64\n",
      "The squared value of 9 is 81\n",
      "The squared value of 10 is 100\n"
     ]
    }
   ],
   "source": [
    "message = \"The squared value of {} is {}\" \n",
    "n=10\n",
    "for i in range(0, n+1):\n",
    "    print(message.format(i,i**2))"
   ]
  },
  {
   "cell_type": "markdown",
   "id": "453f4a06-1947-4272-add7-4389d82f89f1",
   "metadata": {},
   "source": [
    "Vòng lặp này tính bình phương của các số từ 0 đến n và in kết quả theo định dạng chuỗi."
   ]
  },
  {
   "cell_type": "code",
   "execution_count": 10,
   "id": "1dde3e34-cc35-4e2c-8811-3e2086347c23",
   "metadata": {},
   "outputs": [
    {
     "name": "stdout",
     "output_type": "stream",
     "text": [
      "[0, 1, 4, 9, 16, 25, 36, 49, 64, 81, 100]\n"
     ]
    }
   ],
   "source": [
    "n=10\n",
    "n_squares = []\n",
    "for i in range(0, n+1):\n",
    "    n_squares.append(i**2) \n",
    "    \n",
    "print(n_squares)"
   ]
  },
  {
   "cell_type": "markdown",
   "id": "7be8c913-d9aa-4a19-b06c-77be5cd8c092",
   "metadata": {},
   "source": [
    "Vòng lặp này tạo danh sách tất cả các bình phương từ 0 đến n."
   ]
  },
  {
   "cell_type": "code",
   "execution_count": 11,
   "id": "4662cec5-b387-4925-8a21-31be9f63802d",
   "metadata": {},
   "outputs": [
    {
     "name": "stdout",
     "output_type": "stream",
     "text": [
      "The squared value of 0 is 0\n",
      "The squared value of 1 is 1\n",
      "The squared value of 2 is 4\n",
      "The squared value of 8 is 64\n",
      "The squared value of 9 is 81\n",
      "The squared value of 10 is 100\n"
     ]
    }
   ],
   "source": [
    "message = \"The squared value of {} is {}\" \n",
    "for i in [0, 1, 2, 8, 9, 10]:\n",
    "    print(message.format(i,i**2))"
   ]
  },
  {
   "cell_type": "markdown",
   "id": "90d62ffe-8283-4751-baaa-cbd24843bfb0",
   "metadata": {},
   "source": [
    "Vòng lặp này tính bình phương của các số cụ thể trong danh sách và in ra kết quả."
   ]
  },
  {
   "cell_type": "code",
   "execution_count": 12,
   "id": "518642a7-f987-435a-81d2-46d4f0054c7c",
   "metadata": {},
   "outputs": [
    {
     "name": "stdout",
     "output_type": "stream",
     "text": [
      "There is(are) 9 letter(s) in the name: Pascaline\n",
      "There is(are) 8 letter(s) in the name: Gauthier\n",
      "There is(are) 4 letter(s) in the name: Xuan\n",
      "There is(are) 5 letter(s) in the name: Jimmy\n"
     ]
    }
   ],
   "source": [
    "message = \"There is(are) {} letter(s) in the name: {}\"\n",
    "for first_name in [\"Pascaline\", \"Gauthier\", \"Xuan\", \"Jimmy\"]:\n",
    "  print(message.format(len(first_name), first_name))"
   ]
  },
  {
   "cell_type": "markdown",
   "id": "7482eedd-355d-4d4a-90ff-d5d2daaf0baa",
   "metadata": {},
   "source": [
    "Vòng lặp này duyệt qua danh sách tên, tính số ký tự của từng tên và in ra theo định dạng đẹp mắt."
   ]
  },
  {
   "cell_type": "code",
   "execution_count": 1,
   "id": "6241e2b1-e233-4f9b-8811-66a8a422ad11",
   "metadata": {},
   "outputs": [
    {
     "name": "stdout",
     "output_type": "stream",
     "text": [
      "i equals 0 and j equals 0\n",
      "i equals 0 and j equals 1\n",
      "i equals 0 and j equals 2\n",
      "i equals 1 and j equals 0\n",
      "i equals 1 and j equals 1\n",
      "i equals 1 and j equals 2\n",
      "i equals 2 and j equals 0\n",
      "i equals 2 and j equals 1\n",
      "i equals 2 and j equals 2\n"
     ]
    }
   ],
   "source": [
    "message = \"i equals {} and j equals {}\" \n",
    "for i in range(0,3):\n",
    "    for j in range(0,3): \n",
    "        print(message.format(i, j))"
   ]
  },
  {
   "cell_type": "markdown",
   "id": "36f290fe-b0e1-4af0-8168-0941d5330307",
   "metadata": {},
   "source": [
    "Là vòng lặp lồng nhau, in tất cả cặp giá trị (i, j) từ 0 đến 2. Đây là cách cơ bản để duyệt qua một ma trận hoặc tất cả kết hợp hai tập hợp số."
   ]
  },
  {
   "cell_type": "code",
   "execution_count": 2,
   "id": "7b94d0bc-ebcb-4102-b734-2fde3d36c5f5",
   "metadata": {},
   "outputs": [
    {
     "name": "stdout",
     "output_type": "stream",
     "text": [
      "New value for j: 15\n",
      "New value for j: 20\n",
      "New value for j: 25\n",
      "New value for j: 30\n"
     ]
    }
   ],
   "source": [
    "message = \"New value for j: {}\" \n",
    "j = 10\n",
    "for i in range(0, 4):\n",
    "    j += 5 \n",
    "    print(message.format(j))"
   ]
  },
  {
   "cell_type": "markdown",
   "id": "da6190f5-3590-4dd9-9f97-294753d6a8de",
   "metadata": {},
   "source": [
    "Vòng lặp này tăng giá trị j lên 5 mỗi lần và in kết quả, tổng cộng 4 lần. Đây là ví dụ cơ bản về vòng lặp với thay đổi giá trị biến theo từng bước."
   ]
  },
  {
   "cell_type": "code",
   "execution_count": 3,
   "id": "f624e395-427b-40b0-a7a9-2d454b8a4cce",
   "metadata": {},
   "outputs": [
    {
     "name": "stdout",
     "output_type": "stream",
     "text": [
      "30\n"
     ]
    }
   ],
   "source": [
    "print(j)"
   ]
  },
  {
   "cell_type": "markdown",
   "id": "6013f64a-0c36-4dfe-9982-54efec53c53f",
   "metadata": {},
   "source": [
    "print(j) cho bạn biết giá trị cuối cùng của biến j sau khi vòng lặp hoặc các phép toán thay đổi nó."
   ]
  },
  {
   "cell_type": "markdown",
   "id": "53913cd0-7650-4a6b-9321-4f8c0d64172a",
   "metadata": {},
   "source": [
    "### 7.3 Exercises"
   ]
  },
  {
   "cell_type": "markdown",
   "id": "60baf1cd-c2c7-4720-a58b-ce7826c725df",
   "metadata": {},
   "source": [
    "##### 1. Write a very naive program to determine if a number is prime or not. To do this:"
   ]
  },
  {
   "cell_type": "markdown",
   "id": "618eb56c-7524-49b7-a316-368f43062bae",
   "metadata": {},
   "source": [
    "1. define a number variable containing a natural integer of your choice (not too large),"
   ]
  },
  {
   "cell_type": "code",
   "execution_count": 4,
   "id": "234e52ae-1cf4-40ad-8653-dac51408e20d",
   "metadata": {},
   "outputs": [
    {
     "name": "stdout",
     "output_type": "stream",
     "text": [
      "19 is a prime number.\n"
     ]
    }
   ],
   "source": [
    "# 1. Định nghĩa một biến number chứa một số nguyên tự nhiên\n",
    "number = 19  \n",
    "\n",
    "# 2. Kiểm tra xem số đó có phải là số nguyên tố hay không\n",
    "is_prime = True  \n",
    "\n",
    "# Một số nguyên tố phải lớn hơn 1\n",
    "if number < 2:\n",
    "    is_prime = False\n",
    "else:\n",
    "    # Kiểm tra chia hết từ 2 đến number-1\n",
    "    for i in range(2, number):\n",
    "        if number % i == 0:\n",
    "            is_prime = False\n",
    "            break\n",
    "\n",
    "# 3. In kết quả\n",
    "if is_prime:\n",
    "    print(f\"{number} is a prime number.\")\n",
    "else:\n",
    "    print(f\"{number} is not a prime number.\")"
   ]
  },
  {
   "cell_type": "markdown",
   "id": "5e01f802-5034-4706-b087-c9ccde79c45e",
   "metadata": {},
   "source": [
    "2. using a loop, check if each integer up to the square root of your number, is a divisor of your number (stop if ever it is the case)"
   ]
  },
  {
   "cell_type": "code",
   "execution_count": 6,
   "id": "c1439f91-59e6-42da-94b1-f29b8ca2f3b0",
   "metadata": {},
   "outputs": [
    {
     "name": "stdout",
     "output_type": "stream",
     "text": [
      "19 is a prime number.\n"
     ]
    }
   ],
   "source": [
    "import math  \n",
    "\n",
    "# 1. Định nghĩa số cần kiểm tra\n",
    "number = 19  \n",
    "\n",
    "# 2. Giả sử ban đầu số là số nguyên tố\n",
    "is_prime = True\n",
    "\n",
    "# Loại các số < 2\n",
    "if number < 2:\n",
    "    is_prime = False\n",
    "else:\n",
    "    # Kiểm tra các số từ 2 đến căn bậc hai của number\n",
    "    for i in range(2, int(math.sqrt(number)) + 1):\n",
    "        if number % i == 0:\n",
    "            is_prime = False\n",
    "            break  \n",
    "\n",
    "# 3. In kết quả\n",
    "if is_prime:\n",
    "    print(f\"{number} is a prime number.\")\n",
    "else:\n",
    "    print(f\"{number} is not a prime number.\")"
   ]
  },
  {
   "cell_type": "markdown",
   "id": "165ccd4e-1994-43c4-8bed-212b29d4a095",
   "metadata": {},
   "source": [
    "3. at the loop output, write a conditional instruction indicating whether or not the number is a prime one."
   ]
  },
  {
   "cell_type": "code",
   "execution_count": 7,
   "id": "08fc414e-59e0-4d8e-8c9b-acb3c22c7679",
   "metadata": {},
   "outputs": [
    {
     "name": "stdout",
     "output_type": "stream",
     "text": [
      "17 is a prime number.\n"
     ]
    }
   ],
   "source": [
    "import math\n",
    "\n",
    "# 1. Định nghĩa số cần kiểm tra\n",
    "number = 17  \n",
    "\n",
    "# 2. Giả sử ban đầu số là số nguyên tố\n",
    "is_prime = True\n",
    "\n",
    "# Loại các số < 2\n",
    "if number < 2:\n",
    "    is_prime = False\n",
    "else:\n",
    "    # Kiểm tra các số từ 2 đến căn bậc hai của number\n",
    "    for i in range(2, int(math.sqrt(number)) + 1):\n",
    "        if number % i == 0:\n",
    "            is_prime = False\n",
    "            break  \n",
    "\n",
    "# 3. In ra kết quả bằng điều kiện\n",
    "if is_prime:\n",
    "    print(f\"{number} is a prime number.\")\n",
    "else:\n",
    "    print(f\"{number} is not a prime number.\")"
   ]
  },
  {
   "cell_type": "markdown",
   "id": "f3e20704-ebc5-461b-b452-42a878c8bd6f",
   "metadata": {},
   "source": [
    "2. Choose a ‘mystery’ number between 1 and 100, and store it in an object called mystery_number. Then, create a loop that at each iteration performs a random draw of an integer between 1 and 100. As long as the number drawn is different from the mystery number, the loop must continue. At the output of the loop, a variable called nb_drawings will contain the number of draws made to obtain the mystery number.\n",
    "Note: to draw a random number between 1 and 100, the method randint() of the module random may help)."
   ]
  },
  {
   "cell_type": "code",
   "execution_count": 8,
   "id": "9f29dd72-4c32-4d7b-a5af-c9c94d16c1a0",
   "metadata": {},
   "outputs": [
    {
     "name": "stdout",
     "output_type": "stream",
     "text": [
      "Mystery number (for verification): 24\n",
      "The mystery number 24 was found after 134 draws.\n"
     ]
    }
   ],
   "source": [
    "import random  # để dùng hàm randint\n",
    "\n",
    "# 1. Chọn một số bí ẩn từ 1 đến 100\n",
    "mystery_number = random.randint(1, 100)\n",
    "print(f\"Mystery number (for verification): {mystery_number}\")  \n",
    "\n",
    "# 2. Khởi tạo biến đếm số lần rút thăm\n",
    "nb_drawings = 0\n",
    "\n",
    "# 3. Lặp cho đến khi rút được số bí ẩn\n",
    "while True:\n",
    "    draw = random.randint(1, 100)  # rút một số ngẫu nhiên từ 1 đến 100\n",
    "    nb_drawings += 1  # tăng số lần rút thăm\n",
    "    if draw == mystery_number:\n",
    "        break  # dừng vòng lặp khi rút trúng số bí ẩn\n",
    "\n",
    "# 4. In kết quả\n",
    "print(f\"The mystery number {mystery_number} was found after {nb_drawings} draws.\")"
   ]
  },
  {
   "cell_type": "markdown",
   "id": "2d080e75-9540-4ea1-8069-530d4d991879",
   "metadata": {},
   "source": [
    "3. Use a loop to scan integers from 1 to 20 using a for loop, displaying in the console at each iteration if the current number is even."
   ]
  },
  {
   "cell_type": "code",
   "execution_count": 9,
   "id": "a3f02b5d-3557-4914-9ce9-7bc2534f0236",
   "metadata": {},
   "outputs": [
    {
     "name": "stdout",
     "output_type": "stream",
     "text": [
      "2 is even\n",
      "4 is even\n",
      "6 is even\n",
      "8 is even\n",
      "10 is even\n",
      "12 is even\n",
      "14 is even\n",
      "16 is even\n",
      "18 is even\n",
      "20 is even\n"
     ]
    }
   ],
   "source": [
    "for i in range(1, 21):\n",
    "    if i % 2 == 0:\n",
    "        print(f\"{i} is even\")"
   ]
  },
  {
   "cell_type": "markdown",
   "id": "69dbe765-3a02-4c75-8c71-2d469ddd5d09",
   "metadata": {},
   "source": [
    "4. Use a for() loop to repeat the Fibonacci sequence until its tenth term (the Fn sequence is defined by the following recurrence relationship: Fn = Fn−1 + Fn−2; the initial values are F0 = 0 and F1 = 1)."
   ]
  },
  {
   "cell_type": "code",
   "execution_count": 1,
   "id": "0aa48bb4-c380-44a9-a671-910e3e2c452a",
   "metadata": {},
   "outputs": [
    {
     "name": "stdout",
     "output_type": "stream",
     "text": [
      "The first 10 terms of the Fibonacci sequence are:\n",
      "[0, 1, 1, 2, 3, 5, 8, 13, 21, 34]\n"
     ]
    }
   ],
   "source": [
    "# 1. Khởi tạo hai số đầu tiên của dãy Fibonacci\n",
    "F0 = 0\n",
    "F1 = 1\n",
    "\n",
    "# 2. Tạo danh sách lưu trữ dãy Fibonacci\n",
    "fib_sequence = [F0, F1]\n",
    "\n",
    "# 3. Vòng lặp tính từ số thứ 2 đến số thứ 9 (tổng cộng 10 số)\n",
    "for n in range(2, 10):\n",
    "    Fn = fib_sequence[n - 1] + fib_sequence[n - 2]  # Fn = Fn-1 + Fn-2\n",
    "    fib_sequence.append(Fn)\n",
    "\n",
    "# 4. In kết quả\n",
    "print(\"The first 10 terms of the Fibonacci sequence are:\")\n",
    "print(fib_sequence)"
   ]
  },
  {
   "cell_type": "markdown",
   "id": "2ba03f4d-61b7-4bad-928e-61284aa6dc44",
   "metadata": {},
   "source": [
    "# Kết thúc Chapter 7"
   ]
  },
  {
   "cell_type": "markdown",
   "id": "1ccb697e-c8e9-4dd0-8ab0-f7be2712ca09",
   "metadata": {},
   "source": [
    "# Chapter 8"
   ]
  },
  {
   "cell_type": "markdown",
   "id": "623f2f65-70bb-41e0-a069-77a0166f4e64",
   "metadata": {},
   "source": [
    "# Functions"
   ]
  },
  {
   "cell_type": "markdown",
   "id": "f92c3b23-4bce-4b88-8cad-a1090e59f567",
   "metadata": {},
   "source": [
    "### 8.1 Definition"
   ]
  },
  {
   "cell_type": "code",
   "execution_count": 3,
   "id": "3214db6f-1f23-4080-8988-7e05564d77e6",
   "metadata": {},
   "outputs": [],
   "source": [
    "def square(x): \n",
    "    return x**2"
   ]
  },
  {
   "cell_type": "code",
   "execution_count": 4,
   "id": "7d3412e5-7a76-490e-999a-ebf33a6bb954",
   "metadata": {},
   "outputs": [
    {
     "name": "stdout",
     "output_type": "stream",
     "text": [
      "4\n"
     ]
    }
   ],
   "source": [
    "print(square(2))"
   ]
  },
  {
   "cell_type": "markdown",
   "id": "7ac043cc-8432-4357-aed3-83e149f78a3d",
   "metadata": {},
   "source": [
    "Hàm square(x) tách phần tính toán bình phương thành một khối riêng, giúp code dễ đọc, dễ tái sử dụng. return sẽ cho phép lấy kết quả của hàm để dùng ở các phần khác trong chương trình. Gọi hàm bằng square(2) sẽ thực hiện tính toán với tham số cụ thể."
   ]
  },
  {
   "cell_type": "code",
   "execution_count": 5,
   "id": "e84e3a00-09b1-4776-b182-5522e74927f4",
   "metadata": {},
   "outputs": [
    {
     "name": "stdout",
     "output_type": "stream",
     "text": [
      "9\n"
     ]
    }
   ],
   "source": [
    "print(square(-3))"
   ]
  },
  {
   "cell_type": "markdown",
   "id": "d44bee44-922b-498e-9a71-f711bbda0df4",
   "metadata": {},
   "source": [
    "Hàm square(x) tính bình phương của số x và trả kết quả in ra màn hình."
   ]
  },
  {
   "cell_type": "markdown",
   "id": "d78b6bab-47c6-45fd-83ad-55d04d529f38",
   "metadata": {},
   "source": [
    "#### 8.1.1 Adding a Description"
   ]
  },
  {
   "cell_type": "code",
   "execution_count": 7,
   "id": "e54b431a-3af6-4e0c-86ea-c3b0d70b12ee",
   "metadata": {},
   "outputs": [],
   "source": [
    "def square(x):\n",
    "    \"\"\"returns the squared value of x\"\"\" \n",
    "    return x**2"
   ]
  },
  {
   "cell_type": "markdown",
   "id": "fbd46651-e1e6-4177-b01a-5dd546ff95ea",
   "metadata": {},
   "source": [
    "Hàm này tính bình phương của một số và trả kết quả, docstring giúp giải thích chức năng hàm."
   ]
  },
  {
   "cell_type": "markdown",
   "id": "89bf87cd-9fa7-43eb-9f67-c83045aec061",
   "metadata": {},
   "source": [
    "#### 8.1.2 Arguments of a Function"
   ]
  },
  {
   "cell_type": "code",
   "execution_count": 10,
   "id": "a5aa1541-46db-4ffc-9a96-2e9fa44845b5",
   "metadata": {},
   "outputs": [],
   "source": [
    "def production(l, k, m): \n",
    "    \"\"\"\n",
    "    Returns the value of the production according to\n",
    "    labour, capital and materials\n",
    "    \n",
    "    Keyword arguments:\n",
    "    l -- labour (float)\n",
    "    k -- capital (float)\n",
    "    m -- materials (float)\n",
    "    \"\"\"\n",
    "    return l**0.3 * k**0.5 * m**(0.2)"
   ]
  },
  {
   "cell_type": "markdown",
   "id": "46827537-e861-4507-8038-ff1a5be051e9",
   "metadata": {},
   "source": [
    "Hàm này tính giá trị sản xuất dựa trên lao động, vốn và nguyên liệu và trả kết quả, docstring giúp mô tả rõ ràng mục đích và tham số của hàm."
   ]
  },
  {
   "cell_type": "markdown",
   "id": "40890ca2-5f98-4a52-8eb2-f1d5aaf1165c",
   "metadata": {},
   "source": [
    "##### 8.1.2.1 Call Without Argument Names"
   ]
  },
  {
   "cell_type": "code",
   "execution_count": 11,
   "id": "0cd6f114-af98-4589-baf6-5de3b2ab202a",
   "metadata": {},
   "outputs": [
    {
     "name": "stdout",
     "output_type": "stream",
     "text": [
      "46.289449781254994\n"
     ]
    }
   ],
   "source": [
    "prod_val = production(60, 42, 40) \n",
    "print(prod_val)"
   ]
  },
  {
   "cell_type": "markdown",
   "id": "d87ed196-5d41-419e-a36d-c1e38793ded5",
   "metadata": {},
   "source": [
    "Đây là cách gọi hàm với các tham số cụ thể, lưu kết quả vào biến và in ra, giúp tái sử dụng kết quả cho các tính toán tiếp theo."
   ]
  },
  {
   "cell_type": "markdown",
   "id": "78eff816-215a-4b23-b15f-9b3739862208",
   "metadata": {},
   "source": [
    "##### 8.1.2.2 Positional Arguments, Arguments by Keywords"
   ]
  },
  {
   "cell_type": "code",
   "execution_count": 12,
   "id": "f7ee3156-da24-4c8c-acbf-8287d047a517",
   "metadata": {},
   "outputs": [],
   "source": [
    "def production_2(l, m, k=42): \n",
    "    \"\"\"\n",
    "    Returns the value of the production according to\n",
    "    labour, capital and materials\n",
    "    \n",
    "    Keyword arguments:\n",
    "    l -- labour (float)\n",
    "    m -- materials (float)\n",
    "    k -- capital (float) (default 42) \n",
    "    \"\"\"\n",
    "    return l**0.3 * k**0.5 * m**(0.2)"
   ]
  },
  {
   "cell_type": "markdown",
   "id": "e470058f-9520-4048-a219-17fbad74468c",
   "metadata": {},
   "source": [
    "Hàm này tính giá trị sản xuất dựa trên lao động, nguyên liệu và vốn, trong đó tham số vốn có thể bỏ qua để dùng giá trị mặc định, giúp hàm linh hoạt hơn."
   ]
  },
  {
   "cell_type": "code",
   "execution_count": 14,
   "id": "4a37f2d5-a4fa-4826-82f2-fc0631bb1c7f",
   "metadata": {},
   "outputs": [
    {
     "name": "stdout",
     "output_type": "stream",
     "text": [
      "[41.59215573604822, 41.59215573604822, 41.59215573604822, 41.59215573604822]\n"
     ]
    }
   ],
   "source": [
    "# By naming all argument, by ommitting k\n",
    "prod_val_1 = production_2(l = 42, m = 40)\n",
    "# By naming all argument and specifying k \n",
    "prod_val_2 = production_2(l = 42, m = 40, k = 42) \n",
    "# By naming only the argument k\n",
    "prod_val_3 = production_2(42, 40, k = 42)\n",
    "# Without naming any argument\n",
    "prod_val_4 = production_2(42, 40, 42)\n",
    "res = [prod_val_1, prod_val_2, prod_val_3, prod_val_4] \n",
    "print(res)"
   ]
  },
  {
   "cell_type": "markdown",
   "id": "7e4a45b1-d5d5-4f63-bfe5-329b67aa5bce",
   "metadata": {},
   "source": [
    "Đây là cách gọi hàm linh hoạt trong Python bằng tên, bằng vị trí, kết hợp cả hai, và sử dụng tham số mặc định."
   ]
  },
  {
   "cell_type": "code",
   "execution_count": 1,
   "id": "0d495aba-2991-4cf6-824a-3f21904ff01e",
   "metadata": {},
   "outputs": [
    {
     "name": "stdout",
     "output_type": "stream",
     "text": [
      "[41.16765711449734, 41.59215573604822, 41.59215573604822, 41.59215573604822]\n"
     ]
    }
   ],
   "source": [
    "def production_3(a, l, m = 40, k=42): \n",
    "    \"\"\"\n",
    "    Returns the value of the production according to\n",
    "    labour, capital and materials\n",
    "    \n",
    "    Keyword arguments:\n",
    "    a -- total factor productivity (float) l -- labour (float)\n",
    "    m -- materials (float) (default 40)\n",
    "    k -- capital (float) (default 42)\n",
    "    \"\"\"\n",
    "    return a * l**0.3 * k**0.5 * m**(0.2)\n",
    "\n",
    "prod_val_1 = production_3(1, 42, m = 38) \n",
    "prod_val_2 = production_3(a = 1, l = 42) \n",
    "prod_val_3 = production_3(l = 42, a = 1) \n",
    "prod_val_4 = production_3(m = 40, l = 42, a = 1)\n",
    "\n",
    "res = [prod_val_1, prod_val_2, prod_val_3, prod_val_4] \n",
    "print(res)"
   ]
  },
  {
   "cell_type": "markdown",
   "id": "44fcf831-c051-43af-b7f5-b9ccad8a4cd6",
   "metadata": {},
   "source": [
    "Đây là cách gọi hàm linh hoạt trong Python bằng tên, bằng vị trí, kết hợp cả hai, và sử dụng tham số mặc định."
   ]
  },
  {
   "cell_type": "markdown",
   "id": "b5c5d4d7-f99d-4fda-b4b3-1ba4ece6a033",
   "metadata": {},
   "source": [
    "##### 8.1.2.3 Function as an Argument to Another Function"
   ]
  },
  {
   "cell_type": "code",
   "execution_count": 2,
   "id": "af3b3ae3-72cd-495a-b232-3ccf0971a067",
   "metadata": {},
   "outputs": [
    {
     "name": "stdout",
     "output_type": "stream",
     "text": [
      "16\n"
     ]
    }
   ],
   "source": [
    "def square(x):\n",
    "    \"\"\"Returns the squared value of x\"\"\" \n",
    "    return x**2\n",
    "    \n",
    "def apply_fun_to_4(fun):\n",
    "    \"\"\"Applies the function `fun` to 4\"\"\" \n",
    "    return fun(4)\n",
    "    \n",
    "print(apply_fun_to_4(square))"
   ]
  },
  {
   "cell_type": "markdown",
   "id": "c0f141fc-48b9-4b2c-ae9b-8f441738f8c4",
   "metadata": {},
   "source": [
    "Minh họa cách truyền một hàm như đối số cho hàm khác. Hàm square tính bình phương một số, còn hàm apply_fun_to_4 nhận một hàm khác và áp dụng nó cho số 4. Khi gọi apply_fun_to_4(square), Python thực hiện square(4) và trả kết quả 16. Ý nghĩa chung là có thể viết các hàm linh hoạt, tái sử dụng cao, áp dụng cho nhiều hàm khác nhau mà không phải viết lại logic."
   ]
  },
  {
   "cell_type": "markdown",
   "id": "627475cc-b3c4-4baf-8974-cc083fed3c94",
   "metadata": {},
   "source": [
    "### 8.2 Scope of a Function"
   ]
  },
  {
   "cell_type": "code",
   "execution_count": 3,
   "id": "d1ad3fa7-cb72-42cf-8f6e-9478205a83c0",
   "metadata": {},
   "outputs": [],
   "source": [
    "# Definition of a global variable:\n",
    "value = 1\n",
    "# Definition of a local variable in function f\n",
    "def f(x):\n",
    "    value = 2\n",
    "    new_value = 3\n",
    "    print(\"value equals: \", value) \n",
    "    print(\"new_value equals: \", new_value) \n",
    "    return x + value"
   ]
  },
  {
   "cell_type": "code",
   "execution_count": 4,
   "id": "e8ed5d18-bb69-4f88-b176-bb6926ea5f32",
   "metadata": {},
   "outputs": [
    {
     "name": "stdout",
     "output_type": "stream",
     "text": [
      "value equals:  2\n",
      "new_value equals:  3\n"
     ]
    }
   ],
   "source": [
    "res = f(3)"
   ]
  },
  {
   "cell_type": "markdown",
   "id": "600dcba7-1604-4071-812e-9268434343ee",
   "metadata": {},
   "source": [
    "Các biến cục bộ trong hàm (value = 2, new_value = 3) chỉ tồn tại bên trong hàm và dùng để tính toán hoặc in ra trong hàm, trong khi biến toàn cục (value = 1) vẫn giữ nguyên ngoài hàm. Khi gọi hàm, Python dùng giá trị của biến cục bộ để thực hiện phép tính và trả kết quả (res = x + value), nhưng không thay đổi biến toàn cục."
   ]
  },
  {
   "cell_type": "code",
   "execution_count": 5,
   "id": "cf344246-a3a8-41fd-b2fd-8938a8adf37a",
   "metadata": {},
   "outputs": [
    {
     "name": "stdout",
     "output_type": "stream",
     "text": [
      "value equals:  1\n"
     ]
    }
   ],
   "source": [
    "print(\"value equals: \", value)"
   ]
  },
  {
   "cell_type": "markdown",
   "id": "84dd342a-0601-4c63-bea4-8613c5edcab8",
   "metadata": {},
   "source": [
    "In ra giá trị hiện tại của biến value tại vị trí gọi lệnh. Nếu gọi ngoài hàm, Python sẽ in giá trị biến toàn cục (value = 1). Nếu gọi trong hàm và có biến cục bộ value, Python sẽ in giá trị biến cục bộ (value = 2)."
   ]
  },
  {
   "cell_type": "code",
   "execution_count": 6,
   "id": "1f6ff35c-af94-44ad-a664-11a7c06a49c4",
   "metadata": {},
   "outputs": [
    {
     "ename": "NameError",
     "evalue": "name 'new_value' is not defined",
     "output_type": "error",
     "traceback": [
      "\u001b[31m---------------------------------------------------------------------------\u001b[39m",
      "\u001b[31mNameError\u001b[39m                                 Traceback (most recent call last)",
      "\u001b[36mCell\u001b[39m\u001b[36m \u001b[39m\u001b[32mIn[6]\u001b[39m\u001b[32m, line 1\u001b[39m\n\u001b[32m----> \u001b[39m\u001b[32m1\u001b[39m \u001b[38;5;28mprint\u001b[39m(\u001b[33m\"\u001b[39m\u001b[33mnew_value equals: \u001b[39m\u001b[33m\"\u001b[39m, \u001b[43mnew_value\u001b[49m)\n",
      "\u001b[31mNameError\u001b[39m: name 'new_value' is not defined"
     ]
    }
   ],
   "source": [
    "print(\"new_value equals: \", new_value)"
   ]
  },
  {
   "cell_type": "markdown",
   "id": "21097410-9002-4f76-ab0f-9b959b7efaec",
   "metadata": {},
   "source": [
    "Các biến cục bộ chỉ dùng được trong hàm, còn ngoài hàm phải dùng biến toàn cục hoặc trả giá trị từ hàm ra nếu muốn sử dụng."
   ]
  },
  {
   "cell_type": "code",
   "execution_count": 7,
   "id": "78c68f36-e9e4-41a5-97d9-5ef75ff30ff0",
   "metadata": {},
   "outputs": [
    {
     "name": "stdout",
     "output_type": "stream",
     "text": [
      "3\n"
     ]
    }
   ],
   "source": [
    "value = 1 \n",
    "def f(x):\n",
    "    return x + value \n",
    "    \n",
    "print(f(2))"
   ]
  },
  {
   "cell_type": "markdown",
   "id": "2f8769a6-c5d1-408e-aafa-29bd634b9ead",
   "metadata": {},
   "source": [
    "Trong hàm f(x), không có biến cục bộ value, nên Python sử dụng giá trị biến toàn cục. return x + value → 2 + 1 = 3 nên print(f(2)) in ra kết quả 3."
   ]
  },
  {
   "cell_type": "code",
   "execution_count": 9,
   "id": "b0c93b52-4bb5-4bf8-9535-cca7eccc2d75",
   "metadata": {},
   "outputs": [
    {
     "name": "stdout",
     "output_type": "stream",
     "text": [
      "4\n"
     ]
    }
   ],
   "source": [
    "# The value variable is not defined in \n",
    "# the local environment of g().\n",
    "# Python will then search in f(). \n",
    "value = 1\n",
    "def f(): \n",
    "    value = 2 \n",
    "    def g(x):\n",
    "        return x + value \n",
    "    \n",
    "    return g(2)\n",
    "print(f())"
   ]
  },
  {
   "cell_type": "markdown",
   "id": "55433aec-db61-4403-964b-c26185a58ed3",
   "metadata": {},
   "source": [
    "Trong f(), value = 2 → biến cục bộ của hàm f. g(x) không định nghĩa biến value riêng → Python sẽ tìm biến trong môi trường bao quanh (enclosing scope), tức là biến cục bộ value của f(). g(2) → tính 2 + value = 2 + 2 = 4 nên f() trả về g(2) = 4 và print(f()) in ra 4."
   ]
  },
  {
   "cell_type": "code",
   "execution_count": 13,
   "id": "2f093edb-4369-4c72-a00b-d73cada22554",
   "metadata": {},
   "outputs": [
    {
     "name": "stdout",
     "output_type": "stream",
     "text": [
      "3\n"
     ]
    }
   ],
   "source": [
    "# The value variable is not defined in g() or f() \n",
    "# but in the higher environment (here, global) \n",
    "value = 1\n",
    "def f():\n",
    "    def g(x):\n",
    "        return x + value\n",
    "    return g(2)\n",
    "print(f())"
   ]
  },
  {
   "cell_type": "markdown",
   "id": "32d80c21-5c47-4a42-9de4-3620bc9036db",
   "metadata": {},
   "source": [
    "Khi biến không tồn tại trong hàm hay hàm bao quanh, Python sẽ tìm biến trong phạm vi toàn cục."
   ]
  },
  {
   "cell_type": "code",
   "execution_count": 14,
   "id": "b0375a84-a407-41b4-a8c2-3adbffc85ca4",
   "metadata": {},
   "outputs": [
    {
     "name": "stdout",
     "output_type": "stream",
     "text": [
      "4\n"
     ]
    }
   ],
   "source": [
    "def f(x): \n",
    "    global y \n",
    "    y = x+1\n",
    "\n",
    "f(3)\n",
    "print(y)"
   ]
  },
  {
   "cell_type": "markdown",
   "id": "381a2999-973d-4c71-8906-e99dd13b1bef",
   "metadata": {},
   "source": [
    "Từ khóa global cho phép tạo hoặc sửa biến toàn cục bên trong hàm. Không dùng global thì biến trong hàm sẽ là cục bộ, không ảnh hưởng biến ngoài hàm."
   ]
  },
  {
   "cell_type": "markdown",
   "id": "1adebb0f-fe19-455a-8609-fd732726a6e7",
   "metadata": {},
   "source": [
    "### 8.3 Lambda Functions"
   ]
  },
  {
   "cell_type": "code",
   "execution_count": 15,
   "id": "96b436f2-97ea-4a1b-8f95-3483b0627fd2",
   "metadata": {},
   "outputs": [],
   "source": [
    "def square(x): \n",
    "    return x**2"
   ]
  },
  {
   "cell_type": "code",
   "execution_count": 16,
   "id": "3e23dcaf-7d02-44b3-a27d-07845b69d179",
   "metadata": {},
   "outputs": [
    {
     "name": "stdout",
     "output_type": "stream",
     "text": [
      "16\n"
     ]
    }
   ],
   "source": [
    "square_2 = lambda x: x**2 \n",
    "print(square_2(4))"
   ]
  },
  {
   "cell_type": "markdown",
   "id": "9f4a49ec-0594-4345-8646-72cd0b117eae",
   "metadata": {},
   "source": [
    "lambda cho phép tạo hàm ngắn gọn trong một dòng mà không cần dùng def. gán hàm này cho biến square_2, để có thể gọi như hàm bình thường. square_2(4) → tính 4**2 = 16."
   ]
  },
  {
   "cell_type": "code",
   "execution_count": 17,
   "id": "a09d4f1b-eabb-452e-b12e-65e86a8b8e59",
   "metadata": {},
   "outputs": [],
   "source": [
    "def production(l, k, m): \n",
    "    \"\"\"\n",
    "    Returns the value of the production according to\n",
    "    labour, capital and materials.\n",
    "    \n",
    "    Keyword arguments:\n",
    "    l -- labour (float)\n",
    "    k -- capital (float)\n",
    "    m -- materials (float)\n",
    "    \"\"\"\n",
    "    return l**0.3 * k**0.5 * m**(0.2)"
   ]
  },
  {
   "cell_type": "code",
   "execution_count": 18,
   "id": "095ab5f0-b7ac-4377-a26c-e56302bc984d",
   "metadata": {},
   "outputs": [
    {
     "name": "stdout",
     "output_type": "stream",
     "text": [
      "40.987803063838406\n"
     ]
    }
   ],
   "source": [
    "production_2 = lambda l,k,m : l**0.3 * k**0.5 * m**(0.2) \n",
    "print(production(42, 40, 42))"
   ]
  },
  {
   "cell_type": "markdown",
   "id": "8ad3f57b-1a89-47b3-8832-4e217c43c023",
   "metadata": {},
   "source": [
    "Python cho phép định nghĩa hàm bằng def hoặc lambda. Cả hai cách đều có thể tính toán và trả kết quả giống nhau, nhưng def thuận tiện khi muốn viết docstring hoặc thân hàm phức tạp, còn lambda tiện cho hàm ngắn gọn, dùng một lần."
   ]
  },
  {
   "cell_type": "code",
   "execution_count": 19,
   "id": "c7ac0764-2833-4101-beaf-3ae2451d95da",
   "metadata": {},
   "outputs": [
    {
     "name": "stdout",
     "output_type": "stream",
     "text": [
      "40.987803063838406\n"
     ]
    }
   ],
   "source": [
    "print(production_2(42, 40, 42))"
   ]
  },
  {
   "cell_type": "markdown",
   "id": "b8720791-b1f7-4f73-97c8-f6e71e30de02",
   "metadata": {},
   "source": [
    "production_2 là hàm lambda tính giá trị sản xuất theo công thức Cobb-Douglas production = 𝑙^0.3 x 𝑘^0.5 x 𝑚^0.2. Gọi production_2(42, 40, 42) → tính giá trị với l=42, k=40, m=42."
   ]
  },
  {
   "cell_type": "markdown",
   "id": "694de036-e11c-4b80-a81d-53f193b26f44",
   "metadata": {},
   "source": [
    "### 8.4 Returning Several Values"
   ]
  },
  {
   "cell_type": "code",
   "execution_count": 20,
   "id": "dc8d72c6-c510-4698-9a40-7da55e6c3a12",
   "metadata": {},
   "outputs": [
    {
     "name": "stdout",
     "output_type": "stream",
     "text": [
      "{'mean': 3.9, 'std_dev': 2.8460498941515415}\n"
     ]
    }
   ],
   "source": [
    "import statistics \n",
    "def desc_stats(x):\n",
    "    \"\"\"Returns the mean and standard deviation of `x`\"\"\"\n",
    "    return {\"mean\": statistics.mean(x), \n",
    "            \"std_dev\": statistics.stdev(x)}\n",
    "    \n",
    "x = [1,3,2,6,4,1,8,9,3,2] \n",
    "res = desc_stats(x) \n",
    "print(res)"
   ]
  },
  {
   "cell_type": "markdown",
   "id": "481dc694-969b-46d6-aae5-d56498f0370f",
   "metadata": {},
   "source": [
    "import statistics → nhập module hỗ trợ các phép toán thống kê.\n",
    "\n",
    "desc_stats(x) → hàm nhận một danh sách x, trả về dictionary gồm:\n",
    "\n",
    "\"mean\": trung bình cộng của các giá trị.\n",
    "\n",
    "\"std_dev\": độ lệch chuẩn (standard deviation).\n",
    "\n",
    "Gọi hàm với danh sách x = [1,3,2,6,4,1,8,9,3,2] → tính mean = 3.9, std_dev ≈ 2.846 vàin ra kết quả."
   ]
  },
  {
   "cell_type": "code",
   "execution_count": 21,
   "id": "ae1d8e96-5142-4a0c-bcc4-56cb702e33b4",
   "metadata": {},
   "outputs": [
    {
     "name": "stdout",
     "output_type": "stream",
     "text": [
      "The average value equals 3.9 and the standard deviation is 2.8460498941515415\n"
     ]
    }
   ],
   "source": [
    "message = \"The average value equals {} and the standard deviation is {}\" \n",
    "print(message.format(res[\"mean\"], res[\"std_dev\"]))"
   ]
  },
  {
   "cell_type": "markdown",
   "id": "0c118506-8aee-481e-bda1-07fcac8d4a92",
   "metadata": {},
   "source": [
    "Sử dụng str.format() để định dạng chuỗi và in kết quả thống kê một cách dễ đọc."
   ]
  },
  {
   "cell_type": "markdown",
   "id": "555ca0b6-0498-421e-86a6-dd23c9b148f5",
   "metadata": {},
   "source": [
    "### 8.5 Exercise"
   ]
  },
  {
   "cell_type": "markdown",
   "id": "b9789071-f12f-4c79-a1ce-f7088910deb3",
   "metadata": {},
   "source": [
    "1. Create a function named sum_n_integers which returns the sum of the first integer n. Its only argument will be n."
   ]
  },
  {
   "cell_type": "code",
   "execution_count": 22,
   "id": "ab412bf8-4a95-4d07-bca8-6c60cd582193",
   "metadata": {},
   "outputs": [
    {
     "name": "stdout",
     "output_type": "stream",
     "text": [
      "15\n",
      "55\n"
     ]
    }
   ],
   "source": [
    "def sum_n_integers(n):\n",
    "    \"\"\"\n",
    "    Trả về tổng của n số nguyên đầu tiên\n",
    "    \"\"\"\n",
    "    return n * (n + 1) // 2\n",
    "\n",
    "print(sum_n_integers(5))  \n",
    "print(sum_n_integers(10)) "
   ]
  },
  {
   "cell_type": "markdown",
   "id": "c73970eb-79e4-4ec7-828b-c8ee098ea381",
   "metadata": {},
   "source": [
    "2. Using a loop, display the sum of the first 2 integers, then 3 first integers, then 4 first integers, etc. up to 10."
   ]
  },
  {
   "cell_type": "code",
   "execution_count": 23,
   "id": "8ccca9d5-b62e-44e8-9ac7-9319c543edbe",
   "metadata": {},
   "outputs": [
    {
     "name": "stdout",
     "output_type": "stream",
     "text": [
      "Sum of the first 2 integers is 3\n",
      "Sum of the first 3 integers is 6\n",
      "Sum of the first 4 integers is 10\n",
      "Sum of the first 5 integers is 15\n",
      "Sum of the first 6 integers is 21\n",
      "Sum of the first 7 integers is 28\n",
      "Sum of the first 8 integers is 36\n",
      "Sum of the first 9 integers is 45\n",
      "Sum of the first 10 integers is 55\n"
     ]
    }
   ],
   "source": [
    "# Sử dụng vòng lặp để tính tổng dần từ 2 đến 10 số nguyên đầu tiên\n",
    "for n in range(2, 11):  \n",
    "    total = sum(range(1, n+1))  \n",
    "    print(f\"Sum of the first {n} integers is {total}\")"
   ]
  },
  {
   "cell_type": "markdown",
   "id": "922be750-6723-47c4-9584-ea6ef5dc6ad3",
   "metadata": {},
   "source": [
    "3. Create a function that from two points represented by pairs of coordinates (x1, y1) and (x2, y2) returns the Euclidean distance between these two points.\n",
    "Propose a second solution using a lambda function."
   ]
  },
  {
   "cell_type": "code",
   "execution_count": 25,
   "id": "269810f3-c4cb-43d1-b613-3dac32f3937b",
   "metadata": {},
   "outputs": [
    {
     "name": "stdout",
     "output_type": "stream",
     "text": [
      "5.0\n"
     ]
    }
   ],
   "source": [
    "import math\n",
    "\n",
    "def euclidean_distance(p1, p2):\n",
    "    \"\"\"\n",
    "    Trả về khoảng cách Euclid giữa hai điểm p1 và p2\n",
    "    p1, p2: tuple chứa tọa độ (x, y)\n",
    "    \"\"\"\n",
    "    x1, y1 = p1\n",
    "    x2, y2 = p2\n",
    "    return math.sqrt((x2 - x1)**2 + (y2 - y1)**2)\n",
    "\n",
    "print(euclidean_distance((1, 2), (4, 6)))"
   ]
  },
  {
   "cell_type": "markdown",
   "id": "30d95f8d-580a-4e8d-bbf5-372ec69e80fa",
   "metadata": {},
   "source": [
    "# Kết thúc Chapter 8"
   ]
  },
  {
   "cell_type": "markdown",
   "id": "9fee4bf8-af34-446d-9a86-f285bdb58627",
   "metadata": {},
   "source": [
    "# Chapter 9"
   ]
  },
  {
   "cell_type": "markdown",
   "id": "36b03315-79bb-488c-b4e8-7dc8ea02184f",
   "metadata": {},
   "source": [
    "#  Introduction to Numpy"
   ]
  },
  {
   "cell_type": "code",
   "execution_count": 11,
   "id": "5141a7aa-f789-41f7-b4fe-a687b523af0c",
   "metadata": {},
   "outputs": [],
   "source": [
    " import numpy as np"
   ]
  },
  {
   "cell_type": "markdown",
   "id": "611ceeae-efaf-467d-a2c1-98c51ef559dc",
   "metadata": {},
   "source": [
    "### 9.1 Arrays"
   ]
  },
  {
   "cell_type": "code",
   "execution_count": 9,
   "id": "4279a728-77e0-46ce-bf32-e000326eed8e",
   "metadata": {},
   "outputs": [],
   "source": [
    "from random import random\n",
    "from operator import truediv\n",
    "l1 = [random() for i in range(1000)]\n",
    "l2 = [random() for i in range(1000)]\n",
    "# %timeit s = sum(map(truediv,l1,l2))"
   ]
  },
  {
   "cell_type": "code",
   "execution_count": 12,
   "id": "918d835e-949f-4138-a1b3-b99cacfae6e2",
   "metadata": {},
   "outputs": [],
   "source": [
    "a1 = np.array(l1)\n",
    "a2 = np.array(l2)\n",
    "# %timeit s = np.sum(a1/a2)"
   ]
  },
  {
   "cell_type": "markdown",
   "id": "e1eb8f7a-da97-4fea-b0d6-14d32847cb83",
   "metadata": {},
   "source": [
    "Đoạn code tạo 2 dãy số ngẫu nhiên rồi so sánh tốc độ cộng kết quả chia từng phần tử bằng Python thuần và NumPy."
   ]
  },
  {
   "cell_type": "markdown",
   "id": "8dc93118-2f11-4a2a-94ad-a2ad5abdefae",
   "metadata": {},
   "source": [
    "####  9.1.1 Creation"
   ]
  },
  {
   "cell_type": "code",
   "execution_count": 6,
   "id": "6e8db867-b44b-498c-85d5-17fc392f8717",
   "metadata": {},
   "outputs": [
    {
     "name": "stdout",
     "output_type": "stream",
     "text": [
      "[1 2 4]\n"
     ]
    }
   ],
   "source": [
    "list = [1,2,4]\n",
    "table = np.array(list)\n",
    "print(table)"
   ]
  },
  {
   "cell_type": "markdown",
   "id": "4e603022-32cb-49d3-ba11-845465d4cf51",
   "metadata": {},
   "source": [
    "Chuyển list [1, 2, 4] thành mảng NumPy và in ra [1 2 4]."
   ]
  },
  {
   "cell_type": "code",
   "execution_count": 7,
   "id": "9745b0ba-2271-482f-82e9-5416f36b0ba9",
   "metadata": {},
   "outputs": [
    {
     "name": "stdout",
     "output_type": "stream",
     "text": [
      "<class 'numpy.ndarray'>\n"
     ]
    }
   ],
   "source": [
    "print(type(table))"
   ]
  },
  {
   "cell_type": "markdown",
   "id": "152e8115-fa77-430a-a859-3c5d587040ec",
   "metadata": {},
   "source": [
    "In ra kiểu dữ liệu của table là numpy.ndarray."
   ]
  },
  {
   "cell_type": "code",
   "execution_count": 15,
   "id": "8b770cd7-5347-40d8-a14e-18231d2b9ef1",
   "metadata": {},
   "outputs": [
    {
     "name": "stdout",
     "output_type": "stream",
     "text": [
      "[[1 2 3]\n",
      " [4 5 6]]\n"
     ]
    }
   ],
   "source": [
    " list_2 = [ [1,2,3], [4,5,6] ]\n",
    " table_2 = np.array(list_2)\n",
    " print(table_2)"
   ]
  },
  {
   "cell_type": "markdown",
   "id": "fee8d1db-9a05-4734-9adb-315978b6ce5b",
   "metadata": {},
   "source": [
    "Tạo mảng NumPy 2 chiều từ list [[1, 2, 3], [4, 5, 6]] và in ra"
   ]
  },
  {
   "cell_type": "code",
   "execution_count": 9,
   "id": "cd6a7daa-bed3-4243-95c3-3ae443ee3a95",
   "metadata": {},
   "outputs": [
    {
     "name": "stdout",
     "output_type": "stream",
     "text": [
      "<class 'numpy.ndarray'>\n"
     ]
    }
   ],
   "source": [
    "print(type(table_2))"
   ]
  },
  {
   "cell_type": "markdown",
   "id": "9e961c6d-dcc5-4c35-bbeb-4475e9ef7538",
   "metadata": {},
   "source": [
    "In ra kiểu dữ liệu của table_2 là numpy.ndarray."
   ]
  },
  {
   "cell_type": "code",
   "execution_count": 11,
   "id": "2b88400f-e90a-4ff1-b64e-daa1d0a6c0cc",
   "metadata": {},
   "outputs": [
    {
     "name": "stdout",
     "output_type": "stream",
     "text": [
      "[1 2 3]\n"
     ]
    }
   ],
   "source": [
    "tup = (1, 2, 3)\n",
    "table = np.array(tup)\n",
    "print(table)"
   ]
  },
  {
   "cell_type": "markdown",
   "id": "2c095019-1a4a-44f0-97d7-8a9e4327253b",
   "metadata": {},
   "source": [
    "Chuyển tuple (1, 2, 3) thành mảng NumPy và in ra \\[1 2 3]."
   ]
  },
  {
   "cell_type": "code",
   "execution_count": 12,
   "id": "74b3ffbd-71f4-4877-b8f9-b961a9beed43",
   "metadata": {},
   "outputs": [
    {
     "name": "stdout",
     "output_type": "stream",
     "text": [
      "<class 'numpy.ndarray'>\n"
     ]
    }
   ],
   "source": [
    " print(type(table))"
   ]
  },
  {
   "cell_type": "markdown",
   "id": "5723ccd7-59f9-4f04-9898-62c540eb88af",
   "metadata": {},
   "source": [
    "In ra kiểu dữ liệu của table là numpy.ndarray."
   ]
  },
  {
   "cell_type": "code",
   "execution_count": 13,
   "id": "a0f0e3a9-3b51-4dfa-8bf7-785e8f9d64c3",
   "metadata": {},
   "outputs": [
    {
     "name": "stdout",
     "output_type": "stream",
     "text": [
      "[[3 2]\n",
      " [5 1]\n",
      " [6 5]]\n"
     ]
    }
   ],
   "source": [
    " table = np.array([3, 2, 5, 1, 6, 5])\n",
    " table.shape = (3,2)\n",
    " print(table)"
   ]
  },
  {
   "cell_type": "markdown",
   "id": "6d7c31b6-8c76-4ab1-ac51-ba95b52ed335",
   "metadata": {},
   "source": [
    "Tạo mảng NumPy từ [3, 2, 5, 1, 6, 5], đổi thành ma trận 3 hàng 2 cột và in ra"
   ]
  },
  {
   "cell_type": "code",
   "execution_count": 14,
   "id": "a078e1d3-9ee1-4291-9d28-1504b3167051",
   "metadata": {},
   "outputs": [
    {
     "name": "stdout",
     "output_type": "stream",
     "text": [
      "[0. 0. 0. 0.]\n"
     ]
    }
   ],
   "source": [
    " print( np.zeros(4) )"
   ]
  },
  {
   "cell_type": "markdown",
   "id": "b95b8938-dd77-4979-b399-8caa42df9369",
   "metadata": {},
   "source": [
    "Tạo mảng gồm 4 phần tử 0.0 và in ra \\[0. 0. 0. 0.]."
   ]
  },
  {
   "cell_type": "code",
   "execution_count": 16,
   "id": "a92d1d53-7b3f-4202-8f5c-1afb16e0d277",
   "metadata": {},
   "outputs": [
    {
     "name": "stdout",
     "output_type": "stream",
     "text": [
      "[0 0 0 0]\n"
     ]
    }
   ],
   "source": [
    "print( np.zeros(4, dtype = \"int\") )"
   ]
  },
  {
   "cell_type": "markdown",
   "id": "0d4bcc75-ebd5-4a8d-827b-f28fa637d0ad",
   "metadata": {},
   "source": [
    "Tạo mảng gồm 4 phần tử 0 kiểu số nguyên và in ra [0 0 0 0]."
   ]
  },
  {
   "cell_type": "code",
   "execution_count": 18,
   "id": "8907309a-2f3a-43a6-9671-7187cb5f8c93",
   "metadata": {},
   "outputs": [
    {
     "name": "stdout",
     "output_type": "stream",
     "text": [
      "[0 0 0 0] int64\n"
     ]
    }
   ],
   "source": [
    "x = np.zeros(4, dtype = \"int\")\n",
    "print(x, x.dtype)"
   ]
  },
  {
   "cell_type": "markdown",
   "id": "5ef04d81-1a5a-4e14-a722-6b380215b17d",
   "metadata": {},
   "source": [
    "Tạo mảng [0 0 0 0] kiểu số nguyên và in ra [0 0 0 0] int64."
   ]
  },
  {
   "cell_type": "code",
   "execution_count": 19,
   "id": "988d0c5d-e809-4164-95dc-fe55b04d51b6",
   "metadata": {},
   "outputs": [
    {
     "name": "stdout",
     "output_type": "stream",
     "text": [
      "[0 0 0 0] int64\n"
     ]
    }
   ],
   "source": [
    "y = x.astype(\"float\")\n",
    "print(x, x.dtype)"
   ]
  },
  {
   "cell_type": "markdown",
   "id": "d39f7179-4401-4362-82db-8af3f90d249e",
   "metadata": {},
   "source": [
    "Tạo mảng [0 0 0 0] kiểu số nguyên và in ra [0 0 0 0] int64."
   ]
  },
  {
   "cell_type": "code",
   "execution_count": 20,
   "id": "494046e3-64f8-48c0-b37d-2859046e921d",
   "metadata": {},
   "outputs": [
    {
     "name": "stdout",
     "output_type": "stream",
     "text": [
      "[0. 0. 0. 0.] float64\n"
     ]
    }
   ],
   "source": [
    "print(y, y.dtype)"
   ]
  },
  {
   "cell_type": "markdown",
   "id": "ec951f02-6d27-4358-a2cf-9fdf2ebf3fc2",
   "metadata": {},
   "source": [
    "Tạo mảng \\[0. 0. 0. 0.] kiểu số thực và in ra \\[0. 0. 0. 0.] float64."
   ]
  },
  {
   "cell_type": "markdown",
   "id": "80a0280a-86b6-423c-83f2-5eab45ffef6a",
   "metadata": {},
   "source": [
    "Tạo mảng 2 hàng 3 cột toàn số 0.0 và in ra"
   ]
  },
  {
   "cell_type": "code",
   "execution_count": 21,
   "id": "a46bcd18-1e3f-4e9d-9d81-e8d84c07f3f1",
   "metadata": {},
   "outputs": [
    {
     "name": "stdout",
     "output_type": "stream",
     "text": [
      "[[[0. 0. 0. 0.]\n",
      "  [0. 0. 0. 0.]\n",
      "  [0. 0. 0. 0.]]\n",
      "\n",
      " [[0. 0. 0. 0.]\n",
      "  [0. 0. 0. 0.]\n",
      "  [0. 0. 0. 0.]]]\n"
     ]
    }
   ],
   "source": [
    "print( np.zeros((2, 3, 4)) )"
   ]
  },
  {
   "cell_type": "markdown",
   "id": "aa5898a7-960d-4680-bb52-d786becaec76",
   "metadata": {},
   "source": [
    "Tạo mảng 3 chiều kích thước 2×3×4 toàn số 0.0 và in ra các khối giá trị 0.0."
   ]
  },
  {
   "cell_type": "code",
   "execution_count": 31,
   "id": "3afd15d1-149f-4f1e-90f1-67a2f151cc13",
   "metadata": {},
   "outputs": [
    {
     "name": "stdout",
     "output_type": "stream",
     "text": [
      "[[9218868437227405312 9218868437227405312 9218868437227405312]\n",
      " [9218868437227405312 9218868437227405312 9218868437227405312]]\n"
     ]
    }
   ],
   "source": [
    "print( np.empty((2, 3), dtype = \"int\") )"
   ]
  },
  {
   "cell_type": "markdown",
   "id": "4770a138-8e35-4aa6-a234-b15307d0f8a4",
   "metadata": {},
   "source": [
    "Tạo mảng 2 hàng 3 cột kiểu số nguyên nhưng giá trị ngẫu nhiên (không khởi tạo) và in ra các số rác có sẵn trong bộ nhớ."
   ]
  },
  {
   "cell_type": "code",
   "execution_count": 24,
   "id": "21f9ff9b-3ebe-47aa-a91b-1d0ac38eb922",
   "metadata": {},
   "outputs": [
    {
     "name": "stdout",
     "output_type": "stream",
     "text": [
      "[[1. 1. 1.]\n",
      " [1. 1. 1.]]\n"
     ]
    }
   ],
   "source": [
    " print( np.ones((2, 3), dtype = \"float\") )"
   ]
  },
  {
   "cell_type": "markdown",
   "id": "4f466e53-a1d7-4c09-84c5-1137b5b69012",
   "metadata": {},
   "source": [
    "Tạo mảng 2 hàng 3 cột toàn số 1.0 và in ra"
   ]
  },
  {
   "cell_type": "code",
   "execution_count": 25,
   "id": "b03c0e62-b565-41e1-95ad-8f7bb24ecb5e",
   "metadata": {},
   "outputs": [
    {
     "name": "stdout",
     "output_type": "stream",
     "text": [
      "[[10. 10. 10.]\n",
      " [10. 10. 10.]]\n"
     ]
    }
   ],
   "source": [
    " print( np.full((2, 3), 10, dtype = \"float\") )"
   ]
  },
  {
   "cell_type": "markdown",
   "id": "47655111-4ec2-4ae1-95f0-aa2d4c87ecdf",
   "metadata": {},
   "source": [
    "Tạo mảng 2 hàng 3 cột toàn số 10.0 và in ra"
   ]
  },
  {
   "cell_type": "code",
   "execution_count": 26,
   "id": "2d3ac449-5c4c-4070-b943-bc208c458d71",
   "metadata": {},
   "outputs": [
    {
     "name": "stdout",
     "output_type": "stream",
     "text": [
      "[[inf inf inf]\n",
      " [inf inf inf]]\n"
     ]
    }
   ],
   "source": [
    " print( np.full((2, 3), np.inf) )"
   ]
  },
  {
   "cell_type": "markdown",
   "id": "735c4108-1b1a-40c6-8957-b9413f07814b",
   "metadata": {},
   "source": [
    "Tạo mảng 2 hàng 3 cột toàn giá trị vô cực và in ra"
   ]
  },
  {
   "cell_type": "code",
   "execution_count": 32,
   "id": "c78ef707-64ea-4939-ae2e-1aa765d94787",
   "metadata": {},
   "outputs": [
    {
     "name": "stdout",
     "output_type": "stream",
     "text": [
      "[[1 0]\n",
      " [0 1]]\n"
     ]
    }
   ],
   "source": [
    " print( np.eye(2, dtype=\"int64\") )"
   ]
  },
  {
   "cell_type": "markdown",
   "id": "eea3f1e2-43e5-4a06-93f2-77b19cd4be30",
   "metadata": {},
   "source": [
    "Tạo ma trận đơn vị 2×2 kiểu số nguyên 64-bit và in ra"
   ]
  },
  {
   "cell_type": "code",
   "execution_count": 33,
   "id": "084b6693-35ab-4c64-9952-a8c330730005",
   "metadata": {},
   "outputs": [
    {
     "name": "stdout",
     "output_type": "stream",
     "text": [
      "[[0. 0. 0.]\n",
      " [1. 0. 0.]\n",
      " [0. 1. 0.]]\n"
     ]
    }
   ],
   "source": [
    " print( np.eye(3, k=-1) )"
   ]
  },
  {
   "cell_type": "markdown",
   "id": "f4d66335-a11f-4cfa-80df-c6bfa4f7d93b",
   "metadata": {},
   "source": [
    "Tạo ma trận đơn vị 3×3 nhưng đường chéo chính được dịch xuống 1 hàng (k = -1) và in ra"
   ]
  },
  {
   "cell_type": "code",
   "execution_count": 34,
   "id": "1a32fd8e-7b1d-4f1a-a0db-24031f0baa4b",
   "metadata": {},
   "outputs": [
    {
     "name": "stdout",
     "output_type": "stream",
     "text": [
      "[[1 0 0]\n",
      " [0 1 0]\n",
      " [0 0 1]]\n"
     ]
    }
   ],
   "source": [
    "print( np.identity(3, dtype = \"int\") )"
   ]
  },
  {
   "cell_type": "markdown",
   "id": "2829ad5c-0b4b-4363-b2e7-406cbe93933f",
   "metadata": {},
   "source": [
    "Tạo ma trận đơn vị 3×3 kiểu số nguyên và in ra"
   ]
  },
  {
   "cell_type": "code",
   "execution_count": 13,
   "id": "004d0238-c0a7-40d4-8d6f-23a8cd6fdda3",
   "metadata": {},
   "outputs": [
    {
     "ename": "NameError",
     "evalue": "name 'start' is not defined",
     "output_type": "error",
     "traceback": [
      "\u001b[31m---------------------------------------------------------------------------\u001b[39m",
      "\u001b[31mNameError\u001b[39m                                 Traceback (most recent call last)",
      "\u001b[36mCell\u001b[39m\u001b[36m \u001b[39m\u001b[32mIn[13]\u001b[39m\u001b[32m, line 1\u001b[39m\n\u001b[32m----> \u001b[39m\u001b[32m1\u001b[39m np.arange( \u001b[43mstart\u001b[49m, stop, step, dtype )\n",
      "\u001b[31mNameError\u001b[39m: name 'start' is not defined"
     ]
    }
   ],
   "source": [
    "np.arange( start, stop, step, dtype )"
   ]
  },
  {
   "cell_type": "code",
   "execution_count": 3,
   "id": "7ea8c38f-bea7-4437-a0a1-4335868b15fe",
   "metadata": {},
   "outputs": [
    {
     "name": "stdout",
     "output_type": "stream",
     "text": [
      "[0 1 2 3 4]\n"
     ]
    }
   ],
   "source": [
    "print( np.arange(5) )"
   ]
  },
  {
   "cell_type": "code",
   "execution_count": 4,
   "id": "bd7c6f06-f966-41ca-8541-8bb33a95995e",
   "metadata": {},
   "outputs": [
    {
     "name": "stdout",
     "output_type": "stream",
     "text": [
      "[2 3 4]\n"
     ]
    }
   ],
   "source": [
    "print( np.arange(2, 5) )"
   ]
  },
  {
   "cell_type": "code",
   "execution_count": 5,
   "id": "a02555f2-7692-4f96-b16a-e80202e51427",
   "metadata": {},
   "outputs": [
    {
     "name": "stdout",
     "output_type": "stream",
     "text": [
      "[2 4 6 8]\n"
     ]
    }
   ],
   "source": [
    "print( np.arange(2, 10, 2) )"
   ]
  },
  {
   "cell_type": "markdown",
   "id": "d9592e5b-5c29-4bb4-8614-bb923efd358e",
   "metadata": {},
   "source": [
    "np.arange() tạo mảng số cách đều theo giá trị start, stop, step."
   ]
  },
  {
   "cell_type": "markdown",
   "id": "ca832dd8-23a8-41a0-a569-65304f9f86ae",
   "metadata": {},
   "source": [
    "####  9.1.2 Dimensions"
   ]
  },
  {
   "cell_type": "code",
   "execution_count": 10,
   "id": "3e682ee7-f97f-4dda-a79c-15c712e479c3",
   "metadata": {},
   "outputs": [
    {
     "name": "stdout",
     "output_type": "stream",
     "text": [
      "ndim tableau :  2\n"
     ]
    }
   ],
   "source": [
    " print(\"ndim tableau : \", table.ndim)"
   ]
  },
  {
   "cell_type": "code",
   "execution_count": 11,
   "id": "5def422e-cdc6-42bf-9c05-770d0bf5e631",
   "metadata": {},
   "outputs": [
    {
     "name": "stdout",
     "output_type": "stream",
     "text": [
      "ndim table_2 :  2\n"
     ]
    }
   ],
   "source": [
    "print(\"ndim table_2 : \", table_2.ndim)"
   ]
  },
  {
   "cell_type": "code",
   "execution_count": 12,
   "id": "88912859-da07-4c8a-a405-a5c2825c5e76",
   "metadata": {},
   "outputs": [
    {
     "name": "stdout",
     "output_type": "stream",
     "text": [
      "size table :  6\n"
     ]
    }
   ],
   "source": [
    " print(\"size table : \", table.size)"
   ]
  },
  {
   "cell_type": "code",
   "execution_count": 13,
   "id": "e7fa3e8d-8323-4c02-ab60-8f591fd3485b",
   "metadata": {},
   "outputs": [
    {
     "name": "stdout",
     "output_type": "stream",
     "text": [
      "size table_2:  12\n"
     ]
    }
   ],
   "source": [
    "print(\"size table_2: \", table_2.size)"
   ]
  },
  {
   "cell_type": "code",
   "execution_count": 18,
   "id": "bb46a54b-b1a7-4d65-9c0d-00ee293b5076",
   "metadata": {},
   "outputs": [
    {
     "name": "stdout",
     "output_type": "stream",
     "text": [
      "np.size(table): 6\n"
     ]
    }
   ],
   "source": [
    "print(\"np.size(table):\", np.size(table))"
   ]
  },
  {
   "cell_type": "code",
   "execution_count": 15,
   "id": "ab6c6216-b526-45bd-ac45-81353a8af394",
   "metadata": {},
   "outputs": [
    {
     "name": "stdout",
     "output_type": "stream",
     "text": [
      "size table:  (2, 3)\n"
     ]
    }
   ],
   "source": [
    "print(\"size table: \", table.shape)"
   ]
  },
  {
   "cell_type": "code",
   "execution_count": 19,
   "id": "889c5f06-7a15-4cb2-a70e-3df7b51e81f7",
   "metadata": {},
   "outputs": [
    {
     "name": "stdout",
     "output_type": "stream",
     "text": [
      "size table_2:  (2, 3)\n"
     ]
    }
   ],
   "source": [
    " print(\"size table_2: \", table_2.shape)"
   ]
  },
  {
   "cell_type": "markdown",
   "id": "29a8c5e7-60eb-4571-be3b-d6fdfbbeedc3",
   "metadata": {},
   "source": [
    "In ra số chiều của mảng table."
   ]
  },
  {
   "cell_type": "markdown",
   "id": "8ed164be-df12-406e-8f3d-78dbba3ecf01",
   "metadata": {},
   "source": [
    "####  9.1.3 Extracting Elements from an Array"
   ]
  },
  {
   "cell_type": "code",
   "execution_count": 7,
   "id": "ef2d20fc-0fd1-4658-8cda-7d33d1c7bfaa",
   "metadata": {},
   "outputs": [],
   "source": [
    "table_1 = np.arange(1,13)\n",
    "table_2 = [ [1, 2, 3], [4, 5, 6], [7, 8, 9], [10, 11, 12]]\n",
    "table_2 = np.array(table_2)"
   ]
  },
  {
   "cell_type": "code",
   "execution_count": 10,
   "id": "f70f8f01-237b-48e6-93be-06a17361ceaa",
   "metadata": {},
   "outputs": [
    {
     "name": "stdout",
     "output_type": "stream",
     "text": [
      "table_0[0] : 1 (type : <class 'numpy.int64'>)\n"
     ]
    }
   ],
   "source": [
    " message = \"table_{}[0] : {} (type : {})\"\n",
    " print(message.format(0, table_1[0], type(table_1[0])))"
   ]
  },
  {
   "cell_type": "markdown",
   "id": "631e49ae-64b0-4850-b2c4-3319ffb34f6a",
   "metadata": {},
   "source": [
    "In một dòng: Hiển thị giá trị đầu tiên của table\\_1 cùng chỉ số và kiểu dữ liệu của nó."
   ]
  },
  {
   "cell_type": "code",
   "execution_count": 24,
   "id": "0c61c5d4-358e-4c80-8526-2e3d63c19109",
   "metadata": {},
   "outputs": [
    {
     "name": "stdout",
     "output_type": "stream",
     "text": [
      "table_1[0] : [1 2 3] (type : <class 'numpy.ndarray'>)\n"
     ]
    }
   ],
   "source": [
    " print(message.format(1, table_2[0], type(table_2[0])))"
   ]
  },
  {
   "cell_type": "markdown",
   "id": "ba1feeb5-9027-4ffc-958d-c6750e911e54",
   "metadata": {},
   "source": [
    "Hiển thị giá trị đầu tiên của table\\_2, kèm chỉ số 1 và kiểu dữ liệu của giá trị đó.\n"
   ]
  },
  {
   "cell_type": "code",
   "execution_count": 25,
   "id": "b40cd2f1-a2b6-40b6-bdfe-f514698e5a5d",
   "metadata": {},
   "outputs": [
    {
     "name": "stdout",
     "output_type": "stream",
     "text": [
      "table_1[-1] :  12\n"
     ]
    }
   ],
   "source": [
    "print(\"table_1[-1] : \", table_1[-1]) # last element"
   ]
  },
  {
   "cell_type": "markdown",
   "id": "8d86004b-ee80-4fbf-8b3e-fc237b79294b",
   "metadata": {},
   "source": [
    "Hiển thị phần tử cuối cùng của table\\_1.\n"
   ]
  },
  {
   "cell_type": "code",
   "execution_count": 26,
   "id": "8551a9d1-01be-42f0-9744-27181f58d3d8",
   "metadata": {},
   "outputs": [
    {
     "name": "stdout",
     "output_type": "stream",
     "text": [
      "table_2[-1] :  [10 11 12]\n"
     ]
    }
   ],
   "source": [
    " print(\"table_2[-1] : \", table_2[-1]) # last element"
   ]
  },
  {
   "cell_type": "markdown",
   "id": "dc6a0a6d-cdf8-426e-9053-10ca55d256e7",
   "metadata": {},
   "source": [
    "Hiển thị phần tử cuối cùng của table\\_2."
   ]
  },
  {
   "cell_type": "code",
   "execution_count": 28,
   "id": "273f5e36-caa2-48a4-bfbb-177b294f5be8",
   "metadata": {},
   "outputs": [
    {
     "name": "stdout",
     "output_type": "stream",
     "text": [
      "Slice Table 1 : \n",
      " [3 4]\n"
     ]
    }
   ],
   "source": [
    "# the elements from the 2nd (not included) to the 4th\n",
    "print(\"Slice Table 1 : \\n\", table_1[2:4])\n"
   ]
  },
  {
   "cell_type": "markdown",
   "id": "75a0db14-54a2-41dd-8d62-4beb8d51d9dc",
   "metadata": {},
   "source": [
    "Hiển thị các phần tử từ vị trí thứ 3 đến thứ 4 của table\\_1.\n"
   ]
  },
  {
   "cell_type": "code",
   "execution_count": 29,
   "id": "587ca4a1-a9cc-461f-99fc-feb4a28b7f42",
   "metadata": {},
   "outputs": [
    {
     "name": "stdout",
     "output_type": "stream",
     "text": [
      "Sclie Table 2 : \n",
      " [[ 7  8  9]\n",
      " [10 11 12]]\n"
     ]
    }
   ],
   "source": [
    "print(\"Sclie Table 2 : \\n\", table_2[2:4])"
   ]
  },
  {
   "cell_type": "markdown",
   "id": "7669b129-3907-4935-8d30-77a22466dc86",
   "metadata": {},
   "source": [
    "Hiển thị các phần tử từ vị trí thứ 3 đến thứ 4 của table\\_2.\n"
   ]
  },
  {
   "cell_type": "code",
   "execution_count": 30,
   "id": "5b798146-c075-4837-a0dd-082885deaf23",
   "metadata": {},
   "outputs": [
    {
     "name": "stdout",
     "output_type": "stream",
     "text": [
      "7\n"
     ]
    }
   ],
   "source": [
    " # Within the 3rd element, access the 1st element\n",
    " print(table_2[2][0])"
   ]
  },
  {
   "cell_type": "markdown",
   "id": "49976e6e-2d1d-48bc-b817-7b21506eaffb",
   "metadata": {},
   "source": [
    "Truy cập phần tử đầu tiên bên trong phần tử thứ 3 của table\\_2."
   ]
  },
  {
   "cell_type": "code",
   "execution_count": 31,
   "id": "dbd358c6-fd01-4673-919e-c6d98222b262",
   "metadata": {},
   "outputs": [
    {
     "name": "stdout",
     "output_type": "stream",
     "text": [
      "7\n"
     ]
    }
   ],
   "source": [
    " print(table_2[2,0])"
   ]
  },
  {
   "cell_type": "markdown",
   "id": "59324ea7-fbcf-45ef-b2cd-d435a9385e03",
   "metadata": {},
   "source": [
    "Tiếp tục thao tác với phần tử, cắt lát, kiểm tra kiểu hoặc lặp qua danh sách/mảng."
   ]
  },
  {
   "cell_type": "code",
   "execution_count": 33,
   "id": "3b5b1b04-c03e-4747-a2a2-3a524a8380a5",
   "metadata": {},
   "outputs": [
    {
     "name": "stdout",
     "output_type": "stream",
     "text": [
      "Second column: \n",
      " [[ 2]\n",
      " [ 5]\n",
      " [ 8]\n",
      " [11]]\n"
     ]
    }
   ],
   "source": [
    "print(\"Second column: \\n\", table_2[:, [1]])"
   ]
  },
  {
   "cell_type": "markdown",
   "id": "568ed669-08f4-4430-86a4-b00182aa9fc6",
   "metadata": {},
   "source": [
    "Lấy cột thứ hai của table\\_2 (mọi hàng, chỉ cột 1) nếu table\\_2 là numpy array.\n"
   ]
  },
  {
   "cell_type": "code",
   "execution_count": 34,
   "id": "2f3da937-199c-40e0-a5cb-350c574f7348",
   "metadata": {},
   "outputs": [
    {
     "name": "stdout",
     "output_type": "stream",
     "text": [
      "Second and third columns: \n",
      " [[ 2  3]\n",
      " [ 5  6]\n",
      " [ 8  9]\n",
      " [11 12]]\n"
     ]
    }
   ],
   "source": [
    " print(\"Second and third columns: \\n\", table_2[:, [1,2]])"
   ]
  },
  {
   "cell_type": "markdown",
   "id": "d4693ca5-891b-4cee-b688-ff39f23f28c0",
   "metadata": {},
   "source": [
    "Lấy cột thứ hai và thứ ba của table\\_2 (mọi hàng, chỉ cột 1 và 2) nếu table\\_2 là numpy array."
   ]
  },
  {
   "cell_type": "code",
   "execution_count": 35,
   "id": "9dd56363-ca92-4723-9add-5cc393621c28",
   "metadata": {},
   "outputs": [
    {
     "name": "stdout",
     "output_type": "stream",
     "text": [
      "2nd and 4th elements: \n",
      " [[ 4  5  6]\n",
      " [10 11 12]]\n"
     ]
    }
   ],
   "source": [
    " print(\"2nd and 4th elements: \\n\", table_2[[1,3]])"
   ]
  },
  {
   "cell_type": "markdown",
   "id": "3ec8e952-311e-4da3-a79f-dcec21d4d5f0",
   "metadata": {},
   "source": [
    "Lấy phần tử thứ 2 và thứ 4 của table\\_2 nếu table\\_2 là numpy array."
   ]
  },
  {
   "cell_type": "markdown",
   "id": "91547bc1-12b0-4dc3-b385-9d1f4d7e539a",
   "metadata": {},
   "source": [
    "#####  9.1.3.1 Extraction Using Boolean"
   ]
  },
  {
   "cell_type": "code",
   "execution_count": 36,
   "id": "3754fc91-853a-442d-a10f-b9d600ac8af2",
   "metadata": {},
   "outputs": [
    {
     "name": "stdout",
     "output_type": "stream",
     "text": [
      "[0 2 1 4]\n"
     ]
    }
   ],
   "source": [
    " table = np.array([0, 3, 2, 5, 1, 4])\n",
    " res = table[[True, False, True, False, True, True]]\n",
    " print(res)"
   ]
  },
  {
   "cell_type": "markdown",
   "id": "6bc4d051-f768-43b3-9aa2-0c4e64416017",
   "metadata": {},
   "source": [
    "Chọn các phần tử của table tương ứng với True trong mảng boolean."
   ]
  },
  {
   "cell_type": "code",
   "execution_count": 37,
   "id": "a8421b17-ca48-4c82-baf2-1b58e60921c0",
   "metadata": {},
   "outputs": [
    {
     "name": "stdout",
     "output_type": "stream",
     "text": [
      "[ True False  True False False  True]\n"
     ]
    }
   ],
   "source": [
    " mask = table % 2 == 0\n",
    " print(mask)"
   ]
  },
  {
   "cell_type": "markdown",
   "id": "624456cc-dfdd-4fbf-aa63-70da19e5b60f",
   "metadata": {},
   "source": [
    "Tạo mảng boolean đánh dấu các phần tử chẵn trong table.\n"
   ]
  },
  {
   "cell_type": "code",
   "execution_count": 38,
   "id": "91ab5293-b667-4c54-97d5-7abd8196acb5",
   "metadata": {},
   "outputs": [
    {
     "name": "stdout",
     "output_type": "stream",
     "text": [
      "<class 'numpy.ndarray'>\n"
     ]
    }
   ],
   "source": [
    " print(type(mask))"
   ]
  },
  {
   "cell_type": "markdown",
   "id": "001c3f69-f4ec-4881-ba67-5818d9701dc5",
   "metadata": {},
   "source": [
    "Hiển thị kiểu dữ liệu của mask, là numpy ndarray.\n"
   ]
  },
  {
   "cell_type": "code",
   "execution_count": 39,
   "id": "68c9d4af-b4bf-4970-96ee-02adc00d97cc",
   "metadata": {},
   "outputs": [
    {
     "name": "stdout",
     "output_type": "stream",
     "text": [
      "[0 2 4]\n"
     ]
    }
   ],
   "source": [
    "print(table[mask])"
   ]
  },
  {
   "cell_type": "markdown",
   "id": "81f14cb8-87a6-4f18-a019-86436052467b",
   "metadata": {},
   "source": [
    "Chọn các phần tử chẵn trong table dựa trên mask.\n"
   ]
  },
  {
   "cell_type": "markdown",
   "id": "a7c6f289-9595-4d00-ab8e-0dda01afd4df",
   "metadata": {},
   "source": [
    "#### 9.1.4 Modification"
   ]
  },
  {
   "cell_type": "code",
   "execution_count": 40,
   "id": "efa6946e-fd68-446a-874b-0e6bff423ebf",
   "metadata": {},
   "outputs": [
    {
     "name": "stdout",
     "output_type": "stream",
     "text": [
      "[[11 22 33]\n",
      " [ 4  5  6]\n",
      " [ 7  8  9]\n",
      " [10 11 12]]\n"
     ]
    }
   ],
   "source": [
    "table = np.array([ [1, 2, 3], [4, 5, 6], [7, 8, 9], [10, 11, 12]])\n",
    "table[0] = [11, 22, 33]\n",
    "print(table)"
   ]
  },
  {
   "cell_type": "markdown",
   "id": "6b94325a-d1fb-42a1-b3f9-a79dc9284b2d",
   "metadata": {},
   "source": [
    "Thay hàng đầu tiên bằng \\[11, 22, 33] và in mảng.\n"
   ]
  },
  {
   "cell_type": "code",
   "execution_count": 42,
   "id": "eb31c8d8-896d-4faf-9992-cb6367a403e4",
   "metadata": {},
   "outputs": [
    {
     "name": "stdout",
     "output_type": "stream",
     "text": [
      "[[100 100 100]\n",
      " [  4   5   6]\n",
      " [  7   8   9]\n",
      " [ 10  11  12]]\n"
     ]
    }
   ],
   "source": [
    "table[0] = 100\n",
    "print(table)"
   ]
  },
  {
   "cell_type": "markdown",
   "id": "9afb84f8-3df1-4258-8a48-d485902ed24f",
   "metadata": {},
   "source": [
    "Đặt toàn bộ hàng đầu tiên thành 100 và in mảng.\n"
   ]
  },
  {
   "cell_type": "code",
   "execution_count": 43,
   "id": "5a662e4e-5f01-468d-9fa4-ff6f1fdfbcdc",
   "metadata": {},
   "outputs": [
    {
     "name": "stdout",
     "output_type": "stream",
     "text": [
      "[[100 100 100]\n",
      " [100 100 100]\n",
      " [  7   8   9]\n",
      " [ 10  11  12]]\n"
     ]
    }
   ],
   "source": [
    "table[0:2] = 100\n",
    "print(table)"
   ]
  },
  {
   "cell_type": "markdown",
   "id": "9fac7fef-76d7-4ac2-b06a-72ae8ef779ef",
   "metadata": {},
   "source": [
    "Đặt toàn bộ hai hàng đầu tiên thành 100 và in mảng.\n"
   ]
  },
  {
   "cell_type": "code",
   "execution_count": 44,
   "id": "ed632682-b535-4752-90ce-ca67a4520cb0",
   "metadata": {},
   "outputs": [
    {
     "name": "stdout",
     "output_type": "stream",
     "text": [
      "[[0 0 0]\n",
      " [0 0 0]\n",
      " [0 0 0]\n",
      " [0 0 0]]\n"
     ]
    }
   ],
   "source": [
    "table[:] = 0\n",
    "print(table)"
   ]
  },
  {
   "cell_type": "markdown",
   "id": "60d04c25-7923-4857-9cf3-5f15fd44690b",
   "metadata": {},
   "source": [
    "Đặt tất cả phần tử của table thành 0 và in mảng.\n"
   ]
  },
  {
   "cell_type": "markdown",
   "id": "9485166a-4078-48b1-a8c2-79fcdf604564",
   "metadata": {},
   "source": [
    "####  9.1.4.1 Insterting Elements"
   ]
  },
  {
   "cell_type": "code",
   "execution_count": 45,
   "id": "ed8daf46-2f16-48cd-bdfb-03a31995b8d5",
   "metadata": {},
   "outputs": [
    {
     "name": "stdout",
     "output_type": "stream",
     "text": [
      "t_1 :  [1 3 5]\n"
     ]
    }
   ],
   "source": [
    "t_1 = np.array([1,3,5])\n",
    "print(\"t_1 : \", t_1)"
   ]
  },
  {
   "cell_type": "markdown",
   "id": "9ef31a60-1f9a-40ce-bbe3-19db9d5d7a5a",
   "metadata": {},
   "source": [
    "Tạo mảng t\\_1 với các phần tử \\[1, 3, 5] và in ra.\n"
   ]
  },
  {
   "cell_type": "code",
   "execution_count": 17,
   "id": "9998bba1-96f3-463d-a2d8-e490bcef5a00",
   "metadata": {},
   "outputs": [
    {
     "name": "stdout",
     "output_type": "stream",
     "text": [
      "t_2 : \n",
      " [[1 2 3]\n",
      " [5 6 7]]\n"
     ]
    }
   ],
   "source": [
    " t_2 = np.array([[1,2,3], [5,6,7]])\n",
    " print(\"t_2 : \\n\", t_2)"
   ]
  },
  {
   "cell_type": "code",
   "execution_count": 13,
   "id": "0e374ce3-840a-4483-a7f0-eb22ab153f05",
   "metadata": {},
   "outputs": [
    {
     "name": "stdout",
     "output_type": "stream",
     "text": [
      "t_1 after the insertion:  [1 3 5 1]\n"
     ]
    }
   ],
   "source": [
    "t_1 = np.append(t_1, 1)\n",
    "print(\"t_1 after the insertion: \", t_1)"
   ]
  },
  {
   "cell_type": "markdown",
   "id": "5b26a1ec-8aec-4e8b-805b-2dc89d536483",
   "metadata": {},
   "source": [
    "Thêm 1 vào cuối t\\_1 và in mảng mới.\n"
   ]
  },
  {
   "cell_type": "code",
   "execution_count": 14,
   "id": "69782652-f685-4c4f-84db-8d321aa7d528",
   "metadata": {},
   "outputs": [
    {
     "name": "stdout",
     "output_type": "stream",
     "text": [
      "t_2 : \n",
      " [[1 2 3]\n",
      " [5 6 7]]\n"
     ]
    }
   ],
   "source": [
    " t_2 = np.array([[1,2,3], [5,6,7]])\n",
    " print(\"t_2 : \\n\", t_2)"
   ]
  },
  {
   "cell_type": "markdown",
   "id": "5bc913f0-1f7a-4a6e-a859-5754273ecc55",
   "metadata": {},
   "source": [
    "Tạo mảng 2 chiều t\\_2 và in ra.\n"
   ]
  },
  {
   "cell_type": "code",
   "execution_count": 18,
   "id": "e21a451e-fe61-458a-bd8e-69568ce9c34c",
   "metadata": {},
   "outputs": [
    {
     "name": "stdout",
     "output_type": "stream",
     "text": [
      "t_2 after the insertion: \n",
      " [[1 2 3 4]\n",
      " [5 6 7 8]]\n"
     ]
    }
   ],
   "source": [
    "add_col_t_2 = np.array([[4], [8]])\n",
    "t_2 = np.append(t_2,add_col_t_2, axis = 1)\n",
    "print(\"t_2 after the insertion: \\n\", t_2)"
   ]
  },
  {
   "cell_type": "markdown",
   "id": "0be6ec48-74c4-4258-86f8-db31da12b364",
   "metadata": {},
   "source": [
    "Thêm cột \\[4, 8] vào t\\_2 và in ra."
   ]
  },
  {
   "cell_type": "code",
   "execution_count": 18,
   "id": "dd66595f-454e-40a9-964f-7f10c634c59e",
   "metadata": {},
   "outputs": [
    {
     "name": "stdout",
     "output_type": "stream",
     "text": [
      "t_2 après ajout ligne : \n",
      " [[ 1  2  3  4]\n",
      " [ 5  6  7  8]\n",
      " [10 11 12 13]]\n"
     ]
    }
   ],
   "source": [
    "ajout_ligne_t_2 = np.array([10, 11, 12, 13])\n",
    "t_2 = np.vstack([t_2,ajout_ligne_t_2])\n",
    "print(\"t_2 après ajout ligne : \\n\", t_2)"
   ]
  },
  {
   "cell_type": "markdown",
   "id": "633c338b-8ab9-4231-946a-252288d180a1",
   "metadata": {},
   "source": [
    "Thêm hàng \\[10, 11, 12, 13] vào t\\_2 và in mảng mới."
   ]
  },
  {
   "cell_type": "markdown",
   "id": "faa8aa94-c234-4775-bbbc-7a2f41f735e2",
   "metadata": {},
   "source": [
    "#####  9.1.4.2 Deleting / Removing Elements"
   ]
  },
  {
   "cell_type": "code",
   "execution_count": 19,
   "id": "69ca2464-145c-49da-9c39-53b70ea4b075",
   "metadata": {},
   "outputs": [
    {
     "name": "stdout",
     "output_type": "stream",
     "text": [
      "t_1 :  [1 3 5 1]\n"
     ]
    }
   ],
   "source": [
    " print(\"t_1 : \", t_1)\n",
    " # Remove the last element"
   ]
  },
  {
   "cell_type": "markdown",
   "id": "db277b9b-9c07-4b46-8ac4-45ea1463e94b",
   "metadata": {},
   "source": [
    "Hiển thị t\\_1 trước khi xóa phần tử cuối.\n"
   ]
  },
  {
   "cell_type": "code",
   "execution_count": 20,
   "id": "c263f425-808a-429e-a1e9-9facd65cbee5",
   "metadata": {},
   "outputs": [
    {
     "data": {
      "text/plain": [
       "array([1, 3, 5])"
      ]
     },
     "execution_count": 20,
     "metadata": {},
     "output_type": "execute_result"
    }
   ],
   "source": [
    "np.delete(t_1, (-1))"
   ]
  },
  {
   "cell_type": "markdown",
   "id": "3720a5a8-1a3a-43fa-a2b9-efff2cc90e93",
   "metadata": {},
   "source": [
    "Xóa phần tử cuối của t\\_1 và trả về mảng mới.\n"
   ]
  },
  {
   "cell_type": "code",
   "execution_count": 21,
   "id": "3c3001ba-f7d0-4269-9d5a-838e099f84b6",
   "metadata": {},
   "outputs": [
    {
     "name": "stdout",
     "output_type": "stream",
     "text": [
      "t_1 :  [1 3 5 1]\n"
     ]
    }
   ],
   "source": [
    "print(\"t_1 : \", t_1)\n",
    " # Remove the first and second elements:"
   ]
  },
  {
   "cell_type": "markdown",
   "id": "291d0c92-aced-4fe2-b669-326847e0447b",
   "metadata": {},
   "source": [
    "Hiển thị t\\_1 trước khi xóa phần tử đầu và thứ hai."
   ]
  },
  {
   "cell_type": "code",
   "execution_count": 22,
   "id": "0dffdfa4-53c2-4c33-b128-3d6bbbf01f8b",
   "metadata": {},
   "outputs": [
    {
     "name": "stdout",
     "output_type": "stream",
     "text": [
      "[3 1]\n"
     ]
    }
   ],
   "source": [
    " t_1 = np.delete(t_1, ([0, 2]))\n",
    " print(t_1)"
   ]
  },
  {
   "cell_type": "markdown",
   "id": "9b2de482-27cc-41bb-8967-465050868c2b",
   "metadata": {},
   "source": [
    "Xóa phần tử đầu tiên và phần tử thứ ba (chỉ số 0 và 2) của t\\_1 và in mảng mới.\n"
   ]
  },
  {
   "cell_type": "code",
   "execution_count": 23,
   "id": "541045ba-f6d5-4e78-af08-a631d0b6c253",
   "metadata": {},
   "outputs": [
    {
     "name": "stdout",
     "output_type": "stream",
     "text": [
      "t_2 :  [[ 1  2  3  4]\n",
      " [ 5  6  7  8]\n",
      " [10 11 12 13]]\n"
     ]
    }
   ],
   "source": [
    "print(\"t_2 : \", t_2)\n",
    " # Remove the last column:"
   ]
  },
  {
   "cell_type": "markdown",
   "id": "560a716d-1506-4658-9e3f-fc12c8347256",
   "metadata": {},
   "source": [
    "Hiển thị t\\_2 trước khi xóa cột cuối.\n"
   ]
  },
  {
   "cell_type": "code",
   "execution_count": 25,
   "id": "b2d73da6-badc-468d-a388-7a7eaab3a535",
   "metadata": {},
   "outputs": [
    {
     "data": {
      "text/plain": [
       "array([[ 2,  3,  4],\n",
       "       [ 6,  7,  8],\n",
       "       [11, 12, 13]])"
      ]
     },
     "execution_count": 25,
     "metadata": {},
     "output_type": "execute_result"
    }
   ],
   "source": [
    "np.delete(t_2, (0), axis=1)"
   ]
  },
  {
   "cell_type": "markdown",
   "id": "16e7dcd2-80b8-4f37-b5f0-a7420dea6fb3",
   "metadata": {},
   "source": [
    "Xóa cột đầu tiên của t\\_2 (axis=1) và trả về mảng mới.\n"
   ]
  },
  {
   "cell_type": "markdown",
   "id": "8413fa3f-6c71-4535-a1c1-9ec245051f1c",
   "metadata": {},
   "source": [
    "Delete multiple columns:"
   ]
  },
  {
   "cell_type": "code",
   "execution_count": 26,
   "id": "09415cf9-e72e-4211-990a-751e7fa4e29a",
   "metadata": {},
   "outputs": [
    {
     "name": "stdout",
     "output_type": "stream",
     "text": [
      "t_2 :  [[ 1  2  3  4]\n",
      " [ 5  6  7  8]\n",
      " [10 11 12 13]]\n"
     ]
    }
   ],
   "source": [
    "print(\"t_2 : \", t_2)\n",
    " # Remove the first and third columns:"
   ]
  },
  {
   "cell_type": "markdown",
   "id": "980441c7-aea8-4671-9d36-efdf21813829",
   "metadata": {},
   "source": [
    "Hiển thị t\\_2 trước khi xóa cột thứ nhất và thứ ba.\n"
   ]
  },
  {
   "cell_type": "code",
   "execution_count": 27,
   "id": "43682418-c619-4737-91c7-b774040bcd6e",
   "metadata": {},
   "outputs": [
    {
     "data": {
      "text/plain": [
       "array([[ 2,  4],\n",
       "       [ 6,  8],\n",
       "       [11, 13]])"
      ]
     },
     "execution_count": 27,
     "metadata": {},
     "output_type": "execute_result"
    }
   ],
   "source": [
    "np.delete(t_2, ([0,2]), axis=1)"
   ]
  },
  {
   "cell_type": "markdown",
   "id": "6062689d-1883-40d1-9141-6a1662a50362",
   "metadata": {},
   "source": [
    "Xóa cột thứ nhất và thứ ba của t\\_2 (axis=1) và trả về mảng mới.\n"
   ]
  },
  {
   "cell_type": "code",
   "execution_count": 28,
   "id": "f74bcf78-ca14-4e93-8747-55991bdc6313",
   "metadata": {},
   "outputs": [
    {
     "name": "stdout",
     "output_type": "stream",
     "text": [
      "t_2 :  [[ 1  2  3  4]\n",
      " [ 5  6  7  8]\n",
      " [10 11 12 13]]\n"
     ]
    }
   ],
   "source": [
    "print(\"t_2 : \", t_2)\n",
    " # Remove the first line:"
   ]
  },
  {
   "cell_type": "markdown",
   "id": "ef643b22-3a40-4e62-aa86-d1d9155cbde4",
   "metadata": {},
   "source": [
    "Hiển thị t\\_2 trước khi xóa hàng đầu tiên."
   ]
  },
  {
   "cell_type": "code",
   "execution_count": 29,
   "id": "1c6c1b9c-e3c2-42da-81d0-e4e1102d2686",
   "metadata": {},
   "outputs": [
    {
     "data": {
      "text/plain": [
       "array([[ 5,  6,  7,  8],\n",
       "       [10, 11, 12, 13]])"
      ]
     },
     "execution_count": 29,
     "metadata": {},
     "output_type": "execute_result"
    }
   ],
   "source": [
    "np.delete(t_2, (0), axis=0)"
   ]
  },
  {
   "cell_type": "markdown",
   "id": "454218ec-3da0-4e9c-8f37-e88b580b1226",
   "metadata": {},
   "source": [
    "Xóa hàng đầu tiên của t\\_2 (axis=0) và trả về mảng mới.\n"
   ]
  },
  {
   "cell_type": "code",
   "execution_count": 30,
   "id": "149b4f57-87ef-4f3b-8c50-5a36640ab0c4",
   "metadata": {},
   "outputs": [
    {
     "name": "stdout",
     "output_type": "stream",
     "text": [
      "t_2 :  [[ 1  2  3  4]\n",
      " [ 5  6  7  8]\n",
      " [10 11 12 13]]\n"
     ]
    }
   ],
   "source": [
    "print(\"t_2 : \", t_2)\n",
    " # Remove the first and third lines:"
   ]
  },
  {
   "cell_type": "markdown",
   "id": "e86b3017-6b4b-4927-8297-84aa92efb663",
   "metadata": {},
   "source": [
    "Hiển thị t\\_2 trước khi xóa hàng thứ nhất và thứ ba.\n"
   ]
  },
  {
   "cell_type": "code",
   "execution_count": 31,
   "id": "adec65b7-b789-4ff2-9285-aabfcf441304",
   "metadata": {},
   "outputs": [
    {
     "data": {
      "text/plain": [
       "array([[5, 6, 7, 8]])"
      ]
     },
     "execution_count": 31,
     "metadata": {},
     "output_type": "execute_result"
    }
   ],
   "source": [
    "np.delete(t_2, ([0,2]), axis=0)"
   ]
  },
  {
   "cell_type": "markdown",
   "id": "7722f190-e24e-4e31-b6da-8b547437028c",
   "metadata": {},
   "source": [
    "Xóa hàng thứ nhất và thứ ba của t\\_2 (axis=0) và trả về mảng mới."
   ]
  },
  {
   "cell_type": "markdown",
   "id": "0af173d7-adca-4b14-925e-57ba5d36cefa",
   "metadata": {},
   "source": [
    "#### 9.1.5 Copyi of an Array"
   ]
  },
  {
   "cell_type": "code",
   "execution_count": 32,
   "id": "7a0d3d39-59d2-4a21-95c6-3c8dd683fa92",
   "metadata": {},
   "outputs": [],
   "source": [
    " table_1 = np.array([1, 2, 3])\n",
    " table_2 = table_1\n"
   ]
  },
  {
   "cell_type": "code",
   "execution_count": 33,
   "id": "7ede6e87-9890-4a8d-9831-b408e74f0d6e",
   "metadata": {},
   "outputs": [
    {
     "name": "stdout",
     "output_type": "stream",
     "text": [
      "Table 1: \n",
      " [0 2 3]\n"
     ]
    }
   ],
   "source": [
    " table_2[0] = 0\n",
    " print(\"Table 1: \\n\", table_1)"
   ]
  },
  {
   "cell_type": "markdown",
   "id": "52abbcae-8bad-4b35-a068-09a7b573ec48",
   "metadata": {},
   "source": [
    "Đặt hàng đầu tiên của table\\_2 bằng 0 nhưng in table\\_1, không liên quan.\n"
   ]
  },
  {
   "cell_type": "code",
   "execution_count": 34,
   "id": "53b7cee3-6a15-4f14-b7f7-7745333519a5",
   "metadata": {},
   "outputs": [
    {
     "name": "stdout",
     "output_type": "stream",
     "text": [
      "Table 2: \n",
      " [0 2 3]\n"
     ]
    }
   ],
   "source": [
    "print(\"Table 2: \\n\", table_2)"
   ]
  },
  {
   "cell_type": "markdown",
   "id": "6ba01008-cfb6-4245-b6f0-f0ead40f7492",
   "metadata": {},
   "source": [
    "Hiển thị table\\_2 sau khi thay đổi hàng đầu tiên thành 0.\n"
   ]
  },
  {
   "cell_type": "code",
   "execution_count": 37,
   "id": "5af34f1d-2141-4303-90e2-d7eb11b990ea",
   "metadata": {},
   "outputs": [
    {
     "name": "stdout",
     "output_type": "stream",
     "text": [
      "table_1 :  [1 2 3]\n"
     ]
    }
   ],
   "source": [
    "table_1 = np.array([1, 2, 3])\n",
    "table_2 = np.array(table_1)\n",
    "table_2[0] = 0\n",
    "print(\"table_1 : \", table_1)"
   ]
  },
  {
   "cell_type": "markdown",
   "id": "e728871d-fd39-4a20-b61a-c4a8482d3135",
   "metadata": {},
   "source": [
    "table\\_1 không thay đổi, vẫn là \\[1, 2, 3], vì table\\_2 được sao chép riêng.\n"
   ]
  },
  {
   "cell_type": "code",
   "execution_count": 38,
   "id": "8cb379c5-276c-492c-94e7-bff5c3d4e8de",
   "metadata": {},
   "outputs": [
    {
     "name": "stdout",
     "output_type": "stream",
     "text": [
      "table_2 :  [0 2 3]\n"
     ]
    }
   ],
   "source": [
    " print(\"table_2 : \", table_2)"
   ]
  },
  {
   "cell_type": "markdown",
   "id": "82458584-295a-4a0e-9405-26d0ec18bae2",
   "metadata": {},
   "source": [
    "Hiển thị table\\_2, hàng đầu tiên đã bị thay đổi thành 0.\n"
   ]
  },
  {
   "cell_type": "code",
   "execution_count": 40,
   "id": "0add39ed-3ce5-4b43-81de-62af8ca695af",
   "metadata": {},
   "outputs": [
    {
     "name": "stdout",
     "output_type": "stream",
     "text": [
      "table_1 :  [1 2 3]\n"
     ]
    }
   ],
   "source": [
    "table_1 = np.array([1, 2, 3])\n",
    "table_2 = table_1.copy()\n",
    "table_2[0] = 0\n",
    "print(\"table_1 : \", table_1)"
   ]
  },
  {
   "cell_type": "markdown",
   "id": "1a68569d-6040-437a-a72c-2200375f7650",
   "metadata": {},
   "source": [
    "table\\_1 vẫn giữ nguyên \\[1, 2, 3] vì table\\_2 là bản sao riêng bằng copy().\n"
   ]
  },
  {
   "cell_type": "code",
   "execution_count": 41,
   "id": "1c30a144-f627-4dab-9b8d-079ce183377d",
   "metadata": {},
   "outputs": [
    {
     "name": "stdout",
     "output_type": "stream",
     "text": [
      "table_2 :  [0 2 3]\n"
     ]
    }
   ],
   "source": [
    " print(\"table_2 : \", table_2)"
   ]
  },
  {
   "cell_type": "markdown",
   "id": "367a9200-5bf4-41df-ada7-7a31958c8435",
   "metadata": {},
   "source": [
    "Hiển thị table\\_2, phần tử đầu tiên đã đổi thành 0."
   ]
  },
  {
   "cell_type": "code",
   "execution_count": 42,
   "id": "0de770a6-faaf-4bb7-b900-c81709f5d4fc",
   "metadata": {},
   "outputs": [
    {
     "name": "stdout",
     "output_type": "stream",
     "text": [
      "table_1 :  [0 2 3 4]\n"
     ]
    }
   ],
   "source": [
    " table_1 = np.array([1, 2, 3, 4])\n",
    " table_2 = table_1[:2]\n",
    " table_2[0] = 0\n",
    " print(\"table_1 : \", table_1)"
   ]
  },
  {
   "cell_type": "markdown",
   "id": "2b09ed3c-25af-4e0e-bbc7-c7af85b7061c",
   "metadata": {},
   "source": [
    "Phần tử đầu tiên của table\\_1 cũng bị thay đổi thành 0 vì table\\_2 là slice tham chiếu tới table\\_1.\n"
   ]
  },
  {
   "cell_type": "code",
   "execution_count": 43,
   "id": "ab0000e3-f73d-43e7-8e95-0e927d142d14",
   "metadata": {},
   "outputs": [
    {
     "name": "stdout",
     "output_type": "stream",
     "text": [
      "table_2 :  [0 2]\n"
     ]
    }
   ],
   "source": [
    "print(\"table_2 : \", table_2)"
   ]
  },
  {
   "cell_type": "markdown",
   "id": "f2fb5101-7fa8-4f4d-8936-19db00309d6b",
   "metadata": {},
   "source": [
    "Hiển thị table\\_2, phần tử đầu tiên đã đổi thành 0.\n"
   ]
  },
  {
   "cell_type": "markdown",
   "id": "3a90be4e-a31c-480d-97f4-a4f3ff0252a0",
   "metadata": {},
   "source": [
    "####  9.1.6 Sorting"
   ]
  },
  {
   "cell_type": "code",
   "execution_count": 44,
   "id": "c2553c0e-d52d-47e9-890a-68eecc08316a",
   "metadata": {},
   "outputs": [
    {
     "name": "stdout",
     "output_type": "stream",
     "text": [
      "Sorted Table:  [1 2 3 5 5 6]\n"
     ]
    }
   ],
   "source": [
    " table = np.array([3, 2, 5, 1, 6, 5])\n",
    " print(\"Sorted Table: \", np.sort(table))"
   ]
  },
  {
   "cell_type": "markdown",
   "id": "bdebf004-3094-45c5-b2a8-c04841af22d0",
   "metadata": {},
   "source": [
    "Sắp xếp các phần tử của table theo thứ tự tăng dần và in kết quả.\n"
   ]
  },
  {
   "cell_type": "code",
   "execution_count": 45,
   "id": "efb6e67a-4907-4fcb-a13d-ec6f8dca2ad8",
   "metadata": {},
   "outputs": [
    {
     "name": "stdout",
     "output_type": "stream",
     "text": [
      "Table:  [3 2 5 1 6 5]\n"
     ]
    }
   ],
   "source": [
    " print(\"Table: \", table)"
   ]
  },
  {
   "cell_type": "markdown",
   "id": "075f0e53-548b-4982-bf8d-b592cc47e56d",
   "metadata": {},
   "source": [
    "Hiển thị table gốc, vẫn giữ nguyên thứ tự ban đầu."
   ]
  },
  {
   "cell_type": "code",
   "execution_count": 19,
   "id": "23729155-e3da-4578-af91-74bc3289ac23",
   "metadata": {},
   "outputs": [
    {
     "name": "stdout",
     "output_type": "stream",
     "text": [
      "The array was modified:  [1 2 3 5 5 6]\n"
     ]
    }
   ],
   "source": [
    " table = np.array([3, 2, 5, 1, 6, 5])\n",
    " table.sort()\n",
    " print(\"The array was modified: \", table)"
   ]
  },
  {
   "cell_type": "markdown",
   "id": "bca523ec-a2b6-48c3-9526-804aa8161f5a",
   "metadata": {},
   "source": [
    "Sắp xếp table tại chỗ, thay đổi mảng gốc và in kết quả.\n"
   ]
  },
  {
   "cell_type": "markdown",
   "id": "c22ec3e0-73b2-4854-aecd-fa4a2b72bdbd",
   "metadata": {},
   "source": [
    "####  9.1.7 Transposition"
   ]
  },
  {
   "cell_type": "code",
   "execution_count": 20,
   "id": "2e93cc59-da77-4028-a807-faf7c085f808",
   "metadata": {},
   "outputs": [
    {
     "name": "stdout",
     "output_type": "stream",
     "text": [
      "Array: \n",
      " [[3 2]\n",
      " [5 1]\n",
      " [6 5]]\n"
     ]
    }
   ],
   "source": [
    " table = np.array([3, 2, 5, 1, 6, 5])\n",
    " table.shape = (3,2)\n",
    " print(\"Array: \\n\", table)"
   ]
  },
  {
   "cell_type": "markdown",
   "id": "0518e4a3-bc90-464d-834b-b42587159204",
   "metadata": {},
   "source": [
    "Chuyển table thành mảng 3 hàng 2 cột và in ra."
   ]
  },
  {
   "cell_type": "code",
   "execution_count": 48,
   "id": "897b166d-998f-45b3-9363-b8f4642dc5d1",
   "metadata": {},
   "outputs": [
    {
     "name": "stdout",
     "output_type": "stream",
     "text": [
      "Transposed Array: \n",
      " [[3 5 6]\n",
      " [2 1 5]]\n"
     ]
    }
   ],
   "source": [
    " print(\"Transposed Array: \\n\", table.T)"
   ]
  },
  {
   "cell_type": "markdown",
   "id": "cf0ebf18-d49a-4cbd-957a-dc0dd1ade24e",
   "metadata": {},
   "source": [
    "In mảng table sau khi chuyển vị (hàng thành cột và cột thành hàng)."
   ]
  },
  {
   "cell_type": "code",
   "execution_count": 49,
   "id": "76ad2416-84ce-43bb-8173-bedd4b74cd47",
   "metadata": {},
   "outputs": [
    {
     "name": "stdout",
     "output_type": "stream",
     "text": [
      "[[3 5 6]\n",
      " [2 1 5]]\n"
     ]
    }
   ],
   "source": [
    "print(np.transpose(table))"
   ]
  },
  {
   "cell_type": "markdown",
   "id": "71b40644-367d-422e-9f53-5e817baca031",
   "metadata": {},
   "source": [
    "In mảng table sau khi chuyển vị, tương đương table.T."
   ]
  },
  {
   "cell_type": "code",
   "execution_count": 52,
   "id": "326c2d8c-0a17-483d-890c-815affbdd7ca",
   "metadata": {},
   "outputs": [
    {
     "name": "stdout",
     "output_type": "stream",
     "text": [
      "Array: \n",
      " [[99  2]\n",
      " [ 5  1]\n",
      " [ 6  5]]\n"
     ]
    }
   ],
   "source": [
    "table_transpose = np.transpose(table)\n",
    "table_transpose[0,0] = 99\n",
    "print(\"Array: \\n\", table)"
   ]
  },
  {
   "cell_type": "markdown",
   "id": "6198a6f2-26ca-4b40-ad44-74f25d46d9d7",
   "metadata": {},
   "source": [
    "Mảng gốc table cũng thay đổi phần tử \\[0,0] thành 99 vì transpose trả về view, không phải bản sao.\n"
   ]
  },
  {
   "cell_type": "code",
   "execution_count": 53,
   "id": "08ff9db4-0cf7-4726-bb00-52a8b1ce681d",
   "metadata": {},
   "outputs": [
    {
     "name": "stdout",
     "output_type": "stream",
     "text": [
      "Transpose of the Array: \n",
      " [[99  5  6]\n",
      " [ 2  1  5]]\n"
     ]
    }
   ],
   "source": [
    "print(\"Transpose of the Array: \\n\", table_transpose)"
   ]
  },
  {
   "cell_type": "markdown",
   "id": "3e7d1973-c6cc-41a1-a880-f702ee051b49",
   "metadata": {},
   "source": [
    "Hiển thị mảng đã chuyển vị table\\_transpose, phần tử \\[0,0] là 99.\n"
   ]
  },
  {
   "cell_type": "code",
   "execution_count": 54,
   "id": "d5ddde9a-3e1f-4bac-9ced-0fbbd0d60396",
   "metadata": {},
   "outputs": [
    {
     "name": "stdout",
     "output_type": "stream",
     "text": [
      "table:  None\n"
     ]
    }
   ],
   "source": [
    "print(\"table: \", table.base)"
   ]
  },
  {
   "cell_type": "markdown",
   "id": "e12c50ac-0864-495f-9d0d-c4a37eda0d6e",
   "metadata": {},
   "source": [
    "Hiển thị mảng gốc mà table đang tham chiếu; nếu None tức table không phải là view của mảng khác.\n"
   ]
  },
  {
   "cell_type": "code",
   "execution_count": 55,
   "id": "ecbaae8d-c891-4dd9-933d-3ce51e3e4205",
   "metadata": {},
   "outputs": [
    {
     "name": "stdout",
     "output_type": "stream",
     "text": [
      "table_transpose :  [[99  2]\n",
      " [ 5  1]\n",
      " [ 6  5]]\n"
     ]
    }
   ],
   "source": [
    " print(\"table_transpose : \", table_transpose.base)"
   ]
  },
  {
   "cell_type": "markdown",
   "id": "19e3dcb7-c219-4bcb-9478-f2b7bf53dd2c",
   "metadata": {},
   "source": [
    "Hiển thị mảng gốc mà table\\_transpose đang tham chiếu; kết quả là table vì transpose trả về view.\n"
   ]
  },
  {
   "cell_type": "markdown",
   "id": "1be40fe9-612f-4234-b1d5-18322230f109",
   "metadata": {},
   "source": [
    "#### 9.1.8 Operations on Arrays"
   ]
  },
  {
   "cell_type": "markdown",
   "id": "c6f83a99-0d98-4038-8025-96fcb7e91890",
   "metadata": {},
   "source": [
    "##### 9.1.8.1 + and- Operators"
   ]
  },
  {
   "cell_type": "code",
   "execution_count": 21,
   "id": "8701a4a7-bde0-4b49-a699-056d21abc2de",
   "metadata": {},
   "outputs": [
    {
     "data": {
      "text/plain": [
       "array([ 6,  8, 10, 12])"
      ]
     },
     "execution_count": 21,
     "metadata": {},
     "output_type": "execute_result"
    }
   ],
   "source": [
    "t_1 = np.array([1, 2, 3, 4])\n",
    "t_2 = np.array([5, 6, 7, 8])\n",
    "t_3 = np.array([[1, 2, 3, 4], [5, 6, 7, 8], [9, 10, 11, 12]])\n",
    "t_4 = np.array([[13, 14, 15, 16], [17, 18, 19, 20], [21, 22, 23, 24]])\n",
    "t_1 + t_2"
   ]
  },
  {
   "cell_type": "markdown",
   "id": "e10dacd2-909a-4a4e-a8a4-e8c9d190b63d",
   "metadata": {},
   "source": [
    "Cộng từng phần tử tương ứng của t\\_1 và t\\_2, kết quả là \\[6, 8, 10, 12].\n"
   ]
  },
  {
   "cell_type": "code",
   "execution_count": 57,
   "id": "3ae2ddc0-e7cf-4b36-94b1-ab65eb900d1a",
   "metadata": {},
   "outputs": [
    {
     "data": {
      "text/plain": [
       "array([[14, 16, 18, 20],\n",
       "       [22, 24, 26, 28],\n",
       "       [30, 32, 34, 36]])"
      ]
     },
     "execution_count": 57,
     "metadata": {},
     "output_type": "execute_result"
    }
   ],
   "source": [
    " t_3 + t_4"
   ]
  },
  {
   "cell_type": "markdown",
   "id": "0cd4460f-37ca-4330-886b-8e10ea8c646f",
   "metadata": {},
   "source": [
    "Cộng từng phần tử tương ứng của t_3 và t_4, in kết quả "
   ]
  },
  {
   "cell_type": "code",
   "execution_count": 58,
   "id": "4b133f6f-7e28-4db5-902d-4cb7fcb94031",
   "metadata": {},
   "outputs": [
    {
     "data": {
      "text/plain": [
       "array([-4, -4, -4, -4])"
      ]
     },
     "execution_count": 58,
     "metadata": {},
     "output_type": "execute_result"
    }
   ],
   "source": [
    "t_1- t_2"
   ]
  },
  {
   "cell_type": "markdown",
   "id": "3506d986-d0d4-4968-b4e6-8422960293f4",
   "metadata": {},
   "source": [
    "Trừ từng phần tử của t\\_2 khỏi t\\_1, kết quả là \\[-4, -4, -4, -4]."
   ]
  },
  {
   "cell_type": "code",
   "execution_count": 59,
   "id": "b08bcfb6-7335-467b-8db1-81af37b5caaa",
   "metadata": {},
   "outputs": [
    {
     "name": "stdout",
     "output_type": "stream",
     "text": [
      "t_1 + 3 : \n",
      " [4 5 6 7]\n"
     ]
    }
   ],
   "source": [
    " print(\"t_1 + 3 : \\n\", t_1 + 3)"
   ]
  },
  {
   "cell_type": "markdown",
   "id": "bcbd61d3-7957-4896-9039-807135d3c930",
   "metadata": {},
   "source": [
    "Cộng 3 vào từng phần tử của t\\_1 và in kết quả.\n"
   ]
  },
  {
   "cell_type": "code",
   "execution_count": 60,
   "id": "0925d10f-0367-432e-9130-e31ccce91e9c",
   "metadata": {},
   "outputs": [
    {
     "name": "stdout",
     "output_type": "stream",
     "text": [
      "t_1 + 3. : \n",
      " [4. 5. 6. 7.]\n"
     ]
    }
   ],
   "source": [
    "print(\"t_1 + 3. : \\n\", t_1 + 3.)"
   ]
  },
  {
   "cell_type": "markdown",
   "id": "3f9b8a88-4a07-4396-9178-be4b74613e7a",
   "metadata": {},
   "source": [
    "Cộng 3.0 (float) vào từng phần tử của t\\_1, kết quả là mảng float.\n"
   ]
  },
  {
   "cell_type": "code",
   "execution_count": 61,
   "id": "cdc73e31-409e-44a9-afdf-17cf7d45ca55",
   "metadata": {},
   "outputs": [
    {
     "name": "stdout",
     "output_type": "stream",
     "text": [
      "t_3 + 3 : \n",
      " [[ 4  5  6  7]\n",
      " [ 8  9 10 11]\n",
      " [12 13 14 15]]\n"
     ]
    }
   ],
   "source": [
    " print(\"t_3 + 3 : \\n\", t_3 + 3)"
   ]
  },
  {
   "cell_type": "markdown",
   "id": "63495267-99b8-4e0b-9f23-ea8a3d1a3291",
   "metadata": {},
   "source": [
    "Cộng 3 vào từng phần tử của t\\_3 và in mảng kết quả.\n"
   ]
  },
  {
   "cell_type": "code",
   "execution_count": 62,
   "id": "56836315-78a6-4db4-9daf-c941f46fb1ca",
   "metadata": {},
   "outputs": [
    {
     "name": "stdout",
     "output_type": "stream",
     "text": [
      "t_3- 3 : \n",
      " [[-2 -1  0  1]\n",
      " [ 2  3  4  5]\n",
      " [ 6  7  8  9]]\n"
     ]
    }
   ],
   "source": [
    " print(\"t_3- 3 : \\n\", t_3- 3)"
   ]
  },
  {
   "cell_type": "markdown",
   "id": "ea33a7bd-0b9e-49af-aca5-a380b99fc7a4",
   "metadata": {},
   "source": [
    "Trừ 3 từ từng phần tử của t\\_3 và in mảng kết quả.\n"
   ]
  },
  {
   "cell_type": "markdown",
   "id": "d88303fc-d549-4b02-9976-8023cadebb87",
   "metadata": {},
   "source": [
    "#####  9.1.8.2 * and / Operators"
   ]
  },
  {
   "cell_type": "code",
   "execution_count": 63,
   "id": "dfdb84ca-d182-45ca-9ece-76568a2f44ce",
   "metadata": {},
   "outputs": [
    {
     "data": {
      "text/plain": [
       "array([ 5, 12, 21, 32])"
      ]
     },
     "execution_count": 63,
     "metadata": {},
     "output_type": "execute_result"
    }
   ],
   "source": [
    "t_1 * t_2"
   ]
  },
  {
   "cell_type": "markdown",
   "id": "0858476c-b4ce-45fe-adab-2491f8926181",
   "metadata": {},
   "source": [
    "Nhân từng phần tử tương ứng của t\\_1 và t\\_2, kết quả là \\[5, 12, 21, 32].\n"
   ]
  },
  {
   "cell_type": "code",
   "execution_count": 64,
   "id": "6d683e17-b3ec-4083-9abe-7eada6dabe65",
   "metadata": {},
   "outputs": [
    {
     "data": {
      "text/plain": [
       "array([[ 13,  28,  45,  64],\n",
       "       [ 85, 108, 133, 160],\n",
       "       [189, 220, 253, 288]])"
      ]
     },
     "execution_count": 64,
     "metadata": {},
     "output_type": "execute_result"
    }
   ],
   "source": [
    " t_3 * t_4"
   ]
  },
  {
   "cell_type": "markdown",
   "id": "18dc5dd5-1381-437f-8b56-955113a3a0d3",
   "metadata": {},
   "source": [
    "Nhân từng phần tử tương ứng của t_3 và t_4, in kết quả"
   ]
  },
  {
   "cell_type": "code",
   "execution_count": 65,
   "id": "0aa28fc8-3cee-4183-b65c-4274b3a327cf",
   "metadata": {},
   "outputs": [
    {
     "data": {
      "text/plain": [
       "array([[0.07692308, 0.14285714, 0.2       , 0.25      ],\n",
       "       [0.29411765, 0.33333333, 0.36842105, 0.4       ],\n",
       "       [0.42857143, 0.45454545, 0.47826087, 0.5       ]])"
      ]
     },
     "execution_count": 65,
     "metadata": {},
     "output_type": "execute_result"
    }
   ],
   "source": [
    " t_3 / t_4"
   ]
  },
  {
   "cell_type": "markdown",
   "id": "e243e4e8-c153-4c16-b63b-7f33fef99ad6",
   "metadata": {},
   "source": [
    "Chia từng phần tử tương ứng của t_3 cho t_4, in kết quả"
   ]
  },
  {
   "cell_type": "code",
   "execution_count": 67,
   "id": "35261311-fa88-4a36-9b83-6a5875ef0138",
   "metadata": {},
   "outputs": [
    {
     "name": "stdout",
     "output_type": "stream",
     "text": [
      "t_1 * 3 : \n",
      " [ 3  6  9 12]\n"
     ]
    }
   ],
   "source": [
    " print(\"t_1 * 3 : \\n\", t_1 * 3)"
   ]
  },
  {
   "cell_type": "markdown",
   "id": "5f538b7c-a9b9-41c5-8cd8-19def0ab5d22",
   "metadata": {},
   "source": [
    "Nhân từng phần tử của t\\_1 với 3 và in kết quả."
   ]
  },
  {
   "cell_type": "code",
   "execution_count": 68,
   "id": "9122294c-7d22-418c-9dc4-219c594fb23b",
   "metadata": {},
   "outputs": [
    {
     "name": "stdout",
     "output_type": "stream",
     "text": [
      "t_1 / 3 : \n",
      " [0.33333333 0.66666667 1.         1.33333333]\n"
     ]
    }
   ],
   "source": [
    "print(\"t_1 / 3 : \\n\", t_1 / 3)"
   ]
  },
  {
   "cell_type": "markdown",
   "id": "c1673937-a406-451d-aa82-84d17ba04b0c",
   "metadata": {},
   "source": [
    "Chia từng phần tử của t\\_1 cho 3 và in kết quả.\n"
   ]
  },
  {
   "cell_type": "markdown",
   "id": "b687ea3d-0897-4689-b979-42ef3bbd20fe",
   "metadata": {},
   "source": [
    " ##### 9.1.8.3 Power"
   ]
  },
  {
   "cell_type": "code",
   "execution_count": 69,
   "id": "734447f7-d86c-429a-b085-af5470605739",
   "metadata": {},
   "outputs": [
    {
     "name": "stdout",
     "output_type": "stream",
     "text": [
      "t_1 ** 3 : \n",
      " [ 1  8 27 64]\n"
     ]
    }
   ],
   "source": [
    "print(\"t_1 ** 3 : \\n\", t_1 ** 3)"
   ]
  },
  {
   "cell_type": "markdown",
   "id": "99844aa0-7fe4-4fa9-b029-655099487d6a",
   "metadata": {},
   "source": [
    "Lũy thừa từng phần tử của t\\_1 lên mũ 3 và in kết quả.\n"
   ]
  },
  {
   "cell_type": "markdown",
   "id": "bb6ed482-a232-4408-8047-1a9e0ae9a4e3",
   "metadata": {},
   "source": [
    "##### 9.1.8.4 Operations on Matrices"
   ]
  },
  {
   "cell_type": "code",
   "execution_count": 70,
   "id": "612c0286-3aa2-4cfa-9d48-b9d974b6a323",
   "metadata": {},
   "outputs": [
    {
     "data": {
      "text/plain": [
       "array([[150, 190, 230],\n",
       "       [382, 486, 590],\n",
       "       [614, 782, 950]])"
      ]
     },
     "execution_count": 70,
     "metadata": {},
     "output_type": "execute_result"
    }
   ],
   "source": [
    " np.dot(t_3, t_4.T)"
   ]
  },
  {
   "cell_type": "markdown",
   "id": "eee4eb3c-daff-44dd-a0d3-a3f4c4a2abe3",
   "metadata": {},
   "source": [
    "Thực hiện nhân ma trận giữa t\\_3 và chuyển vị của t\\_4, kết quả là ma trận 3x3 với tích vô hướng của các hàng và cột tương ứng.\n"
   ]
  },
  {
   "cell_type": "code",
   "execution_count": 27,
   "id": "93c15335-cc5c-4b35-bade-9284719cd4be",
   "metadata": {},
   "outputs": [
    {
     "ename": "ValueError",
     "evalue": "shapes (3,4) and (3,4) not aligned: 4 (dim 1) != 3 (dim 0)",
     "output_type": "error",
     "traceback": [
      "\u001b[31m---------------------------------------------------------------------------\u001b[39m",
      "\u001b[31mValueError\u001b[39m                                Traceback (most recent call last)",
      "\u001b[36mCell\u001b[39m\u001b[36m \u001b[39m\u001b[32mIn[27]\u001b[39m\u001b[32m, line 1\u001b[39m\n\u001b[32m----> \u001b[39m\u001b[32m1\u001b[39m \u001b[43mnp\u001b[49m\u001b[43m.\u001b[49m\u001b[43mdot\u001b[49m\u001b[43m(\u001b[49m\u001b[43mt_3\u001b[49m\u001b[43m,\u001b[49m\u001b[43m \u001b[49m\u001b[43mt_4\u001b[49m\u001b[43m)\u001b[49m\n",
      "\u001b[31mValueError\u001b[39m: shapes (3,4) and (3,4) not aligned: 4 (dim 1) != 3 (dim 0)"
     ]
    }
   ],
   "source": [
    "np.dot(t_3, t_4)"
   ]
  },
  {
   "cell_type": "code",
   "execution_count": 28,
   "id": "706805f6-7627-4723-bb44-82cd7898857d",
   "metadata": {},
   "outputs": [
    {
     "data": {
      "text/plain": [
       "array([[150, 190, 230],\n",
       "       [382, 486, 590],\n",
       "       [614, 782, 950]])"
      ]
     },
     "execution_count": 28,
     "metadata": {},
     "output_type": "execute_result"
    }
   ],
   "source": [
    "t_3 @ t_4.T"
   ]
  },
  {
   "cell_type": "markdown",
   "id": "07421a2f-597c-4850-a1ba-d88a8784d54d",
   "metadata": {},
   "source": [
    "Thực hiện nhân ma trận giữa t\\_3 và chuyển vị của t\\_4 bằng toán tử @, kết quả là ma trận 3x3.\n"
   ]
  },
  {
   "cell_type": "code",
   "execution_count": 29,
   "id": "41c9f7c6-8d4b-4fae-a3c0-6ddc25a20e31",
   "metadata": {},
   "outputs": [
    {
     "data": {
      "text/plain": [
       "array([ 30,  70, 110])"
      ]
     },
     "execution_count": 29,
     "metadata": {},
     "output_type": "execute_result"
    }
   ],
   "source": [
    "np.dot(t_1, t_3.T)"
   ]
  },
  {
   "cell_type": "markdown",
   "id": "4382c403-218d-4f41-b9de-0cfc06a63d29",
   "metadata": {},
   "source": [
    "Nhân t\\_1 (1x4) với t\\_3.T (4x3), kết quả là mảng 1x3 chứa các tích vô hướng với từng hàng của t\\_3.\n"
   ]
  },
  {
   "cell_type": "markdown",
   "id": "271f5cfb-29be-42f7-b601-a799845cfd64",
   "metadata": {},
   "source": [
    "####  9.1.9 Logical Operators"
   ]
  },
  {
   "cell_type": "code",
   "execution_count": 32,
   "id": "7fb8a1c4-7fbd-4613-a1ca-90777539e5e5",
   "metadata": {},
   "outputs": [
    {
     "name": "stdout",
     "output_type": "stream",
     "text": [
      "mask: \n",
      " [[False  True False False]\n",
      " [False  True False False]\n",
      " [False False False  True]]\n"
     ]
    }
   ],
   "source": [
    "t = np.array([[1, 10, 3, 24], [9, 12, 40, 2], [0, 7, 2, 14]])\n",
    "mask = np.logical_and(t <= 20, t >= 10)\n",
    "print(\"mask: \\n\", mask)"
   ]
  },
  {
   "cell_type": "markdown",
   "id": "bafe13d1-3595-4f86-8235-fe9a66040acc",
   "metadata": {},
   "source": [
    "Tạo mảng boolean mask đánh dấu các phần tử của t nằm trong khoảng từ 10 đến 20.\n"
   ]
  },
  {
   "cell_type": "code",
   "execution_count": 33,
   "id": "f141fed8-4eb1-4396-bd2e-0d4ea855308b",
   "metadata": {},
   "outputs": [
    {
     "name": "stdout",
     "output_type": "stream",
     "text": [
      "the elements of t between 10 and 20: \n",
      " [10 12 14]\n"
     ]
    }
   ],
   "source": [
    " print(\"the elements of t between 10 and 20: \\n\",\n",
    " t[mask])"
   ]
  },
  {
   "cell_type": "markdown",
   "id": "78d67a0a-47ad-4960-9d67-3c64cbdf8634",
   "metadata": {},
   "source": [
    "Chọn và in các phần tử của t nằm trong khoảng từ 10 đến 20.\n"
   ]
  },
  {
   "cell_type": "markdown",
   "id": "fb5adc4c-ff0e-4b5c-824f-5b69561cf83c",
   "metadata": {},
   "source": [
    "####  9.1.10 Some Constants"
   ]
  },
  {
   "cell_type": "code",
   "execution_count": 34,
   "id": "0c184623-676c-419f-8605-ae0051ad900a",
   "metadata": {},
   "outputs": [
    {
     "name": "stdout",
     "output_type": "stream",
     "text": [
      "Addition :  nan\n"
     ]
    }
   ],
   "source": [
    " print(\"Addition : \", np.nan + 1)"
   ]
  },
  {
   "cell_type": "markdown",
   "id": "49d52b27-819a-41fd-8891-b3ef3822aedb",
   "metadata": {},
   "source": [
    "Kết quả là nan vì bất cứ phép tính nào với np.nan đều ra nan.\n"
   ]
  },
  {
   "cell_type": "code",
   "execution_count": 35,
   "id": "ba6891a2-eba6-43dc-842f-7240a6c42237",
   "metadata": {},
   "outputs": [
    {
     "name": "stdout",
     "output_type": "stream",
     "text": [
      "Substraction :  nan\n"
     ]
    }
   ],
   "source": [
    " print(\"Substraction : \", np.nan- 1)"
   ]
  },
  {
   "cell_type": "markdown",
   "id": "f7945b10-0af9-4064-a2bb-f595497458c8",
   "metadata": {},
   "source": [
    "Kết quả là nan vì bất kỳ phép tính nào với np.nan đều không xác định.\n"
   ]
  },
  {
   "cell_type": "code",
   "execution_count": 36,
   "id": "e96e3825-292c-4a2c-bbb3-e1cada50fbd8",
   "metadata": {},
   "outputs": [
    {
     "name": "stdout",
     "output_type": "stream",
     "text": [
      "Multiplication :  nan\n"
     ]
    }
   ],
   "source": [
    " print(\"Multiplication : \", np.nan + 1)"
   ]
  },
  {
   "cell_type": "markdown",
   "id": "f6d7c6de-cc77-4e66-86e3-0a0e07ce4989",
   "metadata": {},
   "source": [
    "Kết quả là nan vì mọi phép tính với np.nan đều không xác định.\n"
   ]
  },
  {
   "cell_type": "code",
   "execution_count": 37,
   "id": "e98a2a30-b037-4cc7-b885-fd26718f6522",
   "metadata": {},
   "outputs": [
    {
     "name": "stdout",
     "output_type": "stream",
     "text": [
      "Division :  nan\n"
     ]
    }
   ],
   "source": [
    " print(\"Division : \", np.nan / 1)"
   ]
  },
  {
   "cell_type": "markdown",
   "id": "669650af-9241-4b63-8156-c2d414931ff2",
   "metadata": {},
   "source": [
    "Kết quả là nan vì bất kỳ phép tính nào với np.nan đều không xác định.\n"
   ]
  },
  {
   "cell_type": "markdown",
   "id": "76350551-dacd-41fa-be16-4163b015e17d",
   "metadata": {},
   "source": [
    "#### 9.1.11 Universal functions"
   ]
  },
  {
   "cell_type": "code",
   "execution_count": 38,
   "id": "9e754415-c6ec-4e9d-adc0-47f4c204157f",
   "metadata": {},
   "outputs": [
    {
     "data": {
      "text/plain": [
       "array([[0.        , 0.69314718, 1.09861229, 1.38629436],\n",
       "       [1.60943791, 1.79175947, 1.94591015, 2.07944154],\n",
       "       [2.19722458, 2.30258509, 2.39789527, 2.48490665]])"
      ]
     },
     "execution_count": 38,
     "metadata": {},
     "output_type": "execute_result"
    }
   ],
   "source": [
    " t_1 = np.array([[1, 2, 3, 4], [5, 6, 7, 8], [9, 10, 11, 12]])\n",
    " t_2 = np.array([[13, 14, 15, 16], [17, 18, 19, 20], [21, 22, 23, 24]])\n",
    " np.log(t_1) # Natural Logarithm"
   ]
  },
  {
   "cell_type": "markdown",
   "id": "a1567aec-fc4b-48b7-afac-d373c334e14c",
   "metadata": {},
   "source": [
    "Tính logarith tự nhiên (ln) của từng phần tử trong t\\_1.\n"
   ]
  },
  {
   "cell_type": "code",
   "execution_count": 39,
   "id": "a1ce0e2b-33f2-49ee-912b-84a78da1343e",
   "metadata": {},
   "outputs": [
    {
     "data": {
      "text/plain": [
       "array([[-12, -12, -12, -12],\n",
       "       [-12, -12, -12, -12],\n",
       "       [-12, -12, -12, -12]])"
      ]
     },
     "execution_count": 39,
     "metadata": {},
     "output_type": "execute_result"
    }
   ],
   "source": [
    " np.subtract(t_1, t_2) # Substraction of the elements of `t_1` by those of `t_2`"
   ]
  },
  {
   "cell_type": "markdown",
   "id": "3d6beed0-c8ca-4a0e-9e2b-c08b4ff69a97",
   "metadata": {},
   "source": [
    "np.subtract(t\\_1, t\\_2) tra ve mot mang moi bang cach tru tung phan tu t\\_2 cho tung phan tu t\\_1\n"
   ]
  },
  {
   "cell_type": "markdown",
   "id": "b1e8b5a8-81fb-475c-b35c-5adb839d0ea6",
   "metadata": {},
   "source": [
    "####  9.1.12 Mathematical and Statistical Methods and Functions"
   ]
  },
  {
   "cell_type": "code",
   "execution_count": 40,
   "id": "610a98aa-3a75-411d-b6dd-4a985177f012",
   "metadata": {},
   "outputs": [
    {
     "name": "stdout",
     "output_type": "stream",
     "text": [
      "t_1 : \n",
      " [[ 1  2  3  4]\n",
      " [-1  6  7  8]\n",
      " [ 9 -1 11 12]]\n"
     ]
    }
   ],
   "source": [
    " t_1 = np.array([[1, 2, 3, 4], [-1, 6, 7, 8], [9,-1, 11, 12]])\n",
    " print(\"t_1 : \\n\", t_1)"
   ]
  },
  {
   "cell_type": "markdown",
   "id": "93b660c3-db43-4d66-a45e-5fcbcb0e2016",
   "metadata": {},
   "source": [
    "t\\_1 = np.array(\\[\\[1, 2, 3, 4], \\[-1, 6, 7, 8], \\[9, -1, 11, 12]]) in ra mang 2 chieu 3 hang 4 cot\n"
   ]
  },
  {
   "cell_type": "code",
   "execution_count": 41,
   "id": "44b7e503-eae6-4158-9ab8-b33142e5f12a",
   "metadata": {},
   "outputs": [
    {
     "name": "stdout",
     "output_type": "stream",
     "text": [
      "Sum of the elements:  61\n"
     ]
    }
   ],
   "source": [
    " print(\"Sum of the elements: \", t_1.sum())"
   ]
  },
  {
   "cell_type": "markdown",
   "id": "b76323b7-9799-4056-b670-bbe470776422",
   "metadata": {},
   "source": [
    "print(\"Sum of the elements: \", t\\_1.sum()) in ra tong tat ca phan tu trong mang t\\_1\n"
   ]
  },
  {
   "cell_type": "code",
   "execution_count": 42,
   "id": "ce508885-fd75-4c2d-a6d3-5e8b341db147",
   "metadata": {},
   "outputs": [
    {
     "name": "stdout",
     "output_type": "stream",
     "text": [
      "Covariance of the elements:  18.07638888888889\n"
     ]
    }
   ],
   "source": [
    " print(\"Covariance of the elements: \", t_1.var())"
   ]
  },
  {
   "cell_type": "markdown",
   "id": "bccb8677-d809-4130-af90-650b1986efbf",
   "metadata": {},
   "source": [
    "print(\"Covariance of the elements: \", t\\_1.var()) in ra phuong sai cua tat ca phan tu trong mang t\\_1\n"
   ]
  },
  {
   "cell_type": "code",
   "execution_count": 44,
   "id": "554fc326-842b-4d10-9916-9cf8d9e45cac",
   "metadata": {},
   "outputs": [
    {
     "name": "stdout",
     "output_type": "stream",
     "text": [
      "Sum per column:  [ 9  7 21 24]\n"
     ]
    }
   ],
   "source": [
    " print(\"Sum per column: \", t_1.sum(axis=0))"
   ]
  },
  {
   "cell_type": "markdown",
   "id": "376e7509-98fc-4e79-a521-99e22ee54173",
   "metadata": {},
   "source": [
    "print(\"Sum per column: \", t\\_1.sum(axis=0)) in ra tong cac phan tu theo tung cot trong mang t\\_1\n"
   ]
  },
  {
   "cell_type": "code",
   "execution_count": 45,
   "id": "e91a4a51-aa71-47d9-ab18-90d32873b67d",
   "metadata": {},
   "outputs": [
    {
     "name": "stdout",
     "output_type": "stream",
     "text": [
      "Sum per row:  [10 20 31]\n"
     ]
    }
   ],
   "source": [
    "print(\"Sum per row: \", t_1.sum(axis=1))"
   ]
  },
  {
   "cell_type": "markdown",
   "id": "afb62595-2b78-4e5a-9927-bde3a2ed8a05",
   "metadata": {},
   "source": [
    "print(\"Sum per row: \", t\\_1.sum(axis=1)) in ra tong cac phan tu theo tung hang trong mang t\\_1\n"
   ]
  },
  {
   "cell_type": "code",
   "execution_count": 46,
   "id": "55fac8e6-f3e8-4a7d-a097-8f2c075a6c82",
   "metadata": {},
   "outputs": [
    {
     "name": "stdout",
     "output_type": "stream",
     "text": [
      "t_1 : \n",
      " [[ 1  2  3  4]\n",
      " [-1  6  7  8]\n",
      " [ 9 -1 11 12]]\n"
     ]
    }
   ],
   "source": [
    " t_1 = np.array([[1, 2, 3, 4], [-1, 6, 7, 8], [9,-1, 11, 12]])\n",
    " print(\"t_1 : \\n\", t_1)"
   ]
  },
  {
   "cell_type": "markdown",
   "id": "fa243833-df07-4893-810b-9a6904fae487",
   "metadata": {},
   "source": [
    "t\\_1 = np.array(\\[\\[1, 2, 3, 4], \\[-1, 6, 7, 8], \\[9, -1, 11, 12]]) tao mang 2 chieu 3 hang 4 cot va in ra no\n"
   ]
  },
  {
   "cell_type": "code",
   "execution_count": 47,
   "id": "6c9dcd4a-ce9b-4577-bff0-986fc1e31523",
   "metadata": {},
   "outputs": [
    {
     "name": "stdout",
     "output_type": "stream",
     "text": [
      "Variance:  18.07638888888889\n"
     ]
    }
   ],
   "source": [
    "print(\"Variance: \", np.var(t_1))"
   ]
  },
  {
   "cell_type": "markdown",
   "id": "d524cad9-1c5b-4617-b71c-98f73d085696",
   "metadata": {},
   "source": [
    "print(\"Variance: \", np.var(t\\_1)) in ra phuong sai cua tat ca phan tu trong mang t\\_1\n"
   ]
  },
  {
   "cell_type": "code",
   "execution_count": 53,
   "id": "16a9142d-eb12-44f9-b125-1772f82cd19f",
   "metadata": {},
   "outputs": [
    {
     "name": "stdout",
     "output_type": "stream",
     "text": [
      "Sum:  nan\n"
     ]
    }
   ],
   "source": [
    " t_1 = np.array([[1, 2, np.nan, 4], [-1, 6, 7, 8], [9,-1, 11, 12]])\n",
    " print(\"Sum: \", np.sum(t_1))"
   ]
  },
  {
   "cell_type": "markdown",
   "id": "3cc3dfc0-2012-455a-aad9-acd178585817",
   "metadata": {},
   "source": [
    "Code này tạo mảng t\\_1 có giá trị np.nan và khi dùng np.sum(t\\_1) se tra ve nan vi bat ky phep tinh tong nao co nan deu ra nan.\n"
   ]
  },
  {
   "cell_type": "code",
   "execution_count": 54,
   "id": "f80ceebf-d58a-46a4-a8d1-c2f32b7c7a49",
   "metadata": {},
   "outputs": [
    {
     "name": "stdout",
     "output_type": "stream",
     "text": [
      "Sum ignoring NaN values:  58.0\n"
     ]
    }
   ],
   "source": [
    "print(\"Sum ignoring NaN values: \", np.nansum(t_1))"
   ]
  },
  {
   "cell_type": "markdown",
   "id": "fb8b8aec-ea24-45f5-b17d-af71423812b1",
   "metadata": {},
   "source": [
    "print(\"Sum ignoring NaN values: \", np.nansum(t\\_1)) in ra tong cac phan tu trong mang t\\_1 bo qua gia tri nan\n"
   ]
  },
  {
   "cell_type": "code",
   "execution_count": 55,
   "id": "0537b1c1-ecab-4871-9c17-363bc4c31fd0",
   "metadata": {},
   "outputs": [
    {
     "name": "stdout",
     "output_type": "stream",
     "text": [
      "Weighted average:  1.7142857142857142\n"
     ]
    }
   ],
   "source": [
    " v_1 = np.array([1, 1, 4, 2])\n",
    " w = np.array([1, 1, .5, 1])\n",
    " print(\"Weighted average: \", np.average(v_1, weights=w))"
   ]
  },
  {
   "cell_type": "markdown",
   "id": "f22830d6-39fc-4358-afbe-f53eb33480d6",
   "metadata": {},
   "source": [
    "print(\"Weightedaverage: \", np.average(v_1, weights=w)) tinh trung binh co trong so cua mang v_1 theo trong so w"
   ]
  },
  {
   "cell_type": "markdown",
   "id": "f0e49371-bc8e-49a0-8c44-f865b80978f3",
   "metadata": {},
   "source": [
    "### 9.2 Generation of Pseudo-random Numbers"
   ]
  },
  {
   "cell_type": "code",
   "execution_count": 56,
   "id": "89612ca5-410a-49a6-b82a-7f4a1ac7bbe0",
   "metadata": {},
   "outputs": [],
   "source": [
    "from numpy import random"
   ]
  },
  {
   "cell_type": "code",
   "execution_count": 58,
   "id": "9363ce1b-fd59-4fa3-bd29-39196bfd8acd",
   "metadata": {},
   "outputs": [
    {
     "name": "stdout",
     "output_type": "stream",
     "text": [
      "[-0.71586133 -0.13090579  0.04743999 -0.69399062 -0.80627821 -0.48372051\n",
      "  1.48785852  0.15374603 -3.87010636 -0.81932223]\n"
     ]
    }
   ],
   "source": [
    "x = np.random.normal(size=10)\n",
    "print(x)"
   ]
  },
  {
   "cell_type": "markdown",
   "id": "76879622-ea97-4908-979d-cca62998988a",
   "metadata": {},
   "source": [
    "x = np.random.normal(size=10) tao mot mang 10 phan tu ngau nhien tu phan phoi chuan va in ra no\n"
   ]
  },
  {
   "cell_type": "code",
   "execution_count": 59,
   "id": "624083bc-09ef-455a-9b68-e8b11b6a4beb",
   "metadata": {},
   "outputs": [
    {
     "name": "stdout",
     "output_type": "stream",
     "text": [
      "[[ 9.41946925e-01  8.85578840e-01  6.96388161e-01 -8.51649959e-02]\n",
      " [-5.93557079e-01  4.88549896e-01 -9.79942728e-01 -1.92385133e-01]\n",
      " [ 7.52452027e-02 -1.02847030e+00  1.32356524e+00 -3.97279416e-01]\n",
      " [ 3.72981936e-01  4.84012490e-01 -1.74864731e+00  2.91496451e-01]\n",
      " [ 1.98097206e-01 -2.37604430e-01  1.76442247e-01  1.23185500e-01]\n",
      " [ 3.83246748e-01 -1.07011972e+00 -2.05703953e+00 -1.89883845e+00]\n",
      " [-5.75903401e-01 -2.55233063e-01 -4.51205722e-01 -5.10064430e-02]\n",
      " [-2.98977070e-01 -1.13804915e+00 -1.27337578e+00 -1.50223911e+00]\n",
      " [ 1.26533729e+00  1.86176673e-01 -2.24079003e+00  1.86382886e-01]\n",
      " [ 4.16376682e-01  4.31406250e-01  5.60046304e-04 -4.87036330e-01]]\n"
     ]
    }
   ],
   "source": [
    " x = np.random.randn(10, 4)\n",
    " print(x)"
   ]
  },
  {
   "cell_type": "markdown",
   "id": "5453df10-a46f-4d59-a04d-0225ed4a8047",
   "metadata": {},
   "source": [
    "x = np.random.randn(10, 4) tao mot mang 10 hang 4 cot gom cac so ngau nhien tu phan phoi chuan va in ra no\n"
   ]
  },
  {
   "cell_type": "code",
   "execution_count": 61,
   "id": "1f6e3752-1343-440b-b0a7-18d45437401f",
   "metadata": {},
   "outputs": [
    {
     "name": "stdout",
     "output_type": "stream",
     "text": [
      "[ 0.47143516 -1.19097569  1.43270697 -0.3126519  -0.72058873  0.88716294\n",
      "  0.85958841 -0.6365235   0.01569637 -2.24268495]\n"
     ]
    }
   ],
   "source": [
    "np.random.seed(1234)\n",
    "x = np.random.normal(size=10)\n",
    "print(x)"
   ]
  },
  {
   "cell_type": "markdown",
   "id": "f398536e-8d4f-410b-bb50-234123a1af19",
   "metadata": {},
   "source": [
    "np.random.seed(1234) dat seed de tao so ngau nhien co the lap lai\n",
    "x = np.random.normal(size=10) tao mang 10 phan tu ngau nhien tu phan phoi chuan va in ra no"
   ]
  },
  {
   "cell_type": "code",
   "execution_count": 63,
   "id": "e3195257-9c68-440f-9828-8266c1cf1325",
   "metadata": {},
   "outputs": [
    {
     "name": "stdout",
     "output_type": "stream",
     "text": [
      "8.914369396699438\n"
     ]
    }
   ],
   "source": [
    " from numpy.random import RandomState\n",
    " rs = RandomState(123)\n",
    " x = rs.normal(10)\n",
    " print(x)"
   ]
  },
  {
   "cell_type": "markdown",
   "id": "5a3b758c-7e55-41f8-98e4-d69d675c131b",
   "metadata": {},
   "source": [
    "rs = RandomState(123) tao mot doi tuong RandomState co seed 123\n",
    "x = rs.normal(10) sinh mot so ngau nhien tu phan phoi chuan (mean=0, std=1) va in ra no"
   ]
  },
  {
   "cell_type": "code",
   "execution_count": 64,
   "id": "abdf8261-5215-4139-8fa5-5d64aa174e56",
   "metadata": {},
   "outputs": [
    {
     "name": "stdout",
     "output_type": "stream",
     "text": [
      "x :  [0 1 2 3 4 5 6 7 8 9]\n"
     ]
    }
   ],
   "source": [
    " x = np.arange(10)\n",
    " y = np.random.permutation(x)\n",
    " print(\"x : \", x)"
   ]
  },
  {
   "cell_type": "markdown",
   "id": "1ccb9308-630a-4c3a-84e3-50359b4260b7",
   "metadata": {},
   "source": [
    "x = np.arange(10) tao mang [0 1 2 3 4 5 6 7 8 9]\n",
    "y = np.random.permutation(x) tao mot ban tron cua x khong thay doi x ban dau\n",
    "print(\"x : \", x) in ra mang x ban dau"
   ]
  },
  {
   "cell_type": "code",
   "execution_count": 65,
   "id": "e10f592b-b497-4398-923d-71b645b64262",
   "metadata": {},
   "outputs": [
    {
     "name": "stdout",
     "output_type": "stream",
     "text": [
      "y :  [9 7 4 3 8 2 6 1 0 5]\n"
     ]
    }
   ],
   "source": [
    " print(\"y : \", y)"
   ]
  },
  {
   "cell_type": "markdown",
   "id": "cda094a4-90c9-4f98-b934-2698306a91cc",
   "metadata": {},
   "source": [
    "print(\"y : \", y) in ra mang y da duoc tron ngau nhien tu x\n"
   ]
  },
  {
   "cell_type": "code",
   "execution_count": 66,
   "id": "62b22619-ed03-4f2d-8704-8e69315f2fcb",
   "metadata": {},
   "outputs": [
    {
     "name": "stdout",
     "output_type": "stream",
     "text": [
      "x avant permutation :  [0 1 2 3 4 5 6 7 8 9]\n"
     ]
    }
   ],
   "source": [
    " x = np.arange(10)\n",
    " print(\"x avant permutation : \", x)"
   ]
  },
  {
   "cell_type": "markdown",
   "id": "ab2d5a62-ac2d-4cf0-b3b1-697fb614a423",
   "metadata": {},
   "source": [
    "x = np.arange(10) tao mang \\[0 1 2 3 4 5 6 7 8 9] va print(\"x avant permutation : \", x) in ra mang x truoc khi tron ngau nhien\n"
   ]
  },
  {
   "cell_type": "code",
   "execution_count": 67,
   "id": "e53734d3-c54e-47c5-82f6-b206f257125d",
   "metadata": {},
   "outputs": [
    {
     "data": {
      "text/plain": [
       "array([7, 5, 4, 1, 0, 8, 3, 9, 6, 2])"
      ]
     },
     "execution_count": 67,
     "metadata": {},
     "output_type": "execute_result"
    }
   ],
   "source": [
    "np.random.permutation(x)"
   ]
  },
  {
   "cell_type": "markdown",
   "id": "7531687c-b6a6-4916-a576-b85c2e9587d8",
   "metadata": {},
   "source": [
    "np.random.permutation(x) tao mot ban tron ngau nhien cua mang x khong thay doi x ban dau\n"
   ]
  },
  {
   "cell_type": "code",
   "execution_count": 68,
   "id": "aa78bf81-ac4a-4528-bdef-d800df9d5f2f",
   "metadata": {},
   "outputs": [
    {
     "name": "stdout",
     "output_type": "stream",
     "text": [
      "xaprès permutation:  [0 1 2 3 4 5 6 7 8 9]\n"
     ]
    }
   ],
   "source": [
    "print(\"xaprès permutation: \",x)"
   ]
  },
  {
   "cell_type": "markdown",
   "id": "910f06c1-ed49-4fb1-8696-971a7f8e86c6",
   "metadata": {},
   "source": [
    "print(\"xaprès permutation: \", x) in ra mang x ban dau, van giu nguyen vi np.random.permutation() khong thay doi mang goc\n"
   ]
  },
  {
   "cell_type": "markdown",
   "id": "af25ec77-6155-4fe2-b07a-717524987343",
   "metadata": {},
   "source": [
    "### 9.3 Exercise"
   ]
  },
  {
   "cell_type": "markdown",
   "id": "ff4a24a1-509f-4de1-9d41-45b714ad031c",
   "metadata": {},
   "source": [
    "Firstexercise"
   ]
  },
  {
   "cell_type": "code",
   "execution_count": 1,
   "id": "8f8971ec-b286-48ba-9923-12015505860f",
   "metadata": {},
   "outputs": [
    {
     "name": "stdout",
     "output_type": "stream",
     "text": [
      "Vector x:  [1 2 3 4 5]\n"
     ]
    }
   ],
   "source": [
    "import numpy as np\n",
    "\n",
    "x = np.array([1, 2, 3, 4, 5])\n",
    "print(\"Vector x: \", x)"
   ]
  },
  {
   "cell_type": "markdown",
   "id": "9b2bf912-12cd-46a1-8dcd-b2af758bdb7a",
   "metadata": {},
   "source": [
    "#####  1. Create this vector using an array called x."
   ]
  },
  {
   "cell_type": "code",
   "execution_count": 2,
   "id": "5dd35d13-c30e-42bb-ac3d-74c081a2608b",
   "metadata": {},
   "outputs": [],
   "source": [
    "import numpy as np\n",
    "\n",
    "x = np.array([1, 2, 3, 4, 5])"
   ]
  },
  {
   "cell_type": "markdown",
   "id": "e3799c7e-709a-4a6b-b98d-537be82f1cb8",
   "metadata": {},
   "source": [
    "##### 2. Display the type of x and its length."
   ]
  },
  {
   "cell_type": "code",
   "execution_count": 3,
   "id": "28072beb-e99d-4e4e-9c1b-966cbcdbeccc",
   "metadata": {},
   "outputs": [
    {
     "name": "stdout",
     "output_type": "stream",
     "text": [
      "<class 'numpy.ndarray'>\n",
      "5\n"
     ]
    }
   ],
   "source": [
    "   print(type(x))  # <class 'numpy.ndarray'>\n",
    "   print(len(x))   # 5"
   ]
  },
  {
   "cell_type": "markdown",
   "id": "3d47518f-0542-406f-89d3-ff49f3c8715e",
   "metadata": {},
   "source": [
    "##### 3. Extract the first element, then do the same with the last one."
   ]
  },
  {
   "cell_type": "code",
   "execution_count": 4,
   "id": "26d25a8f-9426-4b07-b2e9-c7dd53939318",
   "metadata": {},
   "outputs": [],
   "source": [
    "   first_element = x[0]  # 1\n",
    "   last_element = x[-1]   # 5"
   ]
  },
  {
   "cell_type": "markdown",
   "id": "b5d4e087-b46e-4628-9854-d0534732e6c6",
   "metadata": {},
   "source": [
    "##### 4. Extract the first three elements and store them in a vector called a."
   ]
  },
  {
   "cell_type": "code",
   "execution_count": 5,
   "id": "a5b8128b-e764-4b3e-b8c8-988fdd6b4494",
   "metadata": {},
   "outputs": [],
   "source": [
    "x = np.array([1, 2, 3, 4, 5])"
   ]
  },
  {
   "cell_type": "markdown",
   "id": "85f60f96-75ce-44df-be1e-2db2322a09ba",
   "metadata": {},
   "source": [
    "##### 5. Extract the 1st, 2nd, and 5th elements of the vector; store them in a vector called b."
   ]
  },
  {
   "cell_type": "code",
   "execution_count": 6,
   "id": "9770e0e1-21ad-4fcd-8a84-0bb97d34ff4a",
   "metadata": {},
   "outputs": [],
   "source": [
    "b = np.array([10, 20, 30, 40, 50])"
   ]
  },
  {
   "cell_type": "markdown",
   "id": "703afada-f023-4e07-8447-391f2bf7665f",
   "metadata": {},
   "source": [
    "##### 6. Add the number 10 to the vector x, then multiply the result by 2."
   ]
  },
  {
   "cell_type": "code",
   "execution_count": 7,
   "id": "24c57d72-5bcf-4b53-908f-1e03650d2eca",
   "metadata": {},
   "outputs": [],
   "source": [
    "a = np.array([10, 20, 30, 40, 50])"
   ]
  },
  {
   "cell_type": "markdown",
   "id": "0068ea0e-2d92-473d-a422-1164bc161547",
   "metadata": {},
   "source": [
    "##### 7. Add a and b, comment on the result.  "
   ]
  },
  {
   "cell_type": "code",
   "execution_count": 8,
   "id": "7d1d6321-2fc9-4e45-87d0-56a7d2842eca",
   "metadata": {},
   "outputs": [],
   "source": [
    "result_ab = a + b"
   ]
  },
  {
   "cell_type": "markdown",
   "id": "74953406-6095-4109-87c5-620e784e8f7d",
   "metadata": {},
   "source": [
    "##### 8. Make the following addition: x + a; comment on the result, then look at the result of a + x."
   ]
  },
  {
   "cell_type": "code",
   "execution_count": 9,
   "id": "a07bfc99-49bc-4096-a209-a7007ca454b3",
   "metadata": {},
   "outputs": [],
   "source": [
    "result_x_a = x + a\n",
    "result_a_x = a + x"
   ]
  },
  {
   "cell_type": "markdown",
   "id": "3fb7bf4e-715a-4610-9501-133743ef7afd",
   "metadata": {},
   "source": [
    "##### 9. Multiply the vector by the scalar c which will be set to 2"
   ]
  },
  {
   "cell_type": "code",
   "execution_count": 10,
   "id": "8c573cf5-4ae4-4421-852c-4b10855424b3",
   "metadata": {},
   "outputs": [],
   "source": [
    "c = 2\n",
    "x_scaled = x * c"
   ]
  },
  {
   "cell_type": "markdown",
   "id": "d4c3c696-8234-4467-846a-4d2bd28a2bca",
   "metadata": {},
   "source": [
    "##### 10. Multiply a and b; comment on the result."
   ]
  },
  {
   "cell_type": "code",
   "execution_count": 11,
   "id": "5a1f0ba1-4b6e-4233-8ea3-bb691fea0ab1",
   "metadata": {},
   "outputs": [],
   "source": [
    "result_a_b = a * b"
   ]
  },
  {
   "cell_type": "markdown",
   "id": "07049595-03a6-4ac9-a5fe-66f7b368d610",
   "metadata": {},
   "source": [
    "##### 11. Perform the following multiplication: x * a; comment on the results."
   ]
  },
  {
   "cell_type": "code",
   "execution_count": 12,
   "id": "626d8069-2b1f-4101-ac23-69fc19109c5f",
   "metadata": {},
   "outputs": [],
   "source": [
    "result_x_a_multiplication = x * a"
   ]
  },
  {
   "cell_type": "markdown",
   "id": "739d6750-ded2-4636-a2c1-b3fbda3f016c",
   "metadata": {},
   "source": [
    "##### 12. Retrieve the positions of the multiples of 2 and store them in a vector called ind, then store only the multiples of 2 of x in a vector called mult_2."
   ]
  },
  {
   "cell_type": "code",
   "execution_count": 13,
   "id": "fe94ef28-9005-48bc-8f84-5c840346a9bf",
   "metadata": {},
   "outputs": [],
   "source": [
    "ind = np.where(x % 2 == 0)[0]\n",
    "mult_2 = x[x % 2 == 0]"
   ]
  },
  {
   "cell_type": "markdown",
   "id": "4011dfa7-3a2f-46ca-8e7d-5bfbabbe4e8b",
   "metadata": {},
   "source": [
    "##### 13. Display the elements of x that are multiples of 3 and multiples of 2."
   ]
  },
  {
   "cell_type": "code",
   "execution_count": 14,
   "id": "20c92184-dc6c-4269-bacb-eb6636173160",
   "metadata": {},
   "outputs": [],
   "source": [
    "multiples_3_and_2 = x[(x % 3 == 0) & (x % 2 == 0)]  "
   ]
  },
  {
   "cell_type": "markdown",
   "id": "557afd69-f4ba-43d8-b03c-48977ea3f927",
   "metadata": {},
   "source": [
    "##### 14. Display the elements of x that are multiples of 3 or multiples of 2."
   ]
  },
  {
   "cell_type": "code",
   "execution_count": 15,
   "id": "6d13cd8c-af84-491f-bf66-eff40deb6281",
   "metadata": {},
   "outputs": [],
   "source": [
    "multiples_3_or_2 = x[(x % 3 == 0) | (x % 2 == 0)] "
   ]
  },
  {
   "cell_type": "markdown",
   "id": "5cfe96eb-24be-4ed3-b6d3-cf1f84da423b",
   "metadata": {},
   "source": [
    "##### 15. Calculate the sum of the elements of x."
   ]
  },
  {
   "cell_type": "code",
   "execution_count": 16,
   "id": "0e6fcfdc-9bf2-483b-846c-b3ad518ef242",
   "metadata": {},
   "outputs": [],
   "source": [
    "sum_x = np.sum(x)"
   ]
  },
  {
   "cell_type": "markdown",
   "id": "00758978-9217-4da7-a00a-bffe001dc033",
   "metadata": {},
   "source": [
    "##### 16. Replace the first element of x with 4."
   ]
  },
  {
   "cell_type": "code",
   "execution_count": 17,
   "id": "37ea9ced-3e7c-4a84-9fb0-ebaa92855eee",
   "metadata": {},
   "outputs": [],
   "source": [
    "x[0] = 4"
   ]
  },
  {
   "cell_type": "markdown",
   "id": "dffc9890-a8e0-47d0-a52c-5e760477ccaa",
   "metadata": {},
   "source": [
    "##### 17. Replace the first element of x with the value NaN, then calculate the sum of the elements of x."
   ]
  },
  {
   "cell_type": "code",
   "execution_count": 18,
   "id": "93efca71-2f4a-421e-8269-c02c5fe6c426",
   "metadata": {},
   "outputs": [
    {
     "ename": "ValueError",
     "evalue": "cannot convert float NaN to integer",
     "output_type": "error",
     "traceback": [
      "\u001b[31m---------------------------------------------------------------------------\u001b[39m",
      "\u001b[31mValueError\u001b[39m                                Traceback (most recent call last)",
      "\u001b[36mCell\u001b[39m\u001b[36m \u001b[39m\u001b[32mIn[18]\u001b[39m\u001b[32m, line 1\u001b[39m\n\u001b[32m----> \u001b[39m\u001b[32m1\u001b[39m \u001b[43mx\u001b[49m\u001b[43m[\u001b[49m\u001b[32;43m0\u001b[39;49m\u001b[43m]\u001b[49m = np.nan\n\u001b[32m      2\u001b[39m sum_x_nan = np.nansum(x)\n",
      "\u001b[31mValueError\u001b[39m: cannot convert float NaN to integer"
     ]
    }
   ],
   "source": [
    "x[0] = np.nan\n",
    "sum_x_nan = np.nansum(x)"
   ]
  },
  {
   "cell_type": "markdown",
   "id": "eed38181-794a-4ab6-84e5-b52c6ede913d",
   "metadata": {},
   "source": [
    "##### 18. Delete the vector x."
   ]
  },
  {
   "cell_type": "code",
   "execution_count": 19,
   "id": "ff80e233-9b74-47a3-9977-fd9c3560c20c",
   "metadata": {},
   "outputs": [],
   "source": [
    "del x"
   ]
  },
  {
   "cell_type": "markdown",
   "id": "0aa2c55c-0b10-41fd-88bc-31cc2ca2c39a",
   "metadata": {},
   "source": [
    "Second exercise"
   ]
  },
  {
   "cell_type": "markdown",
   "id": "443877fe-481b-427b-ae26-cd83b44be4c0",
   "metadata": {},
   "source": [
    "##### 1. Create the following matrix:"
   ]
  },
  {
   "cell_type": "code",
   "execution_count": 20,
   "id": "9e7d8c8f-6b89-49de-b5af-726bd1829cef",
   "metadata": {},
   "outputs": [],
   "source": [
    "   import numpy as np\n",
    "   A = np.array([[-3, 5, 6], [-1, 2, 2], [1, -1, -1]])"
   ]
  },
  {
   "cell_type": "markdown",
   "id": "3c1c8863-e08a-4936-9fff-6aaf15551428",
   "metadata": {},
   "source": [
    "##### 2. Display the size of A, its number of columns, its number of rows, and its length."
   ]
  },
  {
   "cell_type": "code",
   "execution_count": 21,
   "id": "d8c8704b-4b4c-40a5-88bf-2174abf0f5e3",
   "metadata": {},
   "outputs": [
    {
     "name": "stdout",
     "output_type": "stream",
     "text": [
      "(3, 3)\n",
      "3\n",
      "3\n",
      "3\n"
     ]
    }
   ],
   "source": [
    "   print(A.shape)          # (3, 3) - size of A\n",
    "   print(A.shape[0])       # 3 - number of rows\n",
    "   print(A.shape[1])       # 3 - number of columns\n",
    "   print(len(A))           # 3 - length (number of rows)"
   ]
  },
  {
   "cell_type": "markdown",
   "id": "114e2151-a520-49db-8307-2ee84e6d8561",
   "metadata": {},
   "source": [
    "##### 3. Extract the second column from A, then the first row."
   ]
  },
  {
   "cell_type": "code",
   "execution_count": 22,
   "id": "9c0570fc-e103-4ce1-b4e5-2a6b1223d150",
   "metadata": {},
   "outputs": [],
   "source": [
    "   second_column = A[:, 1]  # array([ 5,  2, -1])\n",
    "   first_row = A[0, :]       # array([-3,  5,  6])"
   ]
  },
  {
   "cell_type": "markdown",
   "id": "650f4c16-86bc-45fb-a9fc-3e7ddd11cd92",
   "metadata": {},
   "source": [
    "##### 4. Extract the element in the third position in the first line."
   ]
  },
  {
   "cell_type": "code",
   "execution_count": 8,
   "id": "91604958-1586-4ec8-b881-2dea6c86d2dc",
   "metadata": {},
   "outputs": [],
   "source": [
    "element = A[0, 2]  # 6"
   ]
  },
  {
   "cell_type": "markdown",
   "id": "5f7c510b-a055-4f26-8e9b-be369155ff17",
   "metadata": {},
   "source": [
    "##### 5. Extract the submatrix of dimension 2 × 2 from the lower corner of A."
   ]
  },
  {
   "cell_type": "code",
   "execution_count": 9,
   "id": "f0bac858-d873-46a3-a20f-d200daf7728a",
   "metadata": {},
   "outputs": [],
   "source": [
    "submatrix = A[1:3, 1:3]  "
   ]
  },
  {
   "cell_type": "markdown",
   "id": "91a24da0-acb1-42ef-9053-751b33fee08c",
   "metadata": {},
   "source": [
    "##### 6. Calculate the sum of the columns and then the rows of A."
   ]
  },
  {
   "cell_type": "code",
   "execution_count": 10,
   "id": "5c05c4f3-e5ba-454c-88d0-fcc82445e68f",
   "metadata": {},
   "outputs": [],
   "source": [
    "   column_sum = np.sum(A, axis=0)  \n",
    "   row_sum = np.sum(A, axis=1)"
   ]
  },
  {
   "cell_type": "markdown",
   "id": "d85f57de-bdbd-4543-8bfb-adcfde7a39da",
   "metadata": {},
   "source": [
    "##### 7. Display the diagonal of A."
   ]
  },
  {
   "cell_type": "code",
   "execution_count": 11,
   "id": "e3c39e15-236a-4ff8-a367-065d735bd07a",
   "metadata": {},
   "outputs": [],
   "source": [
    "diagonal = np.diag(A)  "
   ]
  },
  {
   "cell_type": "markdown",
   "id": "9dd65d7c-29d4-4837-95f0-5b84f61e7f26",
   "metadata": {},
   "source": [
    "##### 8. Add the vector to A and store it in an object called B."
   ]
  },
  {
   "cell_type": "code",
   "execution_count": 12,
   "id": "c187594c-0702-486c-8e15-93fbdbedc8cc",
   "metadata": {},
   "outputs": [],
   "source": [
    "vector = np.array([[1], [2], [3]])  # Column vector\n",
    "B = np.hstack((A, vector))  # Add vector to the right of A"
   ]
  },
  {
   "cell_type": "markdown",
   "id": "77fe10e7-98e2-4c0c-9706-0e7fb3a1a23c",
   "metadata": {},
   "source": [
    "##### 9. Remove the fourth vector from B."
   ]
  },
  {
   "cell_type": "code",
   "execution_count": 13,
   "id": "c9ca76a8-6298-4533-8b93-b5ff4b869309",
   "metadata": {},
   "outputs": [],
   "source": [
    "# Since B has only 4 columns, we can remove the last column (index 3)\n",
    "B = B[:, :-1]  # Now B has only 3 columns"
   ]
  },
  {
   "cell_type": "markdown",
   "id": "06212f01-a683-41ea-ad55-1773b5ca3837",
   "metadata": {},
   "source": [
    "##### 10. Remove the first and third rows from B."
   ]
  },
  {
   "cell_type": "code",
   "execution_count": 14,
   "id": "991bf428-940d-4f7b-af93-9e001edca14c",
   "metadata": {},
   "outputs": [],
   "source": [
    "B = np.delete(B, [0, 2], axis=0)"
   ]
  },
  {
   "cell_type": "markdown",
   "id": "7d5a8878-d2cf-41dd-8d60-cef44e1ec4f6",
   "metadata": {},
   "source": [
    "##### 11. Add scalar 10 to A."
   ]
  },
  {
   "cell_type": "code",
   "execution_count": 55,
   "id": "bc4317e1-849a-406b-9086-eaa0d70be4d6",
   "metadata": {},
   "outputs": [],
   "source": [
    "A_plus_10 = A + 10 "
   ]
  },
  {
   "cell_type": "markdown",
   "id": "dbae8202-edca-4938-9eec-2b1b11982c19",
   "metadata": {},
   "source": [
    "##### 12. Add the vector to the right of the matrix A and store the result in A."
   ]
  },
  {
   "cell_type": "code",
   "execution_count": 56,
   "id": "8683642d-5b4b-43b5-91c2-5a4a3e788a7f",
   "metadata": {},
   "outputs": [],
   "source": [
    "A = np.hstack((A, vector))"
   ]
  },
  {
   "cell_type": "markdown",
   "id": "13321a41-7337-4906-9341-d740d7f4a12c",
   "metadata": {},
   "source": [
    "##### 13. Add the identity matrix to A."
   ]
  },
  {
   "cell_type": "code",
   "execution_count": 59,
   "id": "b85514a7-8486-4652-afb0-b9ee0a403474",
   "metadata": {},
   "outputs": [],
   "source": [
    "I = np.eye(3)  # Identity matrix of size 3\n",
    "A = A + I  # Add identity matrix to A"
   ]
  },
  {
   "cell_type": "markdown",
   "id": "a4041c07-b181-4bac-b14b-385b84891056",
   "metadata": {},
   "source": [
    "##### 14. Divide all the elements of the matrix A by 2."
   ]
  },
  {
   "cell_type": "code",
   "execution_count": 60,
   "id": "09e2f0c4-965f-4a5f-b3be-6f28a821e3d1",
   "metadata": {},
   "outputs": [],
   "source": [
    "A = A / 2"
   ]
  },
  {
   "cell_type": "markdown",
   "id": "49642199-b690-4948-8ced-17b308d31864",
   "metadata": {},
   "source": [
    "##### 15. Multiply the matrix A by the line vector"
   ]
  },
  {
   "cell_type": "code",
   "execution_count": 16,
   "id": "6cfb0fdc-a574-4957-b15a-c682e560b61e",
   "metadata": {},
   "outputs": [],
   "source": [
    "line_vector = np.array([[1, 2, 3]])  # Row vector\n",
    "result_multiplication = A @ line_vector.T  # Matrix multiplication"
   ]
  },
  {
   "cell_type": "markdown",
   "id": "bb104eb8-1da1-47c5-abc8-bc996a08bcce",
   "metadata": {},
   "source": [
    "##### 16. Display the transposition of A."
   ]
  },
  {
   "cell_type": "code",
   "execution_count": 17,
   "id": "6f0878da-0438-4384-8ce0-b0a0edb3843c",
   "metadata": {},
   "outputs": [],
   "source": [
    "A_transpose = A.T"
   ]
  },
  {
   "cell_type": "markdown",
   "id": "33cd7367-96e8-411c-b27c-175099ec6ff1",
   "metadata": {},
   "source": [
    "##### 17. Perform the product with transposition "
   ]
  },
  {
   "cell_type": "code",
   "execution_count": 18,
   "id": "c7ed0028-86d8-4d1c-84a2-0b07e98c68ce",
   "metadata": {},
   "outputs": [],
   "source": [
    "product_transpose = A.T @ A"
   ]
  },
  {
   "cell_type": "markdown",
   "id": "fbe61869-9c60-413c-83b8-c03833efcecc",
   "metadata": {},
   "source": [
    "# Kết thúc Chapter 9"
   ]
  }
 ],
 "metadata": {},
 "nbformat": 4,
 "nbformat_minor": 5
}
