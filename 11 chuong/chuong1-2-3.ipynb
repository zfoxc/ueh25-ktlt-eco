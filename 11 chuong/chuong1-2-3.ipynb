{
 "cells": [
  {
   "cell_type": "code",
   "execution_count": 1,
   "id": "68d64c08-7634-4b7a-a3c4-31dd4bc9113d",
   "metadata": {},
   "outputs": [
    {
     "name": "stdout",
     "output_type": "stream",
     "text": [
      "Hello, world!\n"
     ]
    }
   ],
   "source": [
    "print(\"Hello, world!\")\n"
   ]
  },
  {
   "cell_type": "code",
   "execution_count": 5,
   "id": "28df456c-4ffc-4e09-a492-6a176b1a9790",
   "metadata": {},
   "outputs": [
    {
     "name": "stdout",
     "output_type": "stream",
     "text": [
      "Suppose two swallows \"carry\" it together.\n",
      "African or \"European\" swallows?\n"
     ]
    }
   ],
   "source": [
    "print(\"Suppose two swallows \\\"carry\\\" it together.\")\n",
    "print('African or \"European\" swallows?')"
   ]
  },
  {
   "cell_type": "code",
   "execution_count": 6,
   "id": "b7006a9a-c4d4-45b3-8cb6-01b6b5687151",
   "metadata": {},
   "outputs": [
    {
     "name": "stdout",
     "output_type": "stream",
     "text": [
      "Hello, world!\n",
      "\n"
     ]
    }
   ],
   "source": [
    "# Suzy Student, CSE 142, Fall 2097\n",
    "# This program prints important messages.\n",
    "print(\"Hello, world!\")\n",
    "print() # blank line\n"
   ]
  },
  {
   "cell_type": "code",
   "execution_count": 24,
   "id": "39e34ad2-40bf-483d-98c7-7bc070a010a9",
   "metadata": {},
   "outputs": [
    {
     "name": "stdout",
     "output_type": "stream",
     "text": [
      "\\        /\n",
      " \\______/\n"
     ]
    }
   ],
   "source": [
    "print(\"\\\\        /\")\n",
    "print(\" \\\\______/\")"
   ]
  },
  {
   "cell_type": "code",
   "execution_count": 7,
   "id": "ae33370f-dbe3-4a31-87c0-98144df3bf34",
   "metadata": {},
   "outputs": [],
   "source": [
    "def hello():\n",
    "    print(\"Hello, world!\")\n",
    "    print(\"How are you?\")"
   ]
  },
  {
   "cell_type": "markdown",
   "id": "dba401cf-29ea-445c-8af5-a628794fabf3",
   "metadata": {},
   "source": [
    "# CHAPTER 1. INTRODUCTION"
   ]
  },
  {
   "cell_type": "code",
   "execution_count": 1,
   "id": "44d1b293-a04a-4f20-a0ba-fce818603ea3",
   "metadata": {},
   "outputs": [
    {
     "name": "stdout",
     "output_type": "stream",
     "text": [
      "3\n"
     ]
    }
   ],
   "source": [
    "x = 2+1\n",
    "print(x)"
   ]
  },
  {
   "cell_type": "code",
   "execution_count": 2,
   "id": "ef2b96ce-22ff-4c24-9724-b9a43a30bf67",
   "metadata": {},
   "outputs": [
    {
     "name": "stdout",
     "output_type": "stream",
     "text": [
      "4\n"
     ]
    }
   ],
   "source": [
    "x = 4;\n",
    "y = x;\n",
    "print(y)"
   ]
  },
  {
   "cell_type": "code",
   "execution_count": 3,
   "id": "d29c8832-e500-4df4-aa55-53d3d1d689fe",
   "metadata": {},
   "outputs": [
    {
     "name": "stdout",
     "output_type": "stream",
     "text": [
      "toto\n"
     ]
    }
   ],
   "source": [
    "x = \"toto\"\n",
    "print(x)"
   ]
  },
  {
   "cell_type": "code",
   "execution_count": 4,
   "id": "4a558d0b-eb7c-4993-acfb-b0b7a0975a4d",
   "metadata": {},
   "outputs": [
    {
     "name": "stdout",
     "output_type": "stream",
     "text": [
      "Hello\n"
     ]
    }
   ],
   "source": [
    "print(\"Hello\") # Un autre commentaire\n"
   ]
  },
  {
   "cell_type": "code",
   "execution_count": 8,
   "id": "16c8bdbc-5e8e-4b40-994e-4e77ca80cb5e",
   "metadata": {},
   "outputs": [],
   "source": [
    "import pandas\n"
   ]
  },
  {
   "cell_type": "code",
   "execution_count": 16,
   "id": "c03ba2d0-31bf-4319-bf54-508e7ae3a8b8",
   "metadata": {},
   "outputs": [
    {
     "name": "stdout",
     "output_type": "stream",
     "text": [
      "0    1\n",
      "1    5\n",
      "2    4\n",
      "dtype: int64\n"
     ]
    }
   ],
   "source": [
    "x = pandas.Series([1, 5, 4])   # Tạo một Series gồm 3 phần tử: 1, 5, 4\n",
    "print(x)                       # In Series ra màn hình\n"
   ]
  },
  {
   "cell_type": "code",
   "execution_count": 19,
   "id": "d3f8120b-3021-4168-be1b-b5f1eed1ccaf",
   "metadata": {},
   "outputs": [
    {
     "data": {
      "image/png": "[encoded data removed]",
      "text/plain": [
       "<Figure size 640x480 with 1 Axes>"
      ]
     },
     "metadata": {},
     "output_type": "display_data"
    }
   ],
   "source": [
    "import matplotlib                # Import toàn bộ thư viện Matplotlib (dùng để vẽ biểu đồ)\n",
    "import matplotlib.pyplot as plt  # Import module pyplot của Matplotlib và đặt tên tắt là plt\n",
    "import numpy as np               # Import thư viện NumPy để xử lý mảng số học nhanh\n",
    "\n",
    "x = np.arange(0, 5, 0.1)         # Tạo mảng x từ 0 đến <5, bước nhảy 0.1\n",
    "y = np.sin(x)                    # Tính giá trị sin cho từng phần tử trong x\n",
    "\n",
    "plt.plot(x, y)                   # Vẽ đồ thị đường (line plot) của x và y\n",
    "plt.show()                       # Hiển thị đồ thị ra màn hình\n"
   ]
  },
  {
   "cell_type": "markdown",
   "id": "4bb9449d-c48a-448c-a886-2404396000f9",
   "metadata": {},
   "source": [
    "# CHAPTER 2. TYPES OF DATA"
   ]
  },
  {
   "cell_type": "markdown",
   "id": "6d89a9f5-2494-498d-baae-b50cfbfe9278",
   "metadata": {},
   "source": [
    "## 2.1.Strings"
   ]
  },
  {
   "cell_type": "code",
   "execution_count": 22,
   "id": "75a08a52-2195-408e-9d14-5ec3994bd77f",
   "metadata": {},
   "outputs": [
    {
     "name": "stdout",
     "output_type": "stream",
     "text": [
      "Hello World\n"
     ]
    }
   ],
   "source": [
    "x = \"Hello World\"\n",
    "print (x)"
   ]
  },
  {
   "cell_type": "code",
   "execution_count": 24,
   "id": "768510f1-ffaa-4577-89da-17ea0849c1cf",
   "metadata": {},
   "outputs": [
    {
     "name": "stdout",
     "output_type": "stream",
     "text": [
      "I'm fine\n"
     ]
    }
   ],
   "source": [
    "z = 'I\\'m fine'   # Tạo chuỗi ký tự bao bằng dấu nháy đơn (')\n",
    "                  # Bên trong chuỗi cũng có dấu nháy đơn (trong từ I'm)\n",
    "                  # Để Python không hiểu nhầm đây là dấu kết thúc chuỗi,\n",
    "                  # ta dùng ký tự escape \\ trước dấu nháy đơn => \\'\n",
    "                  # Nghĩa là: in ra một dấu nháy đơn thật trong chuỗi.\n",
    "                  # \\' → in dấu nháy đơn ', \\\" → in dấu nháy kép \", \\\\ → in dấu gạch chéo ngược \\\n",
    "\n",
    "print(z)          # In ra chuỗi: I'm fine\n"
   ]
  },
  {
   "cell_type": "code",
   "execution_count": 25,
   "id": "8561a040-ab03-4c88-b1b1-dc0be34672f3",
   "metadata": {},
   "outputs": [
    {
     "name": "stdout",
     "output_type": "stream",
     "text": [
      "Hello, \n",
      "World\n"
     ]
    }
   ],
   "source": [
    "x = \"Hello, \\nWorld\"   # Tạo chuỗi ký tự\n",
    "                       # \\n là escape character dùng để xuống dòng (newline)\n",
    "                       # Nghĩa là: sau dấu phẩy sẽ nhảy sang dòng mới\n",
    "\n",
    "print(x)               # In ra chuỗi\n"
   ]
  },
  {
   "cell_type": "code",
   "execution_count": 26,
   "id": "fad8a9ce-850e-4961-a11f-338da8687d66",
   "metadata": {},
   "outputs": [
    {
     "name": "stdout",
     "output_type": "stream",
     "text": [
      "Hello World 11\n"
     ]
    }
   ],
   "source": [
    "x = \"Hello World\"       # Chuỗi \"Hello World\"\n",
    "print(x, len(x))           # In ra chuỗi x và độ dài của nó\n",
    "                           # len(x) = 13 vì chuỗi gồm:\n",
    "                           "
   ]
  },
  {
   "cell_type": "markdown",
   "id": "b1f939a3-a080-4753-b2dd-5ba9b8d632fd",
   "metadata": {},
   "source": [
    "### 2.1.1 Concatenation of Strings"
   ]
  },
  {
   "cell_type": "code",
   "execution_count": 27,
   "id": "bb7a3111-d436-426b-a427-afba064f823f",
   "metadata": {},
   "outputs": [
    {
     "name": "stdout",
     "output_type": "stream",
     "text": [
      "Go Habs Go! Go Habs Go! Go Habs Go! Woo Hoo!\n",
      "You shall not pass!\n"
     ]
    }
   ],
   "source": [
    "print( 3 * \"Go Habs Go! \" + \"Woo Hoo!\")\n",
    "x = ('You shall ' 'not ' \"pass!\")\n",
    "print(x)"
   ]
  },
  {
   "cell_type": "code",
   "execution_count": 29,
   "id": "e4c7391d-a835-4554-ba1b-dd2137306603",
   "metadata": {},
   "outputs": [
    {
     "name": "stdout",
     "output_type": "stream",
     "text": [
      "I like to code in R\n",
      "I like to code in Python\n"
     ]
    }
   ],
   "source": [
    "x = \"I like to code in {}\"            # Chuỗi này chứa cặp dấu {} → đây là placeholder (vị trí trống) sẽ được thay thế bằng giá trị khác khi dùng .format()\n",
    "langage_1 = \"R\"              \n",
    "langage_2 = \"Python\"                 # Tạo hai biến lưu tên ngôn ngữ lập trình\n",
    "preference_1 = x.format(langage_1)   # Gọi phương thức .format(langage_1) → thay {} trong chuỗi x bằng \"R\"\n",
    "print(preference_1)                  # In ra: I like to code in R\n",
    "preference_2 = x.format(langage_2)   # Thay {} trong chuỗi x bằng \"Python\"\n",
    "print(preference_2)                  # In ra: I like to code in Python\n"
   ]
  },
  {
   "cell_type": "markdown",
   "id": "c8bbf804-ef2d-4088-ae7a-5803711699f0",
   "metadata": {},
   "source": [
    "### 2.1.2 Indexing and Extraction"
   ]
  },
  {
   "cell_type": "code",
   "execution_count": 1,
   "id": "929636d2-7d81-468a-959d-5097fc5aa05c",
   "metadata": {},
   "outputs": [
    {
     "name": "stdout",
     "output_type": "stream",
     "text": [
      "shall\n"
     ]
    }
   ],
   "source": [
    "x = \"You shall not pass!\"  # Lấy ký tự từ vị trí index 4 đến index 9\n",
    "print(x[4:9])            # Lưu ý: Python slicing x[a:b] sẽ lấy từ index a đến b-1 (b không bao gồm)\n"
   ]
  },
  {
   "cell_type": "code",
   "execution_count": 2,
   "id": "70efa057-e813-4b57-9d19-92341b26243d",
   "metadata": {},
   "outputs": [
    {
     "name": "stdout",
     "output_type": "stream",
     "text": [
      "shall not pass!\n",
      "You shall not pass\n",
      "pass!\n",
      "sln s\n"
     ]
    }
   ],
   "source": [
    "x = \"You shall not pass!\"\n",
    "print(x[4:])   # Lấy từ ký tự ở vị trí chỉ số 4 (ký tự thứ 5) đến hết chuỗi\n",
    "print(x[:-1])  # Lấy từ đầu chuỗi đến trước ký tự cuối cùng\n",
    "print(x[-5:])  # Lấy từ ký tự thứ 5 tính từ cuối chuỗi đến hết chuỗi\n",
    "print(x[4::3]) # Lấy từ ký tự ở vị trí chỉ số 4 (ký tự thứ 5) đến hết chuỗi,\n",
    "               # với bước nhảy là 3 (lấy 1 ký tự, bỏ 2 ký tự, rồi lặp lại)\n"
   ]
  },
  {
   "cell_type": "markdown",
   "id": "6f8623a9-af9f-4f28-98f4-3e22c5a86723",
   "metadata": {},
   "source": [
    "### 2.1.3. Available Methods with Strings"
   ]
  },
  {
   "cell_type": "code",
   "execution_count": 3,
   "id": "d2372228-2455-412b-ba70-5bc258b097ec",
   "metadata": {},
   "outputs": [
    {
     "name": "stdout",
     "output_type": "stream",
     "text": [
      "3\n"
     ]
    }
   ],
   "source": [
    "x = \"le train de tes injures roule sur le rail de mon indifférence\"\n",
    "print(x.count(\"in\")) # Đếm số lần chuỗi con \"in\" xuất hiện trong x (phân biệt hoa thường, không tính chồng lấn)"
   ]
  },
  {
   "cell_type": "code",
   "execution_count": 4,
   "id": "899b3d99-c360-43d3-a329-bd6ed76cb95d",
   "metadata": {},
   "outputs": [
    {
     "name": "stdout",
     "output_type": "stream",
     "text": [
      "le train de tes injures roule sur le rail de mon indifférence\n",
      "LE TRAIN DE TES INJURES ROULE SUR LE RAIL DE MON INDIFFÉRENCE\n"
     ]
    }
   ],
   "source": [
    "print(x.lower()) # Chuyển toàn bộ chuỗi sang chữ thường\n",
    "print(x.upper()) # Chuyển toàn bộ chuỗi sang chữ hoa"
   ]
  },
  {
   "cell_type": "code",
   "execution_count": 5,
   "id": "2e65c449-7129-44a2-b712-139ba8d2e1cb",
   "metadata": {},
   "outputs": [
    {
     "name": "stdout",
     "output_type": "stream",
     "text": [
      "6\n",
      "-1\n"
     ]
    }
   ],
   "source": [
    "# Trả về chỉ số (index) của lần xuất hiện đầu tiên của chuỗi con \"in\" trong x\n",
    "print(x.find(\"in\")) # Nếu không tìm thấy sẽ trả về -1\n",
    "print(x.find(\"hello\")) # Tìm chuỗi con \"hello\" trong x, không có nên trả về -1"
   ]
  },
  {
   "cell_type": "code",
   "execution_count": 6,
   "id": "0fd946de-7834-4fb7-8fbb-54bc03e6ed95",
   "metadata": {},
   "outputs": [
    {
     "name": "stdout",
     "output_type": "stream",
     "text": [
      "16\n",
      "49\n"
     ]
    }
   ],
   "source": [
    "print(x.find(\"in\", 7, 20)) # Tìm chuỗi con \"in\" trong x, bắt đầu từ vị trí chỉ số 7 đến trước vị trí 20\n",
    "print(x.find(\"in\", 20)) # Tìm chuỗi con \"in\" trong x, bắt đầu từ vị trí chỉ số 20 đến hết chuỗi"
   ]
  },
  {
   "cell_type": "code",
   "execution_count": 8,
   "id": "e633551a-43ef-46c6-a11c-ef88185545e1",
   "metadata": {},
   "outputs": [
    {
     "name": "stdout",
     "output_type": "stream",
     "text": [
      "-1\n",
      "13\n"
     ]
    }
   ],
   "source": [
    "x = \"Mademoiselle Deray, il est interdit de manger de la choucroute ici.\"\n",
    "print(x.find(\"deray\"))\n",
    "print(x.capitalize().find(\"deray\")) # Chuyển ký tự đầu tiên của chuỗi x thành chữ hoa, các ký tự còn lại thành chữ thường"
   ]
  },
  {
   "cell_type": "code",
   "execution_count": 9,
   "id": "a893f3d9-31a5-4151-b815-3763855c6bcb",
   "metadata": {},
   "outputs": [
    {
     "name": "stdout",
     "output_type": "stream",
     "text": [
      "['Mademoiselle', 'Deray,', 'il', 'est', 'interdit', 'de', 'manger', 'de', 'la', 'choucroute', 'ici.']\n",
      "['Mademoiselle', 'Deray,', 'il', 'est interdit de manger de la choucroute ici.']\n"
     ]
    }
   ],
   "source": [
    "print(x.split(\" \"))    # Tách chuỗi x thành danh sách các từ, dùng dấu cách \" \" làm ký tự phân tách \n",
    "print(x.split(\" \", 3)) # Tách chuỗi x thành danh sách các phần, dùng dấu cách \" \" làm ký tự phân tách, và chỉ tách tối đa 3 lần (sau đó phần còn lại sẽ giữ nguyên)"
   ]
  },
  {
   "cell_type": "code",
   "execution_count": 11,
   "id": "b44a3a3d-ea55-41ae-be92-440bed76b754",
   "metadata": {},
   "outputs": [
    {
     "name": "stdout",
     "output_type": "stream",
     "text": [
      "['\"No, I am your Father!', \"- No... No. It's not true! That's impossible!\", '- Search your feelings. You know it to be true.', '- Noooooooo! Noooo!\"']\n"
     ]
    }
   ],
   "source": [
    "x = '''\"No, I am your Father!\n",
    "- No... No. It's not true! That's impossible!\n",
    "- Search your feelings. You know it to be true.\n",
    "- Noooooooo! Noooo!\"'''\n",
    "print(x.splitlines()) # Tách chuỗi x thành danh sách các dòng, ngắt tại mỗi ký tự xuống dòng (\\n)"
   ]
  },
  {
   "cell_type": "code",
   "execution_count": 12,
   "id": "dfb8b22f-5ee4-4a46-aae1-1cb3b6375695",
   "metadata": {},
   "outputs": [
    {
     "name": "stdout",
     "output_type": "stream",
     "text": [
      "Pardon, du sucre ?\n",
      "egallic\n"
     ]
    }
   ],
   "source": [
    "x = \"\\n\\n Pardon, du sucre ? \\n \\n\"\n",
    "print(x.strip())       # Loại bỏ tất cả khoảng trắng và ký tự xuống dòng (\\n) ở đầu và cuối chuỗi\n",
    "x = \"www.egallic.fr\"\n",
    "print(x.strip(\"wrf.\")) # Loại bỏ tất cả các ký tự 'w', 'r', 'f' và '.' ở cả đầu và cuối chuỗi (cho đến khi gặp ký tự khác)"
   ]
  },
  {
   "cell_type": "code",
   "execution_count": 13,
   "id": "f3b94d8b-d6ec-43c0-89f9-085b621fb873",
   "metadata": {},
   "outputs": [
    {
     "name": "stdout",
     "output_type": "stream",
     "text": [
      "Ridge ! Vous, ici ? Dans votre propre salle de bain ? Quelle surprise !\n",
      "Criquette!Vous,ici?Dansvotrepropresalledebain?Quellesurprise!\n"
     ]
    }
   ],
   "source": [
    "x = \"Criquette ! Vous, ici ? Dans votre propre salle de bain ? Quelle surprise !\"\n",
    "print(x.replace(\"Criquette\", \"Ridge\")) # Thay thế tất cả chuỗi con \"Criquette\" trong x bằng \"Ridge\"\n",
    "print(x.replace(\" \", \"\"))              # Xóa tất cả khoảng trắng trong chuỗi x (thay thế \" \" bằng chuỗi rỗng \"\")\n"
   ]
  },
  {
   "cell_type": "code",
   "execution_count": 15,
   "id": "51699e8f-3942-48e2-b857-abb15f67ec58",
   "metadata": {},
   "outputs": [],
   "source": [
    "# capitalize()  # Viết hoa ký tự đầu tiên, các ký tự còn lại thành chữ thường\n",
    "# casefold()    # Chuyển toàn bộ thành chữ thường, dùng khi so sánh không phân biệt hoa/thường\n",
    "# count()       # Đếm số lần xuất hiện của chuỗi con (không tính chồng lấn)\n",
    "# encode()      # Mã hóa chuỗi theo bảng mã chỉ định\n",
    "# find()        # Trả về vị trí đầu tiên tìm thấy chuỗi con, -1 nếu không tìm thấy\n",
    "# lower()       # Chuyển toàn bộ thành chữ thường\n",
    "# replace()     # Thay thế chuỗi con này bằng chuỗi con khác\n",
    "# split()       # Tách chuỗi thành danh sách dựa trên ký tự phân tách\n",
    "# title()       # Viết hoa chữ cái đầu của mỗi từ\n",
    "# upper()       # Chuyển toàn bộ thành chữ hoa\n"
   ]
  },
  {
   "cell_type": "markdown",
   "id": "cffe75e5-e7e6-40f3-bdf5-9e3755c46d33",
   "metadata": {},
   "source": [
    "### 2.1.4 Conversion to character strings"
   ]
  },
  {
   "cell_type": "code",
   "execution_count": 18,
   "id": "626bb91d-e20f-431f-99cc-758f0e9ff45d",
   "metadata": {},
   "outputs": [
    {
     "name": "stdout",
     "output_type": "stream",
     "text": [
      "He has 0 followers.\n"
     ]
    }
   ],
   "source": [
    "nb_followers = 0\n",
    "message = \"He has \" + str(nb_followers) + \" followers.\"\n",
    "print(message)  # Chuyển nb_followers (kiểu int) sang chuỗi bằng str(), rồi nối với các chuỗi khác để tạo thông điệp đầy đủ"
   ]
  },
  {
   "cell_type": "markdown",
   "id": "7cd69775-29b2-46da-baa2-34b339a09144",
   "metadata": {},
   "source": [
    "## 2.2 Numerical values"
   ]
  },
  {
   "cell_type": "markdown",
   "id": "83a23a11-c6f4-40bf-acfe-4199db767011",
   "metadata": {},
   "source": [
    "### 2.2.1 Integers"
   ]
  },
  {
   "cell_type": "code",
   "execution_count": 19,
   "id": "22786de5-dd75-4d56-ba4e-d52979d130b7",
   "metadata": {},
   "outputs": [
    {
     "name": "stdout",
     "output_type": "stream",
     "text": [
      "<class 'int'>\n",
      "<class 'int'>\n"
     ]
    }
   ],
   "source": [
    "x = 2\n",
    "y = -2\n",
    "print(type(x))\n",
    "print(type(y))"
   ]
  },
  {
   "cell_type": "code",
   "execution_count": 20,
   "id": "7f8833d7-38db-4bc0-bd64-1068f4124181",
   "metadata": {},
   "outputs": [
    {
     "name": "stdout",
     "output_type": "stream",
     "text": [
      "<class 'float'>\n",
      "<class 'float'>\n"
     ]
    }
   ],
   "source": [
    "x = 2.0\n",
    "y = 48.15162342\n",
    "print(type(x))\n",
    "print(type(y))"
   ]
  },
  {
   "cell_type": "code",
   "execution_count": 23,
   "id": "24e8e201-16c5-4083-9838-3f3fff2e35f3",
   "metadata": {},
   "outputs": [
    {
     "name": "stdout",
     "output_type": "stream",
     "text": [
      "3200000000000.0\n",
      "3200000000000.0\n"
     ]
    }
   ],
   "source": [
    "x = 3.2E12\n",
    "y = 3.2e12\n",
    "print(x)\n",
    "print(y)"
   ]
  },
  {
   "cell_type": "markdown",
   "id": "006c29ac-ba71-4d15-a4b9-401978df8b9c",
   "metadata": {},
   "source": [
    "### 2.2.3 Complex numbers"
   ]
  },
  {
   "cell_type": "code",
   "execution_count": 24,
   "id": "51bdab6e-4d05-47c2-9d2f-46e46bcec1ec",
   "metadata": {},
   "outputs": [
    {
     "name": "stdout",
     "output_type": "stream",
     "text": [
      "(1+3j)\n",
      "<class 'complex'>\n"
     ]
    }
   ],
   "source": [
    "z = 1+3j\n",
    "print(z)\n",
    "print(type(z))"
   ]
  },
  {
   "cell_type": "code",
   "execution_count": 27,
   "id": "de0cd9ad-9f4e-4518-81fc-08b573b34ce5",
   "metadata": {},
   "outputs": [
    {
     "name": "stdout",
     "output_type": "stream",
     "text": [
      "(1+3j)\n",
      "<class 'complex'>\n",
      "(1-3j)\n"
     ]
    }
   ],
   "source": [
    "z = complex(1, 3)     # Tạo số phức 1 + 3j\n",
    "print(z)              # In số phức\n",
    "print(type(z))        # In kiểu dữ liệu (<class 'complex'>)\n",
    "print(z.conjugate())  # Lấy số phức liên hợp (1 - 3j)"
   ]
  },
  {
   "cell_type": "code",
   "execution_count": 3,
   "id": "ab571d4f-f5f0-4951-94ab-152cac54632b",
   "metadata": {},
   "outputs": [
    {
     "name": "stdout",
     "output_type": "stream",
     "text": [
      "1.0\n",
      "3.0\n"
     ]
    }
   ],
   "source": [
    "z = complex(1, 3)   # Tạo số phức 1 + 3j (1 là phần thực, 3 là phần ảo)\n",
    "print(z.real)       # Lấy phần thực của số phức z → 1.0\n",
    "print(z.imag)       # Lấy phần ảo của số phức z → 3.0"
   ]
  },
  {
   "cell_type": "markdown",
   "id": "7b14c8b1-a079-4d8a-b2f9-c0b530d1dd11",
   "metadata": {},
   "source": [
    "### 2.2.4 Conversions"
   ]
  },
  {
   "cell_type": "code",
   "execution_count": 5,
   "id": "78e367cd-787f-47ec-acb0-c6beb870152d",
   "metadata": {},
   "outputs": [
    {
     "name": "stdout",
     "output_type": "stream",
     "text": [
      "<class 'int'>\n",
      "<class 'str'>\n"
     ]
    }
   ],
   "source": [
    "x = \"3\"              # Biến x là chuỗi chứa ký tự '3'\n",
    "x_int = int(x)       # Chuyển chuỗi '3' thành số nguyên 3\n",
    "print(type(x_int))   # In kiểu dữ liệu của x_int → <class 'int'>\n",
    "print(type(x))       # In kiểu dữ liệu của x → <class 'str'>"
   ]
  },
  {
   "cell_type": "code",
   "execution_count": 6,
   "id": "18c09787-1fe6-4eef-a676-2e2900029de8",
   "metadata": {},
   "outputs": [
    {
     "name": "stdout",
     "output_type": "stream",
     "text": [
      "3\n"
     ]
    }
   ],
   "source": [
    "x = 3.6            # Biến x là số thực (float) 3.6\n",
    "x_int = int(x)     # Ép kiểu float sang int → bỏ phần thập phân, giữ phần nguyên\n",
    "print(x_int)       # In ra giá trị 3"
   ]
  },
  {
   "cell_type": "code",
   "execution_count": 8,
   "id": "73cc3ee2-8a0b-4415-b98d-0f979d406f9f",
   "metadata": {},
   "outputs": [
    {
     "name": "stdout",
     "output_type": "stream",
     "text": [
      "<class 'float'>\n",
      "3.0\n"
     ]
    }
   ],
   "source": [
    "x = \"3.6\"               # Biến x là chuỗi chứa ký tự '3.6'\n",
    "x_float = float(x)      # Chuyển chuỗi '3.6' thành số thực (float)\n",
    "print(type(x_float))    # In kiểu dữ liệu của x_float → <class 'float'>\n",
    "x = 3                   # Gán lại giá trị x là số nguyên 3\n",
    "x_float = float(x)      # Chuyển số nguyên 3 thành số thực 3.0\n",
    "print(x_float)          # In ra giá trị 3.0\n"
   ]
  },
  {
   "cell_type": "code",
   "execution_count": 9,
   "id": "7b46bc66-5ff4-4006-822b-1556f4ed66a9",
   "metadata": {},
   "outputs": [
    {
     "name": "stdout",
     "output_type": "stream",
     "text": [
      "(2+0j)\n"
     ]
    }
   ],
   "source": [
    "x = \"2\"                 # Biến x là chuỗi chứa ký tự '2'\n",
    "x_complex = complex(x)  # Chuyển chuỗi '2' thành số phức 2 + 0j\n",
    "print(x_complex)        # In ra số phức → (2+0j)"
   ]
  },
  {
   "cell_type": "code",
   "execution_count": 10,
   "id": "845a410d-13d6-454b-82a7-ea495e7584f4",
   "metadata": {},
   "outputs": [
    {
     "name": "stdout",
     "output_type": "stream",
     "text": [
      "(2.4+0j)\n"
     ]
    }
   ],
   "source": [
    "x = 2.4                # Biến x là số thực (float) 2.4\n",
    "x_complex = complex(x) # Chuyển số thực 2.4 thành số phức 2.4 + 0j\n",
    "print(x_complex)       # In ra số phức → (2.4+0j)"
   ]
  },
  {
   "cell_type": "markdown",
   "id": "698ce456-9434-4816-aa42-ae28cd8e7b27",
   "metadata": {},
   "source": [
    "## 2.3 Booleans"
   ]
  },
  {
   "cell_type": "code",
   "execution_count": 11,
   "id": "86737d92-89f6-4e5a-85b2-faebc3d62b53",
   "metadata": {},
   "outputs": [
    {
     "name": "stdout",
     "output_type": "stream",
     "text": [
      "True False\n"
     ]
    }
   ],
   "source": [
    "x = True\n",
    "y = False\n",
    "print(x, y)"
   ]
  },
  {
   "cell_type": "code",
   "execution_count": 12,
   "id": "afedfac5-d0f6-40ba-bbb9-0b090da5579e",
   "metadata": {},
   "outputs": [
    {
     "name": "stdout",
     "output_type": "stream",
     "text": [
      "3\n"
     ]
    }
   ],
   "source": [
    "res = True + True + False + True*True\n",
    "print(res)"
   ]
  },
  {
   "cell_type": "markdown",
   "id": "a5d4865d-3cd0-4fd8-9af0-d3e2036698e8",
   "metadata": {},
   "source": [
    "## 2.4 Empty Object"
   ]
  },
  {
   "cell_type": "code",
   "execution_count": 13,
   "id": "ecb5ba56-9b7f-4116-bf0e-a7d7057de67b",
   "metadata": {},
   "outputs": [
    {
     "name": "stdout",
     "output_type": "stream",
     "text": [
      "None\n",
      "<class 'NoneType'>\n"
     ]
    }
   ],
   "source": [
    "x = None\n",
    "print(x)\n",
    "print(type(x))"
   ]
  },
  {
   "cell_type": "code",
   "execution_count": 16,
   "id": "7c535f05-43b0-4acf-91e1-7f333f5d85cd",
   "metadata": {},
   "outputs": [
    {
     "name": "stdout",
     "output_type": "stream",
     "text": [
      "False\n",
      "True\n"
     ]
    }
   ],
   "source": [
    "x = 1                 # Biến x có giá trị 1\n",
    "y = None              # Biến y có giá trị None (không có giá trị)\n",
    "print(x is None)      # Kiểm tra xem x có phải là None không → False\n",
    "print(y is None)"
   ]
  },
  {
   "cell_type": "markdown",
   "id": "21faca59-0fa9-4481-bb7a-4bb77a813439",
   "metadata": {},
   "source": [
    "## 2.5 Dates and Times"
   ]
  },
  {
   "cell_type": "markdown",
   "id": "192fca72-d511-4bb2-a2c9-cd7d545004a7",
   "metadata": {},
   "source": [
    "### 2.5.1 Module Datetime"
   ]
  },
  {
   "cell_type": "code",
   "execution_count": 19,
   "id": "f84d500d-d799-4de5-83dd-007ccb0ee389",
   "metadata": {},
   "outputs": [
    {
     "name": "stdout",
     "output_type": "stream",
     "text": [
      "2013-04-23\n",
      "<class 'datetime.date'>\n",
      "2013\n",
      "4\n",
      "23\n",
      "Tue Apr 23 00:00:00 2013\n"
     ]
    }
   ],
   "source": [
    "from datetime import date             # Nhập lớp date từ module datetime\n",
    "debut = date(year=2013, month=4, day=23)  # Tạo đối tượng ngày 23/04/2013\n",
    "print(debut)                            # In ra ngày → 2013-04-23\n",
    "print(type(debut))                      # Kiểu dữ liệu của debut → <class 'datetime.date'>\n",
    "print(debut.year)                       # Lấy năm → 2013\n",
    "print(debut.month)                      # Lấy tháng → 4\n",
    "print(debut.day)                        # Lấy ngày → 23\n",
    "print(debut.ctime())   # Chuyển ngày debut thành chuỗi kiểu \"Day Mon DD HH:MM:SS YYYY\""
   ]
  },
  {
   "cell_type": "code",
   "execution_count": 21,
   "id": "1a963896-c22c-4460-9e30-c451d65085ac",
   "metadata": {},
   "outputs": [
    {
     "name": "stdout",
     "output_type": "stream",
     "text": [
      "1\n",
      "2\n",
      "734981\n",
      "2013-04-23\n",
      "datetime.IsoCalendarDate(year=2013, week=17, weekday=2)\n"
     ]
    }
   ],
   "source": [
    "print(debut.weekday())       # Trả về thứ trong tuần (0 = Thứ Hai, 6 = Chủ Nhật) → 1 (Thứ Ba)\n",
    "print(debut.isoweekday())    # Trả về thứ trong tuần theo chuẩn ISO (1 = Thứ Hai, 7 = Chủ Nhật) → 2 (Thứ Ba)\n",
    "print(debut.toordinal())     # Trả về số thứ tự ngày tính từ 01/01/0001 → 735755\n",
    "print(debut.isoformat())     # Trả về ngày theo định dạng ISO \"YYYY-MM-DD\" → \"2013-04-23\"\n",
    "print(debut.isocalendar())   # Trả về tuple (năm ISO, tuần ISO, thứ trong tuần ISO) → (2013, 17, 2)"
   ]
  },
  {
   "cell_type": "code",
   "execution_count": 24,
   "id": "ea996bba-c83a-4853-8330-76f8226a432c",
   "metadata": {},
   "outputs": [
    {
     "name": "stdout",
     "output_type": "stream",
     "text": [
      "2014-04-23 2013-05-23 2013-04-24\n",
      "2013-04-23\n",
      "23-04-2013\n",
      "23/04/2013\n",
      "Jour : 23, Mois : 04, Annee : 2013\n"
     ]
    }
   ],
   "source": [
    "x = debut.replace(year=2014)   # Tạo ngày mới với năm thay đổi thành 2014 → 2014-04-23\n",
    "y = debut.replace(month=5)     # Tạo ngày mới với tháng thay đổi thành 5 → 2013-05-23\n",
    "z = debut.replace(day=24)      # Tạo ngày mới với ngày thay đổi thành 24 → 2013-04-24\n",
    "print(x, y, z)                 # In ra các ngày mới\n",
    "print(debut)                    # Ngày gốc không thay đổi → 2013-04-23\n",
    "# Định dạng ngày gốc thành chuỗi theo các kiểu khác nhau\n",
    "print(debut.strftime(\"%d-%m-%Y\"))                    # \"23-04-2013\"\n",
    "print(debut.strftime(\"%d/%m/%Y\"))                    # \"23/04/2013\"\n",
    "print(debut.strftime(\"Jour : %d, Mois : %m, Annee : %Y\")) # \"Jour : 23, Mois : 04, Annee : 2013\" \n",
    "\n"
   ]
  },
  {
   "cell_type": "code",
   "execution_count": 25,
   "id": "d4cf5818-7190-41e0-a6ac-29b3df22f783",
   "metadata": {},
   "outputs": [],
   "source": [
    "# %a  Abbreviation of the day of the week (depends on location) → Tue\n",
    "# %A  Full weekday name (depends on location) → Tuesday\n",
    "# %b  Abbreviation of the month (depends on location) → Apr\n",
    "# %B  Full month name (depends on location) → April\n",
    "# %c  Date and time (depends on location) in format %a %e %b %H:%M:%S %Y → Tue Apr 23 00:00:00 2013\n",
    "# %C  Century (00-99), integer part of year//100 → 20\n",
    "# %d  Day of the month (01–31) → 23\n",
    "# %D  Date in format %m/%d/%y → 04/23/13\n",
    "# %e  Day of the month in decimal number (1–31) → 23\n",
    "# %F  Date in format %Y-%m-%d → 2013-04-23\n",
    "# %h  Same as %b → Apr\n",
    "# %H  Hour (00–23) → 00\n",
    "# %I  Hour (01–12) → 12\n",
    "# %j  Day of the year (001–366) → 113\n",
    "# %m  Month (01–12) → 04\n",
    "# %M  Minute (00–59) → 00\n",
    "# %n  Line break in output, white character in input → \\n\n",
    "# %p  AM/PM → PM\n",
    "# %r  Hour in 12-hour format with AM/PM → 12:00:00 AM\n",
    "# %R  Same as %H:%M → 00:00\n",
    "# %S  Second (00–61) → 00\n",
    "# %t  Tabulation in output, white character in input → \\t\n",
    "# %T  Same as %H:%M:%S → 00:00:00\n"
   ]
  },
  {
   "cell_type": "code",
   "execution_count": 30,
   "id": "fc55e763-363d-4b3e-8a60-ad364c2935fb",
   "metadata": {},
   "outputs": [
    {
     "name": "stdout",
     "output_type": "stream",
     "text": [
      "23:04:59\n",
      "<class 'datetime.time'>\n"
     ]
    }
   ],
   "source": [
    "from datetime import time              # Nhập lớp time từ module datetime\n",
    "moment = time(hour=23, minute=4, second=59)  # Tạo đối tượng thời gian 23:04:59\n",
    "print(moment)                          # In ra thời gian → 23:04:59\n",
    "print(type(moment))                     # Kiểu dữ liệu của moment → <class 'datetime.time'>\n"
   ]
  },
  {
   "cell_type": "code",
   "execution_count": 31,
   "id": "5fc02a22-0e16-4cc7-a7d1-2e9409f44695",
   "metadata": {},
   "outputs": [
    {
     "name": "stdout",
     "output_type": "stream",
     "text": [
      "23:04:59.000230\n",
      "<class 'datetime.time'>\n",
      "23\n",
      "4\n",
      "59\n",
      "230\n"
     ]
    }
   ],
   "source": [
    "from datetime import time\n",
    "moment = time(hour=23, minute=4, second=59, microsecond=230)  # Tạo thời gian 23:04:59.000230\n",
    "print(moment)                       # In ra → 23:04:59.000230\n",
    "print(type(moment))                  # Kiểu dữ liệu → <class 'datetime.time'>\n",
    "print(moment.hour)                   # Lấy giờ → 23\n",
    "print(moment.minute)                 # Lấy phút → 4\n",
    "print(moment.second)                 # Lấy giây → 59\n",
    "print(moment.microsecond)            # Lấy microgiây → 230"
   ]
  },
  {
   "cell_type": "code",
   "execution_count": 33,
   "id": "e517a7d7-6d49-4ffb-86e8-fc07d9a978b5",
   "metadata": {},
   "outputs": [
    {
     "name": "stdout",
     "output_type": "stream",
     "text": [
      "2013-04-23 23:04:59\n",
      "<class 'datetime.datetime'>\n",
      "2025-08-15 07:36:17.692738\n",
      "2025-08-15 07:36:17.692786\n",
      "1366758299.0\n"
     ]
    }
   ],
   "source": [
    "from datetime import datetime\n",
    "# Tạo đối tượng datetime với ngày 23/04/2013 và thời gian 23:04:59\n",
    "x = datetime(year=2013, month=4, day=23, hour=23, minute=4, second=59)\n",
    "print(x)                  # In ra → 2013-04-23 23:04:59\n",
    "print(type(x))             # Kiểu dữ liệu → <class 'datetime.datetime'>\n",
    "print(x.today())           # Trả về ngày giờ hiện tại (giống datetime.today())\n",
    "print(datetime.today())    # Trả về ngày giờ hiện tại\n",
    "print(x.timestamp())       # Trả về số giây kể từ 01/01/1970 (UNIX timestamp)\n"
   ]
  },
  {
   "cell_type": "code",
   "execution_count": 35,
   "id": "c90b1e83-bc49-49fb-852b-c7866ed1cb7a",
   "metadata": {},
   "outputs": [
    {
     "name": "stdout",
     "output_type": "stream",
     "text": [
      "2013-04-23\n",
      "<class 'datetime.date'>\n"
     ]
    }
   ],
   "source": [
    "x_date = x.date()       # Lấy phần ngày (date) từ đối tượng datetime x\n",
    "print(x_date)           # In ra → 2013-04-23\n",
    "print(type(x_date))     # Kiểu dữ liệu → <class 'datetime.date'>"
   ]
  },
  {
   "cell_type": "code",
   "execution_count": 36,
   "id": "9e4445c1-cfa0-4127-963e-94cb7d5e2695",
   "metadata": {},
   "outputs": [
    {
     "name": "stdout",
     "output_type": "stream",
     "text": [
      "23:04:59\n",
      "<class 'datetime.time'>\n"
     ]
    }
   ],
   "source": [
    "x_time = x.time()\n",
    "print(x_time)\n",
    "print(type(x_time))"
   ]
  },
  {
   "cell_type": "code",
   "execution_count": 45,
   "id": "aa1f1c47-71bc-47cd-b52b-b99520ff6171",
   "metadata": {},
   "outputs": [
    {
     "data": {
      "text/plain": [
       "1"
      ]
     },
     "execution_count": 45,
     "metadata": {},
     "output_type": "execute_result"
    }
   ],
   "source": [
    "from datetime import timedelta\n",
    "duree = timedelta(days=1, seconds=30)  # Tạo khoảng thời gian 1 ngày và 30 giây\n",
    "duree.days                               # Truy xuất số ngày → 1\n"
   ]
  },
  {
   "cell_type": "code",
   "execution_count": 46,
   "id": "7dfbc367-5b5c-498f-b35a-4fa87a0af8d9",
   "metadata": {},
   "outputs": [
    {
     "name": "stdout",
     "output_type": "stream",
     "text": [
      "158430.0\n"
     ]
    }
   ],
   "source": [
    "from datetime import timedelta\n",
    "duree = timedelta(days=1, hours=20, seconds=30)  # Tạo khoảng thời gian 1 ngày, 20 giờ, 30 giây\n",
    "print(duree.total_seconds())                      # Tính tổng số giây → 158430.0\n"
   ]
  },
  {
   "cell_type": "code",
   "execution_count": 49,
   "id": "e2da0f75-69f4-4e8a-a21d-6fdf6115a697",
   "metadata": {},
   "outputs": [
    {
     "name": "stdout",
     "output_type": "stream",
     "text": [
      "<class 'datetime.timedelta'>\n",
      "1 day, 0:00:00\n"
     ]
    }
   ],
   "source": [
    "from datetime import date, timedelta\n",
    "beginning = date(2018, 1, 1)   # Ngày bắt đầu → 01/01/2018\n",
    "end = date(2018, 1, 2)         # Ngày kết thúc → 02/01/2018\n",
    "nb_days = end - beginning       # Trừ hai ngày → trả về timedelta\n",
    "print(type(nb_days))            # Kiểu dữ liệu → <class 'datetime.timedelta'>\n",
    "print(nb_days)                  # In ra số ngày → 1 day, 0:00:00\n"
   ]
  },
  {
   "cell_type": "code",
   "execution_count": 50,
   "id": "fba3d80d-88b2-4b2f-addd-ea3600142541",
   "metadata": {},
   "outputs": [
    {
     "name": "stdout",
     "output_type": "stream",
     "text": [
      "<class 'datetime.timedelta'>\n",
      "22:48:00.999770\n"
     ]
    }
   ],
   "source": [
    "from datetime import datetime\n",
    "beginning = datetime(2018, 1, 1, 12, 26, 30, 230)  # Ngày giờ bắt đầu → 01/01/2018 12:26:30.000230\n",
    "end = datetime(2018, 1, 2, 11, 14, 31)            # Ngày giờ kết thúc → 02/01/2018 11:14:31\n",
    "duration = end - beginning                          # Trừ hai datetime → trả về timedelta\n",
    "print(type(duration))                               # Kiểu dữ liệu → <class 'datetime.timedelta'>\n",
    "print(duration)                                     # In ra khoảng thời gian → 0 days, 22:48:00.999770"
   ]
  },
  {
   "cell_type": "code",
   "execution_count": 1,
   "id": "8d7f5d19-3fce-47ef-95e5-2f08e1f0af08",
   "metadata": {},
   "outputs": [
    {
     "name": "stdout",
     "output_type": "stream",
     "text": [
      "2019-01-01 00:00:00\n"
     ]
    }
   ],
   "source": [
    "from datetime import datetime, timedelta\n",
    "debut = datetime(2018, 12, 31, 23, 59, 59)          # Ngày giờ: 31/12/2018 23:59:59\n",
    "print(debut + timedelta(seconds=1))                 # Cộng 1 giây → 01/01/2019 00:00:00"
   ]
  },
  {
   "cell_type": "markdown",
   "id": "299eec55-7490-41ef-b016-8d31fa804761",
   "metadata": {},
   "source": [
    "# CHAPTER 3 STRUCURES"
   ]
  },
  {
   "cell_type": "markdown",
   "id": "f2720f8a-4b7e-45b7-9edf-dd124b410147",
   "metadata": {},
   "source": [
    "## 3.1 Lists"
   ]
  },
  {
   "cell_type": "code",
   "execution_count": 2,
   "id": "7fe0b04b-5bd7-4e4e-843e-aa2a27aae423",
   "metadata": {},
   "outputs": [
    {
     "name": "stdout",
     "output_type": "stream",
     "text": [
      "['Pascaline', 'Gauthier', 'Xuan', 'Jimmy']\n",
      "[1, 2, 3, 4, 5]\n"
     ]
    }
   ],
   "source": [
    "x = [\"Pascaline\", \"Gauthier\", \"Xuan\", \"Jimmy\"]\n",
    "print(x)\n",
    "y = [1, 2, 3, 4, 5]\n",
    "print(y)"
   ]
  },
  {
   "cell_type": "code",
   "execution_count": 3,
   "id": "ce77315f-80c6-4700-9d52-e17bebafea53",
   "metadata": {},
   "outputs": [
    {
     "name": "stdout",
     "output_type": "stream",
     "text": [
      "[['aaa', 'bbb'], ['Anne', 'Bob', 'Irma', 'John']]\n"
     ]
    }
   ],
   "source": [
    "tweets = [\"aaa\", \"bbb\"]\n",
    "followers = [\"Anne\", \"Bob\", \"Irma\", \"John\"]\n",
    "compte = [tweets, followers]\n",
    "print(compte)"
   ]
  },
  {
   "cell_type": "markdown",
   "id": "e2adf0c9-c5d8-45f0-8499-1948f361a638",
   "metadata": {},
   "source": [
    "### 3.1.1 Extraction of the Elements"
   ]
  },
  {
   "cell_type": "code",
   "execution_count": 8,
   "id": "485a7c3b-9005-4fa5-87a3-fb65f76f81b2",
   "metadata": {},
   "outputs": [
    {
     "name": "stdout",
     "output_type": "stream",
     "text": [
      "Pascaline\n",
      "Gauthier\n",
      "Jimmy\n",
      "Xuan\n",
      "['Gauthier']\n",
      "['Xuan', 'Jimmy']\n",
      "['Pascaline', 'Gauthier']\n",
      "['Pascaline', 'Xuan']\n"
     ]
    }
   ],
   "source": [
    "x = [\"Pascaline\", \"Gauthier\", \"Xuan\", \"Jimmy\"]  # Tạo danh sách gồm 4 phần tử\n",
    "print(x[0])      # Phần tử đầu tiên → \"Pascaline\"\n",
    "print(x[1])      # Phần tử thứ hai → \"Gauthier\"\n",
    "print(x[-1])     # Phần tử cuối cùng → \"Jimmy\"\n",
    "print(x[-2])     # Phần tử áp cuối → \"Xuan\"\n",
    "print(x[1:2])    # Lấy phần tử từ chỉ số 1 đến trước 2 → [\"Gauthier\"]\n",
    "print(x[2:])     # Lấy phần tử từ chỉ số 2 đến hết → [\"Xuan\", \"Jimmy\"]\n",
    "print(x[:-2])    # Lấy tất cả trừ 2 phần tử cuối → [\"Pascaline\", \"Gauthier\"]\n",
    "print(x[::2])    # Lấy tất cả với bước nhảy 2 → [\"Pascaline\", \"Xuan\"]"
   ]
  },
  {
   "cell_type": "code",
   "execution_count": 11,
   "id": "7b9f1d02-eabb-4c63-b20c-9b38ea230136",
   "metadata": {},
   "outputs": [
    {
     "name": "stdout",
     "output_type": "stream",
     "text": [
      "2\n",
      "4\n"
     ]
    }
   ],
   "source": [
    "tweets = [\"aaa\", \"bbb\"]                         # Danh sách các tweet\n",
    "followers = [\"Anne\", \"Bob\", \"Irma\", \"John\"]    # Danh sách người theo dõi\n",
    "conuts = [tweets, followers]                   # Tạo danh sách lồng nhau gồm 2 danh sách\n",
    "res = conuts[1][3]                             # Truy xuất phần tử thứ 4 của danh sách thứ 2 → \"John\"\n",
    "print(len(conuts))       # In ra số phần tử của conuts → 2 (tweets và followers)\n",
    "print(len(conuts[1]))    # In ra số phần tử trong danh sách thứ 2 → 4\n"
   ]
  },
  {
   "cell_type": "markdown",
   "id": "2cd04ac3-9152-4d17-a5d9-7cda6fe38ad7",
   "metadata": {},
   "source": [
    "### 3.1.2 Modification"
   ]
  },
  {
   "cell_type": "code",
   "execution_count": 13,
   "id": "cc83219e-ef8e-4357-b5c1-baf1fbe8cc10",
   "metadata": {},
   "outputs": [
    {
     "name": "stdout",
     "output_type": "stream",
     "text": [
      "[1, 3, 5, 7, 9]\n",
      "[1, 3, 5, 7, 9, 11]\n"
     ]
    }
   ],
   "source": [
    "x = [1, 3, 5, 6, 9]\n",
    "x[3] = 7 # Replacing the 4th element\n",
    "print(x)\n",
    "x.append(11) # Add value 11 at the end of the list\n",
    "print(x)"
   ]
  },
  {
   "cell_type": "code",
   "execution_count": 15,
   "id": "94602e68-a06a-45ca-8992-788bf8049fa7",
   "metadata": {},
   "outputs": [
    {
     "name": "stdout",
     "output_type": "stream",
     "text": [
      "[1, 2, 3, 4, 13, 15]\n"
     ]
    }
   ],
   "source": [
    "x = [1, 2, 3, 4]     # Giả sử danh sách x ban đầu\n",
    "y = [13, 15]         # Danh sách y cần thêm vào x\n",
    "x.extend(y)           # Thêm tất cả phần tử của y vào cuối x\n",
    "print(x)              # In ra → [1, 2, 3, 4, 13, 15]\n"
   ]
  },
  {
   "cell_type": "code",
   "execution_count": 16,
   "id": "5fc8616c-4f04-4d35-91d9-29ca34ce73ad",
   "metadata": {},
   "outputs": [
    {
     "name": "stdout",
     "output_type": "stream",
     "text": [
      "[1, 2, 4, 5]\n",
      "[1, 3, 5, 9]\n"
     ]
    }
   ],
   "source": [
    "x = [1, 2, 3, 4, 5]  \n",
    "x.remove(3)           # Xóa phần tử có giá trị 3 (lần xuất hiện đầu tiên)\n",
    "print(x)              # In ra → [1, 2, 4, 5]\n",
    "x = [1, 3, 5, 6, 9]\n",
    "del x[3]              # Xóa phần tử ở chỉ số 3 (phần tử thứ 4) → 6\n",
    "print(x)              # In ra → [1, 3, 5, 9]\n"
   ]
  },
  {
   "cell_type": "code",
   "execution_count": 17,
   "id": "f24e73fe-caf6-4537-8e45-becf4f2ebb2c",
   "metadata": {},
   "outputs": [
    {
     "name": "stdout",
     "output_type": "stream",
     "text": [
      "[1, 3, 5, 7, 9]\n"
     ]
    }
   ],
   "source": [
    "x = [1, 3, 5, 6, 10]\n",
    "x[3:5] = [7, 9] # Replaces 4th and 5th values\n",
    "print(x)"
   ]
  },
  {
   "cell_type": "code",
   "execution_count": 18,
   "id": "3d88c80b-0c5d-4a9e-9c35-2cc9bc8a2c25",
   "metadata": {},
   "outputs": [
    {
     "name": "stdout",
     "output_type": "stream",
     "text": [
      "[1, 2, 'a', 'b', 'c', 'd', 4, 5]\n"
     ]
    }
   ],
   "source": [
    "x = [1, 2, 3, 4, 5]\n",
    "x[2:3] = ['a', 'b', 'c', 'd'] # Replaces the 3rd value\n",
    "print(x)"
   ]
  },
  {
   "cell_type": "code",
   "execution_count": 19,
   "id": "cb25a804-e330-4acb-b2ee-5ffec219c9c2",
   "metadata": {},
   "outputs": [
    {
     "name": "stdout",
     "output_type": "stream",
     "text": [
      "[1, 2, 3]\n"
     ]
    }
   ],
   "source": [
    "x = [1, 2, 3, 4, 5]\n",
    "x[3:5] = [] # Removes the 4th and 5th values\n",
    "print(x)\n"
   ]
  },
  {
   "cell_type": "markdown",
   "id": "519baf73-e885-4bc9-9c36-3fc4cf2ec9a1",
   "metadata": {},
   "source": [
    "### 3.1.3 Verifying if a Value is Present"
   ]
  },
  {
   "cell_type": "code",
   "execution_count": 20,
   "id": "597fccbc-e830-4357-80b9-75891d947fed",
   "metadata": {},
   "outputs": [
    {
     "name": "stdout",
     "output_type": "stream",
     "text": [
      "True\n"
     ]
    }
   ],
   "source": [
    "x = [1, 2, 3, 4, 5]\n",
    "print(1 in x)"
   ]
  },
  {
   "cell_type": "markdown",
   "id": "d6692ac4-32c1-4b60-af09-4fa56314ebc6",
   "metadata": {},
   "source": [
    "### 3.1.4 Copy of List"
   ]
  },
  {
   "cell_type": "code",
   "execution_count": 21,
   "id": "be76d1c9-2597-4d14-9eeb-ce55ba5adb18",
   "metadata": {},
   "outputs": [
    {
     "name": "stdout",
     "output_type": "stream",
     "text": [
      "[0, 2, 3]\n",
      "[0, 2, 3]\n"
     ]
    }
   ],
   "source": [
    "x = [1, 2, 3]\n",
    "y = x\n",
    "y[0] = 0\n",
    "print(y)\n",
    "print(x)"
   ]
  },
  {
   "cell_type": "code",
   "execution_count": 23,
   "id": "0491c135-45d9-493c-88ca-ff454c5b75cf",
   "metadata": {},
   "outputs": [
    {
     "name": "stdout",
     "output_type": "stream",
     "text": [
      "x :  [1, 2, 3]\n",
      "y :  [0, 2, 3]\n"
     ]
    }
   ],
   "source": [
    "x = [1, 2, 3]         # Danh sách gốc\n",
    "y = list(x)            # Tạo bản sao của x bằng list()\n",
    "y[0] = 0               # Thay đổi phần tử đầu tiên của y → 0\n",
    "print(\"x : \", x)       # In danh sách gốc → [1, 2, 3]\n",
    "print(\"y : \", y)       # In danh sách y → [0, 2, 3]\n"
   ]
  },
  {
   "cell_type": "code",
   "execution_count": 25,
   "id": "98604938-55ff-4eb4-97e4-b0bfcd59e34c",
   "metadata": {},
   "outputs": [
    {
     "name": "stdout",
     "output_type": "stream",
     "text": [
      "x :  [1, 2, 3, 4]\n",
      "y :  [0, 2]\n"
     ]
    }
   ],
   "source": [
    "x = [1, 2, 3, 4]      # Danh sách gốc\n",
    "y = x[:2]              # Lấy phần tử từ chỉ số 0 đến trước 2 → tạo danh sách mới [1, 2]\n",
    "y[0] = 0               # Thay đổi phần tử đầu tiên của y → 0\n",
    "print(\"x : \", x)       # In danh sách gốc → [1, 2, 3, 4]\n",
    "print(\"y : \", y)       # In danh sách y → [0, 2]"
   ]
  },
  {
   "cell_type": "markdown",
   "id": "768002f4-58b0-4fa6-9042-444e596d001b",
   "metadata": {},
   "source": [
    "### 3.1.5 Sorting"
   ]
  },
  {
   "cell_type": "code",
   "execution_count": 27,
   "id": "c3e8d2c8-515d-4ca8-8740-f7a89e7da81c",
   "metadata": {},
   "outputs": [
    {
     "name": "stdout",
     "output_type": "stream",
     "text": [
      "[1, 2, 3, 4]\n"
     ]
    }
   ],
   "source": [
    "x = [2, 1, 4, 3]  # Danh sách ban đầu\n",
    "x.sort()           # Sắp xếp danh sách theo thứ tự tăng dần\n",
    "print(x)           # In ra → [1, 2, 3, 4]"
   ]
  },
  {
   "cell_type": "code",
   "execution_count": 28,
   "id": "1b568c4c-ad43-44a0-a63c-b1b77daac66d",
   "metadata": {},
   "outputs": [
    {
     "name": "stdout",
     "output_type": "stream",
     "text": [
      "['a', 'a', 'b', 'c']\n"
     ]
    }
   ],
   "source": [
    "x = [\"c\", \"b\", \"a\", \"a\"]\n",
    "x.sort()\n",
    "print(x)"
   ]
  },
  {
   "cell_type": "code",
   "execution_count": 29,
   "id": "faaddd7c-0f54-4de4-96b9-50908ce79a5a",
   "metadata": {},
   "outputs": [
    {
     "name": "stdout",
     "output_type": "stream",
     "text": [
      "['a', 'aa', 'aa', 'aaaaa']\n"
     ]
    }
   ],
   "source": [
    "x = [\"aa\", \"a\", \"aaaaa\", \"aa\"]   # Danh sách chuỗi ban đầu\n",
    "x.sort(key=len)                   # Sắp xếp danh sách theo độ dài chuỗi (ngắn → dài)\n",
    "print(x)                          # In ra → ['a', 'aa', 'aa', 'aaaaa']"
   ]
  },
  {
   "cell_type": "markdown",
   "id": "2b3ac0bb-013e-4ed4-99fd-0f62666adb33",
   "metadata": {},
   "source": [
    "## 3.2 Tuples"
   ]
  },
  {
   "cell_type": "code",
   "execution_count": 30,
   "id": "d9574de2-14e0-44db-becc-29a02e0cd262",
   "metadata": {},
   "outputs": [
    {
     "name": "stdout",
     "output_type": "stream",
     "text": [
      "(1, 4, 9, 16, 25)\n"
     ]
    }
   ],
   "source": [
    "x = 1, 4, 9, 16, 25\n",
    "print(x)"
   ]
  },
  {
   "cell_type": "markdown",
   "id": "fe965f00-1aec-4f36-8896-e7581bc43d78",
   "metadata": {},
   "source": [
    "### 3.2.1 Extraction of the Elements"
   ]
  },
  {
   "cell_type": "code",
   "execution_count": 31,
   "id": "243be10e-dff7-4a70-8b96-39177d46f729",
   "metadata": {},
   "outputs": [
    {
     "name": "stdout",
     "output_type": "stream",
     "text": [
      "1\n"
     ]
    }
   ],
   "source": [
    "print(x[0])"
   ]
  },
  {
   "cell_type": "markdown",
   "id": "149461f4-fa81-47e5-8253-87641415fdb5",
   "metadata": {},
   "source": [
    "### 3.2.2 Modification"
   ]
  },
  {
   "cell_type": "code",
   "execution_count": 32,
   "id": "7a68b2f4-dca3-4ab8-bb77-e085ad022d14",
   "metadata": {},
   "outputs": [
    {
     "name": "stdout",
     "output_type": "stream",
     "text": [
      "((1, 4, 9, 16), (1, 8, 26, 64))\n"
     ]
    }
   ],
   "source": [
    "x = ((1, 4, 9, 16), (1, 8, 26, 64))\n",
    "print(x)"
   ]
  },
  {
   "cell_type": "markdown",
   "id": "819297e9-bca4-4e58-8f8e-f2dcb84677c0",
   "metadata": {},
   "source": [
    "## 3.3 Sets"
   ]
  },
  {
   "cell_type": "code",
   "execution_count": 33,
   "id": "12545d60-e0ce-4a50-a386-0b6aeaa7527a",
   "metadata": {},
   "outputs": [
    {
     "name": "stdout",
     "output_type": "stream",
     "text": [
      "{'Rennes', 'Marseille', 'Nice', 'Aix-en-Provence'}\n"
     ]
    }
   ],
   "source": [
    "new_set = set({\"Marseille\", \"Aix-en-Provence\",\n",
    "\"Nice\", \"Rennes\"})\n",
    "print(new_set)"
   ]
  },
  {
   "cell_type": "code",
   "execution_count": 34,
   "id": "9a04d5dd-eea4-439b-9de1-10b6f67d9977",
   "metadata": {},
   "outputs": [
    {
     "name": "stdout",
     "output_type": "stream",
     "text": [
      "{'Rennes', 'Marseille', 'Nice', 'Aix-en-Provence'}\n"
     ]
    }
   ],
   "source": [
    "new_set = {\"Marseille\", \"Aix-en-Provence\", \"Nice\", \"Rennes\"}\n",
    "print(new_set)"
   ]
  },
  {
   "cell_type": "code",
   "execution_count": 36,
   "id": "c7f71bf5-3fd4-415f-9bb5-0651b55182aa",
   "metadata": {},
   "outputs": [
    {
     "name": "stdout",
     "output_type": "stream",
     "text": [
      "<class 'set'>\n"
     ]
    }
   ],
   "source": [
    "empty_set = {}\n",
    "type(empty_set)\n",
    "empty_set = set()\n",
    "print(type(empty_set))"
   ]
  },
  {
   "cell_type": "code",
   "execution_count": 37,
   "id": "ad91fef4-c23d-46c0-90c5-ca9bff40c6b2",
   "metadata": {},
   "outputs": [
    {
     "name": "stdout",
     "output_type": "stream",
     "text": [
      "{'Rennes', 'Marseille', 'Nice', 'Aix-en-Provence'}\n",
      "4\n"
     ]
    }
   ],
   "source": [
    "new_set = set({\"Marseille\", \"Aix-en-Provence\", \"Nice\", \"Marseille\", \"Rennes\"})\n",
    "print(new_set)\n",
    "print(len(new_set))"
   ]
  },
  {
   "cell_type": "markdown",
   "id": "f1011c4a-ef7e-4800-b07f-28613353ce79",
   "metadata": {},
   "source": [
    "### 3.3.1 Modifications"
   ]
  },
  {
   "cell_type": "code",
   "execution_count": 40,
   "id": "ed94c0f3-126e-45fe-b728-d1d2983476f6",
   "metadata": {},
   "outputs": [
    {
     "name": "stdout",
     "output_type": "stream",
     "text": [
      "{'Nice', 'Aix-en-Provence', 'Rennes', 'Toulon', 'Marseille'}\n"
     ]
    }
   ],
   "source": [
    "new_set.add(\"Toulon\")   # Thêm phần tử \"Toulon\" vào tập hợp new_set (nếu chưa có)\n",
    "print(new_set)          # In toàn bộ các phần tử trong new_set ra màn hình"
   ]
  },
  {
   "cell_type": "markdown",
   "id": "21c5406f-67ee-4874-9725-c5e54c436620",
   "metadata": {},
   "source": [
    "### 3.3.2 Belonging test"
   ]
  },
  {
   "cell_type": "code",
   "execution_count": 5,
   "id": "084c60de-a239-40a1-8e82-eea4fd6c8658",
   "metadata": {},
   "outputs": [
    {
     "name": "stdout",
     "output_type": "stream",
     "text": [
      "True\n",
      "False\n"
     ]
    }
   ],
   "source": [
    "new_set = set({\"Marseille\", \"Aix-en-Provence\", \"Nice\", \"Marseille\", \"Rennes\"})\n",
    "print(\"Marseille\" in new_set)\n",
    "print(\"Paris\" in new_set)"
   ]
  },
  {
   "cell_type": "markdown",
   "id": "33bf3ffa-8c7a-4b5d-863b-a7831b0b6cd5",
   "metadata": {},
   "source": [
    "### 3.3.3 Copying a Set"
   ]
  },
  {
   "cell_type": "code",
   "execution_count": 7,
   "id": "07145d6e-c287-47f4-805f-e5d5874ae36e",
   "metadata": {},
   "outputs": [
    {
     "name": "stdout",
     "output_type": "stream",
     "text": [
      "y :  {'Marseille', 'Nice', 'Aix-en-Provence', 'Toulon'}\n",
      "set :  {'Marseille', 'Nice', 'Aix-en-Provence'}\n"
     ]
    }
   ],
   "source": [
    "new_set = set({\"Marseille\", \"Aix-en-Provence\", \"Nice\"})  # Tạo set gồm 3 thành phố\n",
    "y = new_set.copy()                                       # Sao chép set new_set sang y (tạo bản sao)\n",
    "y.add(\"Toulon\")                                          # Thêm \"Toulon\" vào set y\n",
    "print(\"y : \", y)                                         # In ra set y (đã có \"Toulon\")\n",
    "print(\"set : \", new_set)                                 # In ra set gốc new_set (không thay đổi)"
   ]
  },
  {
   "cell_type": "markdown",
   "id": "dcbc4030-0cef-4d24-bd1f-da31123f4286",
   "metadata": {},
   "source": [
    "### 3.3.4 Conversion to a List"
   ]
  },
  {
   "cell_type": "code",
   "execution_count": 8,
   "id": "00389561-7f1c-427d-b2ef-d6018a07de18",
   "metadata": {},
   "outputs": [
    {
     "name": "stdout",
     "output_type": "stream",
     "text": [
      "<class 'dict'>\n"
     ]
    }
   ],
   "source": [
    "empty_dict = {}\n",
    "print(type(empty_dict))"
   ]
  },
  {
   "cell_type": "code",
   "execution_count": 10,
   "id": "d8f6bcbd-86f5-4558-ac05-5919338e21ab",
   "metadata": {},
   "outputs": [
    {
     "name": "stdout",
     "output_type": "stream",
     "text": [
      "['Marseille', 'Aix-en-Provence', 'Marseille', 'Marseille']\n",
      "{'Marseille', 'Aix-en-Provence'}\n",
      "['Marseille', 'Aix-en-Provence']\n"
     ]
    }
   ],
   "source": [
    "my_list = [\"Marseille\", \"Aix-en-Provence\", \"Marseille\", \"Marseille\"]  # Danh sách có phần tử trùng lặp\n",
    "print(my_list)                                                       # In ra danh sách gốc\n",
    "my_set = set(my_list)                                                # Chuyển danh sách sang set → loại bỏ phần tử trùng\n",
    "print(my_set)                                                        # In ra set (không có trùng, thứ tự không đảm bảo)\n",
    "my_new_list = list(my_set)                                           # Chuyển set ngược lại thành danh sách\n",
    "print(my_new_list)                                                   # In ra danh sách mới (không trùng)"
   ]
  },
  {
   "cell_type": "markdown",
   "id": "293abd66-6965-4915-a8c5-0dc6d959a874",
   "metadata": {},
   "source": [
    "## 3.4 Dictionaries"
   ]
  },
  {
   "cell_type": "code",
   "execution_count": 13,
   "id": "40196488-d8a7-4eae-a409-405b30c2be2f",
   "metadata": {},
   "outputs": [
    {
     "name": "stdout",
     "output_type": "stream",
     "text": [
      "<class 'dict'>\n",
      "{'nom': 'Kyrie', 'prenom': 'John', 'naissance': 1992, 'equipes': ['Cleveland', 'Boston']}\n"
     ]
    }
   ],
   "source": [
    "empty_dict = {}   # Tạo một từ điển (dict) rỗng\n",
    "print(type(empty_dict))  # In ra kiểu dữ liệu → <class 'dict'>\n",
    "my_dict = {       # Tạo một từ điển với các cặp key: value\n",
    "    \"nom\": \"Kyrie\",                 # key 'nom' có giá trị \"Kyrie\"\n",
    "    \"prenom\": \"John\",               # key 'prenom' có giá trị \"John\"\n",
    "    \"naissance\": 1992,               # key 'naissance' có giá trị 1992 (năm sinh)\n",
    "    \"equipes\": [\"Cleveland\", \"Boston\"]  # key 'equipes' có giá trị là list 2 đội bóng\n",
    "}\n",
    "print(my_dict)  # In ra toàn bộ từ điển"
   ]
  },
  {
   "cell_type": "code",
   "execution_count": 14,
   "id": "80dd9ece-d3c8-4c7c-a5eb-e296c5e40372",
   "metadata": {},
   "outputs": [
    {
     "name": "stdout",
     "output_type": "stream",
     "text": [
      "{'Julien-Yacine': 'Data-scientist', 'Sonia': 'Director'}\n"
     ]
    }
   ],
   "source": [
    "x = dict([(\"Julien-Yacine\", \"Data-scientist\"),  # Tạo dictionary từ danh sách tuple (cặp key, value)\n",
    "          (\"Sonia\", \"Director\")])               # Thêm cặp key \"Sonia\" với value \"Director\"\n",
    "print(x)  # In ra toàn bộ dictionary: {'Julien-Yacine': 'Data-scientist', 'Sonia': 'Director'}"
   ]
  },
  {
   "cell_type": "markdown",
   "id": "c5721d27-f12c-46ae-b337-b46c60874aa7",
   "metadata": {},
   "source": [
    "### 3.4.1 Extraction of the Elements"
   ]
  },
  {
   "cell_type": "code",
   "execution_count": 16,
   "id": "510c5023-69c6-4343-b9c4-765b168059f6",
   "metadata": {},
   "outputs": [
    {
     "name": "stdout",
     "output_type": "stream",
     "text": [
      "John\n",
      "['Cleveland', 'Boston']\n",
      "True\n",
      "False\n",
      "John\n",
      "None\n"
     ]
    }
   ],
   "source": [
    "print(my_dict[\"prenom\"])      # Lấy giá trị của key \"prenom\" và in ra (nếu không tồn tại sẽ báo lỗi KeyError)\n",
    "print(my_dict[\"equipes\"])     # Lấy giá trị của key \"equipes\" và in ra (nếu không tồn tại sẽ báo lỗi KeyError)\n",
    "print(\"prenom\" in my_dict)    # Kiểm tra xem key \"prenom\" có trong dictionary không → True/False\n",
    "print(\"age\" in my_dict)       # Kiểm tra xem key \"age\" có trong dictionary không → True/False\n",
    "print(my_dict.get(\"prenom\"))  # Lấy giá trị của key \"prenom\" và in ra (nếu không tồn tại trả về None)\n",
    "print(my_dict.get(\"age\"))     # Lấy giá trị của key \"age\" (nếu không tồn tại trả về None, không báo lỗi)"
   ]
  },
  {
   "cell_type": "markdown",
   "id": "8b9e5756-9c83-482c-8a4c-a612c1b66f4e",
   "metadata": {},
   "source": [
    "### 3.4.2 Keys and values"
   ]
  },
  {
   "cell_type": "code",
   "execution_count": 19,
   "id": "90fa33f9-04ee-49e5-8d2a-22f711135624",
   "metadata": {},
   "outputs": [
    {
     "name": "stdout",
     "output_type": "stream",
     "text": [
      "dict_keys(['nom', 'prenom', 'naissance', 'equipes'])\n",
      "<class 'dict_keys'>\n",
      "['nom', 'prenom', 'naissance', 'equipes']\n",
      "dict_values(['Kyrie', 'John', 1992, ['Cleveland', 'Boston']])\n",
      "<class 'dict_values'>\n",
      "dict_items([('nom', 'Kyrie'), ('prenom', 'John'), ('naissance', 1992), ('equipes', ['Cleveland', 'Boston'])])\n",
      "<class 'dict_items'>\n"
     ]
    }
   ],
   "source": [
    "the_keys = my_dict.keys()          # Lấy tất cả các key của dictionary dưới dạng dict_keys\n",
    "print(the_keys)                    # In ra danh sách key (đối tượng dict_keys)\n",
    "print(type(the_keys))              # Kiểm tra kiểu dữ liệu → <class 'dict_keys'>\n",
    "\n",
    "the_keys_list = list(the_keys)     # Chuyển dict_keys thành list để dễ truy cập\n",
    "print(the_keys_list)               # In ra danh sách key ở dạng list\n",
    "\n",
    "the_values = my_dict.values()      # Lấy tất cả các value của dictionary dưới dạng dict_values\n",
    "print(the_values)                  # In ra danh sách value (đối tượng dict_values)\n",
    "print(type(the_values))            # Kiểm tra kiểu dữ liệu → <class 'dict_values'>\n",
    "\n",
    "the_items = my_dict.items()        # Lấy tất cả cặp (key, value) dưới dạng dict_items\n",
    "print(the_items)                   # In ra danh sách cặp (key, value)\n",
    "print(type(the_items))             # Kiểm tra kiểu dữ liệu → <class 'dict_items'>\n"
   ]
  },
  {
   "cell_type": "markdown",
   "id": "cd6c8dad-9771-4f87-9d34-c58e5c650a99",
   "metadata": {},
   "source": [
    "### 3.4.4 Modification"
   ]
  },
  {
   "cell_type": "code",
   "execution_count": 20,
   "id": "5ad6f020-cfad-42cc-b233-a964e807ce8f",
   "metadata": {},
   "outputs": [
    {
     "name": "stdout",
     "output_type": "stream",
     "text": [
      "{'nom': 'Kyrie', 'prenom': 'John', 'naissance': 1992, 'equipes': ['Montclair Kimberley Academy', 'Cleveland Cavaliers', 'Boston Celtics']}\n"
     ]
    }
   ],
   "source": [
    "my_dict[\"equipes\"] = [\"Montclair Kimberley Academy\",\n",
    "\"Cleveland Cavaliers\", \"Boston Celtics\"]\n",
    "print(my_dict)"
   ]
  },
  {
   "cell_type": "code",
   "execution_count": 22,
   "id": "262d50c7-fd90-4158-9e0c-e178b91772d6",
   "metadata": {},
   "outputs": [
    {
     "name": "stdout",
     "output_type": "stream",
     "text": [
      "{'nom': 'Kyrie', 'prenom': 'John', 'naissance': 1992, 'equipes': ['Montclair Kimberley Academy', 'Cleveland Cavaliers', 'Boston Celtics'], 'taille_cm': 191}\n"
     ]
    }
   ],
   "source": [
    "my_dict[\"taille_cm\"] = 191  # Thêm cặp key \"taille_cm\" với giá trị 191 vào dictionary (nếu key đã tồn tại thì sẽ cập nhật giá trị mới)\n",
    "print(my_dict)              # In ra toàn bộ dictionary sau khi thêm key mới"
   ]
  },
  {
   "cell_type": "code",
   "execution_count": 25,
   "id": "41935751-a397-483f-844a-0efaef541c94",
   "metadata": {},
   "outputs": [
    {
     "name": "stdout",
     "output_type": "stream",
     "text": [
      "{'masse_kg': 88, 'debut_nba': 2011}\n",
      "{'nom': 'Kyrie', 'prenom': 'John', 'naissance': 1992, 'equipes': ['Montclair Kimberley Academy', 'Cleveland Cavaliers', 'Boston Celtics'], 'taille_cm': 191, 'masse_kg': 88, 'debut_nba': 2011}\n"
     ]
    }
   ],
   "source": [
    "second_dict = {\"masse_kg\": 88, \"debut_nba\": 2011}  # Tạo dictionary mới với 2 cặp key-value\n",
    "print(second_dict)                                # In ra dictionary vừa tạo\n",
    "\n",
    "my_dict.update(second_dict)  # Hợp nhất second_dict vào my_dict (thêm hoặc ghi đè các key trùng)\n",
    "print(my_dict)               # In ra my_dict sau khi cập nhật"
   ]
  },
  {
   "cell_type": "code",
   "execution_count": 27,
   "id": "5f61564a-0d13-49b2-8ca7-1d462312bb37",
   "metadata": {},
   "outputs": [
    {
     "name": "stdout",
     "output_type": "stream",
     "text": [
      "{'masse_kg': 88, 'debut_nba': 2011, 'poste': 'PG'}\n",
      "{'nom': 'Kyrie', 'prenom': 'John', 'naissance': 1992, 'equipes': ['Montclair Kimberley Academy', 'Cleveland Cavaliers', 'Boston Celtics'], 'taille_cm': 191, 'masse_kg': 88, 'debut_nba': 2011}\n"
     ]
    }
   ],
   "source": [
    "second_dict[\"poste\"] = \"PG\"\n",
    "print(second_dict)\n",
    "print(my_dict)"
   ]
  },
  {
   "cell_type": "code",
   "execution_count": null,
   "id": "bdbd02dd-432a-4231-8442-3f9aa9049ed4",
   "metadata": {},
   "outputs": [],
   "source": [
    "del my_dict[\"debut_nba\"]  # Xóa cặp key \"debut_nba\" cùng giá trị của nó khỏi dictionary\n",
    "print(my_dict)            # In ra dictionary sau khi xóa key"
   ]
  },
  {
   "cell_type": "code",
   "execution_count": 30,
   "id": "cdcad561-afa2-4f27-8b05-891c64776f7b",
   "metadata": {},
   "outputs": [
    {
     "name": "stdout",
     "output_type": "stream",
     "text": [
      "{'nom': 'Kyrie', 'prenom': 'John', 'naissance': 1992, 'equipes': ['Montclair Kimberley Academy', 'Cleveland Cavaliers', 'Boston Celtics'], 'taille_cm': 191}\n"
     ]
    }
   ],
   "source": [
    "res = my_dict.pop(\"masse_kg\")  # Xóa key \"masse_kg\" khỏi dictionary và trả về giá trị của nó, lưu vào biến res\n",
    "print(my_dict)                 # In ra dictionary sau khi xóa key"
   ]
  },
  {
   "cell_type": "code",
   "execution_count": 31,
   "id": "d23ce9fe-0c78-4eef-9765-5a9e7b083574",
   "metadata": {},
   "outputs": [
    {
     "name": "stdout",
     "output_type": "stream",
     "text": [
      "88\n"
     ]
    }
   ],
   "source": [
    "print(res)"
   ]
  },
  {
   "cell_type": "markdown",
   "id": "5932a809-79c7-471e-a17d-e2c93ed3885a",
   "metadata": {},
   "source": [
    "### 3.4.5 Copy of a Dictionary"
   ]
  },
  {
   "cell_type": "code",
   "execution_count": 32,
   "id": "c470c6e2-fcad-4c89-be86-4c65dd0228f0",
   "metadata": {},
   "outputs": [
    {
     "name": "stdout",
     "output_type": "stream",
     "text": [
      "d:  {'Marseille': 13, 'Rennes': 35}\n",
      "d2:  {'Marseille': 13, 'Rennes': 35, 'Paris': 75}\n"
     ]
    }
   ],
   "source": [
    "d = {\"Marseille\": 13, \"Rennes\" : 35}\n",
    "d2 = d.copy()\n",
    "d2[\"Paris\"] = 75\n",
    "print(\"d: \", d)\n",
    "print(\"d2: \", d2)"
   ]
  },
  {
   "cell_type": "code",
   "execution_count": null,
   "id": "d1ea78fe-0565-4c8c-af94-32ae5426e936",
   "metadata": {},
   "outputs": [],
   "source": []
  }
 ],
 "metadata": {
  "kernelspec": {
   "display_name": "Python 3 (ipykernel)",
   "language": "python",
   "name": "python3"
  },
  "language_info": {
   "codemirror_mode": {
    "name": "ipython",
    "version": 3
   },
   "file_extension": ".py",
   "mimetype": "text/x-python",
   "name": "python",
   "nbconvert_exporter": "python",
   "pygments_lexer": "ipython3",
   "version": "3.12.1"
  }
 },
 "nbformat": 4,
 "nbformat_minor": 5
}
