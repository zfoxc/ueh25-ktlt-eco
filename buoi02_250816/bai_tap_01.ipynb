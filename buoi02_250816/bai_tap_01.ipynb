{
  "nbformat": 4,
  "nbformat_minor": 0,
  "metadata": {
    "colab": {
      "provenance": [],
      "gpuType": "T4",
      "include_colab_link": true
    },
    "kernelspec": {
      "name": "python3",
      "display_name": "Python 3"
    },
    "language_info": {
      "name": "python"
    },
    "accelerator": "GPU"
  },
  "cells": [
    {
      "cell_type": "markdown",
      "metadata": {
        "id": "view-in-github",
        "colab_type": "text"
      },
      "source": [
        "<a href=\"https://colab.research.google.com/github/zfoxc/ueh25-ktlt-eco/blob/main/buoi02_250816/bai_tap_01.ipynb\" target=\"_parent\"><img src=\"https://colab.research.google.com/assets/colab-badge.svg\" alt=\"Open In Colab\"/></a>"
      ]
    },
    {
      "cell_type": "code",
      "execution_count": null,
      "metadata": {
        "colab": {
          "base_uri": "https://localhost:8080/"
        },
        "id": "VhFD9WmCkztl",
        "outputId": "4f5696da-e7b4-4db8-f8df-596af8e7a23b"
      },
      "outputs": [
        {
          "output_type": "stream",
          "name": "stdout",
          "text": [
            "Hello, World!\n"
          ]
        }
      ],
      "source": [
        "print(\"Hello, World!\")"
      ]
    },
    {
      "cell_type": "code",
      "source": [],
      "metadata": {
        "id": "2kPFLOGYAvyK"
      },
      "execution_count": null,
      "outputs": []
    },
    {
      "cell_type": "code",
      "source": [
        "pv = 100\n",
        "r = 0.1\n",
        "n = 7\n",
        "fv = pv * ((1 + r)**n)\n",
        "print(round(fv, 2))"
      ],
      "metadata": {
        "colab": {
          "base_uri": "https://localhost:8080/"
        },
        "id": "WtudoGVSlQB3",
        "outputId": "401fab50-5450-4a5f-cc00-7f7b02654934"
      },
      "execution_count": null,
      "outputs": [
        {
          "output_type": "stream",
          "name": "stdout",
          "text": [
            "194.87\n"
          ]
        }
      ]
    },
    {
      "cell_type": "code",
      "source": [
        "amount = 100\n",
        "interest = 10\n",
        "years = 7\n",
        "\n",
        "future_value = amount * ((1 + 0.01 * interest)**years)\n",
        "print(round(future_value, 2))"
      ],
      "metadata": {
        "colab": {
          "base_uri": "https://localhost:8080/"
        },
        "id": "m8drA9kOmjUs",
        "outputId": "b598346d-0cc8-4ddb-b822-c9964cc2ae6d"
      },
      "execution_count": null,
      "outputs": [
        {
          "output_type": "stream",
          "name": "stdout",
          "text": [
            "194.87\n"
          ]
        }
      ]
    },
    {
      "cell_type": "code",
      "source": [
        "print (\"Hello world\")\n",
        "display(\"hello, world\")"
      ],
      "metadata": {
        "id": "duESvYa9nUp7",
        "colab": {
          "base_uri": "https://localhost:8080/",
          "height": 53
        },
        "outputId": "ca566c3f-cc87-476f-f248-1c6a694e2ee8"
      },
      "execution_count": null,
      "outputs": [
        {
          "output_type": "stream",
          "name": "stdout",
          "text": [
            "Hello world\n"
          ]
        },
        {
          "output_type": "display_data",
          "data": {
            "text/plain": [
              "'hello, world'"
            ],
            "application/vnd.google.colaboratory.intrinsic+json": {
              "type": "string"
            }
          },
          "metadata": {}
        }
      ]
    },
    {
      "cell_type": "code",
      "source": [
        "#comment"
      ],
      "metadata": {
        "id": "hE_aIK3i9rYt"
      },
      "execution_count": null,
      "outputs": []
    },
    {
      "cell_type": "code",
      "source": [
        "score =80\n",
        "if score >=60:\n",
        " print (\"pass\")"
      ],
      "metadata": {
        "colab": {
          "base_uri": "https://localhost:8080/"
        },
        "id": "gOn4jb0Y9uXu",
        "outputId": "97642238-60ed-43ba-d913-ad0743c92f45"
      },
      "execution_count": null,
      "outputs": [
        {
          "output_type": "stream",
          "name": "stdout",
          "text": [
            "pass\n"
          ]
        }
      ]
    },
    {
      "cell_type": "code",
      "source": [
        "# Python Variables\n",
        "x = 2\n",
        "price = 2.5\n",
        "word = 'Hello'\n",
        "\n",
        "word = 'Hello'\n",
        "word = \"Hello\"\n",
        "word = '''Hello'''\n",
        "print (x, price, word)\n",
        "print (f'x= {(x)}, price={(price), type(price)}, word={'word)', type(word)}')"
      ],
      "metadata": {
        "colab": {
          "base_uri": "https://localhost:8080/",
          "height": 106
        },
        "id": "Fu4Z0LwN92Nc",
        "outputId": "011a7289-7493-4430-894b-2ab5bf68bfb8"
      },
      "execution_count": null,
      "outputs": [
        {
          "output_type": "error",
          "ename": "SyntaxError",
          "evalue": "unmatched ')' (ipython-input-69553227.py, line 10)",
          "traceback": [
            "\u001b[0;36m  File \u001b[0;32m\"/tmp/ipython-input-69553227.py\"\u001b[0;36m, line \u001b[0;32m10\u001b[0m\n\u001b[0;31m    print (f'x= {(x)}, price={(price), type(price)}, word={'word)', type(word)}')\u001b[0m\n\u001b[0m                                                                                ^\u001b[0m\n\u001b[0;31mSyntaxError\u001b[0m\u001b[0;31m:\u001b[0m unmatched ')'\n"
          ]
        }
      ]
    },
    {
      "cell_type": "markdown",
      "source": [],
      "metadata": {
        "id": "nt3HFAUw95ZT"
      }
    },
    {
      "cell_type": "code",
      "source": [
        "x= 2\n",
        "y= x+1\n",
        "print(y)"
      ],
      "metadata": {
        "colab": {
          "base_uri": "https://localhost:8080/"
        },
        "id": "RG-6mKZm95oN",
        "outputId": "d87a186b-a2b7-47a0-feed-8cf1b9e7cab7"
      },
      "execution_count": null,
      "outputs": [
        {
          "output_type": "stream",
          "name": "stdout",
          "text": [
            "3\n"
          ]
        }
      ]
    },
    {
      "cell_type": "code",
      "source": [
        "# comment\n",
        "from platform import python_version\n",
        "print(\"Python Version:\", python_version())"
      ],
      "metadata": {
        "colab": {
          "base_uri": "https://localhost:8080/"
        },
        "id": "9mj0W183980H",
        "outputId": "461021ba-cabf-445b-c42c-b587dbb5b5b1"
      },
      "execution_count": null,
      "outputs": [
        {
          "output_type": "stream",
          "name": "stdout",
          "text": [
            "Python Version: 3.11.13\n"
          ]
        }
      ]
    },
    {
      "cell_type": "code",
      "source": [
        "help(python_version)"
      ],
      "metadata": {
        "colab": {
          "base_uri": "https://localhost:8080/"
        },
        "id": "sxvlmYWC9_Zs",
        "outputId": "fbfc332a-d547-40ca-e0af-1c7a1f81e629"
      },
      "execution_count": null,
      "outputs": [
        {
          "output_type": "stream",
          "name": "stdout",
          "text": [
            "Help on function python_version in module platform:\n",
            "\n",
            "python_version()\n",
            "    Returns the Python version as string 'major.minor.patchlevel'\n",
            "    \n",
            "    Note that unlike the Python sys.version, the returned value\n",
            "    will always include the patchlevel (it defaults to 0).\n",
            "\n"
          ]
        }
      ]
    },
    {
      "cell_type": "code",
      "source": [
        "x = \"Hello World\"   # str\n",
        "print (x, type(x))\n",
        "a = 2               # int\n",
        "print (a, type(a))\n",
        "b = 2.5             # float\n",
        "print (b, type(b))\n",
        "c = 7j              # complex\n",
        "print (c, type(c))"
      ],
      "metadata": {
        "colab": {
          "base_uri": "https://localhost:8080/"
        },
        "id": "3GS2MoS6-BOs",
        "outputId": "1a3505ee-4fe1-46ff-b44f-a8c7e6dbb347"
      },
      "execution_count": null,
      "outputs": [
        {
          "output_type": "stream",
          "name": "stdout",
          "text": [
            "Hello World <class 'str'>\n",
            "2 <class 'int'>\n",
            "2.5 <class 'float'>\n",
            "7j <class 'complex'>\n"
          ]
        }
      ]
    },
    {
      "cell_type": "code",
      "source": [
        "x = [\"apple\", \"banana\", \"cherry\"]           # list\n",
        "x.append('hello')\n",
        "print (x, type(x), x=[1:3])\n",
        "\n",
        "a = (\"apple\", \"banana\", \"cherry\")           # tuple\n",
        "print (a, type(a), x=[1:3])\n",
        "\n",
        "b = range(6)       # range\n",
        "print (b, type(b), x=[1:3])\n",
        "\n",
        "c = {\"name\": \"Tom\", \"age\": 20}              # dictipnary\n",
        "print (c, type(c), x=['age'])\n",
        "\n",
        "d = {\"apple\", \"banana\", \"cherry\"}           # set\n",
        "d.add('hello')\n",
        "print (d, type(d))\n",
        "\n",
        "e = frozenset({\"apple\", \"banana\", \"cherry\"}) # frozenset\n",
        "print (e, type(e))"
      ],
      "metadata": {
        "colab": {
          "base_uri": "https://localhost:8080/",
          "height": 106
        },
        "id": "0qHk7DVv-Dvw",
        "outputId": "166eb940-ee00-43d7-d093-de94d69c570f"
      },
      "execution_count": null,
      "outputs": [
        {
          "output_type": "error",
          "ename": "SyntaxError",
          "evalue": "invalid syntax (ipython-input-2361023663.py, line 3)",
          "traceback": [
            "\u001b[0;36m  File \u001b[0;32m\"/tmp/ipython-input-2361023663.py\"\u001b[0;36m, line \u001b[0;32m3\u001b[0m\n\u001b[0;31m    print (x, type(x), x=[1:3])\u001b[0m\n\u001b[0m                           ^\u001b[0m\n\u001b[0;31mSyntaxError\u001b[0m\u001b[0;31m:\u001b[0m invalid syntax\n"
          ]
        }
      ]
    },
    {
      "cell_type": "code",
      "source": [
        "x = True                        # bool\n",
        "print (x, type(x))"
      ],
      "metadata": {
        "colab": {
          "base_uri": "https://localhost:8080/"
        },
        "id": "Uq9faEhC-GAN",
        "outputId": "f05488b0-5c68-4da2-a5b9-a862797fff29"
      },
      "execution_count": null,
      "outputs": [
        {
          "output_type": "stream",
          "name": "stdout",
          "text": [
            "True <class 'bool'>\n"
          ]
        }
      ]
    },
    {
      "cell_type": "code",
      "source": [
        "x = b\"Hello\"                    # bytes\n",
        "print (x, type(x))"
      ],
      "metadata": {
        "colab": {
          "base_uri": "https://localhost:8080/"
        },
        "id": "g1koAez6-ILR",
        "outputId": "16429f2d-f39b-4242-bc0f-752e42a4ac04"
      },
      "execution_count": null,
      "outputs": [
        {
          "output_type": "stream",
          "name": "stdout",
          "text": [
            "b'Hello' <class 'bytes'>\n"
          ]
        }
      ]
    },
    {
      "cell_type": "code",
      "source": [
        "x = bytearray(5)                # bytearray\n",
        "print (x, type(x))"
      ],
      "metadata": {
        "colab": {
          "base_uri": "https://localhost:8080/"
        },
        "id": "6qpjHY5s-KqP",
        "outputId": "5ed65ffe-2f47-4582-ea99-28077e4fa511"
      },
      "execution_count": null,
      "outputs": [
        {
          "output_type": "stream",
          "name": "stdout",
          "text": [
            "bytearray(b'\\x00\\x00\\x00\\x00\\x00') <class 'bytearray'>\n"
          ]
        }
      ]
    },
    {
      "cell_type": "code",
      "source": [
        "x = memoryview(bytes(5))        # memoryview\n",
        "print (x, type(x), hex(id(x)))"
      ],
      "metadata": {
        "colab": {
          "base_uri": "https://localhost:8080/"
        },
        "id": "EQGl4Lu--MDG",
        "outputId": "860e9bb6-35b1-40c4-9f19-fa567d55882b"
      },
      "execution_count": null,
      "outputs": [
        {
          "output_type": "stream",
          "name": "stdout",
          "text": [
            "<memory at 0x7a5c72cf9c00> <class 'memoryview'> 0x7a5c72cf9c00\n"
          ]
        }
      ]
    },
    {
      "cell_type": "code",
      "source": [
        "x = None                        # NoneType\n",
        "print (x, type(x))"
      ],
      "metadata": {
        "colab": {
          "base_uri": "https://localhost:8080/"
        },
        "id": "psRI1uhN-Nn-",
        "outputId": "8a4027ff-2557-4b1e-970e-60c8806d845a"
      },
      "execution_count": null,
      "outputs": [
        {
          "output_type": "stream",
          "name": "stdout",
          "text": [
            "None <class 'NoneType'>\n"
          ]
        }
      ]
    },
    {
      "cell_type": "code",
      "source": [
        "x = str(3)    # x will be '3'\n",
        "y = int(3)    # y will be 3\n",
        "z = float(3)  # z will be 3.0\n",
        "\n",
        "print(x, type(x))\n",
        "print(y, type(y))\n",
        "print(z, type(z))"
      ],
      "metadata": {
        "colab": {
          "base_uri": "https://localhost:8080/"
        },
        "id": "7_dDS9KJ-PMR",
        "outputId": "0d091557-eabd-4c97-b1a2-72b6d559bd36"
      },
      "execution_count": null,
      "outputs": [
        {
          "output_type": "stream",
          "name": "stdout",
          "text": [
            "3 <class 'str'>\n",
            "3 <class 'int'>\n",
            "3.0 <class 'float'>\n"
          ]
        }
      ]
    },
    {
      "cell_type": "code",
      "source": [
        "x = 2     # int\n",
        "y = 3.4   # float\n",
        "z = 7j+3   # complex\n",
        "\n",
        "print(x, type(x))\n",
        "print(y, type(y))\n",
        "print(z, type(z))"
      ],
      "metadata": {
        "colab": {
          "base_uri": "https://localhost:8080/"
        },
        "id": "AyLf2F_q-Q7N",
        "outputId": "c022494a-e927-4bb9-f0da-cfcc86fb18bf"
      },
      "execution_count": null,
      "outputs": [
        {
          "output_type": "stream",
          "name": "stdout",
          "text": [
            "2 <class 'int'>\n",
            "3.4 <class 'float'>\n",
            "(3+7j) <class 'complex'>\n"
          ]
        }
      ]
    },
    {
      "cell_type": "code",
      "source": [
        "print('7 + 2 =', 7 + 2)\n",
        "print('7 - 2 =', 7 - 2)\n",
        "print('7 * 2 =', 7 * 2)\n",
        "print('7 / 2 =', 7 / 2)\n",
        "print('7 // 2 =', 7 // 2)\n",
        "print('7 % 2 =', 7 % 2)\n",
        "print('7 ** 2 =', 7 ** 2)"
      ],
      "metadata": {
        "colab": {
          "base_uri": "https://localhost:8080/"
        },
        "id": "b3Hz-k3K-Ss5",
        "outputId": "4ff67d34-5f1c-4705-87e0-de534fb552c4"
      },
      "execution_count": null,
      "outputs": [
        {
          "output_type": "stream",
          "name": "stdout",
          "text": [
            "7 + 2 = 9\n",
            "7 - 2 = 5\n",
            "7 * 2 = 14\n",
            "7 / 2 = 3.5\n",
            "7 // 2 = 3\n",
            "7 % 2 = 1\n",
            "7 ** 2 = 49\n"
          ]
        }
      ]
    },
    {
      "cell_type": "code",
      "source": [
        "# Python Booleans: True or False\n",
        "print(3 > 2)\n",
        "print(3 == 2)\n",
        "print(3 < 2)"
      ],
      "metadata": {
        "colab": {
          "base_uri": "https://localhost:8080/"
        },
        "id": "lyB-t1fH-Uhq",
        "outputId": "0193e618-f3fa-4490-e277-3f90877511d7"
      },
      "execution_count": null,
      "outputs": [
        {
          "output_type": "stream",
          "name": "stdout",
          "text": [
            "True\n",
            "False\n",
            "False\n"
          ]
        }
      ]
    },
    {
      "cell_type": "code",
      "source": [
        "# BMI Calculator in Python\n",
        "height_cm = 170\n",
        "weight_kg = 60\n",
        "height_m = height_cm / 100\n",
        "BMI = (weight_kg / (height_m ** 2))\n",
        "\n",
        "print(\"Your BMI is: \" + str(round(BMI, 1)))\n"
      ],
      "metadata": {
        "colab": {
          "base_uri": "https://localhost:8080/"
        },
        "id": "Nag3loH3-WMQ",
        "outputId": "7fb6be8f-adb7-4a51-8b1d-4f9382632d25"
      },
      "execution_count": null,
      "outputs": [
        {
          "output_type": "stream",
          "name": "stdout",
          "text": [
            "Your BMI is: 20.8\n"
          ]
        }
      ]
    },
    {
      "cell_type": "code",
      "source": [
        "# How much is your $100 worth after 7 years?\n",
        "fv = 100 * 1.1 ** 7\n",
        "print('fv = ', round(fv, 2))\n",
        "# output = 194.87\n"
      ],
      "metadata": {
        "colab": {
          "base_uri": "https://localhost:8080/"
        },
        "id": "lV5FJupT-X2l",
        "outputId": "78fa98b9-27b0-4e6b-a527-d0449ffa1b73"
      },
      "execution_count": null,
      "outputs": [
        {
          "output_type": "stream",
          "name": "stdout",
          "text": [
            "fv =  194.87\n"
          ]
        }
      ]
    },
    {
      "cell_type": "code",
      "source": [
        "# Future Value\n",
        "pv = 100\n",
        "r = 0.1\n",
        "n = 7\n",
        "#process\n",
        "fv = pv * ((1 + (r)) ** n)\n",
        "print(round(fv, 2))\n"
      ],
      "metadata": {
        "colab": {
          "base_uri": "https://localhost:8080/"
        },
        "id": "UPIktG5_-ZkG",
        "outputId": "307e8a55-fc36-4976-b0e8-e9323677e1e0"
      },
      "execution_count": null,
      "outputs": [
        {
          "output_type": "stream",
          "name": "stdout",
          "text": [
            "194.87\n"
          ]
        }
      ]
    },
    {
      "cell_type": "code",
      "source": [
        "# Future Value\n",
        "amount = 100\n",
        "interest = 10 #10% = 0.01 * 10\n",
        "years = 7\n",
        "#process\n",
        "future_value = amount * ((1 + (0.01 * interest)) ** years)\n",
        "print(round(future_value, 2))"
      ],
      "metadata": {
        "colab": {
          "base_uri": "https://localhost:8080/"
        },
        "id": "0xri8adL-b0V",
        "outputId": "15a96a70-b9a1-485c-da55-bf561db34245"
      },
      "execution_count": null,
      "outputs": [
        {
          "output_type": "stream",
          "name": "stdout",
          "text": [
            "194.87\n"
          ]
        }
      ]
    },
    {
      "cell_type": "markdown",
      "source": [
        "## Cấu Trúc dữ liệu"
      ],
      "metadata": {
        "id": "Q3OPSOQc-eTL"
      }
    },
    {
      "cell_type": "code",
      "source": [
        "x = [\"apple\", \"banana\", \"cherry\"] #list\n",
        "print(x, type(x))\n",
        "x = (\"apple\", \"banana\", \"cherry\") #tuple\n",
        "print(x, type(x))\n",
        "x = {\"name\" : \"Tom\", \"age\" : 20} #dict\n",
        "print(x, type(x))\n",
        "x = {\"apple\", \"banana\", \"cherry\"} #set\n",
        "print(x, type(x))"
      ],
      "metadata": {
        "colab": {
          "base_uri": "https://localhost:8080/"
        },
        "id": "KJ50nizr-hDc",
        "outputId": "7ce83c1e-83c8-48d0-b8a6-f5d955e0dfd3"
      },
      "execution_count": null,
      "outputs": [
        {
          "output_type": "stream",
          "name": "stdout",
          "text": [
            "['apple', 'banana', 'cherry'] <class 'list'>\n",
            "('apple', 'banana', 'cherry') <class 'tuple'>\n",
            "{'name': 'Tom', 'age': 20} <class 'dict'>\n",
            "{'banana', 'apple', 'cherry'} <class 'set'>\n"
          ]
        }
      ]
    },
    {
      "cell_type": "code",
      "source": [
        "#List: có thể sửa được\n",
        "x = [60, 70, 80, 90]\n",
        "print(len(x))\n",
        "print(x[0])\n",
        "print(x[1])\n",
        "print(x[-1])"
      ],
      "metadata": {
        "colab": {
          "base_uri": "https://localhost:8080/"
        },
        "id": "iwF9mT_V-j2s",
        "outputId": "ab086dd9-6879-4870-e321-d3aa6f36002a"
      },
      "execution_count": null,
      "outputs": [
        {
          "output_type": "stream",
          "name": "stdout",
          "text": [
            "4\n",
            "60\n",
            "70\n",
            "90\n"
          ]
        }
      ]
    },
    {
      "cell_type": "code",
      "source": [
        "#Tuples: Không sửa không thêm\n",
        "x = (10, 20, 30, 40, 50)\n",
        "print(x[0])\n",
        "print(x[1])\n",
        "print(x[2])\n",
        "print(x[-1])"
      ],
      "metadata": {
        "colab": {
          "base_uri": "https://localhost:8080/"
        },
        "id": "U9wsjMNN-rVI",
        "outputId": "4ace8bac-471a-4c55-cc4e-1570d0ce9f57"
      },
      "execution_count": null,
      "outputs": [
        {
          "output_type": "stream",
          "name": "stdout",
          "text": [
            "10\n",
            "20\n",
            "30\n",
            "50\n"
          ]
        }
      ]
    },
    {
      "cell_type": "code",
      "source": [
        "#Set: tập hợp, không được trùng nhau, có thể add thê, được\n",
        "animals = {'cat', 'dog'}\n",
        "print('cat' in animals)\n",
        "print('fish' in animals)\n",
        "animals.add('fish')\n",
        "print('fish' in animals)\n",
        "print(len(animals))\n",
        "animals.add('cat')\n",
        "print(len(animals))\n",
        "animals.remove('cat')\n",
        "print(len(animals))"
      ],
      "metadata": {
        "colab": {
          "base_uri": "https://localhost:8080/"
        },
        "id": "oZTRfCiv-tKw",
        "outputId": "246b40c4-2c41-43bf-a745-f129a939a238"
      },
      "execution_count": null,
      "outputs": [
        {
          "output_type": "stream",
          "name": "stdout",
          "text": [
            "True\n",
            "False\n",
            "True\n",
            "3\n",
            "3\n",
            "2\n"
          ]
        }
      ]
    },
    {
      "cell_type": "code",
      "source": [
        "#Dictionary{key:value}\n",
        "k = { 'EN':'English'\n",
        ",\n",
        "'FR':'French' }\n",
        "print(k['EN'])"
      ],
      "metadata": {
        "colab": {
          "base_uri": "https://localhost:8080/"
        },
        "id": "aA_OfdNu-vOK",
        "outputId": "ad56d41a-fe4c-45bb-f916-f01131738236"
      },
      "execution_count": null,
      "outputs": [
        {
          "output_type": "stream",
          "name": "stdout",
          "text": [
            "English\n"
          ]
        }
      ]
    },
    {
      "cell_type": "code",
      "source": [
        "fruits = [\"apple\", \"banana\", \"cherry\"] #lists []\n",
        "colors = (\"red\", \"green\", \"blue\") #tuples ()\n",
        "animals = {'cat', 'dog'} #sets {}\n",
        "person = {\"name\" : \"Tom\", \"age\" : 20} #dictionaries {}"
      ],
      "metadata": {
        "id": "E7FLVHca-wyi"
      },
      "execution_count": null,
      "outputs": []
    },
    {
      "cell_type": "code",
      "source": [
        "# Python Tuples\n",
        "accounts = ((\"Cash\", 1001), (\"Accounts Receivable\", 1002),\n",
        "(\"Inventory\", 1003))\n",
        "for account in accounts:\n",
        "  print(\"Account name:\", account[0], \"Account number:\", account[1])"
      ],
      "metadata": {
        "colab": {
          "base_uri": "https://localhost:8080/"
        },
        "id": "RY3F5qlH-yXN",
        "outputId": "fa148297-9fc6-4376-df89-63e41f3c9b09"
      },
      "execution_count": null,
      "outputs": [
        {
          "output_type": "stream",
          "name": "stdout",
          "text": [
            "Account name: Cash Account number: 1001\n",
            "Account name: Accounts Receivable Account number: 1002\n",
            "Account name: Inventory Account number: 1003\n"
          ]
        }
      ]
    },
    {
      "cell_type": "code",
      "source": [
        "# Python Sets\n",
        "account_numbers = {1001, 1002, 1003}\n",
        "new_account_number = 1004\n",
        "if new_account_number not in account_numbers:\n",
        "  print(\"Account number\", new_account_number, \"is not in use.\")"
      ],
      "metadata": {
        "colab": {
          "base_uri": "https://localhost:8080/"
        },
        "id": "2MjfOB8F-zwR",
        "outputId": "3e658a67-f54d-4bf3-814f-fdf6008315d2"
      },
      "execution_count": null,
      "outputs": [
        {
          "output_type": "stream",
          "name": "stdout",
          "text": [
            "Account number 1004 is not in use.\n"
          ]
        }
      ]
    },
    {
      "cell_type": "code",
      "source": [
        "# Python Sets\n",
        "account_numbers = set([acc[1] for acc in accounts]) #set comprehensive {1001, 1002, 1003}\n",
        "print(\"account_number\")\n",
        "new_account_number = 1004\n",
        "if new_account_number not in account_numbers:\n",
        "  print(\"account number\", new_account_number, \"is not in use.\")\n"
      ],
      "metadata": {
        "colab": {
          "base_uri": "https://localhost:8080/"
        },
        "id": "tsyQvTDO-1bc",
        "outputId": "bfbe91af-d3bd-439f-bfc9-c6e058df1a9f"
      },
      "execution_count": null,
      "outputs": [
        {
          "output_type": "stream",
          "name": "stdout",
          "text": [
            "account_number\n",
            "account number 1004 is not in use.\n"
          ]
        }
      ]
    },
    {
      "cell_type": "code",
      "source": [
        "# Python Dictionaries\n",
        "accounts = {\"1001\": {\"name\": \"Cash\", \"balance\": 500.00, \"type\": \"Asset\"},\n",
        "\"1002\": {\"name\": \"Accounts Receivable\", \"balance\": 1000.00, \"type\": \"Asset\"},\n",
        "\"2001\": {\"name\": \"Accounts Payable\", \"balance\": 750.00, \"type\": \"Liability\"}}\n",
        "for account_number, account_info in accounts.items():\n",
        "  print(\"Account number:\", account_number)\n",
        "  print(\"Account name:\", account_info[\"name\"])\n",
        "  print(\"Account balance:\", account_info[\"balance\"])\n",
        "  print(\"Account type:\", account_info[\"type\"])"
      ],
      "metadata": {
        "colab": {
          "base_uri": "https://localhost:8080/"
        },
        "id": "_THm88_n_FCF",
        "outputId": "abc262fe-0f02-4621-97a7-6ea6a919acce"
      },
      "execution_count": null,
      "outputs": [
        {
          "output_type": "stream",
          "name": "stdout",
          "text": [
            "Account number: 1001\n",
            "Account name: Cash\n",
            "Account balance: 500.0\n",
            "Account type: Asset\n",
            "Account number: 1002\n",
            "Account name: Accounts Receivable\n",
            "Account balance: 1000.0\n",
            "Account type: Asset\n",
            "Account number: 2001\n",
            "Account name: Accounts Payable\n",
            "Account balance: 750.0\n",
            "Account type: Liability\n"
          ]
        }
      ]
    },
    {
      "cell_type": "code",
      "source": [
        "# Python Dictionaries\n",
        "accounts = {\n",
        "    \"1001\": {\"name\": \"Cash\", \"balance\": 500.00, \"type\": \"Asset\"},\n",
        "    \"1002\": {\"name\": \"Accounts Receivable\", \"balance\": 1000.00, \"type\": \"Asset\"},\n",
        "    \"2001\": {\"name\": \"Accounts Payable\", \"balance\": 750.00, \"type\": \"Liability\"}\n",
        "}\n",
        "for acc_num, acc_info in accounts.items():\n",
        "  print('-'*50)\n",
        "  print(\"Account number:\", acc_num)\n",
        "  print(\"Account name:\", acc_info['name'])\n",
        "  print(\"Account balance:\", acc_info['balance'])\n",
        "  print(\"Account type:\", acc_info['type'])"
      ],
      "metadata": {
        "colab": {
          "base_uri": "https://localhost:8080/"
        },
        "id": "eRtlRH2M_Gxa",
        "outputId": "542f573b-2348-4c71-f5a3-0432d8fdd9ae"
      },
      "execution_count": null,
      "outputs": [
        {
          "output_type": "stream",
          "name": "stdout",
          "text": [
            "--------------------------------------------------\n",
            "Account number: 1001\n",
            "Account name: Cash\n",
            "Account balance: 500.0\n",
            "Account type: Asset\n",
            "--------------------------------------------------\n",
            "Account number: 1002\n",
            "Account name: Accounts Receivable\n",
            "Account balance: 1000.0\n",
            "Account type: Asset\n",
            "--------------------------------------------------\n",
            "Account number: 2001\n",
            "Account name: Accounts Payable\n",
            "Account balance: 750.0\n",
            "Account type: Liability\n"
          ]
        }
      ]
    },
    {
      "cell_type": "markdown",
      "source": [
        "## If, for, while"
      ],
      "metadata": {
        "id": "8rHbqMo1_Jg_"
      }
    },
    {
      "cell_type": "code",
      "source": [
        "# Python if\n",
        "score = 80\n",
        "if score >=60 :\n",
        "  print(\"Pass\")"
      ],
      "metadata": {
        "colab": {
          "base_uri": "https://localhost:8080/"
        },
        "id": "k7l826m6_KqV",
        "outputId": "d7207d09-8281-47ba-e252-1dc3c814a54f"
      },
      "execution_count": null,
      "outputs": [
        {
          "output_type": "stream",
          "name": "stdout",
          "text": [
            "Pass\n"
          ]
        }
      ]
    },
    {
      "cell_type": "code",
      "source": [
        "# Python if else\n",
        "score = 80\n",
        "if score >=60 :\n",
        "  print(\"Pass\")\n",
        "else:\n",
        "  print(\"Fail\")"
      ],
      "metadata": {
        "colab": {
          "base_uri": "https://localhost:8080/"
        },
        "id": "6KkSRe1O_O1t",
        "outputId": "108d8411-2ec4-48d3-8f7f-2f13c23c89e3"
      },
      "execution_count": null,
      "outputs": [
        {
          "output_type": "stream",
          "name": "stdout",
          "text": [
            "Pass\n"
          ]
        }
      ]
    },
    {
      "cell_type": "code",
      "source": [
        "score = 95\n",
        "if score >= 90 :\n",
        "  print(\"A\")\n",
        "elif score >=60 : #score <90 and >= 60\n",
        "  print(\"Pass\")\n",
        "else: #score <60\n",
        "  print(\"Fail\")"
      ],
      "metadata": {
        "colab": {
          "base_uri": "https://localhost:8080/"
        },
        "id": "27S8gDTB_QT7",
        "outputId": "0205d769-a11b-43b7-855f-6f5d156da86d"
      },
      "execution_count": null,
      "outputs": [
        {
          "output_type": "stream",
          "name": "stdout",
          "text": [
            "A\n"
          ]
        }
      ]
    },
    {
      "cell_type": "code",
      "source": [
        "# Python if elif else\n",
        "score = 90\n",
        "grade = \"\"\n",
        "if score >=90:\n",
        "  grade = \"A\"\n",
        "elif score >= 80: #[80,90)\n",
        "  grade = \"B\"\n",
        "elif score >= 70:#[70,80)\n",
        "  grade = \"C\"\n",
        "elif score >= 60: #[60,70)\n",
        "  grade = \"D\"\n",
        "else: #<60\n",
        "  grade = \"E\"\n",
        "print(grade)"
      ],
      "metadata": {
        "colab": {
          "base_uri": "https://localhost:8080/"
        },
        "id": "GVF2yuSp_RsB",
        "outputId": "010ccd10-6340-42a0-df76-30db76f85122"
      },
      "execution_count": null,
      "outputs": [
        {
          "output_type": "stream",
          "name": "stdout",
          "text": [
            "A\n"
          ]
        }
      ]
    },
    {
      "cell_type": "code",
      "source": [
        "for i in range(1,6): #range(1->5)\n",
        "  print(i)"
      ],
      "metadata": {
        "colab": {
          "base_uri": "https://localhost:8080/"
        },
        "id": "NLw_-ENu_TPm",
        "outputId": "10b0c3a5-2bde-43e2-d8b9-43253b088595"
      },
      "execution_count": null,
      "outputs": [
        {
          "output_type": "stream",
          "name": "stdout",
          "text": [
            "1\n",
            "2\n",
            "3\n",
            "4\n",
            "5\n"
          ]
        }
      ]
    },
    {
      "cell_type": "code",
      "source": [
        "for i in range(1,6): #range(1->5)\n",
        "  print(i, end ='')"
      ],
      "metadata": {
        "colab": {
          "base_uri": "https://localhost:8080/"
        },
        "id": "cvWjNBqW_aw9",
        "outputId": "1a02ac48-ea45-4988-d6fb-ec5f74b435c8"
      },
      "execution_count": null,
      "outputs": [
        {
          "output_type": "stream",
          "name": "stdout",
          "text": [
            "12345"
          ]
        }
      ]
    },
    {
      "cell_type": "code",
      "source": [
        "# for loops\n",
        "for i in range(1,10):\n",
        "  for j in range(1,10):\n",
        "    print(f'{i} * {j} = {i*j}')\n",
        "  print('-'*50)"
      ],
      "metadata": {
        "colab": {
          "base_uri": "https://localhost:8080/"
        },
        "id": "qS0OGafI_h4Z",
        "outputId": "4734d308-51d8-4fde-9576-f3b47a93fc7c"
      },
      "execution_count": null,
      "outputs": [
        {
          "output_type": "stream",
          "name": "stdout",
          "text": [
            "1 * 1 = 1\n",
            "1 * 2 = 2\n",
            "1 * 3 = 3\n",
            "1 * 4 = 4\n",
            "1 * 5 = 5\n",
            "1 * 6 = 6\n",
            "1 * 7 = 7\n",
            "1 * 8 = 8\n",
            "1 * 9 = 9\n",
            "--------------------------------------------------\n",
            "2 * 1 = 2\n",
            "2 * 2 = 4\n",
            "2 * 3 = 6\n",
            "2 * 4 = 8\n",
            "2 * 5 = 10\n",
            "2 * 6 = 12\n",
            "2 * 7 = 14\n",
            "2 * 8 = 16\n",
            "2 * 9 = 18\n",
            "--------------------------------------------------\n",
            "3 * 1 = 3\n",
            "3 * 2 = 6\n",
            "3 * 3 = 9\n",
            "3 * 4 = 12\n",
            "3 * 5 = 15\n",
            "3 * 6 = 18\n",
            "3 * 7 = 21\n",
            "3 * 8 = 24\n",
            "3 * 9 = 27\n",
            "--------------------------------------------------\n",
            "4 * 1 = 4\n",
            "4 * 2 = 8\n",
            "4 * 3 = 12\n",
            "4 * 4 = 16\n",
            "4 * 5 = 20\n",
            "4 * 6 = 24\n",
            "4 * 7 = 28\n",
            "4 * 8 = 32\n",
            "4 * 9 = 36\n",
            "--------------------------------------------------\n",
            "5 * 1 = 5\n",
            "5 * 2 = 10\n",
            "5 * 3 = 15\n",
            "5 * 4 = 20\n",
            "5 * 5 = 25\n",
            "5 * 6 = 30\n",
            "5 * 7 = 35\n",
            "5 * 8 = 40\n",
            "5 * 9 = 45\n",
            "--------------------------------------------------\n",
            "6 * 1 = 6\n",
            "6 * 2 = 12\n",
            "6 * 3 = 18\n",
            "6 * 4 = 24\n",
            "6 * 5 = 30\n",
            "6 * 6 = 36\n",
            "6 * 7 = 42\n",
            "6 * 8 = 48\n",
            "6 * 9 = 54\n",
            "--------------------------------------------------\n",
            "7 * 1 = 7\n",
            "7 * 2 = 14\n",
            "7 * 3 = 21\n",
            "7 * 4 = 28\n",
            "7 * 5 = 35\n",
            "7 * 6 = 42\n",
            "7 * 7 = 49\n",
            "7 * 8 = 56\n",
            "7 * 9 = 63\n",
            "--------------------------------------------------\n",
            "8 * 1 = 8\n",
            "8 * 2 = 16\n",
            "8 * 3 = 24\n",
            "8 * 4 = 32\n",
            "8 * 5 = 40\n",
            "8 * 6 = 48\n",
            "8 * 7 = 56\n",
            "8 * 8 = 64\n",
            "8 * 9 = 72\n",
            "--------------------------------------------------\n",
            "9 * 1 = 9\n",
            "9 * 2 = 18\n",
            "9 * 3 = 27\n",
            "9 * 4 = 36\n",
            "9 * 5 = 45\n",
            "9 * 6 = 54\n",
            "9 * 7 = 63\n",
            "9 * 8 = 72\n",
            "9 * 9 = 81\n",
            "--------------------------------------------------\n"
          ]
        }
      ]
    }
  ]
}