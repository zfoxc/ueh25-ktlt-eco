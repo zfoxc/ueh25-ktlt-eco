{
  "cells": [
    {
      "cell_type": "markdown",
      "metadata": {
        "id": "view-in-github",
        "colab_type": "text"
      },
      "source": [
        "<a href=\"https://colab.research.google.com/github/zfoxc/ueh25-ktlt-eco/blob/main/02_KTLTSP/02_KTLTSP_CTDL.ipynb\" target=\"_parent\"><img src=\"https://colab.research.google.com/assets/colab-badge.svg\" alt=\"Open In Colab\"/></a>"
      ]
    },
    {
      "cell_type": "markdown",
      "id": "52d694ed",
      "metadata": {
        "id": "52d694ed"
      },
      "source": [
        "# Cấu trúc dữ liệu trong Python — Lời giải bằng Python\n",
        "\n"
      ]
    },
    {
      "cell_type": "markdown",
      "id": "be11357f",
      "metadata": {
        "id": "be11357f"
      },
      "source": [
        "## Tiện ích dùng chung"
      ]
    },
    {
      "cell_type": "code",
      "execution_count": null,
      "id": "7af08783",
      "metadata": {
        "id": "7af08783"
      },
      "outputs": [],
      "source": [
        "\n",
        "import math, random, itertools\n",
        "random.seed(49)\n",
        "\n",
        "def is_prime(n: int) -> bool:\n",
        "    if n < 2: return False\n",
        "    if n % 2 == 0: return n == 2\n",
        "    r = int(math.isqrt(n))\n",
        "    for i in range(3, r+1, 2):\n",
        "        if n % i == 0: return False\n",
        "    return True\n"
      ]
    },
    {
      "cell_type": "markdown",
      "id": "eee1fd14",
      "metadata": {
        "id": "eee1fd14"
      },
      "source": [
        "## 1) Mảng 1 chiều — ví dụ minh họa (Coin Change, Vote Counting)"
      ]
    },
    {
      "cell_type": "code",
      "execution_count": null,
      "id": "c2a4f480",
      "metadata": {
        "colab": {
          "base_uri": "https://localhost:8080/"
        },
        "id": "c2a4f480",
        "outputId": "4e9adb50-9b80-4267-c168-56e7c463ffc1"
      },
      "outputs": [
        {
          "output_type": "stream",
          "name": "stdout",
          "text": [
            "minimumCoins_v1(590) -> 8\n",
            "minimumCoins_v2(590) -> 8\n"
          ]
        }
      ],
      "source": [
        "\n",
        "def minimumCoins_v1(amt: int) -> int:\n",
        "    coins = 0\n",
        "    for d in [100, 50, 20, 10, 5, 1]:\n",
        "        coins += amt // d\n",
        "        amt %= d\n",
        "    return coins\n",
        "\n",
        "def minimumCoins_v2(amt: int, denoms=(100,50,20,10,5,1)) -> int:\n",
        "    coins = 0\n",
        "    for d in denoms:\n",
        "        coins += amt // d\n",
        "        amt %= d\n",
        "    return coins\n",
        "\n",
        "print(\"minimumCoins_v1(590) ->\", minimumCoins_v1(590))\n",
        "print(\"minimumCoins_v2(590) ->\", minimumCoins_v2(590))\n"
      ]
    },
    {
      "cell_type": "code",
      "execution_count": null,
      "id": "63670e24",
      "metadata": {
        "colab": {
          "base_uri": "https://localhost:8080/"
        },
        "id": "63670e24",
        "outputId": "aec3e253-a35d-4b76-b15f-c1fdcb83a375"
      },
      "outputs": [
        {
          "output_type": "stream",
          "name": "stdout",
          "text": [
            "Counts (first 5): [3, 5, 4, 2, 4]\n"
          ]
        }
      ],
      "source": [
        "\n",
        "def count_votes(votes: list[int], num_candidates: int) -> list[int]:\n",
        "    counts = [0]*num_candidates\n",
        "    for v in votes:\n",
        "        if 1 <= v <= num_candidates:\n",
        "            counts[v-1] += 1\n",
        "    return counts\n",
        "\n",
        "# demo với 30 ứng viên, 100 phiếu ngẫu nhiên\n",
        "NUM_CANDIDATES, NUM_VOTES = 30, 100\n",
        "votes = [random.randint(1, NUM_CANDIDATES) for _ in range(NUM_VOTES)]\n",
        "counts = count_votes(votes, NUM_CANDIDATES)\n",
        "# hiển thị 5 ứng viên đầu\n",
        "print(\"Counts (first 5):\", counts[:5])\n"
      ]
    },
    {
      "cell_type": "markdown",
      "id": "250e6d42",
      "metadata": {
        "id": "250e6d42"
      },
      "source": [
        "## 2) Các thao tác nhập/xuất, kiểm tra, tính toán, tìm kiếm, xử lý trên mảng 1 chiều"
      ]
    },
    {
      "cell_type": "code",
      "execution_count": null,
      "id": "f3ef3b7c",
      "metadata": {
        "colab": {
          "base_uri": "https://localhost:8080/"
        },
        "id": "f3ef3b7c",
        "outputId": "4fc9090a-8e75-48e6-d07d-9005e165bbeb"
      },
      "outputs": [
        {
          "output_type": "stream",
          "name": "stdout",
          "text": [
            "a: [12, 5, 2, 7, 20, 25, 1, 0, -3, 8, 11]\n",
            "all_even: False\n",
            "all_prime: True\n",
            "is_increasing([1,2,2,5]): True\n",
            "count_div_by_4_not_5: 2\n",
            "sum_primes: 25\n",
            "last_index_of 2: 2\n",
            "first_prime_index: 1\n",
            "min_value: -3\n",
            "min_positive: 1\n"
          ]
        }
      ],
      "source": [
        "\n",
        "# Nhập mảng từ list dữ liệu có sẵn\n",
        "def read_array_from_list(data: list[int]) -> list[int]:\n",
        "    return [int(x) for x in data]\n",
        "\n",
        "def print_array(arr: list[int]) -> str:\n",
        "    return \" \".join(str(x) for x in arr)\n",
        "\n",
        "def all_even(arr: list[int]) -> bool:\n",
        "    return all(x % 2 == 0 for x in arr)\n",
        "\n",
        "def all_prime(arr: list[int]) -> bool:\n",
        "    return all(is_prime(x) for x in arr) if arr else False\n",
        "\n",
        "def is_increasing(arr: list[int]) -> bool:\n",
        "    return all(arr[i] <= arr[i+1] for i in range(len(arr)-1))\n",
        "\n",
        "def count_div_by_4_not_5(arr: list[int]) -> int:\n",
        "    return sum(1 for x in arr if x % 4 == 0 and x % 5 != 0)\n",
        "\n",
        "def sum_primes(arr: list[int]) -> int:\n",
        "    return sum(x for x in arr if is_prime(x))\n",
        "\n",
        "def last_index_of(arr: list[int], x: int) -> int:\n",
        "    for i in range(len(arr)-1, -1, -1):\n",
        "        if arr[i] == x: return i\n",
        "    return -1\n",
        "\n",
        "def first_prime_index(arr: list[int]) -> int:\n",
        "    for i, x in enumerate(arr):\n",
        "        if is_prime(x): return i\n",
        "    return -1\n",
        "\n",
        "def min_value(arr: list[int]) -> int:\n",
        "    if not arr: raise ValueError(\"Mảng rỗng\")\n",
        "    m = arr[0]\n",
        "    for x in arr[1:]:\n",
        "        if x < m: m = x\n",
        "    return m\n",
        "\n",
        "def min_positive(arr: list[int]) -> int | None:\n",
        "    positives = [x for x in arr if x > 0]\n",
        "    return min(positives) if positives else None\n",
        "\n",
        "# demo nhanh\n",
        "a = read_array_from_list([12, 5, 2, 7, 20, 25, 1, 0, -3, 8, 11])\n",
        "print(\"a:\", a)\n",
        "print(\"all_even:\", all_even(a))\n",
        "print(\"all_prime:\", all_prime([2,3,5,7]))\n",
        "print(\"is_increasing([1,2,2,5]):\", is_increasing([1,2,2,5]))\n",
        "print(\"count_div_by_4_not_5:\", count_div_by_4_not_5(a))\n",
        "print(\"sum_primes:\", sum_primes(a))\n",
        "print(\"last_index_of 2:\", last_index_of(a, 2))\n",
        "print(\"first_prime_index:\", first_prime_index(a))\n",
        "print(\"min_value:\", min_value(a))\n",
        "print(\"min_positive:\", min_positive(a))\n"
      ]
    },
    {
      "cell_type": "markdown",
      "id": "12df329a",
      "metadata": {
        "id": "12df329a"
      },
      "source": [
        "### 2.5) Xử lý tách/ghép/sắp xếp"
      ]
    },
    {
      "cell_type": "code",
      "execution_count": null,
      "id": "614309d4",
      "metadata": {
        "colab": {
          "base_uri": "https://localhost:8080/"
        },
        "id": "614309d4",
        "outputId": "07d029ac-c591-4989-b903-a6fc6b4482a7"
      },
      "outputs": [
        {
          "output_type": "stream",
          "name": "stdout",
          "text": [
            "a: [3, 0, -1, 7, 11, -5, 0, 2, 4]\n",
            "split_primes: [3, 7, 11, 2]\n",
            "split_positive_and_others: ([3, 7, 11, 2, 4], [0, -1, -5, 0])\n",
            "sort_desc: [11, 7, 4, 3, 2, 0, 0, -1, -5]\n",
            "custom_sort_pos_desc_neg_asc_zero_last: [11, 7, 4, 3, 2, -5, -1, 0, 0]\n"
          ]
        }
      ],
      "source": [
        "\n",
        "def split_primes(a: list[int]) -> list[int]:\n",
        "    return [x for x in a if is_prime(x)]\n",
        "\n",
        "def split_positive_and_others(a: list[int]) -> tuple[list[int], list[int]]:\n",
        "    pos = [x for x in a if x > 0]\n",
        "    others = [x for x in a if x <= 0]\n",
        "    return pos, others\n",
        "\n",
        "def sort_desc(a: list[int]) -> list[int]:\n",
        "    return sorted(a, reverse=True)\n",
        "\n",
        "def custom_sort_pos_desc_neg_asc_zero_last(a: list[int]) -> list[int]:\n",
        "    # dương (giảm dần) -> âm (tăng dần) -> 0 (giữ lại ở cuối)\n",
        "    positives = sorted([x for x in a if x > 0], reverse=True)\n",
        "    negatives = sorted([x for x in a if x < 0])\n",
        "    zeros = [x for x in a if x == 0]\n",
        "    return positives + negatives + zeros\n",
        "\n",
        "# demo\n",
        "a = [3, 0, -1, 7, 11, -5, 0, 2, 4]\n",
        "print(\"a:\", a)\n",
        "print(\"split_primes:\", split_primes(a))\n",
        "print(\"split_positive_and_others:\", split_positive_and_others(a))\n",
        "print(\"sort_desc:\", sort_desc(a))\n",
        "print(\"custom_sort_pos_desc_neg_asc_zero_last:\", custom_sort_pos_desc_neg_asc_zero_last(a))\n"
      ]
    },
    {
      "cell_type": "markdown",
      "id": "2a15f4d1",
      "metadata": {
        "id": "2a15f4d1"
      },
      "source": [
        "### 2.6) Thêm / Xóa / Sửa"
      ]
    },
    {
      "cell_type": "code",
      "execution_count": null,
      "id": "519b85da",
      "metadata": {
        "colab": {
          "base_uri": "https://localhost:8080/"
        },
        "id": "519b85da",
        "outputId": "89c71395-9383-4586-b5d5-fb49c4f47886"
      },
      "outputs": [
        {
          "output_type": "stream",
          "name": "stdout",
          "text": [
            "a: [2, 3, 4, 5, 6, 7, 8, 9, 10, 11]\n",
            "replace_primes_with_zero: [0, 0, 4, 0, 6, 0, 8, 9, 10, 0]\n",
            "insert_zero_after_primes: [2, 0, 3, 0, 4, 5, 0, 6, 7, 0, 8, 9, 10, 11, 0]\n",
            "remove_all_primes: [4, 6, 8, 9, 10]\n"
          ]
        }
      ],
      "source": [
        "\n",
        "def replace_primes_with_zero(a: list[int]) -> list[int]:\n",
        "    return [0 if is_prime(x) else x for x in a]\n",
        "\n",
        "def insert_zero_after_primes(a: list[int]) -> list[int]:\n",
        "    res = []\n",
        "    for x in a:\n",
        "        res.append(x)\n",
        "        if is_prime(x):\n",
        "            res.append(0)\n",
        "    return res\n",
        "\n",
        "def remove_all_primes(a: list[int]) -> list[int]:\n",
        "    return [x for x in a if not is_prime(x)]\n",
        "\n",
        "# demo\n",
        "a = [2,3,4,5,6,7,8,9,10,11]\n",
        "print(\"a:\", a)\n",
        "print(\"replace_primes_with_zero:\", replace_primes_with_zero(a))\n",
        "print(\"insert_zero_after_primes:\", insert_zero_after_primes(a))\n",
        "print(\"remove_all_primes:\", remove_all_primes(a))\n"
      ]
    },
    {
      "cell_type": "markdown",
      "id": "d1385bb5",
      "metadata": {
        "id": "d1385bb5"
      },
      "source": [
        "## 3) Một số bài toán khác trên mảng 1 chiều"
      ]
    },
    {
      "cell_type": "code",
      "execution_count": null,
      "id": "7f32cd7a",
      "metadata": {
        "colab": {
          "base_uri": "https://localhost:8080/"
        },
        "id": "7f32cd7a",
        "outputId": "156db341-a4b7-4fdd-f5eb-2ef042f00e03"
      },
      "outputs": [
        {
          "output_type": "stream",
          "name": "stdout",
          "text": [
            "sum_last3([20,12,25,8,36,9]) -> 53\n",
            "min_pair_diff([20,12,25,8,36,9]) -> 1\n"
          ]
        }
      ],
      "source": [
        "\n",
        "def sum_last3(arr: list[int]) -> int:\n",
        "    s = 0\n",
        "    count = 0\n",
        "    i = len(arr)-1\n",
        "    while i >= 0 and count < 3:\n",
        "        s += arr[i]\n",
        "        count += 1\n",
        "        i -= 1\n",
        "    return s\n",
        "\n",
        "def min_pair_diff(arr: list[int]) -> int:\n",
        "    if len(arr) < 2: raise ValueError(\"Cần >= 2 phần tử\")\n",
        "    arr_sorted = sorted(arr)\n",
        "    mind = abs(arr_sorted[1] - arr_sorted[0])\n",
        "    for i in range(1, len(arr_sorted)-1):\n",
        "        d = abs(arr_sorted[i+1] - arr_sorted[i])\n",
        "        if d < mind: mind = d\n",
        "    return mind\n",
        "\n",
        "print(\"sum_last3([20,12,25,8,36,9]) ->\", sum_last3([20,12,25,8,36,9]))\n",
        "print(\"min_pair_diff([20,12,25,8,36,9]) ->\", min_pair_diff([20,12,25,8,36,9]))\n"
      ]
    },
    {
      "cell_type": "markdown",
      "id": "cbd008f3",
      "metadata": {
        "id": "cbd008f3"
      },
      "source": [
        "## 4) Mảng nhiều chiều — nhập/xuất, enrolment, cộng ma trận"
      ]
    },
    {
      "cell_type": "code",
      "execution_count": null,
      "id": "4b32fef0",
      "metadata": {
        "colab": {
          "base_uri": "https://localhost:8080/"
        },
        "id": "4b32fef0",
        "outputId": "0c7bcd35-1043-470a-bf4d-cbecd2f9651b"
      },
      "outputs": [
        {
          "output_type": "stream",
          "name": "stdout",
          "text": [
            "A:\n",
            "1 2 3\n",
            "4 5 6\n",
            "B:\n",
            "6 5 4\n",
            "3 2 1\n",
            "A+B:\n",
            "7 7 7\n",
            "7 7 7\n"
          ]
        }
      ],
      "source": [
        "\n",
        "def build_matrix(rows: int, cols: int, data: list[int]) -> list[list[int]]:\n",
        "    assert len(data) == rows*cols\n",
        "    return [data[i*cols:(i+1)*cols] for i in range(rows)]\n",
        "\n",
        "def print2d(arr: list[list[object]]) -> str:\n",
        "    return \"\\n\".join(\" \".join(str(x) for x in row) for row in arr)\n",
        "\n",
        "def sum2d(arr: list[list[int]]) -> int:\n",
        "    return sum(sum(row) for row in arr)\n",
        "\n",
        "def add_matrix(A: list[list[float]], B: list[list[float]]) -> list[list[float]]:\n",
        "    assert len(A) == len(B) and all(len(A[i]) == len(B[i]) for i in range(len(A)))\n",
        "    R = len(A); C = len(A[0])\n",
        "    return [[A[i][j] + B[i][j] for j in range(C)] for i in range(R)]\n",
        "\n",
        "# demo\n",
        "A = build_matrix(2, 3, [1,2,3,4,5,6])\n",
        "B = build_matrix(2, 3, [6,5,4,3,2,1])\n",
        "print(\"A:\\n\" + print2d(A))\n",
        "print(\"B:\\n\" + print2d(B))\n",
        "print(\"A+B:\\n\" + print2d(add_matrix(A,B)))\n"
      ]
    },
    {
      "cell_type": "code",
      "execution_count": null,
      "id": "1b656b81",
      "metadata": {
        "colab": {
          "base_uri": "https://localhost:8080/"
        },
        "id": "1b656b81",
        "outputId": "cc07affb-6a12-4b4d-eae9-97428afda993"
      },
      "outputs": [
        {
          "output_type": "stream",
          "name": "stdout",
          "text": [
            "Enrol matrix:\n",
            "1 0 1 0 1 1 1 0\n",
            "1 0 1 1 1 0 1 1\n",
            "0 1 1 1 0 0 1 0\n",
            "Class with most students: 1\n",
            "Students in all classes: [2, 6]\n"
          ]
        }
      ],
      "source": [
        "\n",
        "def enrol_matrix(num_classes: int, num_students: int, pairs: list[tuple[int,int]]):\n",
        "    E = [[0]*num_students for _ in range(num_classes)]\n",
        "    for s, c in pairs:\n",
        "        if 0 <= c < num_classes and 0 <= s < num_students:\n",
        "            E[c][s] = 1\n",
        "    return E\n",
        "\n",
        "def class_with_most_students(E: list[list[int]]) -> int:\n",
        "    # trả về chỉ số lớp có tổng lớn nhất (bất kỳ nếu hòa)\n",
        "    sums = [sum(row) for row in E]\n",
        "    return max(range(len(E)), key=lambda i: sums[i]) if E else -1\n",
        "\n",
        "def students_in_all_classes(E: list[list[int]]) -> list[int]:\n",
        "    if not E: return []\n",
        "    num_classes, num_students = len(E), len(E[0])\n",
        "    res = []\n",
        "    for s in range(num_students):\n",
        "        if all(E[c][s] == 1 for c in range(num_classes)):\n",
        "            res.append(s)\n",
        "    return res\n",
        "\n",
        "# demo theo ví dụ\n",
        "num_classes, num_students = 3, 8\n",
        "pairs = [(3,1),(0,0),(0,1),(1,2),(2,0),(2,1),(2,2),(3,2),(7,1),(6,0),(5,0),(4,1),(4,0),(6,2),(6,1)]\n",
        "E = enrol_matrix(num_classes, num_students, pairs)\n",
        "print(\"Enrol matrix:\\n\" + print2d(E))\n",
        "print(\"Class with most students:\", class_with_most_students(E))\n",
        "print(\"Students in all classes:\", students_in_all_classes(E))\n"
      ]
    },
    {
      "cell_type": "markdown",
      "id": "b27fedc3",
      "metadata": {
        "id": "b27fedc3"
      },
      "source": [
        "## 5) List / Tuple / Set — ví dụ thao tác nhanh"
      ]
    },
    {
      "cell_type": "code",
      "execution_count": null,
      "id": "acc7d699",
      "metadata": {
        "colab": {
          "base_uri": "https://localhost:8080/"
        },
        "id": "acc7d699",
        "outputId": "0bd26be1-13ec-4fe4-967c-6b149e18d256"
      },
      "outputs": [
        {
          "output_type": "stream",
          "name": "stdout",
          "text": [
            "alias b phản chiếu thay đổi: [42, 3, 5]\n",
            "copy c không đổi: [2, 3, 5]\n",
            "unpack tuple: 1 2 3\n",
            "s ∪ t = {2, 3, 5, 7, 11}\n",
            "s ∩ t = {5, 7}\n",
            "s - t = {2, 3}\n",
            "5 in s? True\n"
          ]
        }
      ],
      "source": [
        "\n",
        "# List alias vs copy\n",
        "a = [2,3,5]; b = a; c = a[:]\n",
        "a[0] = 42\n",
        "print(\"alias b phản chiếu thay đổi:\", b)\n",
        "print(\"copy c không đổi:\", c)\n",
        "\n",
        "# Tuple unpack\n",
        "t = (1,2,3); x,y,z = t\n",
        "print(\"unpack tuple:\", x,y,z)\n",
        "\n",
        "# Set membership & phép toán\n",
        "s = set([2,3,5,7]); t = set([5,7,11])\n",
        "print(\"s ∪ t =\", s | t)\n",
        "print(\"s ∩ t =\", s & t)\n",
        "print(\"s - t =\", s - t)\n",
        "print(\"5 in s?\", 5 in s)\n"
      ]
    }
  ],
  "metadata": {
    "colab": {
      "provenance": [],
      "include_colab_link": true
    },
    "language_info": {
      "name": "python"
    },
    "kernelspec": {
      "name": "python3",
      "display_name": "Python 3"
    }
  },
  "nbformat": 4,
  "nbformat_minor": 5
}