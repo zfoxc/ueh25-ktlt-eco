{
  "cells": [
    {
      "cell_type": "markdown",
      "metadata": {
        "id": "view-in-github",
        "colab_type": "text"
      },
      "source": [
        "<a href=\"https://colab.research.google.com/github/zfoxc/ueh25-ktlt-eco/blob/main/02_KTLTSP/02_KTLTSP_MH.ipynb\" target=\"_parent\"><img src=\"https://colab.research.google.com/assets/colab-badge.svg\" alt=\"Open In Colab\"/></a>"
      ]
    },
    {
      "cell_type": "markdown",
      "id": "46659b21",
      "metadata": {
        "id": "46659b21"
      },
      "source": [
        "# Bài 02 – Kỹ thuật lập trình Python và Stata\n",
        "## BÀI TẬP MINH HỌA – Lời giải bằng Python\n"
      ]
    },
    {
      "cell_type": "markdown",
      "id": "893d7ead",
      "metadata": {
        "id": "893d7ead"
      },
      "source": [
        "## 1) Kiểm tra số nguyên tố, liệt kê dưới N, in M số nguyên tố đầu tiên"
      ]
    },
    {
      "cell_type": "code",
      "execution_count": null,
      "id": "2e75982d",
      "metadata": {
        "colab": {
          "base_uri": "https://localhost:8080/"
        },
        "id": "2e75982d",
        "outputId": "1ed455fc-1d66-422e-a2f3-2751462d961a"
      },
      "outputs": [
        {
          "output_type": "stream",
          "name": "stdout",
          "text": [
            "is_prime(29) -> True\n",
            "primes_less_than(20) -> [2, 3, 5, 7, 11, 13, 17, 19]\n",
            "first_M_primes(10) -> [2, 3, 5, 7, 11, 13, 17, 19, 23, 29]\n"
          ]
        }
      ],
      "source": [
        "\n",
        "import math\n",
        "\n",
        "def is_prime(n: int) -> bool:\n",
        "    if n < 2:\n",
        "        return False\n",
        "    if n % 2 == 0:\n",
        "        return n == 2\n",
        "    r = int(math.isqrt(n))\n",
        "    for i in range(3, r+1, 2):\n",
        "        if n % i == 0:\n",
        "            return False\n",
        "    return True\n",
        "\n",
        "def primes_less_than(N: int):\n",
        "    return [x for x in range(2, N) if is_prime(x)]\n",
        "\n",
        "def first_M_primes(M: int):\n",
        "    res = []\n",
        "    x = 2\n",
        "    while len(res) < M:\n",
        "        if is_prime(x):\n",
        "            res.append(x)\n",
        "        x += 1\n",
        "    return res\n",
        "\n",
        "# Ví dụ\n",
        "print(\"is_prime(29) ->\", is_prime(29))\n",
        "print(\"primes_less_than(20) ->\", primes_less_than(20))\n",
        "print(\"first_M_primes(10) ->\", first_M_primes(10))\n"
      ]
    },
    {
      "cell_type": "markdown",
      "id": "25bae098",
      "metadata": {
        "id": "25bae098"
      },
      "source": [
        "## 2) In số chẵn trong khoảng (M, N)"
      ]
    },
    {
      "cell_type": "code",
      "execution_count": null,
      "id": "0cf9db3f",
      "metadata": {
        "colab": {
          "base_uri": "https://localhost:8080/"
        },
        "id": "0cf9db3f",
        "outputId": "bf35bdb1-71a7-48f1-b41c-3b5b089b1417"
      },
      "outputs": [
        {
          "output_type": "stream",
          "name": "stdout",
          "text": [
            "even_in_range(3, 12) -> [4, 6, 8, 10]\n"
          ]
        }
      ],
      "source": [
        "\n",
        "def even_in_range(M: int, N: int):\n",
        "    if M > N:\n",
        "        M, N = N, M\n",
        "    return [i for i in range(M+1, N) if i % 2 == 0]\n",
        "\n",
        "print(\"even_in_range(3, 12) ->\", even_in_range(3, 12))\n"
      ]
    },
    {
      "cell_type": "markdown",
      "id": "8f1ba6f1",
      "metadata": {
        "id": "8f1ba6f1"
      },
      "source": [
        "### 2a) Các số chia hết cho 7 nhưng không phải bội của 5 trong đoạn [M, N]"
      ]
    },
    {
      "cell_type": "code",
      "execution_count": null,
      "id": "8fca51c2",
      "metadata": {
        "colab": {
          "base_uri": "https://localhost:8080/"
        },
        "id": "8fca51c2",
        "outputId": "31fdb012-2937-4497-fae5-3d0ef62646f0"
      },
      "outputs": [
        {
          "output_type": "stream",
          "name": "stdout",
          "text": [
            "Trong [99,999]: [112, 119, 126, 133, 147, 154, 161, 168, 182, 189, 196, 203, 217, 224, 231] ...\n"
          ]
        }
      ],
      "source": [
        "\n",
        "def multiples_7_not_5(M: int, N: int):\n",
        "    if M > N:\n",
        "        M, N = N, M\n",
        "    return [i for i in range(M, N+1) if (i % 7 == 0) and (i % 5 != 0)]\n",
        "\n",
        "print(\"Trong [99,999]:\", multiples_7_not_5(99, 999)[:15], \"...\")\n"
      ]
    },
    {
      "cell_type": "markdown",
      "id": "59c68e33",
      "metadata": {
        "id": "59c68e33"
      },
      "source": [
        "### 2b) Số đầu tiên chia hết cho cả 9 và 7 trong đoạn [M, N]"
      ]
    },
    {
      "cell_type": "code",
      "execution_count": null,
      "id": "589a1e11",
      "metadata": {
        "colab": {
          "base_uri": "https://localhost:8080/"
        },
        "id": "589a1e11",
        "outputId": "7be2a8e2-2c93-4f6d-f518-173a8e5bf64a"
      },
      "outputs": [
        {
          "output_type": "stream",
          "name": "stdout",
          "text": [
            "first_divisible_9_and_7(64, 300) -> 126\n"
          ]
        }
      ],
      "source": [
        "\n",
        "def first_divisible_9_and_7(M: int, N: int):\n",
        "    if M > N:\n",
        "        M, N = N, M\n",
        "    lcm = 63  # BCNN(9,7)\n",
        "    start = ((M + lcm - 1) // lcm) * lcm\n",
        "    return start if start <= N else -1\n",
        "\n",
        "print(\"first_divisible_9_and_7(64, 300) ->\", first_divisible_9_and_7(64, 300))\n"
      ]
    },
    {
      "cell_type": "markdown",
      "id": "21925662",
      "metadata": {
        "id": "21925662"
      },
      "source": [
        "## 3) Đếm số chữ số và tính tổng các chữ số của n"
      ]
    },
    {
      "cell_type": "code",
      "execution_count": null,
      "id": "09268c24",
      "metadata": {
        "colab": {
          "base_uri": "https://localhost:8080/"
        },
        "id": "09268c24",
        "outputId": "f0a3f18a-59fa-424e-a4b1-5088847fef8e"
      },
      "outputs": [
        {
          "output_type": "stream",
          "name": "stdout",
          "text": [
            "sum_and_count_digits(12345) -> (15, 5)\n"
          ]
        }
      ],
      "source": [
        "\n",
        "def sum_and_count_digits(n: int):\n",
        "    n = abs(n)\n",
        "    if n == 0:\n",
        "        return 0, 1\n",
        "    s, c = 0, 0\n",
        "    while n > 0:\n",
        "        s += n % 10\n",
        "        c += 1\n",
        "        n //= 10\n",
        "    return s, c\n",
        "\n",
        "print(\"sum_and_count_digits(12345) ->\", sum_and_count_digits(12345))\n"
      ]
    },
    {
      "cell_type": "markdown",
      "id": "7f373a85",
      "metadata": {
        "id": "7f373a85"
      },
      "source": [
        "## 4) Giai thừa (đệ quy)"
      ]
    },
    {
      "cell_type": "code",
      "execution_count": null,
      "id": "bf23af10",
      "metadata": {
        "colab": {
          "base_uri": "https://localhost:8080/"
        },
        "id": "bf23af10",
        "outputId": "df294c3d-39be-4b16-cbc0-dc8e2ec86c7a"
      },
      "outputs": [
        {
          "output_type": "stream",
          "name": "stdout",
          "text": [
            "factorial(5) -> 120\n"
          ]
        }
      ],
      "source": [
        "\n",
        "def factorial(n: int) -> int:\n",
        "    if n < 0:\n",
        "        raise ValueError(\"n phải không âm\")\n",
        "    return 1 if n <= 1 else n * factorial(n-1)\n",
        "\n",
        "print(\"factorial(5) ->\", factorial(5))\n"
      ]
    },
    {
      "cell_type": "markdown",
      "id": "97186775",
      "metadata": {
        "id": "97186775"
      },
      "source": [
        "## 5) Lũy thừa a^b (đệ quy)"
      ]
    },
    {
      "cell_type": "code",
      "execution_count": null,
      "id": "89653717",
      "metadata": {
        "colab": {
          "base_uri": "https://localhost:8080/"
        },
        "id": "89653717",
        "outputId": "ba76d816-7cb1-4d04-d9e0-e508cc4ba8af"
      },
      "outputs": [
        {
          "output_type": "stream",
          "name": "stdout",
          "text": [
            "power(2, 10) -> 1024\n"
          ]
        }
      ],
      "source": [
        "\n",
        "def power(a: int, b: int) -> int:\n",
        "    if b < 0:\n",
        "        # xử lý số mũ âm (trả về float)\n",
        "        return 1.0 / power(a, -b)\n",
        "    if b == 0:\n",
        "        return 1\n",
        "    if b % 2 == 0:\n",
        "        t = power(a, b//2)\n",
        "        return t * t\n",
        "    return a * power(a, b-1)\n",
        "\n",
        "print(\"power(2, 10) ->\", power(2, 10))\n"
      ]
    },
    {
      "cell_type": "markdown",
      "id": "c4127ce5",
      "metadata": {
        "id": "c4127ce5"
      },
      "source": [
        "## 6) Xử lý chuỗi: độ dài không dùng `len`, đếm từ, đếm nguyên âm/phụ âm"
      ]
    },
    {
      "cell_type": "code",
      "execution_count": null,
      "id": "74c87c37",
      "metadata": {
        "colab": {
          "base_uri": "https://localhost:8080/"
        },
        "id": "74c87c37",
        "outputId": "3a40d307-1b2d-4d48-de52-f98357787a51"
      },
      "outputs": [
        {
          "output_type": "stream",
          "name": "stdout",
          "text": [
            "strlen_no_len('hello') -> 5\n",
            "count_words_space_sep('Xin chao ban') -> 3\n",
            "count_words_no_split('  Xin   chao   ban   ') -> 3\n",
            "count_vowels_consonants('Hom nay troi dep') -> (5, 8)\n"
          ]
        }
      ],
      "source": [
        "\n",
        "def strlen_no_len(s: str) -> int:\n",
        "    count = 0\n",
        "    for _ in s:\n",
        "        count += 1\n",
        "    return count\n",
        "\n",
        "def count_words_space_sep(s: str) -> int:\n",
        "    # giả sử từ cách nhau bởi đúng một khoảng trắng\n",
        "    count = 0\n",
        "    in_word = False\n",
        "    for ch in s + \" \":\n",
        "        if ch != \" \" and not in_word:\n",
        "            in_word = True\n",
        "            count += 1\n",
        "        elif ch == \" \":\n",
        "            in_word = False\n",
        "    return count\n",
        "\n",
        "def count_words_no_split(s: str) -> int:\n",
        "    # chấp nhận nhiều khoảng trắng ngắt quãng\n",
        "    count = 0\n",
        "    i, n = 0, strlen_no_len(s)\n",
        "    while i < n:\n",
        "        # bỏ qua khoảng trắng\n",
        "        while i < n and s[i].isspace():\n",
        "            i += 1\n",
        "        if i < n:\n",
        "            count += 1\n",
        "        # đi qua từ\n",
        "        while i < n and not s[i].isspace():\n",
        "            i += 1\n",
        "    return count\n",
        "\n",
        "def count_vowels_consonants(s: str):\n",
        "    vowels = set(\"aeiouAEIOUăâáàảãạắằẳẵặấầẩẫậêếềểễệôốồổỗộơờớởỡợưứừửữựĂÂÊÔƠƯ\")\n",
        "    v = c = 0\n",
        "    for ch in s:\n",
        "        if ch.isalpha():\n",
        "            if ch in vowels:\n",
        "                v += 1\n",
        "            else:\n",
        "                c += 1\n",
        "    return v, c\n",
        "\n",
        "print(\"strlen_no_len('hello') ->\", strlen_no_len('hello'))\n",
        "print(\"count_words_space_sep('Xin chao ban') ->\", count_words_space_sep('Xin chao ban'))\n",
        "print(\"count_words_no_split('  Xin   chao   ban   ') ->\", count_words_no_split('  Xin   chao   ban   '))\n",
        "print(\"count_vowels_consonants('Hom nay troi dep') ->\", count_vowels_consonants('Hom nay troi dep'))\n"
      ]
    },
    {
      "cell_type": "markdown",
      "id": "dce1f834",
      "metadata": {
        "id": "dce1f834"
      },
      "source": [
        "## 7) List: sắp xếp, xóa theo vị trí, loại trùng, đếm tần suất"
      ]
    },
    {
      "cell_type": "code",
      "execution_count": null,
      "id": "fd65176d",
      "metadata": {
        "colab": {
          "base_uri": "https://localhost:8080/"
        },
        "id": "fd65176d",
        "outputId": "71a5c37a-1d0b-4cf3-acb4-58cc9ef5d7d5"
      },
      "outputs": [
        {
          "output_type": "stream",
          "name": "stdout",
          "text": [
            "sort_strings_lex(['b','a','c']) -> ['a', 'b', 'c']\n",
            "sort_integers([3,1,2]) -> [1, 2, 3]\n",
            "remove_positions([12,24,35,70,88,120,155], [1,2,3,6]) -> [12, 88, 120]\n",
            "unique_list_ordered([1,2,1,3,2,4]) -> [1, 2, 3, 4]\n",
            "count_frequency_methods([1,1,1,1,2,2,2,2,3,3,4,5,5]) -> [(1, 4), (2, 4), (3, 2), (4, 1), (5, 2)]\n"
          ]
        }
      ],
      "source": [
        "\n",
        "from collections import Counter\n",
        "\n",
        "def sort_strings_lex(lst):\n",
        "    return sorted(lst)\n",
        "\n",
        "def sort_integers(lst):\n",
        "    return sorted(lst)\n",
        "\n",
        "def remove_positions(lst, positions):\n",
        "    # positions là danh sách vị trí (0-based); bỏ những vị trí hợp lệ\n",
        "    s = set(p for p in positions if 0 <= p < len(lst))\n",
        "    return [v for i, v in enumerate(lst) if i not in s]\n",
        "\n",
        "def unique_list_ordered(lst):\n",
        "    seen = set()\n",
        "    res = []\n",
        "    for x in lst:\n",
        "        if x not in seen:\n",
        "            seen.add(x)\n",
        "            res.append(x)\n",
        "    return res\n",
        "\n",
        "def count_frequency_methods(lst):\n",
        "    # không dùng set/dict\n",
        "    order = []\n",
        "    for x in lst:\n",
        "        if x not in order:\n",
        "            order.append(x)\n",
        "    counts_no_set_dict = [(x, lst.count(x)) for x in order]\n",
        "    # dùng set\n",
        "    counts_with_set = [(x, lst.count(x)) for x in set(lst)]\n",
        "    # dùng dict\n",
        "    d = {x: lst.count(x) for x in lst}\n",
        "    # dùng Counter\n",
        "    ctr = Counter(lst)\n",
        "    return counts_no_set_dict, counts_with_set, d, ctr\n",
        "\n",
        "print(\"sort_strings_lex(['b','a','c']) ->\", sort_strings_lex(['b','a','c']))\n",
        "print(\"sort_integers([3,1,2]) ->\", sort_integers([3,1,2]))\n",
        "print(\"remove_positions([12,24,35,70,88,120,155], [1,2,3,6]) ->\", remove_positions([12,24,35,70,88,120,155], [1,2,3,6]))\n",
        "print(\"unique_list_ordered([1,2,1,3,2,4]) ->\", unique_list_ordered([1,2,1,3,2,4]))\n",
        "print(\"count_frequency_methods([1,1,1,1,2,2,2,2,3,3,4,5,5]) ->\", count_frequency_methods([1,1,1,1,2,2,2,2,3,3,4,5,5])[0])\n"
      ]
    },
    {
      "cell_type": "markdown",
      "id": "ca743e19",
      "metadata": {
        "id": "ca743e19"
      },
      "source": [
        "## 8) Cấu trúc điều kiện – các bài cơ bản"
      ]
    },
    {
      "cell_type": "code",
      "execution_count": null,
      "id": "cbed885d",
      "metadata": {
        "colab": {
          "base_uri": "https://localhost:8080/"
        },
        "id": "cbed885d",
        "outputId": "bb4c86a6-f21a-43a3-a7b4-bef5606e45db"
      },
      "outputs": [
        {
          "output_type": "stream",
          "name": "stdout",
          "text": [
            "read_1_to_9(7) -> bảy\n",
            "toggle_case_char('a') -> A\n",
            "solve_linear(2, -4) -> 2.0\n",
            "solve_quadratic(1, -3, 2) -> (1.0, 2.0)\n",
            "min_of_four(4,2,7,1) -> 1\n",
            "sort_four(4,2,7,1) -> (1, 2, 4, 7)\n",
            "taxi_fare(130) -> 1299600\n",
            "days_in_month(2, 2024) -> 29\n",
            "triangle_type(3,4,5) -> Vuông Thường\n"
          ]
        }
      ],
      "source": [
        "\n",
        "def read_1_to_9(n: int) -> str:\n",
        "    mapping = {1:\"một\",2:\"hai\",3:\"ba\",4:\"bốn\",5:\"năm\",6:\"sáu\",7:\"bảy\",8:\"tám\",9:\"chín\"}\n",
        "    return mapping.get(n, \"không đọc được\")\n",
        "\n",
        "def toggle_case_char(ch: str) -> str:\n",
        "    if len(ch) != 1 or not ch.isalpha():\n",
        "        return ch\n",
        "    return ch.upper() if ch.islower() else ch.lower()\n",
        "\n",
        "def solve_linear(a: float, b: float):\n",
        "    if a == 0:\n",
        "        return \"Vô số nghiệm\" if b == 0 else \"Vô nghiệm\"\n",
        "    return -b/a\n",
        "\n",
        "def solve_quadratic(a: float, b: float, c: float):\n",
        "    if a == 0:\n",
        "        return solve_linear(b, c)\n",
        "    delta = b*b - 4*a*c\n",
        "    if delta < 0:\n",
        "        return \"Vô nghiệm\"\n",
        "    if delta == 0:\n",
        "        return (-b)/(2*a)\n",
        "    import math\n",
        "    r = math.sqrt(delta)\n",
        "    return ((-b - r)/(2*a), (-b + r)/(2*a))\n",
        "\n",
        "def min_of_four(a,b,c,d):\n",
        "    return min(a,b,c,d)\n",
        "\n",
        "def sort_four(a,b,c,d):\n",
        "    return tuple(sorted([a,b,c,d]))\n",
        "\n",
        "def taxi_fare(km: float) -> int:\n",
        "    if km <= 0:\n",
        "        return 0\n",
        "    cost = 0\n",
        "    if km <= 1:\n",
        "        cost = 15000 * km\n",
        "    elif km <= 5:\n",
        "        cost = 15000 + (km-1)*13500\n",
        "    else:\n",
        "        cost = 15000 + 4*13500 + (km-5)*11000\n",
        "    if km > 120:\n",
        "        cost *= 0.9\n",
        "    return int(round(cost))\n",
        "\n",
        "def days_in_month(month: int, year: int) -> int:\n",
        "    import calendar\n",
        "    if month < 1 or month > 12:\n",
        "        return 0\n",
        "    return calendar.monthrange(year, month)[1]\n",
        "\n",
        "def triangle_type(a: float, b: float, c: float) -> str:\n",
        "    # kiểm tra tam giác\n",
        "    if a <= 0 or b <= 0 or c <= 0: return \"Không phải tam giác\"\n",
        "    if a + b <= c or a + c <= b or b + c <= a: return \"Không phải tam giác\"\n",
        "    # loại\n",
        "    eps = 1e-9\n",
        "    sides = sorted([a,b,c])\n",
        "    right = abs(sides[0]**2 + sides[1]**2 - sides[2]**2) < eps\n",
        "    if abs(a-b) < eps and abs(b-c) < eps: kind = \"Đều\"\n",
        "    elif abs(a-b) < eps or abs(a-c) < eps or abs(b-c) < eps: kind = \"Cân\"\n",
        "    else: kind = \"Thường\"\n",
        "    if right:\n",
        "        kind = \"Vuông \" + kind\n",
        "    return kind\n",
        "\n",
        "print(\"read_1_to_9(7) ->\", read_1_to_9(7))\n",
        "print(\"toggle_case_char('a') ->\", toggle_case_char('a'))\n",
        "print(\"solve_linear(2, -4) ->\", solve_linear(2, -4))\n",
        "print(\"solve_quadratic(1, -3, 2) ->\", solve_quadratic(1, -3, 2))\n",
        "print(\"min_of_four(4,2,7,1) ->\", min_of_four(4,2,7,1))\n",
        "print(\"sort_four(4,2,7,1) ->\", sort_four(4,2,7,1))\n",
        "print(\"taxi_fare(130) ->\", taxi_fare(130))\n",
        "print(\"days_in_month(2, 2024) ->\", days_in_month(2, 2024))\n",
        "print(\"triangle_type(3,4,5) ->\", triangle_type(3,4,5))\n"
      ]
    },
    {
      "cell_type": "markdown",
      "id": "2ff4e6a2",
      "metadata": {
        "id": "2ff4e6a2"
      },
      "source": [
        "## 9) Cấu trúc lặp – nhiều yêu cầu"
      ]
    },
    {
      "cell_type": "code",
      "execution_count": null,
      "id": "83be3138",
      "metadata": {
        "colab": {
          "base_uri": "https://localhost:8080/"
        },
        "id": "83be3138",
        "outputId": "89f7af55-dae8-4c2d-fe7e-81bfc671be02"
      },
      "outputs": [
        {
          "output_type": "stream",
          "name": "stdout",
          "text": [
            "is_palindrome_number(12321) -> True\n",
            "is_perfect_square(49) -> True\n",
            "max_min_digit(50237) -> (7, 0)\n",
            "digits_monotonic(12359) -> Tăng dần\n",
            "sum_1_to_n(10) -> 55\n",
            "sum_square_1_to_n(5) -> 55\n",
            "harmonic_sum(5) -> 2.283333333333333\n",
            "factorial_iter(6) -> 720\n",
            "sum_factorials(5) -> 153\n",
            "sum_divisible_a_not_b(20, 3, 5) -> 48\n",
            "sum_primes_less_than(50) -> 328\n",
            "reverse_number(1706) -> 6071\n",
            "two_digit_special() -> [36, 44, 63]\n",
            "gcd(84, 66) -> 6\n",
            "fibonacci_n(10) -> [1, 1, 2, 3, 5, 8, 13, 21, 34, 55]\n"
          ]
        }
      ],
      "source": [
        "\n",
        "import math\n",
        "\n",
        "def is_palindrome_number(n: int) -> bool:\n",
        "    s = str(abs(n))\n",
        "    return s == s[::-1]\n",
        "\n",
        "def is_perfect_square(n: int) -> bool:\n",
        "    if n < 0: return False\n",
        "    r = int(math.isqrt(n))\n",
        "    return r*r == n\n",
        "\n",
        "def max_min_digit(n: int):\n",
        "    s = str(abs(n))\n",
        "    digits = [int(ch) for ch in s]\n",
        "    return max(digits), min(digits)\n",
        "\n",
        "def digits_monotonic(n: int):\n",
        "    s = str(abs(n))\n",
        "    inc = all(s[i] <= s[i+1] for i in range(len(s)-1))\n",
        "    dec = all(s[i] >= s[i+1] for i in range(len(s)-1))\n",
        "    if inc and not dec: return \"Tăng dần\"\n",
        "    if dec and not inc: return \"Giảm dần\"\n",
        "    if inc and dec: return \"Các chữ số bằng nhau\"\n",
        "    return \"Không đơn điệu\"\n",
        "\n",
        "def sum_1_to_n(n: int) -> int:\n",
        "    return n*(n+1)//2\n",
        "\n",
        "def sum_square_1_to_n(n: int) -> int:\n",
        "    return n*(n+1)*(2*n+1)//6\n",
        "\n",
        "def harmonic_sum(n: int) -> float:\n",
        "    return sum(1.0/i for i in range(1, n+1))\n",
        "\n",
        "def factorial_iter(n: int) -> int:\n",
        "    f = 1\n",
        "    for i in range(2, n+1):\n",
        "        f *= i\n",
        "    return f\n",
        "\n",
        "def sum_factorials(n: int) -> int:\n",
        "    s, f = 0, 1\n",
        "    for i in range(1, n+1):\n",
        "        f *= i\n",
        "        s += f\n",
        "    return s\n",
        "\n",
        "def sum_divisible_a_not_b(n: int, a: int, b: int) -> int:\n",
        "    return sum(x for x in range(1, n) if x % a == 0 and x % b != 0)\n",
        "\n",
        "def sum_primes_less_than(n: int) -> int:\n",
        "    return sum(x for x in range(2, n) if is_prime(x))\n",
        "\n",
        "def reverse_number(n: int) -> int:\n",
        "    sgn = -1 if n < 0 else 1\n",
        "    s = str(abs(n))[::-1]\n",
        "    return sgn * int(s)\n",
        "\n",
        "def two_digit_special():\n",
        "    res = []\n",
        "    for x in range(10, 100):\n",
        "        a, b = divmod(x, 10)\n",
        "        if a*b == 2*(a+b):\n",
        "            res.append(x)\n",
        "    return res\n",
        "\n",
        "def gcd(a: int, b: int) -> int:\n",
        "    while b:\n",
        "        a, b = b, a % b\n",
        "    return abs(a)\n",
        "\n",
        "def fibonacci_n(n: int):\n",
        "    if n <= 0: return []\n",
        "    if n == 1: return [1]\n",
        "    seq = [1, 1]\n",
        "    while len(seq) < n:\n",
        "        seq.append(seq[-1] + seq[-2])\n",
        "    return seq\n",
        "\n",
        "# Ví dụ\n",
        "print(\"is_palindrome_number(12321) ->\", is_palindrome_number(12321))\n",
        "print(\"is_perfect_square(49) ->\", is_perfect_square(49))\n",
        "print(\"max_min_digit(50237) ->\", max_min_digit(50237))\n",
        "print(\"digits_monotonic(12359) ->\", digits_monotonic(12359))\n",
        "print(\"sum_1_to_n(10) ->\", sum_1_to_n(10))\n",
        "print(\"sum_square_1_to_n(5) ->\", sum_square_1_to_n(5))\n",
        "print(\"harmonic_sum(5) ->\", harmonic_sum(5))\n",
        "print(\"factorial_iter(6) ->\", factorial_iter(6))\n",
        "print(\"sum_factorials(5) ->\", sum_factorials(5))\n",
        "print(\"sum_divisible_a_not_b(20, 3, 5) ->\", sum_divisible_a_not_b(20, 3, 5))\n",
        "print(\"sum_primes_less_than(50) ->\", sum_primes_less_than(50))\n",
        "print(\"reverse_number(1706) ->\", reverse_number(1706))\n",
        "print(\"two_digit_special() ->\", two_digit_special())\n",
        "print(\"gcd(84, 66) ->\", gcd(84, 66))\n",
        "print(\"fibonacci_n(10) ->\", fibonacci_n(10))\n"
      ]
    },
    {
      "cell_type": "markdown",
      "id": "9b3baea4",
      "metadata": {
        "id": "9b3baea4"
      },
      "source": [
        "## 10) Ma trận 2 chiều – nhập/xuất, trung bình dương, toàn chẵn, dòng nhiều nguyên âm, cột nhiều số nguyên tố"
      ]
    },
    {
      "cell_type": "code",
      "execution_count": null,
      "id": "5fa2b60f",
      "metadata": {
        "colab": {
          "base_uri": "https://localhost:8080/"
        },
        "id": "5fa2b60f",
        "outputId": "739e4a27-6b74-4568-a401-e07ef3b83b33"
      },
      "outputs": [
        {
          "output_type": "stream",
          "name": "stdout",
          "text": [
            "Matrix A: [[1, 2, 3], [4, 5, 6]]\n",
            "avg_positive(A) -> 3.5\n",
            "all_even(A) -> True\n",
            "count_vowels_row(chars) -> (2, 3)\n",
            "columns_with_most_primes(B) -> [0, 2]\n"
          ]
        }
      ],
      "source": [
        "\n",
        "def read_matrix(rows: int, cols: int, data: list):\n",
        "    assert len(data) == rows*cols, \"Sai kích thước dữ liệu\"\n",
        "    A = [data[i*cols:(i+1)*cols] for i in range(rows)]\n",
        "    return A\n",
        "\n",
        "def avg_positive(A):\n",
        "    vals = [x for row in A for x in row if x > 0]\n",
        "    return sum(vals)/len(vals) if vals else 0.0\n",
        "\n",
        "def all_even(A):\n",
        "    return all((x % 2 == 0) for row in A for x in row)\n",
        "\n",
        "def count_vowels_row(A):\n",
        "    vowels = set(\"AEIOUaeiouĂÂÊÔƠƯăâêôơư\")\n",
        "    best_row, best_cnt = -1, -1\n",
        "    for i, row in enumerate(A):\n",
        "        cnt = sum(1 for ch in row if isinstance(ch, str) and len(ch)==1 and ch in vowels)\n",
        "        if cnt > best_cnt:\n",
        "            best_cnt = cnt\n",
        "            best_row = i\n",
        "    return best_row, best_cnt\n",
        "\n",
        "def columns_with_most_primes(A):\n",
        "    if not A: return []\n",
        "    rows, cols = len(A), len(A[0])\n",
        "    counts = [0]*cols\n",
        "    for j in range(cols):\n",
        "        for i in range(rows):\n",
        "            if is_prime(int(A[i][j])):\n",
        "                counts[j] += 1\n",
        "    maxc = max(counts) if counts else 0\n",
        "    return [j for j, c in enumerate(counts) if c == maxc]\n",
        "\n",
        "# Ví dụ\n",
        "A = read_matrix(2, 3, [1,2,3,4,5,6])\n",
        "print(\"Matrix A:\", A)\n",
        "print(\"avg_positive(A) ->\", avg_positive(A))\n",
        "print(\"all_even(A) ->\", all_even([[2,4,6],[8,10,12]]))\n",
        "chars = [['A','c','e'],['d','b','g'],['U','i','E']]\n",
        "print(\"count_vowels_row(chars) ->\", count_vowels_row(chars))\n",
        "B = [[19,4,6,13],[8,6,3,2],[7,5,7,8],[11,2,7,6],[3,9,2,15]]\n",
        "print(\"columns_with_most_primes(B) ->\", columns_with_most_primes(B))\n"
      ]
    },
    {
      "cell_type": "markdown",
      "id": "98d6648a",
      "metadata": {
        "id": "98d6648a"
      },
      "source": [
        "## 11) Ma trận vuông – chéo chính/phụ, tam giác trên, đếm loại số, các đường song song, in theo hình"
      ]
    },
    {
      "cell_type": "code",
      "execution_count": null,
      "id": "a23cafd7",
      "metadata": {
        "colab": {
          "base_uri": "https://localhost:8080/"
        },
        "id": "a23cafd7",
        "outputId": "a232390d-00cb-4578-e6c7-bef1c576d591"
      },
      "outputs": [
        {
          "output_type": "stream",
          "name": "stdout",
          "text": [
            "diagonals(A) -> ([1, 7, 13, 19, 25], [5, 9, 13, 17, 21])\n",
            "upper_triangle_exclusive(main) -> [2, 3, 4, 5, 8, 9, 10, 14, 15, 20]\n",
            "upper_triangle_exclusive(secondary) -> [1, 2, 3, 4, 6, 7, 8, 11, 12, 16]\n",
            "count_types_upper_triangle(A2) -> (0, 4, 6)\n",
            "main parallels (first 5) -> [[5], [4, 10], [3, 9, 15], [2, 8, 14, 20], [1, 7, 13, 19, 25]]\n",
            "secondary parallels (first 5) -> [[1], [2, 6], [3, 7, 11], [4, 8, 12, 16], [5, 9, 13, 17, 21]]\n",
            "rows pattern -> [[1, 2, 3, 4, 5], [10, 9, 8, 7, 6], [11, 12, 13, 14, 15], [20, 19, 18, 17, 16], [21, 22, 23, 24, 25]]\n",
            "cols pattern -> [[1, 6, 11, 16, 21], [22, 17, 12, 7, 2], [3, 8, 13, 18, 23], [24, 19, 14, 9, 4], [5, 10, 15, 20, 25]]\n"
          ]
        }
      ],
      "source": [
        "\n",
        "def diagonals(A):\n",
        "    n = len(A)\n",
        "    main = [A[i][i] for i in range(n)]\n",
        "    secondary = [A[i][n-1-i] for i in range(n)]\n",
        "    return main, secondary\n",
        "\n",
        "def upper_triangle_exclusive(A, which=\"main\"):\n",
        "    n = len(A)\n",
        "    res = []\n",
        "    if which == \"main\":\n",
        "        for i in range(n):\n",
        "            for j in range(i+1, n):\n",
        "                res.append(A[i][j])\n",
        "    else:  # secondary\n",
        "        for i in range(n):\n",
        "            for j in range(0, n-1-i):\n",
        "                res.append(A[i][j])\n",
        "    return res\n",
        "\n",
        "def count_types_upper_triangle(A):\n",
        "    n = len(A)\n",
        "    neg = pos = zero = 0\n",
        "    for i in range(n):\n",
        "        for j in range(i+1, n):\n",
        "            x = A[i][j]\n",
        "            if x < 0: neg += 1\n",
        "            elif x > 0: pos += 1\n",
        "            else: zero += 1\n",
        "    return neg, pos, zero\n",
        "\n",
        "def diagonals_parallel(A):\n",
        "    n = len(A)\n",
        "    # song song chéo chính: nhóm theo (j-i) hằng số\n",
        "    main_parallels = []\n",
        "    for d in range(n-1, -n, -1):\n",
        "        group = [A[i][j] for i in range(n) for j in range(n) if j-i == d]\n",
        "        if group:\n",
        "            main_parallels.append(group)\n",
        "    # song song chéo phụ: nhóm theo (i+j) hằng số\n",
        "    sec_parallels = []\n",
        "    for s in range(0, 2*n-1):\n",
        "        group = [A[i][j] for i in range(n) for j in range(n) if i+j == s]\n",
        "        if group:\n",
        "            sec_parallels.append(group)\n",
        "    return main_parallels, sec_parallels\n",
        "\n",
        "def rows_cols_pattern(A):\n",
        "    n = len(A)\n",
        "    rows = []\n",
        "    for i in range(n):\n",
        "        r = A[i][:]\n",
        "        if i % 2 == 1:\n",
        "            r = r[::-1]\n",
        "        rows.append(r)\n",
        "    cols = []\n",
        "    for j in range(n):\n",
        "        c = [A[i][j] for i in range(n)]\n",
        "        if j % 2 == 1:\n",
        "            c = c[::-1]\n",
        "        cols.append(c)\n",
        "    return rows, cols\n",
        "\n",
        "# Ví dụ\n",
        "A = [[1,2,3,4,5],\n",
        "     [6,7,8,9,10],\n",
        "     [11,12,13,14,15],\n",
        "     [16,17,18,19,20],\n",
        "     [21,22,23,24,25]]\n",
        "print(\"diagonals(A) ->\", diagonals(A))\n",
        "print(\"upper_triangle_exclusive(main) ->\", upper_triangle_exclusive(A, \"main\")[:10])\n",
        "print(\"upper_triangle_exclusive(secondary) ->\", upper_triangle_exclusive(A, \"secondary\")[:10])\n",
        "A2 = [[-5,5,0,0,0],[0,5,0,1,1],[0,5,0,0,0],[0,0,0,2,3],[1,1,1,4,7]]\n",
        "print(\"count_types_upper_triangle(A2) ->\", count_types_upper_triangle(A2))\n",
        "mp, sp = diagonals_parallel(A)\n",
        "print(\"main parallels (first 5) ->\", mp[:5])\n",
        "print(\"secondary parallels (first 5) ->\", sp[:5])\n",
        "rows, cols = rows_cols_pattern(A)\n",
        "print(\"rows pattern ->\", rows)\n",
        "print(\"cols pattern ->\", cols)\n"
      ]
    },
    {
      "cell_type": "markdown",
      "id": "2f69737a",
      "metadata": {
        "id": "2f69737a"
      },
      "source": [
        "## 12) Tần số xuất hiện của từ (WordHistogram)"
      ]
    },
    {
      "cell_type": "code",
      "execution_count": null,
      "id": "7ee8f642",
      "metadata": {
        "colab": {
          "base_uri": "https://localhost:8080/"
        },
        "id": "7ee8f642",
        "outputId": "1d216861-739c-4a96-a1db-5152b59a7cce"
      },
      "outputs": [
        {
          "output_type": "stream",
          "name": "stdout",
          "text": [
            "Theo thứ tự xuất hiện: [('hôm', 1), ('nay', 1), ('trời', 2), ('đẹp', 1), ('quá', 1), ('hơm', 1), ('qua', 1), ('mưa', 1), ('phải', 1), ('không', 1)]\n",
            "Theo thứ tự chữ cái: [('hôm', 1), ('hơm', 1), ('không', 1), ('mưa', 1), ('nay', 1), ('phải', 1), ('qua', 1), ('quá', 1), ('trời', 2), ('đẹp', 1)]\n"
          ]
        }
      ],
      "source": [
        "\n",
        "import re\n",
        "from collections import OrderedDict\n",
        "\n",
        "def word_histogram(lines: list[str]):\n",
        "    # chuẩn hóa: lower, tách theo khoảng trắng và các dấu , ; - ? ! . :\n",
        "    pattern = re.compile(r\"[\\s,;\\-\\?\\!\\.:]+\")\n",
        "    order = OrderedDict()\n",
        "    for line in lines:\n",
        "        for token in filter(None, pattern.split(line.strip().lower())):\n",
        "            order[token] = order.get(token, 0) + 1\n",
        "    # theo thứ tự xuất hiện\n",
        "    by_appearance = list(order.items())\n",
        "    # theo thứ tự chữ cái\n",
        "    by_alpha = sorted(order.items(), key=lambda x: x[0])\n",
        "    return by_appearance, by_alpha\n",
        "\n",
        "lines = [\"Hôm nay, trời đẹp quá!\", \"Hơm qua, trời mưa phải không?\"]\n",
        "appearance, alpha = word_histogram(lines)\n",
        "print(\"Theo thứ tự xuất hiện:\", appearance)\n",
        "print(\"Theo thứ tự chữ cái:\", alpha)\n"
      ]
    },
    {
      "cell_type": "markdown",
      "id": "3e569acf",
      "metadata": {
        "id": "3e569acf"
      },
      "source": [
        "## 13) Đảo từ (ReverseWord)"
      ]
    },
    {
      "cell_type": "code",
      "execution_count": null,
      "id": "70a06d7e",
      "metadata": {
        "colab": {
          "base_uri": "https://localhost:8080/"
        },
        "id": "70a06d7e",
        "outputId": "42abe07a-7698-4ba8-f5da-9bc6d8a04901"
      },
      "outputs": [
        {
          "output_type": "stream",
          "name": "stdout",
          "text": [
            "KIEN AN CA\n"
          ]
        }
      ],
      "source": [
        "\n",
        "def reverse_words(line: str) -> str:\n",
        "    parts = [p for p in line.strip().split() if p]\n",
        "    return \" \".join(reversed(parts))\n",
        "\n",
        "print(reverse_words(\"CA AN KIEN\"))\n"
      ]
    },
    {
      "cell_type": "markdown",
      "id": "fd1dca14",
      "metadata": {
        "id": "fd1dca14"
      },
      "source": [
        "## 14) Phần tử quan trọng (Majority Element) – Boyer–Moore"
      ]
    },
    {
      "cell_type": "code",
      "execution_count": null,
      "id": "13ef55b9",
      "metadata": {
        "colab": {
          "base_uri": "https://localhost:8080/"
        },
        "id": "13ef55b9",
        "outputId": "04e98147-d5ab-48e7-aada-3271d94448d5"
      },
      "outputs": [
        {
          "output_type": "stream",
          "name": "stdout",
          "text": [
            "3\n",
            "2\n"
          ]
        }
      ],
      "source": [
        "\n",
        "def majority_element(nums):\n",
        "    # Boyer–Moore Voting\n",
        "    count = 0\n",
        "    cand = None\n",
        "    for x in nums:\n",
        "        if count == 0:\n",
        "            cand = x\n",
        "            count = 1\n",
        "        elif x == cand:\n",
        "            count += 1\n",
        "        else:\n",
        "            count -= 1\n",
        "    return cand\n",
        "\n",
        "print(majority_element([3,2,3]))\n",
        "print(majority_element([2,2,1,1,1,2,2]))\n"
      ]
    },
    {
      "cell_type": "markdown",
      "id": "9e43eb57",
      "metadata": {
        "id": "9e43eb57"
      },
      "source": [
        "## 15) Số hạnh phúc (Happy Number)"
      ]
    },
    {
      "cell_type": "code",
      "execution_count": null,
      "id": "9e96cdd0",
      "metadata": {
        "colab": {
          "base_uri": "https://localhost:8080/"
        },
        "id": "9e96cdd0",
        "outputId": "b03f9659-74bf-46f8-ef1f-cf00190f76cd"
      },
      "outputs": [
        {
          "output_type": "stream",
          "name": "stdout",
          "text": [
            "True\n",
            "False\n"
          ]
        }
      ],
      "source": [
        "\n",
        "def is_happy(n: int) -> bool:\n",
        "    def next_val(x: int) -> int:\n",
        "        s = 0\n",
        "        while x:\n",
        "            x, d = divmod(x, 10)\n",
        "            s += d*d\n",
        "        return s\n",
        "    seen = set()\n",
        "    while n != 1 and n not in seen:\n",
        "        seen.add(n)\n",
        "        n = next_val(n)\n",
        "    return n == 1\n",
        "\n",
        "print(is_happy(19))\n",
        "print(is_happy(2))\n"
      ]
    },
    {
      "cell_type": "markdown",
      "id": "33558ce9",
      "metadata": {
        "id": "33558ce9"
      },
      "source": [
        "## 16) Chuỗi đẳng cấu (Isomorphic Strings)"
      ]
    },
    {
      "cell_type": "code",
      "execution_count": null,
      "id": "c640f3e5",
      "metadata": {
        "colab": {
          "base_uri": "https://localhost:8080/"
        },
        "id": "c640f3e5",
        "outputId": "d6aa4b53-c258-4526-b709-872f1e95b688"
      },
      "outputs": [
        {
          "output_type": "stream",
          "name": "stdout",
          "text": [
            "True\n",
            "False\n",
            "True\n"
          ]
        }
      ],
      "source": [
        "\n",
        "def is_isomorphic(s: str, t: str) -> bool:\n",
        "    if len(s) != len(t): return False\n",
        "    map_st = {}\n",
        "    map_ts = {}\n",
        "    for a, b in zip(s, t):\n",
        "        if (a in map_st and map_st[a] != b) or (b in map_ts and map_ts[b] != a):\n",
        "            return False\n",
        "        map_st[a] = b\n",
        "        map_ts[b] = a\n",
        "    return True\n",
        "\n",
        "print(is_isomorphic(\"egg\", \"add\"))\n",
        "print(is_isomorphic(\"foo\", \"bar\"))\n",
        "print(is_isomorphic(\"paper\", \"title\"))\n"
      ]
    }
  ],
  "metadata": {
    "colab": {
      "provenance": [],
      "gpuType": "T4",
      "include_colab_link": true
    },
    "accelerator": "GPU",
    "language_info": {
      "name": "python"
    },
    "kernelspec": {
      "name": "python3",
      "display_name": "Python 3"
    }
  },
  "nbformat": 4,
  "nbformat_minor": 5
}