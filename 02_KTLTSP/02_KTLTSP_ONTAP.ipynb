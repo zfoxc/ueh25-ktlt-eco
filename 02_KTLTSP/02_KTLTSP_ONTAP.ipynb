{
  "cells": [
    {
      "cell_type": "markdown",
      "metadata": {
        "id": "view-in-github",
        "colab_type": "text"
      },
      "source": [
        "<a href=\"https://colab.research.google.com/github/zfoxc/ueh25-ktlt-eco/blob/main/02_KTLTSP/02_KTLTSP_ONTAP.ipynb\" target=\"_parent\"><img src=\"https://colab.research.google.com/assets/colab-badge.svg\" alt=\"Open In Colab\"/></a>"
      ]
    },
    {
      "cell_type": "markdown",
      "id": "4c2baec2",
      "metadata": {
        "id": "4c2baec2"
      },
      "source": [
        "# Bài 02 – Kỹ thuật lập trình Python và Stata\n",
        "\n",
        "Giải **02 KTLTSP - BT - Cau hoi on tap.pdf**\n",
        "\n",
        "\n"
      ]
    },
    {
      "cell_type": "markdown",
      "id": "eddd57f3",
      "metadata": {
        "id": "eddd57f3"
      },
      "source": [
        "### Câu 1\n",
        "**Hỏi (tóm tắt):** Khẳng định nào đúng về Python?\n",
        "\n",
        "**Đáp án:** **Tất cả các đáp án đều đúng**\n",
        "\n",
        "*Giải thích:* Python là ngôn ngữ thông dịch cấp cao, hướng đối tượng và mã nguồn mở.\n"
      ]
    },
    {
      "cell_type": "markdown",
      "id": "5033a522",
      "metadata": {
        "id": "5033a522"
      },
      "source": [
        "### Câu 2\n",
        "**Hỏi (tóm tắt):** Khẳng định nào *không đúng* về Python?\n",
        "\n",
        "**Đáp án:** **Python là ngôn ngữ không phân biệt chữ HOA/thường (sai)**\n",
        "\n",
        "*Giải thích:* Python **phân biệt** hoa/thường (case-sensitive). Các ý còn lại đúng.\n"
      ]
    },
    {
      "cell_type": "markdown",
      "id": "7081dc73",
      "metadata": {
        "id": "7081dc73"
      },
      "source": [
        "### Câu 4\n",
        "**Hỏi (tóm tắt):** Các khối lệnh trong Python được xác định bởi?\n",
        "\n",
        "**Đáp án:** **Canh lề (thụt lề/indentation)**\n",
        "\n",
        "*Giải thích:* Python dùng thụt lề để xác định khối lệnh thay vì dấu ngoặc.\n"
      ]
    },
    {
      "cell_type": "markdown",
      "id": "dd5ba5a1",
      "metadata": {
        "id": "dd5ba5a1"
      },
      "source": [
        "### Câu 6\n",
        "**Hỏi (tóm tắt):** Khẳng định đúng về chú thích trong Python?\n",
        "\n",
        "**Đáp án:** **# để bắt đầu chú thích một dòng**\n",
        "\n",
        "*Giải thích:* Dùng ký tự `#` cho comment một dòng. Python không có cú pháp comment nhiều dòng; chuỗi `'''...'''`/`\"\"\"...\"\"\"` chỉ là literal/docstring, không phải toán tử chú thích.\n"
      ]
    },
    {
      "cell_type": "markdown",
      "id": "f3d437ee",
      "metadata": {
        "id": "f3d437ee"
      },
      "source": [
        "### Câu 9\n",
        "**Hỏi (tóm tắt):** Câu lệnh in ra kiểu dữ liệu của biến x?\n",
        "\n",
        "**Đáp án:** **print(type(x))**\n",
        "\n",
        "*Giải thích:* `type(x)` trả về đối tượng lớp của x; in ra bằng `print(...)`.\n"
      ]
    },
    {
      "cell_type": "markdown",
      "id": "677a31e6",
      "metadata": {
        "id": "677a31e6"
      },
      "source": [
        "### Câu 10\n",
        "**Hỏi (tóm tắt):** Gán x=1, y=2, z=3 với một lệnh?\n",
        "\n",
        "**Đáp án:** **x, y, z = 1, 2, 3**\n",
        "\n",
        "*Giải thích:* Gán đa biến bằng danh sách/tuple các giá trị cùng chiều dài.\n"
      ]
    },
    {
      "cell_type": "markdown",
      "id": "c9a59c15",
      "metadata": {
        "id": "c9a59c15"
      },
      "source": [
        "### Câu 12\n",
        "**Hỏi (tóm tắt):** Kết quả type(hex(15)) là gì?\n",
        "\n",
        "**Đáp án:** **<class 'str'>**\n",
        "\n",
        "*Giải thích:* `hex(15)` trả về chuỗi `'0xf'`, nên `type(...)` là `str`.\n"
      ]
    },
    {
      "cell_type": "markdown",
      "id": "42708032",
      "metadata": {
        "id": "42708032"
      },
      "source": [
        "### Câu 14\n",
        "**Hỏi (tóm tắt):** Kết quả float('    -50\\n')?\n",
        "\n",
        "**Đáp án:** **-50.0**\n",
        "\n",
        "*Giải thích:* Chuỗi được strip theo cú pháp số thực; kết quả là số thực -50.0.\n"
      ]
    },
    {
      "cell_type": "markdown",
      "id": "a4b5f9ec",
      "metadata": {
        "id": "a4b5f9ec"
      },
      "source": [
        "### Câu 17\n",
        "**Hỏi (tóm tắt):** Trường hợp đặt tên biến *không hợp lệ*?\n",
        "\n",
        "**Đáp án:** **bien-X = 5**\n",
        "\n",
        "*Giải thích:* Tên biến không được chứa dấu `-`; các tên còn lại hợp lệ.\n"
      ]
    },
    {
      "cell_type": "markdown",
      "id": "6108e209",
      "metadata": {
        "id": "6108e209"
      },
      "source": [
        "### Câu 22\n",
        "**Hỏi (tóm tắt):** print(100 >= 10**2) in ra?\n",
        "\n",
        "**Đáp án:** **True**\n",
        "\n",
        "*Giải thích:* `10**2` bằng 100; 100 >= 100 là đúng.\n"
      ]
    },
    {
      "cell_type": "markdown",
      "id": "411a32b6",
      "metadata": {
        "id": "411a32b6"
      },
      "source": [
        "### Câu 31\n",
        "**Hỏi (tóm tắt):** Tìm vị trí phần tử lớn nhất trong [1,2,3,4,5,5,1] (duyệt i=1..)\n",
        "\n",
        "**Đáp án:** **4**\n",
        "\n",
        "*Giải thích:* Giá trị lớn nhất 5 đầu tiên ở chỉ số 4; khi gặp 5 thứ hai (i=5) không lớn hơn, không cập nhật.\n"
      ]
    },
    {
      "cell_type": "markdown",
      "id": "66fcd8fe",
      "metadata": {
        "id": "66fcd8fe"
      },
      "source": [
        "### Câu 33\n",
        "**Hỏi (tóm tắt):** Tương tự Câu 31 nhưng danh sách [1,6,3,4,5,5,1] và range(2,...)\n",
        "\n",
        "**Đáp án:** **4**\n",
        "\n",
        "*Giải thích:* Bắt đầu so sánh từ i=2; max cuối cùng tại 5 ở vị trí 4.\n"
      ]
    },
    {
      "cell_type": "markdown",
      "id": "02aaca14",
      "metadata": {
        "id": "02aaca14"
      },
      "source": [
        "### Câu 35\n",
        "**Hỏi (tóm tắt):** Kết quả in khi `for i in enumerate(['a','b']): print(i)`?\n",
        "\n",
        "**Đáp án:** **(0, 'a')  rồi  (1, 'b')**\n",
        "\n",
        "*Giải thích:* `enumerate` trả về cặp `(chỉ_số, giá_trị)` cho mỗi phần tử.\n"
      ]
    },
    {
      "cell_type": "markdown",
      "id": "d770f7d9",
      "metadata": {
        "id": "d770f7d9"
      },
      "source": [
        "### Câu 37\n",
        "**Hỏi (tóm tắt):** In từng ký tự 'HelloWorld' bỏ qua ký tự 'l'\n",
        "\n",
        "**Đáp án:** **HeoWord**\n",
        "\n",
        "*Giải thích:* Bỏ qua mọi 'l' bằng `continue`, các ký tự còn lại được in liền nhau.\n"
      ]
    },
    {
      "cell_type": "markdown",
      "id": "c1dc931d",
      "metadata": {
        "id": "c1dc931d"
      },
      "source": [
        "### Câu 28\n",
        "**Hỏi (tóm tắt):** Vòng lặp `for i in range(20)` break tại i==10, có `for-else`\n",
        "\n",
        "**Đáp án:** **0123456789**\n",
        "\n",
        "*Giải thích:* `else` của `for` chỉ chạy nếu **không** `break`; ở đây có `break` nên chỉ in 0..9.\n"
      ]
    },
    {
      "cell_type": "markdown",
      "id": "6a5d5283",
      "metadata": {
        "id": "6a5d5283"
      },
      "source": [
        "### Câu 39\n",
        "**Hỏi (tóm tắt):** Gán `word='Python'; word[0]='K'` rồi `print(word[0])`\n",
        "\n",
        "**Đáp án:** **Có lỗi (Error)**\n",
        "\n",
        "*Giải thích:* Chuỗi trong Python là **bất biến**; không thể gán phần tử.\n"
      ]
    },
    {
      "cell_type": "markdown",
      "id": "7aac7801",
      "metadata": {
        "id": "7aac7801"
      },
      "source": [
        "### Câu 41\n",
        "**Hỏi (tóm tắt):** Hàm chuyển chữ thường sang chữ hoa?\n",
        "\n",
        "**Đáp án:** **upper()**\n",
        "\n",
        "*Giải thích:* `str.upper()` trả về bản sao viết hoa của chuỗi.\n"
      ]
    },
    {
      "cell_type": "markdown",
      "id": "0b9e026a",
      "metadata": {
        "id": "0b9e026a"
      },
      "source": [
        "### Câu 42\n",
        "**Hỏi (tóm tắt):** `num = '1' * '5'` rồi in `num`\n",
        "\n",
        "**Đáp án:** **TypeError: can't multiply sequence by non-int of type 'str'**\n",
        "\n",
        "*Giải thích:* Nhân chuỗi chỉ hợp lệ với số nguyên; không thể nhân chuỗi với chuỗi.\n"
      ]
    },
    {
      "cell_type": "markdown",
      "id": "aac2b159",
      "metadata": {
        "id": "aac2b159"
      },
      "source": [
        "### Câu 44\n",
        "**Hỏi (tóm tắt):** `num = '1' * 5` rồi in\n",
        "\n",
        "**Đáp án:** **11111**\n",
        "\n",
        "*Giải thích:* Chuỗi `'1'` lặp 5 lần.\n"
      ]
    },
    {
      "cell_type": "markdown",
      "id": "91379280",
      "metadata": {
        "id": "91379280"
      },
      "source": [
        "### Câu 45\n",
        "**Hỏi (tóm tắt):** `print('Hello World'[::-1])`\n",
        "\n",
        "**Đáp án:** **dlroW olleH**\n",
        "\n",
        "*Giải thích:* Bước `-1` đảo ngược chuỗi.\n"
      ]
    },
    {
      "cell_type": "markdown",
      "id": "8a7a621e",
      "metadata": {
        "id": "8a7a621e"
      },
      "source": [
        "### Câu 50\n",
        "**Hỏi (tóm tắt):** `\"{1}, {0} va {2}\".format('Hello','Hi','World')`\n",
        "\n",
        "**Đáp án:** **Hi, Hello va World**\n",
        "\n",
        "*Giải thích:* Vị trí `{1}`→'Hi', `{0}`→'Hello', `{2}`→'World'.\n"
      ]
    },
    {
      "cell_type": "markdown",
      "id": "15d5c5d5",
      "metadata": {
        "id": "15d5c5d5"
      },
      "source": [
        "### Câu 53\n",
        "**Hỏi (tóm tắt):** Kiểu dữ liệu nào là TUPLE?\n",
        "\n",
        "**Đáp án:** **(\"apple\", \"banana\", \"cherry\")**\n",
        "\n",
        "*Giải thích:* Dấu ngoặc tròn và có thứ tự, bất biến.\n"
      ]
    },
    {
      "cell_type": "markdown",
      "id": "ee56bf28",
      "metadata": {
        "id": "ee56bf28"
      },
      "source": [
        "### Câu 56\n",
        "**Hỏi (tóm tắt):** Cấu trúc có thứ tự, có thể thay đổi, cho phép trùng?\n",
        "\n",
        "**Đáp án:** **LIST**\n",
        "\n",
        "*Giải thích:* List có thứ tự, mutable và cho phép phần tử trùng lặp.\n"
      ]
    },
    {
      "cell_type": "markdown",
      "id": "224b50e2",
      "metadata": {
        "id": "224b50e2"
      },
      "source": [
        "### Câu 59\n",
        "**Hỏi (tóm tắt):** `list(enumerate([2,3]))`\n",
        "\n",
        "**Đáp án:** **[(0, 2), (1, 3)]**\n",
        "\n",
        "*Giải thích:* `enumerate` đánh số từ 0 theo mặc định.\n"
      ]
    },
    {
      "cell_type": "markdown",
      "id": "72d59dc6",
      "metadata": {
        "id": "72d59dc6"
      },
      "source": [
        "### Câu 70\n",
        "**Hỏi (tóm tắt):** `set([2,2,2,1,1,3,4,5,5])` in ra?\n",
        "\n",
        "**Đáp án:** **{1, 2, 3, 4, 5}**\n",
        "\n",
        "*Giải thích:* Tập hợp loại bỏ phần tử trùng lặp, không có thứ tự.\n"
      ]
    },
    {
      "cell_type": "markdown",
      "id": "466d19fe",
      "metadata": {
        "id": "466d19fe"
      },
      "source": [
        "### Câu 73\n",
        "**Hỏi (tóm tắt):** `T=(1,2,3,4,5); del T[3]`\n",
        "\n",
        "**Đáp án:** **Có xuất hiện lỗi Error**\n",
        "\n",
        "*Giải thích:* Tuple là bất biến; không thể xóa phần tử bằng chỉ số.\n"
      ]
    },
    {
      "cell_type": "markdown",
      "id": "28cbff3d",
      "metadata": {
        "id": "28cbff3d"
      },
      "source": [
        "### Câu 75\n",
        "**Hỏi (tóm tắt):** `d={1:'a',2:'b'}; print(d.get(0), d.get(0,42))`\n",
        "\n",
        "**Đáp án:** **None  42**\n",
        "\n",
        "*Giải thích:* `get(k)` trả về `None` nếu không có khóa; `get(k, mặc_định)` trả về giá trị mặc định.\n"
      ]
    },
    {
      "cell_type": "markdown",
      "id": "a284d49c",
      "metadata": {
        "id": "a284d49c"
      },
      "source": [
        "### Câu 77\n",
        "**Hỏi (tóm tắt):** Hàm `say(message, times=1)`; `say('Hello'); say('World',5)`\n",
        "\n",
        "**Đáp án:** **In 'Hello' và 'World' × 5 trên dòng kế tiếp**\n",
        "\n",
        "*Giải thích:* Cụ thể:\n",
        "```\n",
        "Hello\n",
        "WorldWorldWorldWorldWorld\n",
        "```\n"
      ]
    },
    {
      "cell_type": "markdown",
      "id": "807c3496",
      "metadata": {
        "id": "807c3496"
      },
      "source": [
        "### Câu 82\n",
        "**Hỏi (tóm tắt):** `def say(s1='Hello World!', s2): ...`\n",
        "\n",
        "**Đáp án:** **Có xuất hiện lỗi Error**\n",
        "\n",
        "*Giải thích:* Tham số **không mặc định** (`s2`) không được đứng sau tham số **mặc định** (`s1`).\n"
      ]
    },
    {
      "cell_type": "markdown",
      "id": "84669ca8",
      "metadata": {
        "id": "84669ca8"
      },
      "source": [
        "### Câu 85\n",
        "**Hỏi (tóm tắt):** Hàm tích hợp sẵn (built-in) trong Python?\n",
        "\n",
        "**Đáp án:** **print()**\n",
        "\n",
        "*Giải thích:* `print` là built-in; `cos/sqrt/factorial` thuộc mô-đun `math`.\n"
      ]
    },
    {
      "cell_type": "markdown",
      "id": "d32646a5",
      "metadata": {
        "id": "d32646a5"
      },
      "source": [
        "### Câu 89\n",
        "**Hỏi (tóm tắt):** `f = open('test.txt')`\n",
        "\n",
        "**Đáp án:** **Mở file để **đọc** (mặc định mode 'r')**\n",
        "\n",
        "*Giải thích:* Không ghi/ghi đè; chỉ đọc văn bản theo mặc định.\n"
      ]
    },
    {
      "cell_type": "markdown",
      "id": "f4dc0545",
      "metadata": {
        "id": "f4dc0545"
      },
      "source": [
        "### Câu 90\n",
        "**Hỏi (tóm tắt):** Mở file với mode `'wb'`\n",
        "\n",
        "**Đáp án:** **Mở **ghi** dạng **nhị phân** (ghi mới, ghi đè)**\n",
        "\n",
        "*Giải thích:* Chế độ write-binary: tạo/ghi đè file ở chế độ nhị phân.\n"
      ]
    }
  ],
  "metadata": {
    "colab": {
      "provenance": [],
      "include_colab_link": true
    }
  },
  "nbformat": 4,
  "nbformat_minor": 5
}