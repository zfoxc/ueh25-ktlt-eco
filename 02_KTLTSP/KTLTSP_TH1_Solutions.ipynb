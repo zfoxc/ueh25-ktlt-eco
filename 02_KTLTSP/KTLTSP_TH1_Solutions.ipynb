{
  "cells": [
    {
      "cell_type": "markdown",
      "metadata": {
        "id": "view-in-github",
        "colab_type": "text"
      },
      "source": [
        "<a href=\"https://colab.research.google.com/github/zfoxc/ueh25-ktlt-eco/blob/main/02_KTLTSP/KTLTSP_TH1_Solutions.ipynb\" target=\"_parent\"><img src=\"https://colab.research.google.com/assets/colab-badge.svg\" alt=\"Open In Colab\"/></a>"
      ]
    },
    {
      "cell_type": "markdown",
      "id": "ec333421",
      "metadata": {
        "id": "ec333421"
      },
      "source": [
        "# BÀI TẬP MẪU — Bài 1: InChuoi\n",
        "\n",
        "In 2 dòng chữ theo đề."
      ]
    },
    {
      "cell_type": "code",
      "execution_count": null,
      "id": "25171a5b",
      "metadata": {
        "colab": {
          "base_uri": "https://localhost:8080/"
        },
        "id": "25171a5b",
        "outputId": "441a9ee1-1c6e-4c2d-cfa5-69d358d8d88b"
      },
      "outputs": [
        {
          "output_type": "stream",
          "name": "stdout",
          "text": [
            "Whoever is happy will make others happy too\n",
            "--Anne Frank\n"
          ]
        }
      ],
      "source": [
        "def in_chuoi():\n",
        "    print(\"Whoever is happy will make others happy too\")\n",
        "    print(\"--Anne Frank\")\n",
        "\n",
        "# Ví dụ\n",
        "in_chuoi()\n"
      ]
    },
    {
      "cell_type": "markdown",
      "id": "c2f898d8",
      "metadata": {
        "id": "c2f898d8"
      },
      "source": [
        "# BÀI TẬP MẪU — Bài 2: BieuThuc\n",
        "\n",
        "Nhập a, b nguyên. In A+B, A-B, A*B, A//B, A%B, A/B (làm tròn 2 số lẻ)."
      ]
    },
    {
      "cell_type": "code",
      "execution_count": null,
      "id": "0d14ed1a",
      "metadata": {
        "colab": {
          "base_uri": "https://localhost:8080/"
        },
        "id": "0d14ed1a",
        "outputId": "b5644b0f-6400-4813-9e07-de9fabbe2ccc"
      },
      "outputs": [
        {
          "output_type": "stream",
          "name": "stdout",
          "text": [
            "Cac ket qua tinh toan:\n",
            "5     +     6 =    11\n",
            "5     -     6 =    -1\n",
            "5     *     6 =    30\n",
            "5     /     6 =     0\n",
            "5     %     6 =     5\n",
            "5     /     6 =  0.83\n"
          ]
        }
      ],
      "source": [
        "def bieu_thuc(a:int, b:int):\n",
        "    kqCong = a + b\n",
        "    kqTru = a - b\n",
        "    kqNhan = a * b\n",
        "    kqChiaNguyen = a // b\n",
        "    kqDu = a % b\n",
        "    kqChiaThuc = a / b\n",
        "    print(\"Cac ket qua tinh toan:\")\n",
        "    print(\"%-5d + %5d = %5d\"%(a, b, kqCong))\n",
        "    print(\"%-5d - %5d = %5d\"%(a, b, kqTru))\n",
        "    print(\"%-5d * %5d = %5d\"%(a, b, kqNhan))\n",
        "    print(\"%-5d / %5d = %5d\"%(a, b, kqChiaNguyen))\n",
        "    print(\"%-5d %% %5d = %5d\"%(a, b, kqDu))\n",
        "    print(\"%-5d / %5d = %5.2f\"%(a, b, kqChiaThuc))\n",
        "\n",
        "# Ví dụ\n",
        "bieu_thuc(5, 6)\n"
      ]
    },
    {
      "cell_type": "markdown",
      "id": "2697e61f",
      "metadata": {
        "id": "2697e61f"
      },
      "source": [
        "# BÀI TẬP MẪU — Bài 3: SoSanh\n",
        "\n",
        "Ước lượng các biểu thức so sánh cho số thực a, b (in 2 số lẻ)."
      ]
    },
    {
      "cell_type": "code",
      "execution_count": null,
      "id": "06a89067",
      "metadata": {
        "colab": {
          "base_uri": "https://localhost:8080/"
        },
        "id": "06a89067",
        "outputId": "1cc10331-acaf-49d9-bda3-a4e1f1c4b928"
      },
      "outputs": [
        {
          "output_type": "stream",
          "name": "stdout",
          "text": [
            "Ket qua so sanh hai so thuc 2.50 va 6.80:\n",
            "2.50     <      6.80:     True\n",
            "2.50     <=     6.80:     True\n",
            "2.50      >     6.80:    False\n",
            "2.50     >=     6.80:    False\n",
            "2.50     ==     6.80:    False\n",
            "2.50     !=     6.80:     True\n"
          ]
        }
      ],
      "source": [
        "def so_sanh(a: float, b: float):\n",
        "    print(\"Ket qua so sanh hai so thuc %.2f va %.2f:\"%(a, b))\n",
        "    print(\"%-8.2f <  %8.2f: %8s\"%(a, b, a < b))\n",
        "    print(\"%-8.2f <= %8.2f: %8s\"%(a, b, a <= b))\n",
        "    print(\"%-8.2f  > %8.2f: %8s\"%(a, b, a > b))\n",
        "    print(\"%-8.2f >= %8.2f: %8s\"%(a, b, a >= b))\n",
        "    print(\"%-8.2f == %8.2f: %8s\"%(a, b, a == b))\n",
        "    print(\"%-8.2f != %8.2f: %8s\"%(a, b, a != b))\n",
        "\n",
        "# Ví dụ\n",
        "so_sanh(2.5, 6.8)\n"
      ]
    },
    {
      "cell_type": "markdown",
      "id": "fd5c04f3",
      "metadata": {
        "id": "fd5c04f3"
      },
      "source": [
        "# BÀI TẬP MẪU — Bài 4: HamSo\n",
        "\n",
        "Tính f(x) = x + x^5/(1·2·3·4·5) + sqrt(|x|)/x^(3/2). Chú ý x ≠ 0 trong hạng sqrt(|x|)/x^(3/2)."
      ]
    },
    {
      "cell_type": "code",
      "execution_count": null,
      "id": "f7653fb8",
      "metadata": {
        "colab": {
          "base_uri": "https://localhost:8080/"
        },
        "id": "f7653fb8",
        "outputId": "d0a31d55-59d4-4d1d-f897-22c5a9f1af36"
      },
      "outputs": [
        {
          "output_type": "stream",
          "name": "stdout",
          "text": [
            "Gia tri cua ham so f(2.30) = 3.27.\n"
          ]
        }
      ],
      "source": [
        "import math\n",
        "\n",
        "def ham_so(x: float):\n",
        "    fx = x + (x**5)/(1*2*3*4*5)\n",
        "    if x == 0:\n",
        "        raise ZeroDivisionError(\"Thành phần sqrt(|x|)/x^(3/2) không xác định tại x=0.\")\n",
        "    fx += math.sqrt(abs(x)) / (x**(3.0/2))\n",
        "    return fx\n",
        "\n",
        "# Ví dụ\n",
        "x = 2.3\n",
        "print(f\"Gia tri cua ham so f({x:.2f}) = {ham_so(x):.2f}.\")\n"
      ]
    },
    {
      "cell_type": "markdown",
      "id": "d01310fc",
      "metadata": {
        "id": "d01310fc"
      },
      "source": [
        "# BÀI TẬP MẪU — Bài 5: TongChuSo (n có 4 chữ số)\n",
        "\n",
        "Tính tổng các chữ số của n (1000 ≤ n ≤ 9999)."
      ]
    },
    {
      "cell_type": "code",
      "execution_count": null,
      "id": "99b7076a",
      "metadata": {
        "colab": {
          "base_uri": "https://localhost:8080/"
        },
        "id": "99b7076a",
        "outputId": "318699f4-b4ee-42d4-91a6-fb0a366ca881"
      },
      "outputs": [
        {
          "output_type": "stream",
          "name": "stdout",
          "text": [
            "1234 = 1 + 2 + 3 + 4 = 10.\n"
          ]
        },
        {
          "output_type": "execute_result",
          "data": {
            "text/plain": [
              "10"
            ]
          },
          "metadata": {},
          "execution_count": 5
        }
      ],
      "source": [
        "def tong_chu_so_4(n:int):\n",
        "    assert 1000 <= n <= 9999, \"n phải có đúng 4 chữ số\"\n",
        "    s = sum(int(ch) for ch in str(n))\n",
        "    print(f\"{n} = {' + '.join(list(str(n)))} = {s}.\")\n",
        "    return s\n",
        "\n",
        "# Ví dụ\n",
        "tong_chu_so_4(1234)\n"
      ]
    },
    {
      "cell_type": "markdown",
      "id": "4430f3e1",
      "metadata": {
        "id": "4430f3e1"
      },
      "source": [
        "# BÀI TẬP THỰC HÀNH — Bài 1: InNhan\n",
        "\n",
        "In nhãn nhiều dòng theo mẫu."
      ]
    },
    {
      "cell_type": "code",
      "execution_count": null,
      "id": "d7f75a7c",
      "metadata": {
        "colab": {
          "base_uri": "https://localhost:8080/"
        },
        "id": "d7f75a7c",
        "outputId": "72d6000c-8a0d-413c-c9e0-290629464049"
      },
      "outputs": [
        {
          "output_type": "stream",
          "name": "stdout",
          "text": [
            "**************************\n",
            "* Truong: Dai Hoc UEH  *\n",
            "* Khoa: CNTT           *\n",
            "* Ho ten: Nguyen Van A *\n",
            "**************************\n"
          ]
        }
      ],
      "source": [
        "def in_nhan(ho_ten: str = \"\"):\n",
        "    print(\"*\" * 26)\n",
        "    print(\"* %-20s *\" % \"Truong: Dai Hoc UEH\")\n",
        "    print(\"* %-20s *\" % \"Khoa: CNTT\")\n",
        "    print(\"* %-20s *\" % f\"Ho ten: {ho_ten}\")\n",
        "    print(\"*\" * 26)\n",
        "\n",
        "# Ví dụ\n",
        "in_nhan(\"Nguyen Van A\")\n"
      ]
    },
    {
      "cell_type": "markdown",
      "id": "5cb2d881",
      "metadata": {
        "id": "5cb2d881"
      },
      "source": [
        "# BÀI TẬP THỰC HÀNH — Bài 2: HinhTron\n",
        "\n",
        "Nhập R, tính S=3.14*R^2 và P=2*3.14*R. In 1 số lẻ."
      ]
    },
    {
      "cell_type": "code",
      "execution_count": null,
      "id": "1a59dad3",
      "metadata": {
        "colab": {
          "base_uri": "https://localhost:8080/"
        },
        "id": "1a59dad3",
        "outputId": "1f8cb02d-9d0e-4f8f-c45b-29d483b6fa0e"
      },
      "outputs": [
        {
          "output_type": "stream",
          "name": "stdout",
          "text": [
            "Dien tich S = 78.5\n",
            "Chu vi P = 31.4\n"
          ]
        },
        {
          "output_type": "execute_result",
          "data": {
            "text/plain": [
              "(78.5, 31.400000000000002)"
            ]
          },
          "metadata": {},
          "execution_count": 7
        }
      ],
      "source": [
        "def hinh_tron(R: float):\n",
        "    S = 3.14 * (R**2)\n",
        "    P = 2 * 3.14 * R\n",
        "    print(f\"Dien tich S = {S:.1f}\")\n",
        "    print(f\"Chu vi P = {P:.1f}\")\n",
        "    return S, P\n",
        "\n",
        "# Ví dụ\n",
        "hinh_tron(5)\n"
      ]
    },
    {
      "cell_type": "markdown",
      "id": "9a3d4730",
      "metadata": {
        "id": "9a3d4730"
      },
      "source": [
        "# BÀI TẬP THỰC HÀNH — Bài 3: DoiSangGiay\n",
        "\n",
        "Đổi h:m:s sang tổng số giây."
      ]
    },
    {
      "cell_type": "code",
      "execution_count": null,
      "id": "8fa71d0d",
      "metadata": {
        "colab": {
          "base_uri": "https://localhost:8080/"
        },
        "id": "8fa71d0d",
        "outputId": "8050c3a5-c7fe-4d56-ca6d-58ad3992ec65"
      },
      "outputs": [
        {
          "output_type": "stream",
          "name": "stdout",
          "text": [
            "Tong so giay cua 1:20:10 la 4810 giay\n"
          ]
        }
      ],
      "source": [
        "def hms_to_seconds(h:int, m:int, s:int):\n",
        "    return h*3600 + m*60 + s\n",
        "\n",
        "# Ví dụ\n",
        "print(f\"Tong so giay cua 1:20:10 la {hms_to_seconds(1,20,10)} giay\")\n"
      ]
    },
    {
      "cell_type": "markdown",
      "id": "dd6c6c62",
      "metadata": {
        "id": "dd6c6c62"
      },
      "source": [
        "# BÀI TẬP THỰC HÀNH — Bài 4: DoiSangGioPhutGiay\n",
        "\n",
        "Đổi tổng số giây t sang dạng h:m:s."
      ]
    },
    {
      "cell_type": "code",
      "execution_count": null,
      "id": "47ffaf01",
      "metadata": {
        "colab": {
          "base_uri": "https://localhost:8080/"
        },
        "id": "47ffaf01",
        "outputId": "81e7d0f3-e5e8-44a5-cf57-26148d35e18a"
      },
      "outputs": [
        {
          "output_type": "stream",
          "name": "stdout",
          "text": [
            "4810 giay co dang 1:20:10\n"
          ]
        }
      ],
      "source": [
        "def seconds_to_hms(t:int):\n",
        "    h = t // 3600\n",
        "    t %= 3600\n",
        "    m = t // 60\n",
        "    s = t % 60\n",
        "    return h, m, s\n",
        "\n",
        "# Ví dụ\n",
        "print(\"4810 giay co dang %d:%d:%d\" % seconds_to_hms(4810))\n"
      ]
    },
    {
      "cell_type": "markdown",
      "id": "e018428e",
      "metadata": {
        "id": "e018428e"
      },
      "source": [
        "# BÀI TẬP THỰC HÀNH — Bài 5: DienTichTamGiac (Heron)\n",
        "\n",
        "S = sqrt(p(p-a)(p-b)(p-c)), p=(a+b+c)/2. In 2 số lẻ."
      ]
    },
    {
      "cell_type": "code",
      "execution_count": null,
      "id": "d2081a8d",
      "metadata": {
        "colab": {
          "base_uri": "https://localhost:8080/"
        },
        "id": "d2081a8d",
        "outputId": "86bd3138-5ad4-43ed-f0ad-c86f75f21e63"
      },
      "outputs": [
        {
          "output_type": "stream",
          "name": "stdout",
          "text": [
            "Dien tich tam giac S = 2.90\n"
          ]
        },
        {
          "output_type": "execute_result",
          "data": {
            "text/plain": [
              "2.9047375096555625"
            ]
          },
          "metadata": {},
          "execution_count": 10
        }
      ],
      "source": [
        "import math\n",
        "\n",
        "def dien_tich_tam_giac(a: float, b: float, c: float):\n",
        "    # Kiểm tra tam giác hợp lệ\n",
        "    if a + b <= c or a + c <= b or b + c <= a:\n",
        "        raise ValueError(\"Ba cạnh không tạo thành tam giác\")\n",
        "    p = (a + b + c) / 2\n",
        "    S = math.sqrt(p*(p-a)*(p-b)*(p-c))\n",
        "    print(f\"Dien tich tam giac S = {S:.2f}\")\n",
        "    return S\n",
        "\n",
        "# Ví dụ\n",
        "dien_tich_tam_giac(2,4,3)\n"
      ]
    },
    {
      "cell_type": "markdown",
      "id": "9bb68a72",
      "metadata": {
        "id": "9bb68a72"
      },
      "source": [
        "# BÀI TẬP THỰC HÀNH — Bài 6: TinhMu\n",
        "\n",
        "Nhập a thực, n nguyên. Tính a^n (hỗ trợ n âm)."
      ]
    },
    {
      "cell_type": "code",
      "execution_count": null,
      "id": "d545293c",
      "metadata": {
        "colab": {
          "base_uri": "https://localhost:8080/"
        },
        "id": "d545293c",
        "outputId": "4ec5f598-c4c5-425f-8f70-181f7ca8e7a5"
      },
      "outputs": [
        {
          "output_type": "stream",
          "name": "stdout",
          "text": [
            "Ket qua 2^4 = 16.0\n"
          ]
        }
      ],
      "source": [
        "def luy_thua(a: float, n: int):\n",
        "    if n == 0:\n",
        "        return 1.0\n",
        "    if n > 0:\n",
        "        ans = 1.0\n",
        "        for _ in range(n):\n",
        "            ans *= a\n",
        "        return ans\n",
        "    # n < 0\n",
        "    return 1.0 / luy_thua(a, -n)\n",
        "\n",
        "# Ví dụ\n",
        "print(\"Ket qua 2^4 =\", luy_thua(2,4))\n"
      ]
    },
    {
      "cell_type": "markdown",
      "id": "141dfd87",
      "metadata": {
        "id": "141dfd87"
      },
      "source": [
        "# BÀI TẬP THỰC HÀNH — Bài 7: DaoSo (4 chữ số)\n",
        "\n",
        "Đảo số 4 chữ số x → y."
      ]
    },
    {
      "cell_type": "code",
      "execution_count": null,
      "id": "8af29f71",
      "metadata": {
        "colab": {
          "base_uri": "https://localhost:8080/"
        },
        "id": "8af29f71",
        "outputId": "e14a30fc-f5a1-44af-ff7a-d8c8e5e72882"
      },
      "outputs": [
        {
          "output_type": "stream",
          "name": "stdout",
          "text": [
            "x=1234 -> y= 4321\n"
          ]
        }
      ],
      "source": [
        "def dao_so_4(x:int):\n",
        "    assert 1000 <= x <= 9999, \"x phải có đúng 4 chữ số\"\n",
        "    y = int(str(x)[::-1])\n",
        "    return y\n",
        "\n",
        "# Ví dụ\n",
        "print(\"x=1234 -> y=\", dao_so_4(1234))\n"
      ]
    },
    {
      "cell_type": "markdown",
      "id": "de9d0a82",
      "metadata": {
        "id": "de9d0a82"
      },
      "source": [
        "# BÀI TẬP THỰC HÀNH — Bài 8: DoSangRadian\n",
        "\n",
        "Chuyển độ → radian: rad = deg * pi / 180."
      ]
    },
    {
      "cell_type": "code",
      "execution_count": null,
      "id": "6fa474f9",
      "metadata": {
        "colab": {
          "base_uri": "https://localhost:8080/"
        },
        "id": "6fa474f9",
        "outputId": "8e2e40b1-3b68-4e4d-f863-23ce51e3bf17"
      },
      "outputs": [
        {
          "output_type": "stream",
          "name": "stdout",
          "text": [
            "90 do =  1.5707963267948966\n"
          ]
        }
      ],
      "source": [
        "import math\n",
        "\n",
        "def deg_to_rad(deg: float):\n",
        "    return deg * math.pi / 180.0\n",
        "\n",
        "# Ví dụ\n",
        "print(\"90 do = \", deg_to_rad(90))\n"
      ]
    },
    {
      "cell_type": "markdown",
      "id": "75aced8a",
      "metadata": {
        "id": "75aced8a"
      },
      "source": [
        "# BÀI TẬP THỰC HÀNH — Bài 9: HamSo1 (TODO)\n",
        "\n",
        "**Thiếu công thức trong PDF** — Vui lòng bổ sung biểu thức để hoàn thiện bài.\n",
        "\n",
        "Mẫu khung hàm (sửa biểu thức ở dòng tính y1, y):"
      ]
    },
    {
      "cell_type": "code",
      "execution_count": null,
      "id": "4d613015",
      "metadata": {
        "colab": {
          "base_uri": "https://localhost:8080/"
        },
        "id": "4d613015",
        "outputId": "4485e87b-1018-4295-9b3c-37f3f7e1b97c"
      },
      "outputs": [
        {
          "output_type": "execute_result",
          "data": {
            "text/plain": [
              "(9.0, 6.0)"
            ]
          },
          "metadata": {},
          "execution_count": 14
        }
      ],
      "source": [
        "# TODO: điền công thức chính xác theo đề\n",
        "def ham_so1(x: float):\n",
        "    # Ví dụ minh họa (tạm thời):\n",
        "    y1 = x**2 + 2*x + 1  # <-- thay bằng công thức đúng\n",
        "    y  = x**3 - x        # <-- thay bằng công thức đúng\n",
        "    return round(y1, 2), round(y, 2)\n",
        "\n",
        "# Ví dụ minh họa\n",
        "ham_so1(2.0)\n"
      ]
    },
    {
      "cell_type": "markdown",
      "id": "551d8e59",
      "metadata": {
        "id": "551d8e59"
      },
      "source": [
        "# BÀI TẬP THỰC HÀNH — Bài 10: KhoangCach\n",
        "\n",
        "Khoảng cách giữa A(x1,y1), B(x2,y2)."
      ]
    },
    {
      "cell_type": "code",
      "execution_count": null,
      "id": "6ca54ac5",
      "metadata": {
        "colab": {
          "base_uri": "https://localhost:8080/"
        },
        "id": "6ca54ac5",
        "outputId": "f37af448-e124-4ab2-a91d-71cc380f37bc"
      },
      "outputs": [
        {
          "output_type": "stream",
          "name": "stdout",
          "text": [
            "KC A(0,0), B(3,4) = 5.0\n"
          ]
        }
      ],
      "source": [
        "import math\n",
        "\n",
        "def khoang_cach(x1: float, y1: float, x2: float, y2: float):\n",
        "    return math.hypot(x2 - x1, y2 - y1)\n",
        "\n",
        "# Ví dụ\n",
        "print(\"KC A(0,0), B(3,4) =\", khoang_cach(0,0,3,4))\n"
      ]
    },
    {
      "cell_type": "markdown",
      "id": "b51a0da7",
      "metadata": {
        "id": "b51a0da7"
      },
      "source": [
        "# CẤU TRÚC ĐIỀU KIỆN — Bài 1: Max3Num\n",
        "\n",
        "Tìm max của 3 số nguyên a, b, c."
      ]
    },
    {
      "cell_type": "code",
      "execution_count": null,
      "id": "5e932bd6",
      "metadata": {
        "colab": {
          "base_uri": "https://localhost:8080/"
        },
        "id": "5e932bd6",
        "outputId": "3c52a133-f1e4-477d-aef6-c0e8492729b6"
      },
      "outputs": [
        {
          "output_type": "stream",
          "name": "stdout",
          "text": [
            "Max(2,5,4) = 5\n"
          ]
        }
      ],
      "source": [
        "def max3(a:int, b:int, c:int):\n",
        "    vmax = a if a > b else b\n",
        "    if c > vmax:\n",
        "        vmax = c\n",
        "    return vmax\n",
        "\n",
        "# Ví dụ\n",
        "print(\"Max(2,5,4) =\", max3(2,5,4))\n"
      ]
    },
    {
      "cell_type": "markdown",
      "id": "23b60b6a",
      "metadata": {
        "id": "23b60b6a"
      },
      "source": [
        "# CẤU TRÚC ĐIỀU KIỆN — Bài 2: Sort3Num\n",
        "\n",
        "Sắp xếp a, b, c tăng dần."
      ]
    },
    {
      "cell_type": "code",
      "execution_count": null,
      "id": "21e7dd55",
      "metadata": {
        "colab": {
          "base_uri": "https://localhost:8080/"
        },
        "id": "21e7dd55",
        "outputId": "1d766ee4-3c28-43b8-b40f-f550f2f295b6"
      },
      "outputs": [
        {
          "output_type": "stream",
          "name": "stdout",
          "text": [
            "Sort(4,2,3) = (2, 3, 4)\n"
          ]
        }
      ],
      "source": [
        "def sort3(a:int, b:int, c:int):\n",
        "    x = [a,b,c]\n",
        "    x.sort()\n",
        "    return tuple(x)\n",
        "\n",
        "# Ví dụ\n",
        "print(\"Sort(4,2,3) =\", sort3(4,2,3))\n"
      ]
    },
    {
      "cell_type": "markdown",
      "id": "06f97b7f",
      "metadata": {
        "id": "06f97b7f"
      },
      "source": [
        "# CẤU TRÚC ĐIỀU KIỆN — Bài 3: SolveEq1Deg\n",
        "\n",
        "Giải ax + b = 0."
      ]
    },
    {
      "cell_type": "code",
      "execution_count": null,
      "id": "1ce5405d",
      "metadata": {
        "colab": {
          "base_uri": "https://localhost:8080/"
        },
        "id": "1ce5405d",
        "outputId": "9bb6b6c1-539c-470f-d285-433bd9db912c"
      },
      "outputs": [
        {
          "output_type": "stream",
          "name": "stdout",
          "text": [
            "1.00x + 5.00 = 0: x = -5.00\n",
            "0.00x + 0.00 = 0: unlimited solutions\n",
            "0.00x + 10.00 = 0: no solution\n"
          ]
        }
      ],
      "source": [
        "def solve_1deg(a: float, b: float):\n",
        "    if a == 0 and b == 0:\n",
        "        return (\"unlimited\", None)\n",
        "    if a == 0 and b != 0:\n",
        "        return (\"none\", None)\n",
        "    x = -b / a\n",
        "    return (\"one\", x)\n",
        "\n",
        "# Ví dụ\n",
        "for a,b in [(1,5),(0,0),(0,10)]:\n",
        "    kind, x = solve_1deg(a,b)\n",
        "    if kind == \"unlimited\":\n",
        "        print(f\"{a:.2f}x + {b:.2f} = 0: unlimited solutions\")\n",
        "    elif kind == \"none\":\n",
        "        print(f\"{a:.2f}x + {b:.2f} = 0: no solution\")\n",
        "    else:\n",
        "        print(f\"{a:.2f}x + {b:.2f} = 0: x = {x:.2f}\")\n"
      ]
    },
    {
      "cell_type": "markdown",
      "id": "af90a825",
      "metadata": {
        "id": "af90a825"
      },
      "source": [
        "# CẤU TRÚC ĐIỀU KIỆN — Bài 4: TotalDayYear\n",
        "\n",
        "Cho biết năm có 365 hay 366 ngày."
      ]
    },
    {
      "cell_type": "code",
      "execution_count": null,
      "id": "853c7523",
      "metadata": {
        "colab": {
          "base_uri": "https://localhost:8080/"
        },
        "id": "853c7523",
        "outputId": "d0d6e164-60d3-4ae5-a5f6-d3f46bcef404"
      },
      "outputs": [
        {
          "output_type": "stream",
          "name": "stdout",
          "text": [
            "1992 366\n",
            "2000 366\n",
            "1997 365\n"
          ]
        }
      ],
      "source": [
        "def is_leap(y:int):\n",
        "    return (y%400==0) or (y%4==0 and y%100!=0)\n",
        "\n",
        "def days_in_year(y:int):\n",
        "    return 366 if is_leap(y) else 365\n",
        "\n",
        "# Ví dụ\n",
        "for y in [1992,2000,1997]:\n",
        "    print(y, days_in_year(y))\n"
      ]
    },
    {
      "cell_type": "markdown",
      "id": "c8d2b4e6",
      "metadata": {
        "id": "c8d2b4e6"
      },
      "source": [
        "# CẤU TRÚC ĐIỀU KIỆN — Bài 5: Calculation\n",
        "\n",
        "Tính theo phép toán (+,-,*,/). Chặn chia cho 0."
      ]
    },
    {
      "cell_type": "code",
      "execution_count": null,
      "id": "a2912154",
      "metadata": {
        "colab": {
          "base_uri": "https://localhost:8080/"
        },
        "id": "a2912154",
        "outputId": "bca668c5-32b1-4a7f-e0a9-e11fa4c6b13d"
      },
      "outputs": [
        {
          "output_type": "stream",
          "name": "stdout",
          "text": [
            "8 + 3 = 11\n"
          ]
        }
      ],
      "source": [
        "def calculation(a: float, b: float, op: str):\n",
        "    if op == '+':\n",
        "        return a + b\n",
        "    elif op == '-':\n",
        "        return a - b\n",
        "    elif op == '*':\n",
        "        return a * b\n",
        "    elif op == '/':\n",
        "        if b == 0:\n",
        "            return None\n",
        "        return a / b\n",
        "    else:\n",
        "        raise ValueError(\"Phép toán không hỗ trợ\")\n",
        "\n",
        "# Ví dụ\n",
        "print(\"8 + 3 =\", calculation(8,3,'+'))\n"
      ]
    },
    {
      "cell_type": "markdown",
      "id": "dfec8c82",
      "metadata": {
        "id": "dfec8c82"
      },
      "source": [
        "# CẤU TRÚC ĐIỀU KIỆN — Bài 6: ElectricPrice\n",
        "\n",
        "Tính tiền điện theo bậc thang + VAT 10% (theo mô tả)."
      ]
    },
    {
      "cell_type": "code",
      "execution_count": null,
      "id": "5052936f",
      "metadata": {
        "colab": {
          "base_uri": "https://localhost:8080/"
        },
        "id": "5052936f",
        "outputId": "78097b7b-0d88-40cf-db0a-f0d3cf1bdfb4"
      },
      "outputs": [
        {
          "output_type": "stream",
          "name": "stdout",
          "text": [
            "The amount to pay for 187 kWh consumed in the month is 275,536 VND (base=250,487).\n"
          ]
        }
      ],
      "source": [
        "# Bậc thang theo đề\n",
        "TIERS = [\n",
        "    (100, 1242),\n",
        "    (50, 1304),\n",
        "    (50, 1651),\n",
        "    (100, 1788),\n",
        "    (100, 1912),\n",
        "    (float('inf'), 1962)\n",
        "]\n",
        "\n",
        "def electricity_payment(old_kwh:int, new_kwh:int, vat_rate:float=0.10):\n",
        "    used = new_kwh - old_kwh\n",
        "    if used < 0:\n",
        "        raise ValueError(\"Chỉ số mới phải >= chỉ số cũ\")\n",
        "    remain = used\n",
        "    cost = 0\n",
        "    for qty, price in TIERS:\n",
        "        take = min(remain, qty)\n",
        "        cost += take * price\n",
        "        remain -= take\n",
        "        if remain <= 0:\n",
        "            break\n",
        "    total = cost * (1 + vat_rate)\n",
        "    return used, cost, total\n",
        "\n",
        "# Ví dụ theo đề: 3 -> 190 (187 kWh)\n",
        "used, base, total = electricity_payment(3, 190, vat_rate=0.10)\n",
        "print(f\"The amount to pay for {used} kWh consumed in the month is {total:,.0f} VND (base={base:,.0f}).\")\n"
      ]
    },
    {
      "cell_type": "markdown",
      "id": "7a60429d",
      "metadata": {
        "id": "7a60429d"
      },
      "source": [
        "# CẤU TRÚC ĐIỀU KIỆN — Bài 7: PreviousDay\n",
        "\n",
        "Tìm ngày trước đó của d/m/y."
      ]
    },
    {
      "cell_type": "code",
      "execution_count": null,
      "id": "aec17cc6",
      "metadata": {
        "colab": {
          "base_uri": "https://localhost:8080/"
        },
        "id": "aec17cc6",
        "outputId": "c0b359bf-d902-47c4-b9c4-df9038a227bd"
      },
      "outputs": [
        {
          "output_type": "stream",
          "name": "stdout",
          "text": [
            "Previous day of 1/2/2015 is 31/1/2015.\n",
            "Previous day of 1/1/2015 is 31/12/2014.\n",
            "Previous day of 18/10/2015 is 17/10/2015.\n"
          ]
        }
      ],
      "source": [
        "def days_in_month(m:int, y:int):\n",
        "    if m in (1,3,5,7,8,10,12):\n",
        "        return 31\n",
        "    if m in (4,6,9,11):\n",
        "        return 30\n",
        "    # Tháng 2\n",
        "    return 29 if is_leap(y) else 28\n",
        "\n",
        "def previous_day(d:int, m:int, y:int):\n",
        "    if d == 1 and m == 1:\n",
        "        return (31, 12, y-1)\n",
        "    if d == 1:\n",
        "        pm = m - 1\n",
        "        pd = days_in_month(pm, y)\n",
        "        return (pd, pm, y)\n",
        "    return (d-1, m, y)\n",
        "\n",
        "# Ví dụ\n",
        "for d,m,y in [(1,2,2015), (1,1,2015), (18,10,2015)]:\n",
        "    pd, pm, py = previous_day(d,m,y)\n",
        "    print(f\"Previous day of {d}/{m}/{y} is {pd}/{pm}/{py}.\")\n"
      ]
    },
    {
      "cell_type": "markdown",
      "id": "6cfe98a9",
      "metadata": {
        "id": "6cfe98a9"
      },
      "source": [
        "# CẤU TRÚC ĐIỀU KIỆN — Bài 8: CheckTriangle\n",
        "\n",
        "Kiểm tra 3 cạnh có lập được tam giác."
      ]
    },
    {
      "cell_type": "code",
      "execution_count": null,
      "id": "1ab13e3c",
      "metadata": {
        "colab": {
          "base_uri": "https://localhost:8080/"
        },
        "id": "1ab13e3c",
        "outputId": "aeb05509-3b77-4608-ea17-a1377d88c39f"
      },
      "outputs": [
        {
          "output_type": "stream",
          "name": "stdout",
          "text": [
            "5,3,4 -> True\n",
            "1,2,3 -> False\n"
          ]
        }
      ],
      "source": [
        "def is_triangle(a:float, b:float, c:float):\n",
        "    return a + b > c and a + c > b and b + c > a\n",
        "\n",
        "# Ví dụ\n",
        "print(\"5,3,4 ->\", is_triangle(5,3,4))\n",
        "print(\"1,2,3 ->\", is_triangle(1,2,3))\n"
      ]
    },
    {
      "cell_type": "markdown",
      "id": "59076228",
      "metadata": {
        "id": "59076228"
      },
      "source": [
        "# BÀI TẬP THÊM — Bài 1: MaxMin5\n",
        "\n",
        "Tìm giá trị lớn nhất và nhỏ nhất của 5 số."
      ]
    },
    {
      "cell_type": "code",
      "execution_count": null,
      "id": "9353eead",
      "metadata": {
        "colab": {
          "base_uri": "https://localhost:8080/"
        },
        "id": "9353eead",
        "outputId": "2ad02df3-8968-4d31-fb94-f3f68646932a"
      },
      "outputs": [
        {
          "output_type": "stream",
          "name": "stdout",
          "text": [
            "min,max của (1,5,6,2,8): (1, 8)\n"
          ]
        }
      ],
      "source": [
        "def max_min5(a,b,c,d,e):\n",
        "    arr = [a,b,c,d,e]\n",
        "    return min(arr), max(arr)\n",
        "\n",
        "# Ví dụ\n",
        "print(\"min,max của (1,5,6,2,8):\", max_min5(1,5,6,2,8))\n"
      ]
    },
    {
      "cell_type": "markdown",
      "id": "caa601f4",
      "metadata": {
        "id": "caa601f4"
      },
      "source": [
        "# BÀI TẬP THÊM — Bài 2: SolvQuadEq\n",
        "\n",
        "Giải phương trình bậc 2: ax^2 + bx + c = 0 (nghiệm thực)."
      ]
    },
    {
      "cell_type": "code",
      "execution_count": null,
      "id": "4babeec5",
      "metadata": {
        "colab": {
          "base_uri": "https://localhost:8080/"
        },
        "id": "4babeec5",
        "outputId": "f0926c50-4e5e-4197-cefb-b4e4a3a110e8"
      },
      "outputs": [
        {
          "output_type": "stream",
          "name": "stdout",
          "text": [
            "Unlimited solutions\n",
            "(2.0, 3.0)\n",
            "(1.0,)\n",
            "(-8.89, -0.11)\n"
          ]
        }
      ],
      "source": [
        "import math\n",
        "\n",
        "def solve_quadratic(a: float, b: float, c: float):\n",
        "    if a == 0:\n",
        "        # về bậc 1: bx + c = 0\n",
        "        if b == 0:\n",
        "            if c == 0:\n",
        "                return \"Unlimited solutions\"\n",
        "            else:\n",
        "                return \"No solution\"\n",
        "        else:\n",
        "            return ( -c/b, )\n",
        "    # a != 0\n",
        "    delta = b*b - 4*a*c\n",
        "    if delta < 0:\n",
        "        return \"No solution\"\n",
        "    if delta == 0:\n",
        "        x = -b/(2*a)\n",
        "        return (round(x,2),)\n",
        "    sqrtD = math.sqrt(delta)\n",
        "    x1 = (-b - sqrtD)/(2*a)\n",
        "    x2 = (-b + sqrtD)/(2*a)\n",
        "    return (round(x1,2), round(x2,2))\n",
        "\n",
        "# Ví dụ\n",
        "print(solve_quadratic(0,0,0))\n",
        "print(solve_quadratic(1,-5,6))\n",
        "print(solve_quadratic(1,-2,1))\n",
        "print(solve_quadratic(1,9,1))\n"
      ]
    },
    {
      "cell_type": "markdown",
      "id": "622dfa7d",
      "metadata": {
        "id": "622dfa7d"
      },
      "source": [
        "# BÀI TẬP THÊM — Bài 3: TotalDayMonth\n",
        "\n",
        "Số ngày của tháng m/năm y."
      ]
    },
    {
      "cell_type": "code",
      "execution_count": null,
      "id": "4d2dec41",
      "metadata": {
        "colab": {
          "base_uri": "https://localhost:8080/"
        },
        "id": "4d2dec41",
        "outputId": "182c433c-7c6c-472b-fe76-ea8958b9d314"
      },
      "outputs": [
        {
          "output_type": "stream",
          "name": "stdout",
          "text": [
            "Thang 1/2015: 31\n"
          ]
        }
      ],
      "source": [
        "def total_day_month(m:int, y:int):\n",
        "    return days_in_month(m,y)\n",
        "\n",
        "# Ví dụ\n",
        "print(\"Thang 1/2015:\", total_day_month(1,2015))\n"
      ]
    },
    {
      "cell_type": "markdown",
      "id": "dbac8a7e",
      "metadata": {
        "id": "dbac8a7e"
      },
      "source": [
        "# BÀI TẬP THÊM — Bài 4: MaxDigit (n có 4 chữ số)\n",
        "\n",
        "Tìm chữ số lớn nhất của n (4 chữ số)."
      ]
    },
    {
      "cell_type": "code",
      "execution_count": null,
      "id": "ae3e9ae8",
      "metadata": {
        "colab": {
          "base_uri": "https://localhost:8080/"
        },
        "id": "ae3e9ae8",
        "outputId": "8b699777-1d1e-462d-965e-36e830ecd942"
      },
      "outputs": [
        {
          "output_type": "stream",
          "name": "stdout",
          "text": [
            "Max digit 2387: 8\n"
          ]
        }
      ],
      "source": [
        "def max_digit_4(n:int):\n",
        "    assert 1000 <= n <= 9999, \"n phải có đúng 4 chữ số\"\n",
        "    return max(int(ch) for ch in str(n))\n",
        "\n",
        "# Ví dụ\n",
        "print(\"Max digit 2387:\", max_digit_4(2387))\n"
      ]
    },
    {
      "cell_type": "markdown",
      "id": "b4a2878f",
      "metadata": {
        "id": "b4a2878f"
      },
      "source": [
        "# BÀI TẬP THÊM — Bài 5: GPA\n",
        "\n",
        "DTB = (Toán*2 + Lý*3 + Hóa)/6. Xếp loại: 8–10 Giỏi, 6.5–<8 Khá, 5–<6.5 Trung bình, <5 Yếu."
      ]
    },
    {
      "cell_type": "code",
      "execution_count": null,
      "id": "d3279aa4",
      "metadata": {
        "colab": {
          "base_uri": "https://localhost:8080/"
        },
        "id": "d3279aa4",
        "outputId": "325f05f4-68f5-4f78-f16b-ab9108317998"
      },
      "outputs": [
        {
          "output_type": "stream",
          "name": "stdout",
          "text": [
            "GPA(7,6,8): (6.67, 'Pretty')\n"
          ]
        }
      ],
      "source": [
        "def gpa(math: float, phys: float, chem: float):\n",
        "    dtb = (math*2 + phys*3 + chem) / 6.0\n",
        "    if 8 <= dtb <= 10:\n",
        "        rating = \"Good\"\n",
        "    elif 6.5 <= dtb < 8:\n",
        "        rating = \"Pretty\"\n",
        "    elif 5 <= dtb < 6.5:\n",
        "        rating = \"Average\"\n",
        "    else:\n",
        "        rating = \"Weak\"\n",
        "    return round(dtb,2), rating\n",
        "\n",
        "# Ví dụ\n",
        "print(\"GPA(7,6,8):\", gpa(7,6,8))\n"
      ]
    },
    {
      "cell_type": "markdown",
      "id": "b46f1d3f",
      "metadata": {
        "id": "b46f1d3f"
      },
      "source": [
        "# BÀI TẬP THÊM — Bài 6: WaterPayment\n",
        "\n",
        "Tính tiền nước theo định mức **mỗi người**: 4 m³ đầu 4.400đ, 2 m³ tiếp 8.300đ, còn lại 10.500đ.\n",
        "- Đề có nhắc VAT 5% và phí môi trường 10%, **nhưng ví dụ mẫu 2 m³ = 8.800đ không cộng phí**.\n",
        "- Hàm dưới đây cho phép chọn có áp phí hay không (mặc định **không áp** để trùng ví dụ)."
      ]
    },
    {
      "cell_type": "code",
      "execution_count": null,
      "id": "67d10267",
      "metadata": {
        "colab": {
          "base_uri": "https://localhost:8080/"
        },
        "id": "67d10267",
        "outputId": "4ef283c6-193d-4942-f2ea-6c6c908f97de"
      },
      "outputs": [
        {
          "output_type": "stream",
          "name": "stdout",
          "text": [
            "Payment demo: (2, 8800)\n"
          ]
        }
      ],
      "source": [
        "def water_payment(old_m3:int, new_m3:int, people:int=1, apply_fees:bool=False):\n",
        "    used = new_m3 - old_m3\n",
        "    if used < 0:\n",
        "        raise ValueError(\"Chỉ số mới phải >= chỉ số cũ\")\n",
        "    # định mức tổng cho hộ\n",
        "    quota1 = 4 * people\n",
        "    quota2 = 2 * people\n",
        "    remain = used\n",
        "    base = 0\n",
        "    # 4 m3 đầu / người\n",
        "    take = min(remain, quota1)\n",
        "    base += take * 4400\n",
        "    remain -= take\n",
        "    # 2 m3 kế tiếp / người\n",
        "    if remain > 0:\n",
        "        take = min(remain, quota2)\n",
        "        base += take * 8300\n",
        "        remain -= take\n",
        "    # còn lại\n",
        "    if remain > 0:\n",
        "        base += remain * 10500\n",
        "    if not apply_fees:\n",
        "        return used, base\n",
        "    # VAT 5% + phí MT 10% (cộng trên base)\n",
        "    total = round(base * (1 + 0.05 + 0.10))\n",
        "    return used, total\n",
        "\n",
        "# Ví dụ theo đề: 1 -> 3 m3 (dùng 2 m3), 1 người, không áp phí\n",
        "print(\"Payment demo:\", water_payment(1,3,people=1,apply_fees=False))\n"
      ]
    },
    {
      "cell_type": "markdown",
      "id": "53d7e072",
      "metadata": {
        "id": "53d7e072"
      },
      "source": [
        "# BÀI TẬP THÊM — Bài 7: NextDay\n",
        "\n",
        "Ngày sau của d/m/y."
      ]
    },
    {
      "cell_type": "code",
      "execution_count": null,
      "id": "8690930b",
      "metadata": {
        "colab": {
          "base_uri": "https://localhost:8080/"
        },
        "id": "8690930b",
        "outputId": "adddbd66-1267-4597-ad23-fd8525f4892d"
      },
      "outputs": [
        {
          "output_type": "stream",
          "name": "stdout",
          "text": [
            "Next day of 31/1/2015 is 1/2/2015.\n",
            "Next day of 28/2/2015 is 1/3/2015.\n",
            "Next day of 29/2/2016 is 1/3/2016.\n",
            "Next day of 30/4/2020 is 1/5/2020.\n"
          ]
        }
      ],
      "source": [
        "def next_day(d:int, m:int, y:int):\n",
        "    dim = days_in_month(m,y)\n",
        "    if d < dim:\n",
        "        return (d+1, m, y)\n",
        "    # d == dim\n",
        "    if m == 12:\n",
        "        return (1, 1, y+1)\n",
        "    return (1, m+1, y)\n",
        "\n",
        "# Ví dụ\n",
        "for d,m,y in [(31,1,2015), (28,2,2015), (29,2,2016), (30,4,2020)]:\n",
        "    nd, nm, ny = next_day(d,m,y)\n",
        "    print(f\"Next day of {d}/{m}/{y} is {nd}/{nm}/{ny}.\")\n"
      ]
    },
    {
      "cell_type": "markdown",
      "id": "76427216",
      "metadata": {
        "id": "76427216"
      },
      "source": [
        "# BÀI TẬP THÊM — Bài 8: NumberInfo\n",
        "\n",
        "Với n < 1000: (a) số chữ số, (b) tổng chữ số, (c) chữ số cuối, (d) chữ số đầu."
      ]
    },
    {
      "cell_type": "code",
      "execution_count": null,
      "id": "c85672b6",
      "metadata": {
        "colab": {
          "base_uri": "https://localhost:8080/"
        },
        "id": "c85672b6",
        "outputId": "54f2c189-4789-4552-be12-71169629da17"
      },
      "outputs": [
        {
          "output_type": "stream",
          "name": "stdout",
          "text": [
            "156 has 3 digits.\n",
            "1 + 5 + 6 = 12.\n",
            "Last digit is 6.\n",
            "Fist digit is 1.\n"
          ]
        }
      ],
      "source": [
        "def number_info(n:int):\n",
        "    assert 0 <= n < 1000, \"n phải là số tự nhiên < 1000\"\n",
        "    s = str(n)\n",
        "    ndigits = len(s)\n",
        "    ssum = sum(int(ch) for ch in s)\n",
        "    last = int(s[-1])\n",
        "    first = int(s[0])\n",
        "    return ndigits, ssum, last, first\n",
        "\n",
        "# Ví dụ\n",
        "n=156\n",
        "nd, ss, last, first = number_info(n)\n",
        "print(f\"\"\"{n} has {nd} digits.\n",
        "1 + 5 + 6 = {ss}.\n",
        "Last digit is {last}.\n",
        "Fist digit is {first}.\"\"\")\n"
      ]
    },
    {
      "cell_type": "markdown",
      "id": "e4a9a43d",
      "metadata": {
        "id": "e4a9a43d"
      },
      "source": [
        "# CẤU TRÚC LẶP VÀ LIST — Bài 1: Sắp xếp chuỗi số\n",
        "\n",
        "Sắp xếp theo **string compare** và **integer compare**."
      ]
    },
    {
      "cell_type": "code",
      "execution_count": null,
      "id": "2b641ce7",
      "metadata": {
        "colab": {
          "base_uri": "https://localhost:8080/"
        },
        "id": "2b641ce7",
        "outputId": "a1593987-25e8-4777-f9bb-8d7ca4942472"
      },
      "outputs": [
        {
          "output_type": "stream",
          "name": "stdout",
          "text": [
            "(['1', '123', '27', '3', '5', '9'], ['1', '3', '5', '9', '27', '123'])\n"
          ]
        }
      ],
      "source": [
        "def sort_string_numbers(A):\n",
        "    by_string = sorted(A)                 # so sánh từ điển\n",
        "    by_integer = sorted(A, key=lambda x: int(x))  # so sánh theo trị số nguyên\n",
        "    return by_string, by_integer\n",
        "\n",
        "# Ví dụ\n",
        "A = ['3','27','5','123','9','1']\n",
        "print(sort_string_numbers(A))\n"
      ]
    },
    {
      "cell_type": "markdown",
      "id": "3e5e520d",
      "metadata": {
        "id": "3e5e520d"
      },
      "source": [
        "# CẤU TRÚC LẶP VÀ LIST — Bài 2: Xóa theo vị trí 1,2,3,6\n",
        "\n",
        "Xóa các phần tử tại **vị trí** 1,2,3,6 (đánh số từ 1) trong `[12,24,35,70,88,120,155]`."
      ]
    },
    {
      "cell_type": "code",
      "execution_count": null,
      "id": "54fcfd86",
      "metadata": {
        "colab": {
          "base_uri": "https://localhost:8080/"
        },
        "id": "54fcfd86",
        "outputId": "e8e3766f-81bb-485a-df2a-be4112566314"
      },
      "outputs": [
        {
          "output_type": "stream",
          "name": "stdout",
          "text": [
            "[70, 88, 155]\n"
          ]
        }
      ],
      "source": [
        "def remove_positions(lst, positions_1_based):\n",
        "    keep = [item for idx, item in enumerate(lst, start=1) if idx not in positions_1_based]\n",
        "    return keep\n",
        "\n",
        "# Ví dụ\n",
        "lst = [12,24,35,70,88,120,155]\n",
        "print(remove_positions(lst, {1,2,3,6}))\n"
      ]
    },
    {
      "cell_type": "markdown",
      "id": "ae4a50f9",
      "metadata": {
        "id": "ae4a50f9"
      },
      "source": [
        "# CẤU TRÚC LẶP VÀ LIST — Bài 3: Xóa trùng\n",
        "\n",
        "Xóa phần tử trùng trong list **không dùng dict/set**."
      ]
    },
    {
      "cell_type": "code",
      "execution_count": null,
      "id": "95daf367",
      "metadata": {
        "colab": {
          "base_uri": "https://localhost:8080/"
        },
        "id": "95daf367",
        "outputId": "05ccbd0f-565f-47b3-b6c6-e810521e16dc"
      },
      "outputs": [
        {
          "output_type": "stream",
          "name": "stdout",
          "text": [
            "[1, 2, 3, 5, 6, 7, 8]\n"
          ]
        }
      ],
      "source": [
        "def dedup_list(lst):\n",
        "    out = []\n",
        "    for x in lst:\n",
        "        found = False\n",
        "        for y in out:\n",
        "            if x == y:\n",
        "                found = True\n",
        "                break\n",
        "        if not found:\n",
        "            out.append(x)\n",
        "    return out\n",
        "\n",
        "# Ví dụ\n",
        "A = [1,2,3,1,2,5,6,7,8]\n",
        "print(dedup_list(A))\n"
      ]
    },
    {
      "cell_type": "markdown",
      "id": "c7e2d69a",
      "metadata": {
        "id": "c7e2d69a"
      },
      "source": [
        "# CẤU TRÚC LẶP VÀ LIST — Bài 4: Đếm số lần xuất hiện\n",
        "\n",
        "Đếm số lần xuất hiện **không dùng dict/collections**."
      ]
    },
    {
      "cell_type": "code",
      "execution_count": null,
      "id": "ee57a402",
      "metadata": {
        "colab": {
          "base_uri": "https://localhost:8080/"
        },
        "id": "ee57a402",
        "outputId": "1ef279fa-1f3b-45b7-e236-d2d93b6f0501"
      },
      "outputs": [
        {
          "output_type": "stream",
          "name": "stdout",
          "text": [
            "[(1, 4), (2, 4), (3, 2), (4, 1), (5, 2)]\n"
          ]
        }
      ],
      "source": [
        "def count_occurrences(lst):\n",
        "    counted = []\n",
        "    result = []\n",
        "    for x in lst:\n",
        "        # nếu chưa đếm\n",
        "        if x not in counted:\n",
        "            # đếm\n",
        "            cnt = 0\n",
        "            for y in lst:\n",
        "                if y == x:\n",
        "                    cnt += 1\n",
        "            result.append((x, cnt))\n",
        "            counted.append(x)\n",
        "    return result\n",
        "\n",
        "# Ví dụ\n",
        "A = [1,1,1,1,2,2,2,2,3,3,4,5,5]\n",
        "print(count_occurrences(A))\n"
      ]
    }
  ],
  "metadata": {
    "colab": {
      "provenance": [],
      "include_colab_link": true
    },
    "language_info": {
      "name": "python"
    },
    "kernelspec": {
      "name": "python3",
      "display_name": "Python 3"
    }
  },
  "nbformat": 4,
  "nbformat_minor": 5
}